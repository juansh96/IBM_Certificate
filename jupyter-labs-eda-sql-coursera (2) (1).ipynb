{
 "cells": [
  {
   "cell_type": "markdown",
   "source": "<center>\n    <img src=\"https://gitlab.com/ibm/skills-network/courses/placeholder101/-/raw/master/labs/module%201/images/IDSNlogo.png\"  width=\"300\" alt=\"cognitiveclass.ai logo\"  />\n</center>\n\n<h1 align=center><font size = 5>Assignment: SQL Notebook for Peer Assignment</font></h1>\n\nEstimated time needed: **60** minutes.\n\n## Introduction\n\nUsing this Python notebook you will:\n\n1.  Understand the Spacex DataSet\n2.  Load the dataset  into the corresponding table in a Db2 database\n3.  Execute SQL queries to answer assignment questions\n",
   "metadata": {
    "cell_id": "02c0c2fd-2bd1-425f-a39f-19adffa8f7c5",
    "deepnote_cell_type": "markdown",
    "deepnote_cell_height": 366
   }
  },
  {
   "cell_type": "markdown",
   "source": "## Overview of the DataSet\n\nSpaceX has gained worldwide attention for a series of historic milestones.\n\nIt is the only private company ever to return a spacecraft from low-earth orbit, which it first accomplished in December 2010.\nSpaceX advertises Falcon 9 rocket launches on its website with a cost of 62 million dollars wheras other providers cost upward of 165 million dollars each, much of the savings is because Space X can reuse the first stage.\n\nTherefore if we can determine if the first stage will land, we can determine the cost of a launch.\n\nThis information can be used if an alternate company wants to bid against SpaceX for a rocket launch.\n\nThis dataset includes a record for each payload carried during a SpaceX mission into outer space.\n",
   "metadata": {
    "cell_id": "00001-2dea7415-6a24-4b9d-8002-0b4fd9807ff7",
    "deepnote_cell_type": "markdown",
    "deepnote_cell_height": 321.1875
   }
  },
  {
   "cell_type": "markdown",
   "source": "### Download the datasets\n\nThis assignment requires you to load the spacex dataset.\n\nIn many cases the dataset to be analyzed is available as a .CSV (comma separated values) file, perhaps on the internet. Click on the link below to download and save the dataset (.CSV file):\n\n<a href=\"https://cf-courses-data.s3.us.cloud-object-storage.appdomain.cloud/IBM-DS0321EN-SkillsNetwork/labs/module_2/data/Spacex.csv?utm_medium=Exinfluencer&utm_source=Exinfluencer&utm_content=000026UJ&utm_term=10006555&utm_id=NA-SkillsNetwork-Channel-SkillsNetworkCoursesIBMDS0321ENSkillsNetwork26802033-2021-01-01\" target=\"_blank\">Spacex DataSet</a>\n",
   "metadata": {
    "cell_id": "00002-42506afc-c23d-4ad9-8e5d-c84c6d76bbbc",
    "deepnote_cell_type": "markdown",
    "deepnote_cell_height": 195.59375
   }
  },
  {
   "cell_type": "markdown",
   "source": "### Store the dataset in database table\n\n**it is highly recommended to manually load the table using the database console LOAD tool in DB2**.\n\n<img src = \"https://cf-courses-data.s3.us.cloud-object-storage.appdomain.cloud/IBM-DS0321EN-SkillsNetwork/labs/module_2/images/spacexload.png\">\n\nNow open the Db2 console, open the LOAD tool, Select / Drag the .CSV file for the  dataset, Next create a New Table, and then follow the steps on-screen instructions to load the data. Name the new table as follows:\n\n**SPACEXDATASET**\n\n**Follow these steps while using old DB2 UI which is having Open Console Screen**\n\n**Note:While loading Spacex dataset, ensure that detect datatypes is disabled. Later click on the pencil icon(edit option).**\n\n1.  Change the Date Format by manually typing DD-MM-YYYY and timestamp format as DD-MM-YYYY HH\\:MM:SS.\n\n    Here you should place the cursor at Date field and manually type as DD-MM-YYYY.\n\n2.  Change the PAYLOAD_MASS\\_\\_KG\\_  datatype  to INTEGER.\n\n<img src = \"https://cf-courses-data.s3.us.cloud-object-storage.appdomain.cloud/IBM-DS0321EN-SkillsNetwork/labs/module_2/images/spacexload2.png\">\n",
   "metadata": {
    "cell_id": "00003-f5ad8cf0-768c-4a1d-b399-57cbe4c5be96",
    "deepnote_cell_type": "markdown",
    "deepnote_cell_height": 1134.859375
   }
  },
  {
   "cell_type": "markdown",
   "source": "**Changes to be considered when having DB2 instance with the new UI having Go to UI screen**\n\n*   Refer to this insruction in this <a href=\"https://cf-courses-data.s3.us.cloud-object-storage.appdomain.cloud/IBMDeveloperSkillsNetwork-DB0201EN-SkillsNetwork/labs/Labs_Coursera_V5/labs/Lab%20-%20Sign%20up%20for%20IBM%20Cloud%20-%20Create%20Db2%20service%20instance%20-%20Get%20started%20with%20the%20Db2%20console/instructional-labs.md.html?utm_medium=Exinfluencer&utm_source=Exinfluencer&utm_content=000026UJ&utm_term=10006555&utm_id=NA-SkillsNetwork-Channel-SkillsNetworkCoursesIBMDS0321ENSkillsNetwork26802033-2021-01-01\">link</a> for viewing  the new  Go to UI screen.\n\n*   Later click on **Data link(below SQL)**  in the Go to UI screen  and click on **Load Data** tab.\n\n*   Later browse for the downloaded spacex file.\n\n<img src=\"https://cf-courses-data.s3.us.cloud-object-storage.appdomain.cloud/IBM-DS0321EN-SkillsNetwork/labs/module_2/images/browsefile.png\" width=\"800\"/>\n\n*   Once done select the schema andload the file.\n\n <img src=\"https://cf-courses-data.s3.us.cloud-object-storage.appdomain.cloud/IBM-DS0321EN-SkillsNetwork/labs/module_2/images/spacexload3.png\" width=\"800\"/>\n",
   "metadata": {
    "cell_id": "00004-26bc5940-2cc4-4eb8-a0ef-bdb97ff31e56",
    "deepnote_cell_type": "markdown",
    "deepnote_cell_height": 803.390625
   }
  },
  {
   "cell_type": "code",
   "metadata": {
    "cell_id": "00005-de148f3b-6df2-4572-a41f-7a59e31db9cc",
    "deepnote_to_be_reexecuted": false,
    "source_hash": "c26d873c",
    "execution_start": 1651615133088,
    "execution_millis": 50783,
    "deepnote_cell_type": "code",
    "deepnote_cell_height": 773
   },
   "source": "# These libraries are pre-installed in SN Labs. If running in another environment please uncomment lines below to install them:\n!pip install --force-reinstall ibm_db==3.1.0 ibm_db_sa==0.3.3\n# Ensure we don't load_ext with sqlalchemy>=1.4 (incompadible)\n!pip uninstall sqlalchemy==1.4 -y && pip install sqlalchemy==1.3.24\n!pip install ipython-sql",
   "outputs": [
    {
     "name": "stdout",
     "text": "Collecting ibm_db==3.1.0\n  Downloading ibm_db-3.1.0.tar.gz (797 kB)\n\u001b[K     |████████████████████████████████| 797 kB 17.3 MB/s \n\u001b[?25h  Installing build dependencies ... \u001b[?25ldone\n\u001b[?25h  Getting requirements to build wheel ... \u001b[?25ldone\n\u001b[?25h  Installing backend dependencies ... \u001b[?25ldone\n\u001b[?25h    Preparing wheel metadata ... \u001b[?25ldone\n\u001b[?25hCollecting ibm_db_sa==0.3.3\n  Downloading ibm_db_sa-0.3.3.tar.gz (24 kB)\nCollecting sqlalchemy>=0.7.3\n  Downloading SQLAlchemy-1.4.36-cp37-cp37m-manylinux_2_5_x86_64.manylinux1_x86_64.manylinux_2_17_x86_64.manylinux2014_x86_64.whl (1.6 MB)\n\u001b[K     |████████████████████████████████| 1.6 MB 30.8 MB/s \n\u001b[?25hCollecting importlib-metadata; python_version < \"3.8\"\n  Downloading importlib_metadata-4.11.3-py3-none-any.whl (18 kB)\nCollecting greenlet!=0.4.17; python_version >= \"3\" and (platform_machine == \"aarch64\" or (platform_machine == \"ppc64le\" or (platform_machine == \"x86_64\" or (platform_machine == \"amd64\" or (platform_machine == \"AMD64\" or (platform_machine == \"win32\" or platform_machine == \"WIN32\"))))))\n  Downloading greenlet-1.1.2-cp37-cp37m-manylinux_2_17_x86_64.manylinux2014_x86_64.whl (150 kB)\n\u001b[K     |████████████████████████████████| 150 kB 70.3 MB/s \n\u001b[?25hCollecting zipp>=0.5\n  Downloading zipp-3.8.0-py3-none-any.whl (5.4 kB)\nCollecting typing-extensions>=3.6.4; python_version < \"3.8\"\n  Downloading typing_extensions-4.2.0-py3-none-any.whl (24 kB)\nBuilding wheels for collected packages: ibm-db, ibm-db-sa\n  Building wheel for ibm-db (PEP 517) ... \u001b[?25ldone\n\u001b[?25h  Created wheel for ibm-db: filename=ibm_db-3.1.0-cp37-cp37m-linux_x86_64.whl size=41251017 sha256=b11f4819e924b723f3f4ad545b3d5c5390bb36efbdee35dc2d80c98884f855be\n  Stored in directory: /root/.cache/pip/wheels/47/0a/77/b8b3be9a85b29763931206a34e13bcc1764e3ef13548d09797\n  Building wheel for ibm-db-sa (setup.py) ... \u001b[?25ldone\n\u001b[?25h  Created wheel for ibm-db-sa: filename=ibm_db_sa-0.3.3-py3-none-any.whl size=27411 sha256=4a354a45daf75f37ff7e2abe6671b1498d62106f5ec483016f53551e9780461f\n  Stored in directory: /root/.cache/pip/wheels/36/6c/6c/1b1edc5bbbc3956bcc174635c0608f814d4e5da891b14fb6c6\nSuccessfully built ibm-db ibm-db-sa\n\u001b[31mERROR: thinc 8.0.15 has requirement typing-extensions<4.0.0.0,>=3.7.4.1; python_version < \"3.8\", but you'll have typing-extensions 4.2.0 which is incompatible.\u001b[0m\n\u001b[31mERROR: spacy 3.2.4 has requirement typing-extensions<4.0.0.0,>=3.7.4; python_version < \"3.8\", but you'll have typing-extensions 4.2.0 which is incompatible.\u001b[0m\nInstalling collected packages: ibm-db, zipp, typing-extensions, importlib-metadata, greenlet, sqlalchemy, ibm-db-sa\n  Attempting uninstall: zipp\n    Found existing installation: zipp 3.8.0\n    Not uninstalling zipp at /shared-libs/python3.7/py-core/lib/python3.7/site-packages, outside environment /root/venv\n    Can't uninstall 'zipp'. No files were found to uninstall.\n  Attempting uninstall: typing-extensions\n    Found existing installation: typing-extensions 4.2.0\n    Not uninstalling typing-extensions at /shared-libs/python3.7/py-core/lib/python3.7/site-packages, outside environment /root/venv\n    Can't uninstall 'typing-extensions'. No files were found to uninstall.\n  Attempting uninstall: importlib-metadata\n    Found existing installation: importlib-metadata 4.11.3\n    Not uninstalling importlib-metadata at /shared-libs/python3.7/py-core/lib/python3.7/site-packages, outside environment /root/venv\n    Can't uninstall 'importlib-metadata'. No files were found to uninstall.\n  Attempting uninstall: greenlet\n    Found existing installation: greenlet 1.1.2\n    Not uninstalling greenlet at /shared-libs/python3.7/py/lib/python3.7/site-packages, outside environment /root/venv\n    Can't uninstall 'greenlet'. No files were found to uninstall.\n  Attempting uninstall: sqlalchemy\n    Found existing installation: SQLAlchemy 1.4.35\n    Not uninstalling sqlalchemy at /shared-libs/python3.7/py/lib/python3.7/site-packages, outside environment /root/venv\n    Can't uninstall 'SQLAlchemy'. No files were found to uninstall.\nSuccessfully installed greenlet-1.1.2 ibm-db-3.1.0 ibm-db-sa-0.3.3 importlib-metadata-4.11.3 sqlalchemy-1.4.36 typing-extensions-4.2.0 zipp-3.8.0\n\u001b[33mWARNING: You are using pip version 20.1.1; however, version 22.0.4 is available.\nYou should consider upgrading via the '/root/venv/bin/python -m pip install --upgrade pip' command.\u001b[0m\nFound existing installation: SQLAlchemy 1.4.36\nUninstalling SQLAlchemy-1.4.36:\n  Successfully uninstalled SQLAlchemy-1.4.36\nCollecting sqlalchemy==1.3.24\n  Downloading SQLAlchemy-1.3.24-cp37-cp37m-manylinux2010_x86_64.whl (1.3 MB)\n\u001b[K     |████████████████████████████████| 1.3 MB 33.8 MB/s \n\u001b[31mERROR: snowflake-sqlalchemy 1.3.3 has requirement sqlalchemy<2.0.0,>=1.4.0, but you'll have sqlalchemy 1.3.24 which is incompatible.\u001b[0m\n\u001b[?25hInstalling collected packages: sqlalchemy\n  Attempting uninstall: sqlalchemy\n    Found existing installation: SQLAlchemy 1.4.35\n    Not uninstalling sqlalchemy at /shared-libs/python3.7/py/lib/python3.7/site-packages, outside environment /root/venv\n    Can't uninstall 'SQLAlchemy'. No files were found to uninstall.\nSuccessfully installed sqlalchemy-1.3.24\n\u001b[33mWARNING: You are using pip version 20.1.1; however, version 22.0.4 is available.\nYou should consider upgrading via the '/root/venv/bin/python -m pip install --upgrade pip' command.\u001b[0m\nCollecting ipython-sql\n  Downloading ipython_sql-0.4.0-py3-none-any.whl (19 kB)\nRequirement already satisfied: six in /shared-libs/python3.7/py-core/lib/python3.7/site-packages (from ipython-sql) (1.16.0)\nCollecting prettytable<1\n  Downloading prettytable-0.7.2.tar.bz2 (21 kB)\nRequirement already satisfied: ipython-genutils>=0.1.0 in /shared-libs/python3.7/py-core/lib/python3.7/site-packages (from ipython-sql) (0.2.0)\nRequirement already satisfied: sqlparse in /shared-libs/python3.7/py-core/lib/python3.7/site-packages (from ipython-sql) (0.4.2)\nRequirement already satisfied: ipython>=1.0 in /shared-libs/python3.7/py-core/lib/python3.7/site-packages (from ipython-sql) (7.32.0)\nRequirement already satisfied: sqlalchemy>=0.6.7 in /root/venv/lib/python3.7/site-packages (from ipython-sql) (1.3.24)\nRequirement already satisfied: backcall in /shared-libs/python3.7/py-core/lib/python3.7/site-packages (from ipython>=1.0->ipython-sql) (0.2.0)\nRequirement already satisfied: pickleshare in /shared-libs/python3.7/py-core/lib/python3.7/site-packages (from ipython>=1.0->ipython-sql) (0.7.5)\nRequirement already satisfied: traitlets>=4.2 in /shared-libs/python3.7/py-core/lib/python3.7/site-packages (from ipython>=1.0->ipython-sql) (4.3.3)\nRequirement already satisfied: prompt-toolkit!=3.0.0,!=3.0.1,<3.1.0,>=2.0.0 in /shared-libs/python3.7/py-core/lib/python3.7/site-packages (from ipython>=1.0->ipython-sql) (3.0.29)\nRequirement already satisfied: pygments in /shared-libs/python3.7/py-core/lib/python3.7/site-packages (from ipython>=1.0->ipython-sql) (2.11.2)\nRequirement already satisfied: decorator in /shared-libs/python3.7/py-core/lib/python3.7/site-packages (from ipython>=1.0->ipython-sql) (5.1.1)\nRequirement already satisfied: jedi>=0.16 in /shared-libs/python3.7/py-core/lib/python3.7/site-packages (from ipython>=1.0->ipython-sql) (0.17.2)\nRequirement already satisfied: matplotlib-inline in /shared-libs/python3.7/py-core/lib/python3.7/site-packages (from ipython>=1.0->ipython-sql) (0.1.3)\nRequirement already satisfied: pexpect>4.3; sys_platform != \"win32\" in /shared-libs/python3.7/py-core/lib/python3.7/site-packages (from ipython>=1.0->ipython-sql) (4.8.0)\nRequirement already satisfied: setuptools>=18.5 in /root/venv/lib/python3.7/site-packages (from ipython>=1.0->ipython-sql) (47.1.0)\nRequirement already satisfied: wcwidth in /shared-libs/python3.7/py-core/lib/python3.7/site-packages (from prompt-toolkit!=3.0.0,!=3.0.1,<3.1.0,>=2.0.0->ipython>=1.0->ipython-sql) (0.2.5)\nRequirement already satisfied: parso<0.8.0,>=0.7.0 in /shared-libs/python3.7/py-core/lib/python3.7/site-packages (from jedi>=0.16->ipython>=1.0->ipython-sql) (0.7.1)\nRequirement already satisfied: ptyprocess>=0.5 in /shared-libs/python3.7/py-core/lib/python3.7/site-packages (from pexpect>4.3; sys_platform != \"win32\"->ipython>=1.0->ipython-sql) (0.7.0)\nBuilding wheels for collected packages: prettytable\n  Building wheel for prettytable (setup.py) ... \u001b[?25ldone\n\u001b[?25h  Created wheel for prettytable: filename=prettytable-0.7.2-py3-none-any.whl size=13699 sha256=5a362713992c1cbf2c6fe6b24aae2003a8cdf530b8977ef525038144f3dc6a3f\n  Stored in directory: /root/.cache/pip/wheels/8c/76/0b/eb9eb3da7e2335e3577e3f96a0ae9f74f206e26457bd1a2bc8\nSuccessfully built prettytable\nInstalling collected packages: prettytable, ipython-sql\nSuccessfully installed ipython-sql-0.4.0 prettytable-0.7.2\n\u001b[33mWARNING: You are using pip version 20.1.1; however, version 22.0.4 is available.\nYou should consider upgrading via the '/root/venv/bin/python -m pip install --upgrade pip' command.\u001b[0m\n",
     "output_type": "stream"
    }
   ],
   "execution_count": null
  },
  {
   "cell_type": "markdown",
   "source": "### Connect to the database\n\nLet us first load the SQL extension and establish a connection with the database\n",
   "metadata": {
    "cell_id": "00006-5a54b804-4e2a-4efc-bb9c-c3091e9b5455",
    "deepnote_cell_type": "markdown",
    "deepnote_cell_height": 100.390625
   }
  },
  {
   "cell_type": "code",
   "metadata": {
    "cell_id": "00007-1562ca1d-e817-42f4-ae18-8c1929366d7b",
    "deepnote_to_be_reexecuted": false,
    "source_hash": "8b6308ed",
    "execution_start": 1651615183917,
    "execution_millis": 132,
    "deepnote_cell_type": "code",
    "deepnote_cell_height": 81
   },
   "source": "%load_ext sql",
   "outputs": [],
   "execution_count": null
  },
  {
   "cell_type": "markdown",
   "source": "**DB2 magic in case of old UI service credentials.**\n\nIn the next cell enter your db2 connection string. Recall you created Service Credentials for your Db2 instance before. From the **uri** field of your Db2 service credentials copy everything after db2:// (except the double quote at the end) and paste it in the cell below after ibm_db_sa://\n\n<img src =\"https://cf-courses-data.s3.us.cloud-object-storage.appdomain.cloud/IBMDeveloperSkillsNetwork-DB0201EN-SkillsNetwork/labs/FinalModule_edX/images/URI.jpg\">\n\nin the following format\n\n**%sql ibm_db_sa://my-username:my-password\\@my-hostname:my-port/my-db-name**\n\n**DB2 magic in case of new UI service credentials.**\n\n<img src =\"https://cf-courses-data.s3.us.cloud-object-storage.appdomain.cloud/IBM-DS0321EN-SkillsNetwork/labs/module_2/images/servicecredentials.png\" width=600>  \n\n*   Use the following format.\n\n*   Add security=SSL at the end\n\n**%sql ibm_db_sa://my-username:my-password\\@my-hostname:my-port/my-db-name?security=SSL**\n",
   "metadata": {
    "cell_id": "00008-5f2c424d-6764-4a52-b2ca-54099770929c",
    "deepnote_cell_type": "markdown",
    "deepnote_cell_height": 866.625
   }
  },
  {
   "cell_type": "code",
   "metadata": {
    "cell_id": "7359b6b50590408eb74e23e4cfdcb603",
    "tags": [],
    "deepnote_to_be_reexecuted": false,
    "source_hash": "47626cd4",
    "execution_start": 1651615184093,
    "execution_millis": 2347,
    "deepnote_cell_type": "code",
    "deepnote_cell_height": 81
   },
   "source": "%sql ibm_db_sa://gwk69100:H80S5iWzczb19LGb@b0aebb68-94fa-46ec-a1fc-1c999edb6187.c3n41cmd0nqnrk39u98g.databases.appdomain.cloud:31249/BLUDB?security=SSL",
   "outputs": [],
   "execution_count": null
  },
  {
   "cell_type": "markdown",
   "source": "## Tasks\n\nNow write and execute SQL queries to solve the assignment tasks.\n\n### Task 1\n\n##### Display the names of the unique launch sites  in the space mission\n",
   "metadata": {
    "cell_id": "00012-163227ec-5a03-466c-8f12-b16aeb7c96fd",
    "deepnote_cell_type": "markdown",
    "deepnote_cell_height": 194.390625
   }
  },
  {
   "cell_type": "code",
   "metadata": {
    "cell_id": "00013-056beea7-26f5-445e-931c-e929b6af372a",
    "deepnote_to_be_reexecuted": false,
    "source_hash": "7cf9ee9",
    "execution_start": 1651615186446,
    "execution_millis": 127,
    "deepnote_cell_type": "code",
    "deepnote_cell_height": 369.796875,
    "deepnote_output_heights": [
     null,
     148
    ]
   },
   "source": "%%sql\n\nSELECT DISTINCT(LAUNCH_SITE)\nFROM SPACEXDATASET;",
   "outputs": [
    {
     "name": "stdout",
     "text": " * ibm_db_sa://gwk69100:***@b0aebb68-94fa-46ec-a1fc-1c999edb6187.c3n41cmd0nqnrk39u98g.databases.appdomain.cloud:31249/BLUDB\nDone.\n",
     "output_type": "stream"
    },
    {
     "output_type": "execute_result",
     "execution_count": 4,
     "data": {
      "text/plain": "[('CCAFS LC-40',), ('CCAFS SLC-40',), ('KSC LC-39A',), ('VAFB SLC-4E',)]",
      "text/html": "<table>\n    <tr>\n        <th>launch_site</th>\n    </tr>\n    <tr>\n        <td>CCAFS LC-40</td>\n    </tr>\n    <tr>\n        <td>CCAFS SLC-40</td>\n    </tr>\n    <tr>\n        <td>KSC LC-39A</td>\n    </tr>\n    <tr>\n        <td>VAFB SLC-4E</td>\n    </tr>\n</table>"
     },
     "metadata": {}
    }
   ],
   "execution_count": null
  },
  {
   "cell_type": "markdown",
   "source": "### Task 2\n\n##### Display 5 records where launch sites begin with the string 'CCA'\n",
   "metadata": {
    "cell_id": "00014-8fb5e1b3-bac3-477a-9229-139a1a8643f5",
    "deepnote_cell_type": "markdown",
    "deepnote_cell_height": 102
   }
  },
  {
   "cell_type": "code",
   "metadata": {
    "cell_id": "00015-47de58b3-a6d3-48f1-a3c4-4d01cc369cc9",
    "deepnote_to_be_reexecuted": false,
    "source_hash": "6f7497b3",
    "execution_start": 1651615392917,
    "execution_millis": 108,
    "deepnote_cell_type": "code",
    "deepnote_cell_height": 434.796875,
    "deepnote_output_heights": [
     null,
     177
    ]
   },
   "source": "%%sql\n\nSELECT *\nFROM SPACEXDATASET\nWHERE LAUNCH_SITE LIKE 'CCA%'\nLIMIT 5",
   "outputs": [
    {
     "name": "stdout",
     "text": " * ibm_db_sa://gwk69100:***@b0aebb68-94fa-46ec-a1fc-1c999edb6187.c3n41cmd0nqnrk39u98g.databases.appdomain.cloud:31249/BLUDB\nDone.\n",
     "output_type": "stream"
    },
    {
     "output_type": "execute_result",
     "execution_count": 9,
     "data": {
      "text/plain": "[(datetime.date(2010, 6, 4), datetime.time(18, 45), 'F9 v1.0  B0003', 'CCAFS LC-40', 'Dragon Spacecraft Qualification Unit', 0, 'LEO', 'SpaceX', 'Success', 'Failure (parachute)'),\n (datetime.date(2010, 12, 8), datetime.time(15, 43), 'F9 v1.0  B0004', 'CCAFS LC-40', 'Dragon demo flight C1, two CubeSats, barrel of Brouere cheese', 0, 'LEO (ISS)', 'NASA (COTS) NRO', 'Success', 'Failure (parachute)'),\n (datetime.date(2012, 5, 22), datetime.time(7, 44), 'F9 v1.0  B0005', 'CCAFS LC-40', 'Dragon demo flight C2', 525, 'LEO (ISS)', 'NASA (COTS)', 'Success', 'No attempt'),\n (datetime.date(2012, 10, 8), datetime.time(0, 35), 'F9 v1.0  B0006', 'CCAFS LC-40', 'SpaceX CRS-1', 500, 'LEO (ISS)', 'NASA (CRS)', 'Success', 'No attempt'),\n (datetime.date(2013, 3, 1), datetime.time(15, 10), 'F9 v1.0  B0007', 'CCAFS LC-40', 'SpaceX CRS-2', 677, 'LEO (ISS)', 'NASA (CRS)', 'Success', 'No attempt')]",
      "text/html": "<table>\n    <tr>\n        <th>DATE</th>\n        <th>time__utc_</th>\n        <th>booster_version</th>\n        <th>launch_site</th>\n        <th>payload</th>\n        <th>payload_mass__kg_</th>\n        <th>orbit</th>\n        <th>customer</th>\n        <th>mission_outcome</th>\n        <th>landing__outcome</th>\n    </tr>\n    <tr>\n        <td>2010-06-04</td>\n        <td>18:45:00</td>\n        <td>F9 v1.0  B0003</td>\n        <td>CCAFS LC-40</td>\n        <td>Dragon Spacecraft Qualification Unit</td>\n        <td>0</td>\n        <td>LEO</td>\n        <td>SpaceX</td>\n        <td>Success</td>\n        <td>Failure (parachute)</td>\n    </tr>\n    <tr>\n        <td>2010-12-08</td>\n        <td>15:43:00</td>\n        <td>F9 v1.0  B0004</td>\n        <td>CCAFS LC-40</td>\n        <td>Dragon demo flight C1, two CubeSats, barrel of Brouere cheese</td>\n        <td>0</td>\n        <td>LEO (ISS)</td>\n        <td>NASA (COTS) NRO</td>\n        <td>Success</td>\n        <td>Failure (parachute)</td>\n    </tr>\n    <tr>\n        <td>2012-05-22</td>\n        <td>07:44:00</td>\n        <td>F9 v1.0  B0005</td>\n        <td>CCAFS LC-40</td>\n        <td>Dragon demo flight C2</td>\n        <td>525</td>\n        <td>LEO (ISS)</td>\n        <td>NASA (COTS)</td>\n        <td>Success</td>\n        <td>No attempt</td>\n    </tr>\n    <tr>\n        <td>2012-10-08</td>\n        <td>00:35:00</td>\n        <td>F9 v1.0  B0006</td>\n        <td>CCAFS LC-40</td>\n        <td>SpaceX CRS-1</td>\n        <td>500</td>\n        <td>LEO (ISS)</td>\n        <td>NASA (CRS)</td>\n        <td>Success</td>\n        <td>No attempt</td>\n    </tr>\n    <tr>\n        <td>2013-03-01</td>\n        <td>15:10:00</td>\n        <td>F9 v1.0  B0007</td>\n        <td>CCAFS LC-40</td>\n        <td>SpaceX CRS-2</td>\n        <td>677</td>\n        <td>LEO (ISS)</td>\n        <td>NASA (CRS)</td>\n        <td>Success</td>\n        <td>No attempt</td>\n    </tr>\n</table>"
     },
     "metadata": {}
    }
   ],
   "execution_count": null
  },
  {
   "cell_type": "markdown",
   "source": "### Task 3\n\n##### Display the total payload mass carried by boosters launched by NASA (CRS)\n",
   "metadata": {
    "cell_id": "00016-12ca9979-cedc-4e10-81dd-09e0d81cdfa6",
    "deepnote_cell_type": "markdown",
    "deepnote_cell_height": 102
   }
  },
  {
   "cell_type": "code",
   "metadata": {
    "cell_id": "00017-6c0b038b-02eb-42e6-9b58-bfee78d3eb2c",
    "deepnote_to_be_reexecuted": false,
    "source_hash": "cb4bc3e7",
    "execution_start": 1651616793891,
    "execution_millis": 120,
    "deepnote_cell_type": "code",
    "deepnote_cell_height": 318.796875,
    "deepnote_output_heights": [
     null,
     61
    ]
   },
   "source": "%%sql\n\nSELECT sum(PAYLOAD_MASS__KG_) as TOTAL_PAYLOAD_MASS\nFROM SPACEXDATASET\nWHERE CUSTOMER = 'NASA (CRS)'\n",
   "outputs": [
    {
     "name": "stdout",
     "text": " * ibm_db_sa://gwk69100:***@b0aebb68-94fa-46ec-a1fc-1c999edb6187.c3n41cmd0nqnrk39u98g.databases.appdomain.cloud:31249/BLUDB\nDone.\n",
     "output_type": "stream"
    },
    {
     "output_type": "execute_result",
     "execution_count": 17,
     "data": {
      "text/plain": "[(45596,)]",
      "text/html": "<table>\n    <tr>\n        <th>total_payload_mass</th>\n    </tr>\n    <tr>\n        <td>45596</td>\n    </tr>\n</table>"
     },
     "metadata": {}
    }
   ],
   "execution_count": null
  },
  {
   "cell_type": "markdown",
   "source": "### Task 4\n\n##### Display average payload mass carried by booster version F9 v1.1\n",
   "metadata": {
    "cell_id": "00018-7e5ee8c5-7c05-454b-84a4-4b8bbdf49f2d",
    "deepnote_cell_type": "markdown",
    "deepnote_cell_height": 102
   }
  },
  {
   "cell_type": "code",
   "metadata": {
    "cell_id": "00019-a54418ad-573d-4134-8635-2a9eaa27090c",
    "deepnote_to_be_reexecuted": false,
    "source_hash": "fc0750c6",
    "execution_start": 1651616851799,
    "execution_millis": 443,
    "deepnote_cell_type": "code",
    "deepnote_cell_height": 300.796875,
    "deepnote_output_heights": [
     null,
     61
    ]
   },
   "source": "%%sql\n\nSELECT avg(PAYLOAD_MASS__KG_) as AVERAGE_PAYLOAD_MASS\nFROM SPACEXDATASET\nWHERE BOOSTER_VERSION = 'F9 v1.1'",
   "outputs": [
    {
     "name": "stdout",
     "text": " * ibm_db_sa://gwk69100:***@b0aebb68-94fa-46ec-a1fc-1c999edb6187.c3n41cmd0nqnrk39u98g.databases.appdomain.cloud:31249/BLUDB\nDone.\n",
     "output_type": "stream"
    },
    {
     "output_type": "execute_result",
     "execution_count": 18,
     "data": {
      "text/plain": "[(2928,)]",
      "text/html": "<table>\n    <tr>\n        <th>average_payload_mass</th>\n    </tr>\n    <tr>\n        <td>2928</td>\n    </tr>\n</table>"
     },
     "metadata": {}
    }
   ],
   "execution_count": null
  },
  {
   "cell_type": "markdown",
   "source": "### Task 5\n\n##### List the date when the first successful landing outcome in ground pad was acheived.\n\n*Hint:Use min function*\n",
   "metadata": {
    "cell_id": "00020-dcb9fc52-8bd9-4ead-939a-8aff22931208",
    "deepnote_cell_type": "markdown",
    "deepnote_cell_height": 136.390625
   }
  },
  {
   "cell_type": "code",
   "metadata": {
    "cell_id": "00021-4e634276-989b-4dbf-9f2d-17742f15c35f",
    "deepnote_to_be_reexecuted": false,
    "source_hash": "f37beba6",
    "execution_start": 1651617009981,
    "execution_millis": 62,
    "deepnote_cell_type": "code",
    "deepnote_cell_height": 318.796875,
    "deepnote_output_heights": [
     null,
     61
    ]
   },
   "source": "%%sql\n\nSELECT min(DATE) as \"First successful ground landing\"\nFROM SPACEXDATASET\nWHERE LANDING__OUTCOME = 'Success (ground pad)'\n",
   "outputs": [
    {
     "name": "stdout",
     "text": " * ibm_db_sa://gwk69100:***@b0aebb68-94fa-46ec-a1fc-1c999edb6187.c3n41cmd0nqnrk39u98g.databases.appdomain.cloud:31249/BLUDB\nDone.\n",
     "output_type": "stream"
    },
    {
     "output_type": "execute_result",
     "execution_count": 21,
     "data": {
      "text/plain": "[(datetime.date(2015, 12, 22),)]",
      "text/html": "<table>\n    <tr>\n        <th>First successful ground landing</th>\n    </tr>\n    <tr>\n        <td>2015-12-22</td>\n    </tr>\n</table>"
     },
     "metadata": {}
    }
   ],
   "execution_count": null
  },
  {
   "cell_type": "markdown",
   "source": "### Task 6\n\n##### List the names of the boosters which have success in drone ship and have payload mass greater than 4000 but less than 6000\n",
   "metadata": {
    "cell_id": "00022-817d3458-e67e-4e0c-8fd2-a6b62331be07",
    "deepnote_cell_type": "markdown",
    "deepnote_cell_height": 126
   }
  },
  {
   "cell_type": "code",
   "metadata": {
    "cell_id": "00023-db1d064c-e3c8-4625-bc3f-a20255a8570b",
    "deepnote_to_be_reexecuted": false,
    "source_hash": "8ee45aab",
    "execution_start": 1651617172300,
    "execution_millis": 321,
    "deepnote_cell_type": "code",
    "deepnote_cell_height": 387.796875,
    "deepnote_output_heights": [
     null,
     148
    ]
   },
   "source": "%%sql\n\nSELECT DISTINCT(BOOSTER_VERSION)\nFROM SPACEXDATASET\nWHERE PAYLOAD_MASS__KG_ > 4000 AND PAYLOAD_MASS__KG_ < 6000 AND LANDING__OUTCOME = 'Success (drone ship)'",
   "outputs": [
    {
     "name": "stdout",
     "text": " * ibm_db_sa://gwk69100:***@b0aebb68-94fa-46ec-a1fc-1c999edb6187.c3n41cmd0nqnrk39u98g.databases.appdomain.cloud:31249/BLUDB\nDone.\n",
     "output_type": "stream"
    },
    {
     "output_type": "execute_result",
     "execution_count": 23,
     "data": {
      "text/plain": "[('F9 FT  B1021.2',), ('F9 FT  B1031.2',), ('F9 FT B1022',), ('F9 FT B1026',)]",
      "text/html": "<table>\n    <tr>\n        <th>booster_version</th>\n    </tr>\n    <tr>\n        <td>F9 FT  B1021.2</td>\n    </tr>\n    <tr>\n        <td>F9 FT  B1031.2</td>\n    </tr>\n    <tr>\n        <td>F9 FT B1022</td>\n    </tr>\n    <tr>\n        <td>F9 FT B1026</td>\n    </tr>\n</table>"
     },
     "metadata": {}
    }
   ],
   "execution_count": null
  },
  {
   "cell_type": "markdown",
   "source": "### Task 7\n\n##### List the total number of successful and failure mission outcomes\n",
   "metadata": {
    "cell_id": "00024-4c6e961d-44d8-4d05-bfdd-5a7a332b11b2",
    "deepnote_cell_type": "markdown",
    "deepnote_cell_height": 102
   }
  },
  {
   "cell_type": "code",
   "metadata": {
    "cell_id": "00025-7a107e40-a1ec-40a1-8891-56252761d0e9",
    "deepnote_to_be_reexecuted": false,
    "source_hash": "27519329",
    "execution_start": 1651617695954,
    "execution_millis": 117,
    "deepnote_cell_type": "code",
    "deepnote_cell_height": 499.796875,
    "deepnote_output_heights": [
     null,
     206
    ]
   },
   "source": "%%sql\n\nSELECT LANDING__OUTCOME, count(*) as TOTAL\n\nFROM SPACEXDATASET\nGroup by LANDING__OUTCOME\nhaving LANDING__OUTCOME LIKE '%Success%' OR LANDING__OUTCOME LIKE '%Failure%'\n",
   "outputs": [
    {
     "name": "stdout",
     "text": " * ibm_db_sa://gwk69100:***@b0aebb68-94fa-46ec-a1fc-1c999edb6187.c3n41cmd0nqnrk39u98g.databases.appdomain.cloud:31249/BLUDB\nDone.\n",
     "output_type": "stream"
    },
    {
     "output_type": "execute_result",
     "execution_count": 34,
     "data": {
      "text/plain": "[('Failure', 3),\n ('Failure (drone ship)', 5),\n ('Failure (parachute)', 2),\n ('Success', 38),\n ('Success (drone ship)', 14),\n ('Success (ground pad)', 9)]",
      "text/html": "<table>\n    <tr>\n        <th>landing__outcome</th>\n        <th>total</th>\n    </tr>\n    <tr>\n        <td>Failure</td>\n        <td>3</td>\n    </tr>\n    <tr>\n        <td>Failure (drone ship)</td>\n        <td>5</td>\n    </tr>\n    <tr>\n        <td>Failure (parachute)</td>\n        <td>2</td>\n    </tr>\n    <tr>\n        <td>Success</td>\n        <td>38</td>\n    </tr>\n    <tr>\n        <td>Success (drone ship)</td>\n        <td>14</td>\n    </tr>\n    <tr>\n        <td>Success (ground pad)</td>\n        <td>9</td>\n    </tr>\n</table>"
     },
     "metadata": {}
    }
   ],
   "execution_count": null
  },
  {
   "cell_type": "markdown",
   "source": "### Task 8\n\n##### List the   names of the booster_versions which have carried the maximum payload mass. Use a subquery\n",
   "metadata": {
    "cell_id": "00026-5f918d23-5fe9-4d25-9c63-d502a5223270",
    "deepnote_cell_type": "markdown",
    "deepnote_cell_height": 102
   }
  },
  {
   "cell_type": "code",
   "metadata": {
    "cell_id": "00027-071cd34f-4b9e-4f70-99a6-62a56405dca4",
    "deepnote_to_be_reexecuted": false,
    "source_hash": "3e58ea86",
    "execution_start": 1651618550174,
    "execution_millis": 139,
    "deepnote_cell_type": "code",
    "deepnote_cell_height": 655.796875,
    "deepnote_output_heights": [
     null,
     380
    ]
   },
   "source": "%%sql\n\nSELECT BOOSTER_VERSION\nFROM SPACEXDATASET\nWHERE PAYLOAD_MASS__KG_ =\n(SELECT max(PAYLOAD_MASS__KG_)\nFROM SPACEXDATASET);",
   "outputs": [
    {
     "name": "stdout",
     "text": " * ibm_db_sa://gwk69100:***@b0aebb68-94fa-46ec-a1fc-1c999edb6187.c3n41cmd0nqnrk39u98g.databases.appdomain.cloud:31249/BLUDB\nDone.\n",
     "output_type": "stream"
    },
    {
     "output_type": "execute_result",
     "execution_count": 35,
     "data": {
      "text/plain": "[('F9 B5 B1048.4',),\n ('F9 B5 B1049.4',),\n ('F9 B5 B1051.3',),\n ('F9 B5 B1056.4',),\n ('F9 B5 B1048.5',),\n ('F9 B5 B1051.4',),\n ('F9 B5 B1049.5',),\n ('F9 B5 B1060.2',),\n ('F9 B5 B1058.3',),\n ('F9 B5 B1051.6',),\n ('F9 B5 B1060.3',),\n ('F9 B5 B1049.7',)]",
      "text/html": "<table>\n    <tr>\n        <th>booster_version</th>\n    </tr>\n    <tr>\n        <td>F9 B5 B1048.4</td>\n    </tr>\n    <tr>\n        <td>F9 B5 B1049.4</td>\n    </tr>\n    <tr>\n        <td>F9 B5 B1051.3</td>\n    </tr>\n    <tr>\n        <td>F9 B5 B1056.4</td>\n    </tr>\n    <tr>\n        <td>F9 B5 B1048.5</td>\n    </tr>\n    <tr>\n        <td>F9 B5 B1051.4</td>\n    </tr>\n    <tr>\n        <td>F9 B5 B1049.5</td>\n    </tr>\n    <tr>\n        <td>F9 B5 B1060.2</td>\n    </tr>\n    <tr>\n        <td>F9 B5 B1058.3</td>\n    </tr>\n    <tr>\n        <td>F9 B5 B1051.6</td>\n    </tr>\n    <tr>\n        <td>F9 B5 B1060.3</td>\n    </tr>\n    <tr>\n        <td>F9 B5 B1049.7</td>\n    </tr>\n</table>"
     },
     "metadata": {}
    }
   ],
   "execution_count": null
  },
  {
   "cell_type": "markdown",
   "source": "### Task 9\n\n##### List the failed landing_outcomes in drone ship, their booster versions, and launch site names for in year 2015\n",
   "metadata": {
    "cell_id": "00028-d08ef804-c1a3-4e1c-90fe-740e48b2c4cd",
    "deepnote_cell_type": "markdown",
    "deepnote_cell_height": 126
   }
  },
  {
   "cell_type": "code",
   "metadata": {
    "cell_id": "00029-8a808dfd-3f3c-4c5a-8a86-99cdf2dc3ddd",
    "deepnote_to_be_reexecuted": false,
    "source_hash": "8b590dd6",
    "execution_start": 1651618720889,
    "execution_millis": 93,
    "deepnote_cell_type": "code",
    "deepnote_cell_height": 358.796875,
    "deepnote_output_heights": [
     null,
     119
    ]
   },
   "source": "%%sql\n\nSELECT LANDING__OUTCOME, BOOSTER_VERSION, LAUNCH_SITE\nFROM SPACEXDATASET\nWHERE LANDING__OUTCOME LIKE '%drone ship%' and YEAR(DATE) = 2015",
   "outputs": [
    {
     "name": "stdout",
     "text": " * ibm_db_sa://gwk69100:***@b0aebb68-94fa-46ec-a1fc-1c999edb6187.c3n41cmd0nqnrk39u98g.databases.appdomain.cloud:31249/BLUDB\nDone.\n",
     "output_type": "stream"
    },
    {
     "output_type": "execute_result",
     "execution_count": 37,
     "data": {
      "text/plain": "[('Failure (drone ship)', 'F9 v1.1 B1012', 'CCAFS LC-40'),\n ('Failure (drone ship)', 'F9 v1.1 B1015', 'CCAFS LC-40'),\n ('Precluded (drone ship)', 'F9 v1.1 B1018', 'CCAFS LC-40')]",
      "text/html": "<table>\n    <tr>\n        <th>landing__outcome</th>\n        <th>booster_version</th>\n        <th>launch_site</th>\n    </tr>\n    <tr>\n        <td>Failure (drone ship)</td>\n        <td>F9 v1.1 B1012</td>\n        <td>CCAFS LC-40</td>\n    </tr>\n    <tr>\n        <td>Failure (drone ship)</td>\n        <td>F9 v1.1 B1015</td>\n        <td>CCAFS LC-40</td>\n    </tr>\n    <tr>\n        <td>Precluded (drone ship)</td>\n        <td>F9 v1.1 B1018</td>\n        <td>CCAFS LC-40</td>\n    </tr>\n</table>"
     },
     "metadata": {}
    }
   ],
   "execution_count": null
  },
  {
   "cell_type": "markdown",
   "source": "### Task 10\n\n##### Rank the count of landing outcomes (such as Failure (drone ship) or Success (ground pad)) between the date 2010-06-04 and 2017-03-20, in descending order\n",
   "metadata": {
    "cell_id": "00030-bc0621c3-6dec-4953-9f4e-a19a21d0e2db",
    "deepnote_cell_type": "markdown",
    "deepnote_cell_height": 126
   }
  },
  {
   "cell_type": "code",
   "metadata": {
    "cell_id": "00031-5c471f8b-104f-4523-ac2e-f6c73c0bbd33",
    "deepnote_to_be_reexecuted": false,
    "source_hash": "6987f29c",
    "execution_start": 1651619303127,
    "execution_millis": 333,
    "deepnote_cell_type": "code",
    "deepnote_cell_height": 593.796875,
    "deepnote_output_heights": [
     null,
     264
    ]
   },
   "source": "%%sql\n\nSELECT LANDING__OUTCOME, count(*) as TOTAL\nFROM SPACEXDATASET\nWHERE DATE BETWEEN '2010-06-04' AND '2017-03-20'\nGROUP BY LANDING__OUTCOME\nORDER BY TOTAL DESC\n\n\n",
   "outputs": [
    {
     "name": "stdout",
     "text": " * ibm_db_sa://gwk69100:***@b0aebb68-94fa-46ec-a1fc-1c999edb6187.c3n41cmd0nqnrk39u98g.databases.appdomain.cloud:31249/BLUDB\nDone.\n",
     "output_type": "stream"
    },
    {
     "output_type": "execute_result",
     "execution_count": 49,
     "data": {
      "text/plain": "[('No attempt', 10),\n ('Failure (drone ship)', 5),\n ('Success (drone ship)', 5),\n ('Controlled (ocean)', 3),\n ('Success (ground pad)', 3),\n ('Failure (parachute)', 2),\n ('Uncontrolled (ocean)', 2),\n ('Precluded (drone ship)', 1)]",
      "text/html": "<table>\n    <tr>\n        <th>landing__outcome</th>\n        <th>total</th>\n    </tr>\n    <tr>\n        <td>No attempt</td>\n        <td>10</td>\n    </tr>\n    <tr>\n        <td>Failure (drone ship)</td>\n        <td>5</td>\n    </tr>\n    <tr>\n        <td>Success (drone ship)</td>\n        <td>5</td>\n    </tr>\n    <tr>\n        <td>Controlled (ocean)</td>\n        <td>3</td>\n    </tr>\n    <tr>\n        <td>Success (ground pad)</td>\n        <td>3</td>\n    </tr>\n    <tr>\n        <td>Failure (parachute)</td>\n        <td>2</td>\n    </tr>\n    <tr>\n        <td>Uncontrolled (ocean)</td>\n        <td>2</td>\n    </tr>\n    <tr>\n        <td>Precluded (drone ship)</td>\n        <td>1</td>\n    </tr>\n</table>"
     },
     "metadata": {}
    }
   ],
   "execution_count": null
  },
  {
   "cell_type": "markdown",
   "source": "### Reference Links\n\n*   <a href =\"https://cf-courses-data.s3.us.cloud-object-storage.appdomain.cloud/IBMDeveloperSkillsNetwork-DB0201EN-SkillsNetwork/labs/Labs_Coursera_V5/labs/Lab%20-%20String%20Patterns%20-%20Sorting%20-%20Grouping/instructional-labs.md.html?utm_medium=Exinfluencer&utm_source=Exinfluencer&utm_content=000026UJ&utm_term=10006555&utm_id=NA-SkillsNetwork-Channel-SkillsNetworkCoursesIBMDS0321ENSkillsNetwork26802033-2021-01-01&origin=www.coursera.org\">Hands-on Lab : String Patterns, Sorting and Grouping</a>\n\n*   <a  href=\"https://cf-courses-data.s3.us.cloud-object-storage.appdomain.cloud/IBMDeveloperSkillsNetwork-DB0201EN-SkillsNetwork/labs/Labs_Coursera_V5/labs/Lab%20-%20Built-in%20functions%20/Hands-on_Lab__Built-in_Functions.md.html?utm_medium=Exinfluencer&utm_source=Exinfluencer&utm_content=000026UJ&utm_term=10006555&utm_id=NA-SkillsNetwork-Channel-SkillsNetworkCoursesIBMDS0321ENSkillsNetwork26802033-2021-01-01&origin=www.coursera.org\">Hands-on Lab: Built-in functions</a>\n\n*   <a  href=\"https://cf-courses-data.s3.us.cloud-object-storage.appdomain.cloud/IBMDeveloperSkillsNetwork-DB0201EN-SkillsNetwork/labs/Labs_Coursera_V5/labs/Lab%20-%20Sub-queries%20and%20Nested%20SELECTs%20/instructional-labs.md.html?utm_medium=Exinfluencer&utm_source=Exinfluencer&utm_content=000026UJ&utm_term=10006555&utm_id=NA-SkillsNetwork-Channel-SkillsNetworkCoursesIBMDS0321ENSkillsNetwork26802033-2021-01-01&origin=www.coursera.org\">Hands-on Lab : Sub-queries and Nested SELECT Statements</a>\n\n*   <a href=\"https://cf-courses-data.s3.us.cloud-object-storage.appdomain.cloud/IBMDeveloperSkillsNetwork-DB0201EN-SkillsNetwork/labs/Module%205/DB0201EN-Week3-1-3-SQLmagic.ipynb?utm_medium=Exinfluencer&utm_source=Exinfluencer&utm_content=000026UJ&utm_term=10006555&utm_id=NA-SkillsNetwork-Channel-SkillsNetworkCoursesIBMDS0321ENSkillsNetwork26802033-2021-01-01\">Hands-on Tutorial: Accessing Databases with SQL magic</a>\n\n*   <a href= \"https://cf-courses-data.s3.us.cloud-object-storage.appdomain.cloud/IBMDeveloperSkillsNetwork-DB0201EN-SkillsNetwork/labs/Module%205/DB0201EN-Week3-1-4-Analyzing.ipynb?utm_medium=Exinfluencer&utm_source=Exinfluencer&utm_content=000026UJ&utm_term=10006555&utm_id=NA-SkillsNetwork-Channel-SkillsNetworkCoursesIBMDS0321ENSkillsNetwork26802033-2021-01-01\">Hands-on Lab: Analyzing a real World Data Set</a>\n",
   "metadata": {
    "cell_id": "00032-45882c9c-38fb-46da-8676-134b37430834",
    "owner_user_id": "426e2894-84b4-4ddc-9822-54c090a83c57",
    "deepnote_cell_type": "markdown",
    "deepnote_cell_height": 216
   }
  },
  {
   "cell_type": "markdown",
   "source": "## Author(s)\n\n<h4> Lakshmi Holla </h4>\n",
   "metadata": {
    "cell_id": "00033-96d08698-5cc5-43ae-9e56-75fbbd5e8252",
    "deepnote_cell_type": "markdown",
    "deepnote_cell_height": 110
   }
  },
  {
   "cell_type": "markdown",
   "source": "## Other Contributors\n\n<h4> Rav Ahuja </h4>\n",
   "metadata": {
    "cell_id": "00034-3a1c164a-7f68-490e-a748-1f397b0baf5b",
    "deepnote_cell_type": "markdown",
    "deepnote_cell_height": 110
   }
  },
  {
   "cell_type": "markdown",
   "source": "## Change log\n\n| Date       | Version | Changed by    | Change Description        |\n| ---------- | ------- | ------------- | ------------------------- |\n| 2021-10-12 | 0.4     | Lakshmi Holla | Changed markdown          |\n| 2021-08-24 | 0.3     | Lakshmi Holla | Added library update      |\n| 2021-07-09 | 0.2     | Lakshmi Holla | Changes made in magic sql |\n| 2021-05-20 | 0.1     | Lakshmi Holla | Created Initial Version   |\n",
   "metadata": {
    "cell_id": "00035-67677b74-0e8a-47ec-b093-414bf511b670",
    "deepnote_cell_type": "markdown",
    "deepnote_cell_height": 208
   }
  },
  {
   "cell_type": "markdown",
   "source": "## <h3 align=\"center\"> © IBM Corporation 2021. All rights reserved. <h3/>\n",
   "metadata": {
    "cell_id": "00036-a7ffd670-9ef8-48ef-8a90-3600bdb5bfee",
    "deepnote_cell_type": "markdown",
    "deepnote_cell_height": 62
   }
  },
  {
   "cell_type": "markdown",
   "source": "<a style='text-decoration:none;line-height:16px;display:flex;color:#5B5B62;padding:10px;justify-content:end;' href='https://deepnote.com?utm_source=created-in-deepnote-cell&projectId=271b8ea1-c94e-4c67-84ee-9652ee4643a6' target=\"_blank\">\n<img alt='Created in deepnote.com' style='display:inline;max-height:16px;margin:0px;margin-right:7.5px;' src='data:image/svg+xml;base64,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' > </img>\nCreated in <span style='font-weight:600;margin-left:4px;'>Deepnote</span></a>",
   "metadata": {
    "tags": [],
    "created_in_deepnote_cell": true,
    "deepnote_cell_type": "markdown"
   }
  }
 ],
 "nbformat": 4,
 "nbformat_minor": 4,
 "metadata": {
  "kernelspec": {
   "display_name": "Python 3",
   "language": "python",
   "name": "python3"
  },
  "language_info": {
   "codemirror_mode": {
    "name": "ipython",
    "version": 3
   },
   "file_extension": ".py",
   "mimetype": "text/x-python",
   "name": "python",
   "nbconvert_exporter": "python",
   "pygments_lexer": "ipython3",
   "version": "3.8.8"
  },
  "deepnote_notebook_id": "8581d7b0-460c-4e8d-a008-e7ee7d48eec6",
  "deepnote": {},
  "deepnote_execution_queue": []
 }
}