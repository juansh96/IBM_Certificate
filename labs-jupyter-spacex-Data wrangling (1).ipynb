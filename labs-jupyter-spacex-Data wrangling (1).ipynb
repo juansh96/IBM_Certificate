{
 "cells": [
  {
   "cell_type": "markdown",
   "source": "<center>\n    <img src=\"https://gitlab.com/ibm/skills-network/courses/placeholder101/-/raw/master/labs/module%201/images/IDSNlogo.png\" width=\"300\" alt=\"cognitiveclass.ai logo\"  />\n</center>\n",
   "metadata": {
    "cell_id": "f5a5463f-9819-4b2c-bbdb-4c48054a5b84",
    "deepnote_cell_type": "markdown",
    "deepnote_cell_height": 70
   }
  },
  {
   "cell_type": "markdown",
   "source": "# **Space X  Falcon 9 First Stage Landing Prediction**\n",
   "metadata": {
    "cell_id": "00001-2e4bb842-a072-47d8-944f-d97fde472b62",
    "deepnote_cell_type": "markdown",
    "deepnote_cell_height": 134
   }
  },
  {
   "cell_type": "markdown",
   "source": "## Lab 2: Data wrangling\n",
   "metadata": {
    "cell_id": "00002-81781d19-e4eb-48d9-9341-904a46f09d0e",
    "deepnote_cell_type": "markdown",
    "deepnote_cell_height": 70
   }
  },
  {
   "cell_type": "markdown",
   "source": "Estimated time needed: **60** minutes\n",
   "metadata": {
    "cell_id": "00003-a9edba83-9b43-45fd-aec2-ee075b01b347",
    "deepnote_cell_type": "markdown",
    "deepnote_cell_height": 52.390625
   }
  },
  {
   "cell_type": "markdown",
   "source": "In this lab, we will perform some Exploratory Data Analysis (EDA) to find some patterns in the data and determine what would be the label for training supervised models.\n\nIn the data set, there are several different cases where the booster did not land successfully. Sometimes a landing was attempted but failed due to an accident; for example, <code>True Ocean</code> means the mission outcome was successfully  landed to a specific region of the ocean while <code>False Ocean</code> means the mission outcome was unsuccessfully landed to a specific region of the ocean. <code>True RTLS</code> means the mission outcome was successfully  landed to a ground pad <code>False RTLS</code> means the mission outcome was unsuccessfully landed to a ground pad.<code>True ASDS</code> means the mission outcome was successfully landed on  a drone ship <code>False ASDS</code> means the mission outcome was unsuccessfully landed on a drone ship.\n\nIn this lab we will mainly convert those outcomes into Training Labels with `1` means the booster successfully landed `0` means it was unsuccessful.\n",
   "metadata": {
    "cell_id": "00004-aee8f6c1-12ec-454b-867c-e47477d2135e",
    "deepnote_cell_type": "markdown",
    "deepnote_cell_height": 304.390625
   }
  },
  {
   "cell_type": "markdown",
   "source": "Falcon 9 first stage will land successfully\n",
   "metadata": {
    "cell_id": "00005-085a56a3-3f04-4dd8-bde8-3b64a0695d87",
    "deepnote_cell_type": "markdown",
    "deepnote_cell_height": 52.390625
   }
  },
  {
   "cell_type": "markdown",
   "source": "![](https://cf-courses-data.s3.us.cloud-object-storage.appdomain.cloud/IBMDeveloperSkillsNetwork-DS0701EN-SkillsNetwork/api/Images/landing\\_1.gif)\n",
   "metadata": {
    "cell_id": "00006-af893d3f-c9c2-47b2-8b60-99c0f800133e",
    "deepnote_cell_type": "markdown",
    "deepnote_cell_height": 334
   }
  },
  {
   "cell_type": "markdown",
   "source": "Several examples of an unsuccessful landing are shown here:\n",
   "metadata": {
    "cell_id": "00007-09850a56-ed19-44cd-a4b0-6acf88c0610e",
    "deepnote_cell_type": "markdown",
    "deepnote_cell_height": 52.390625
   }
  },
  {
   "cell_type": "markdown",
   "source": "![](https://cf-courses-data.s3.us.cloud-object-storage.appdomain.cloud/IBMDeveloperSkillsNetwork-DS0701EN-SkillsNetwork/api/Images/crash.gif)\n",
   "metadata": {
    "cell_id": "00008-a5d63303-5514-4691-9c44-60e2d872a0be",
    "deepnote_cell_type": "markdown",
    "deepnote_cell_height": 303
   }
  },
  {
   "cell_type": "markdown",
   "source": "",
   "metadata": {
    "cell_id": "00009-b907903f-5df7-4da5-ab27-b55c9b54f228",
    "deepnote_cell_type": "markdown",
    "deepnote_cell_height": 46
   }
  },
  {
   "cell_type": "markdown",
   "source": "## Objectives\n\nPerform exploratory  Data Analysis and determine Training Labels\n\n*   Exploratory Data Analysis\n*   Determine Training Labels\n",
   "metadata": {
    "cell_id": "00010-d265fbcf-a563-4b91-9bad-a6131602a6ed",
    "deepnote_cell_type": "markdown",
    "deepnote_cell_height": 184.1875
   }
  },
  {
   "cell_type": "markdown",
   "source": "***\n",
   "metadata": {
    "cell_id": "00011-7d281d8e-4fed-4794-93d7-ac145f3445c5",
    "deepnote_cell_type": "markdown",
    "deepnote_cell_height": 46
   }
  },
  {
   "cell_type": "markdown",
   "source": "## Import Libraries and Define Auxiliary Functions\n",
   "metadata": {
    "cell_id": "00012-6350faa9-f88d-474e-9707-f924b8bf0316",
    "deepnote_cell_type": "markdown",
    "deepnote_cell_height": 70
   }
  },
  {
   "cell_type": "markdown",
   "source": "We will import the following libraries.\n",
   "metadata": {
    "cell_id": "00013-2066e63f-dd60-4d26-9bb1-4556ea728a64",
    "deepnote_cell_type": "markdown",
    "deepnote_cell_height": 52.390625
   }
  },
  {
   "cell_type": "code",
   "metadata": {
    "cell_id": "00014-8aa1e454-a54b-408c-9fc2-c7fd4754e0ea",
    "deepnote_to_be_reexecuted": false,
    "source_hash": "2786f593",
    "execution_start": 1651527358334,
    "execution_millis": 2,
    "deepnote_cell_type": "code",
    "deepnote_cell_height": 135
   },
   "source": "# Pandas is a software library written for the Python programming language for data manipulation and analysis.\nimport pandas as pd\n#NumPy is a library for the Python programming language, adding support for large, multi-dimensional arrays and matrices, along with a large collection of high-level mathematical functions to operate on these arrays\nimport numpy as np",
   "execution_count": 1,
   "outputs": []
  },
  {
   "cell_type": "markdown",
   "source": "### Data Analysis\n",
   "metadata": {
    "cell_id": "00015-7a917d7c-cddd-4d40-8c56-b2a97c05927d",
    "deepnote_cell_type": "markdown",
    "deepnote_cell_height": 62
   }
  },
  {
   "cell_type": "markdown",
   "source": "Load Space X dataset, from last section.\n",
   "metadata": {
    "cell_id": "00016-2ee88814-7978-4ded-bcb3-e1c1f3d4bdc8",
    "deepnote_cell_type": "markdown",
    "deepnote_cell_height": 52.390625
   }
  },
  {
   "cell_type": "code",
   "metadata": {
    "cell_id": "00017-9219faee-70a0-494e-8978-5efaa2238495",
    "deepnote_to_be_reexecuted": false,
    "source_hash": "e14cb0d7",
    "execution_start": 1651527358381,
    "execution_millis": 419,
    "deepnote_cell_type": "code",
    "deepnote_cell_height": 631.59375
   },
   "source": "df=pd.read_csv(\"https://cf-courses-data.s3.us.cloud-object-storage.appdomain.cloud/IBM-DS0321EN-SkillsNetwork/datasets/dataset_part_1.csv\")\ndf.head(10)",
   "execution_count": 2,
   "outputs": [
    {
     "output_type": "execute_result",
     "execution_count": 2,
     "data": {
      "application/vnd.deepnote.dataframe.v3+json": {
       "column_count": 17,
       "row_count": 10,
       "columns": [
        {
         "name": "FlightNumber",
         "dtype": "int64",
         "stats": {
          "unique_count": 10,
          "nan_count": 0,
          "min": "1",
          "max": "10",
          "histogram": [
           {
            "bin_start": 1,
            "bin_end": 1.9,
            "count": 1
           },
           {
            "bin_start": 1.9,
            "bin_end": 2.8,
            "count": 1
           },
           {
            "bin_start": 2.8,
            "bin_end": 3.7,
            "count": 1
           },
           {
            "bin_start": 3.7,
            "bin_end": 4.6,
            "count": 1
           },
           {
            "bin_start": 4.6,
            "bin_end": 5.5,
            "count": 1
           },
           {
            "bin_start": 5.5,
            "bin_end": 6.4,
            "count": 1
           },
           {
            "bin_start": 6.4,
            "bin_end": 7.3,
            "count": 1
           },
           {
            "bin_start": 7.3,
            "bin_end": 8.2,
            "count": 1
           },
           {
            "bin_start": 8.2,
            "bin_end": 9.1,
            "count": 1
           },
           {
            "bin_start": 9.1,
            "bin_end": 10,
            "count": 1
           }
          ]
         }
        },
        {
         "name": "Date",
         "dtype": "object",
         "stats": {
          "unique_count": 10,
          "nan_count": 0,
          "categories": [
           {
            "name": "2010-06-04",
            "count": 1
           },
           {
            "name": "2012-05-22",
            "count": 1
           },
           {
            "name": "8 others",
            "count": 8
           }
          ]
         }
        },
        {
         "name": "BoosterVersion",
         "dtype": "object",
         "stats": {
          "unique_count": 1,
          "nan_count": 0,
          "categories": [
           {
            "name": "Falcon 9",
            "count": 10
           }
          ]
         }
        },
        {
         "name": "PayloadMass",
         "dtype": "float64",
         "stats": {
          "unique_count": 10,
          "nan_count": 0,
          "min": "500.0",
          "max": "6104.959411764706",
          "histogram": [
           {
            "bin_start": 500,
            "bin_end": 1060.4959411764705,
            "count": 3
           },
           {
            "bin_start": 1060.4959411764705,
            "bin_end": 1620.991882352941,
            "count": 1
           },
           {
            "bin_start": 1620.991882352941,
            "bin_end": 2181.487823529412,
            "count": 0
           },
           {
            "bin_start": 2181.487823529412,
            "bin_end": 2741.983764705882,
            "count": 1
           },
           {
            "bin_start": 2741.983764705882,
            "bin_end": 3302.4797058823524,
            "count": 1
           },
           {
            "bin_start": 3302.4797058823524,
            "bin_end": 3862.975647058823,
            "count": 1
           },
           {
            "bin_start": 3862.975647058823,
            "bin_end": 4423.471588235294,
            "count": 0
           },
           {
            "bin_start": 4423.471588235294,
            "bin_end": 4983.967529411764,
            "count": 2
           },
           {
            "bin_start": 4983.967529411764,
            "bin_end": 5544.4634705882345,
            "count": 0
           },
           {
            "bin_start": 5544.4634705882345,
            "bin_end": 6104.959411764706,
            "count": 1
           }
          ]
         }
        },
        {
         "name": "Orbit",
         "dtype": "object",
         "stats": {
          "unique_count": 4,
          "nan_count": 0,
          "categories": [
           {
            "name": "GTO",
            "count": 4
           },
           {
            "name": "LEO",
            "count": 3
           },
           {
            "name": "2 others",
            "count": 3
           }
          ]
         }
        },
        {
         "name": "LaunchSite",
         "dtype": "object",
         "stats": {
          "unique_count": 2,
          "nan_count": 0,
          "categories": [
           {
            "name": "CCAFS SLC 40",
            "count": 9
           },
           {
            "name": "VAFB SLC 4E",
            "count": 1
           }
          ]
         }
        },
        {
         "name": "Outcome",
         "dtype": "object",
         "stats": {
          "unique_count": 3,
          "nan_count": 0,
          "categories": [
           {
            "name": "None None",
            "count": 7
           },
           {
            "name": "True Ocean",
            "count": 2
           },
           {
            "name": "False Ocean",
            "count": 1
           }
          ]
         }
        },
        {
         "name": "Flights",
         "dtype": "int64",
         "stats": {
          "unique_count": 1,
          "nan_count": 0,
          "min": "1",
          "max": "1",
          "histogram": [
           {
            "bin_start": 0.5,
            "bin_end": 0.6,
            "count": 0
           },
           {
            "bin_start": 0.6,
            "bin_end": 0.7,
            "count": 0
           },
           {
            "bin_start": 0.7,
            "bin_end": 0.8,
            "count": 0
           },
           {
            "bin_start": 0.8,
            "bin_end": 0.9,
            "count": 0
           },
           {
            "bin_start": 0.9,
            "bin_end": 1,
            "count": 0
           },
           {
            "bin_start": 1,
            "bin_end": 1.1,
            "count": 10
           },
           {
            "bin_start": 1.1,
            "bin_end": 1.2000000000000002,
            "count": 0
           },
           {
            "bin_start": 1.2000000000000002,
            "bin_end": 1.3,
            "count": 0
           },
           {
            "bin_start": 1.3,
            "bin_end": 1.4,
            "count": 0
           },
           {
            "bin_start": 1.4,
            "bin_end": 1.5,
            "count": 0
           }
          ]
         }
        },
        {
         "name": "GridFins",
         "dtype": "bool",
         "stats": {
          "unique_count": 1,
          "nan_count": 0,
          "categories": [
           {
            "name": "False",
            "count": 10
           }
          ]
         }
        },
        {
         "name": "Reused",
         "dtype": "bool",
         "stats": {
          "unique_count": 1,
          "nan_count": 0,
          "categories": [
           {
            "name": "False",
            "count": 10
           }
          ]
         }
        },
        {
         "name": "Legs",
         "dtype": "bool",
         "stats": {
          "unique_count": 2,
          "nan_count": 0,
          "categories": [
           {
            "name": "False",
            "count": 8
           },
           {
            "name": "True",
            "count": 2
           }
          ]
         }
        },
        {
         "name": "LandingPad",
         "dtype": "object",
         "stats": {
          "unique_count": 0,
          "nan_count": 10,
          "categories": [
           {
            "name": "Missing",
            "count": 10
           }
          ]
         }
        },
        {
         "name": "Block",
         "dtype": "float64",
         "stats": {
          "unique_count": 1,
          "nan_count": 0,
          "min": "1.0",
          "max": "1.0",
          "histogram": [
           {
            "bin_start": 0.5,
            "bin_end": 0.6,
            "count": 0
           },
           {
            "bin_start": 0.6,
            "bin_end": 0.7,
            "count": 0
           },
           {
            "bin_start": 0.7,
            "bin_end": 0.8,
            "count": 0
           },
           {
            "bin_start": 0.8,
            "bin_end": 0.9,
            "count": 0
           },
           {
            "bin_start": 0.9,
            "bin_end": 1,
            "count": 0
           },
           {
            "bin_start": 1,
            "bin_end": 1.1,
            "count": 10
           },
           {
            "bin_start": 1.1,
            "bin_end": 1.2000000000000002,
            "count": 0
           },
           {
            "bin_start": 1.2000000000000002,
            "bin_end": 1.3,
            "count": 0
           },
           {
            "bin_start": 1.3,
            "bin_end": 1.4,
            "count": 0
           },
           {
            "bin_start": 1.4,
            "bin_end": 1.5,
            "count": 0
           }
          ]
         }
        },
        {
         "name": "ReusedCount",
         "dtype": "int64",
         "stats": {
          "unique_count": 1,
          "nan_count": 0,
          "min": "0",
          "max": "0",
          "histogram": [
           {
            "bin_start": -0.5,
            "bin_end": -0.4,
            "count": 0
           },
           {
            "bin_start": -0.4,
            "bin_end": -0.3,
            "count": 0
           },
           {
            "bin_start": -0.3,
            "bin_end": -0.19999999999999996,
            "count": 0
           },
           {
            "bin_start": -0.19999999999999996,
            "bin_end": -0.09999999999999998,
            "count": 0
           },
           {
            "bin_start": -0.09999999999999998,
            "bin_end": 0,
            "count": 0
           },
           {
            "bin_start": 0,
            "bin_end": 0.10000000000000009,
            "count": 10
           },
           {
            "bin_start": 0.10000000000000009,
            "bin_end": 0.20000000000000007,
            "count": 0
           },
           {
            "bin_start": 0.20000000000000007,
            "bin_end": 0.30000000000000004,
            "count": 0
           },
           {
            "bin_start": 0.30000000000000004,
            "bin_end": 0.4,
            "count": 0
           },
           {
            "bin_start": 0.4,
            "bin_end": 0.5,
            "count": 0
           }
          ]
         }
        },
        {
         "name": "Serial",
         "dtype": "object",
         "stats": {
          "unique_count": 10,
          "nan_count": 0,
          "categories": [
           {
            "name": "B0003",
            "count": 1
           },
           {
            "name": "B0005",
            "count": 1
           },
           {
            "name": "8 others",
            "count": 8
           }
          ]
         }
        },
        {
         "name": "Longitude",
         "dtype": "float64",
         "stats": {
          "unique_count": 2,
          "nan_count": 0,
          "min": "-120.610829",
          "max": "-80.577366",
          "histogram": [
           {
            "bin_start": -120.610829,
            "bin_end": -116.60748269999999,
            "count": 1
           },
           {
            "bin_start": -116.60748269999999,
            "bin_end": -112.6041364,
            "count": 0
           },
           {
            "bin_start": -112.6041364,
            "bin_end": -108.6007901,
            "count": 0
           },
           {
            "bin_start": -108.6007901,
            "bin_end": -104.5974438,
            "count": 0
           },
           {
            "bin_start": -104.5974438,
            "bin_end": -100.5940975,
            "count": 0
           },
           {
            "bin_start": -100.5940975,
            "bin_end": -96.5907512,
            "count": 0
           },
           {
            "bin_start": -96.5907512,
            "bin_end": -92.5874049,
            "count": 0
           },
           {
            "bin_start": -92.5874049,
            "bin_end": -88.58405859999999,
            "count": 0
           },
           {
            "bin_start": -88.58405859999999,
            "bin_end": -84.5807123,
            "count": 0
           },
           {
            "bin_start": -84.5807123,
            "bin_end": -80.577366,
            "count": 9
           }
          ]
         }
        },
        {
         "name": "Latitude",
         "dtype": "float64",
         "stats": {
          "unique_count": 2,
          "nan_count": 0,
          "min": "28.5618571",
          "max": "34.632093",
          "histogram": [
           {
            "bin_start": 28.5618571,
            "bin_end": 29.16888069,
            "count": 9
           },
           {
            "bin_start": 29.16888069,
            "bin_end": 29.77590428,
            "count": 0
           },
           {
            "bin_start": 29.77590428,
            "bin_end": 30.38292787,
            "count": 0
           },
           {
            "bin_start": 30.38292787,
            "bin_end": 30.98995146,
            "count": 0
           },
           {
            "bin_start": 30.98995146,
            "bin_end": 31.596975049999998,
            "count": 0
           },
           {
            "bin_start": 31.596975049999998,
            "bin_end": 32.20399864,
            "count": 0
           },
           {
            "bin_start": 32.20399864,
            "bin_end": 32.81102223,
            "count": 0
           },
           {
            "bin_start": 32.81102223,
            "bin_end": 33.418045819999996,
            "count": 0
           },
           {
            "bin_start": 33.418045819999996,
            "bin_end": 34.02506941,
            "count": 0
           },
           {
            "bin_start": 34.02506941,
            "bin_end": 34.632093,
            "count": 1
           }
          ]
         }
        },
        {
         "name": "_deepnote_index_column",
         "dtype": "int64"
        }
       ],
       "rows": [
        {
         "FlightNumber": 1,
         "Date": "2010-06-04",
         "BoosterVersion": "Falcon 9",
         "PayloadMass": 6104.959411764706,
         "Orbit": "LEO",
         "LaunchSite": "CCAFS SLC 40",
         "Outcome": "None None",
         "Flights": 1,
         "GridFins": false,
         "Reused": false,
         "Legs": false,
         "LandingPad": "nan",
         "Block": 1,
         "ReusedCount": 0,
         "Serial": "B0003",
         "Longitude": -80.577366,
         "Latitude": 28.5618571,
         "_deepnote_index_column": 0
        },
        {
         "FlightNumber": 2,
         "Date": "2012-05-22",
         "BoosterVersion": "Falcon 9",
         "PayloadMass": 525,
         "Orbit": "LEO",
         "LaunchSite": "CCAFS SLC 40",
         "Outcome": "None None",
         "Flights": 1,
         "GridFins": false,
         "Reused": false,
         "Legs": false,
         "LandingPad": "nan",
         "Block": 1,
         "ReusedCount": 0,
         "Serial": "B0005",
         "Longitude": -80.577366,
         "Latitude": 28.5618571,
         "_deepnote_index_column": 1
        },
        {
         "FlightNumber": 3,
         "Date": "2013-03-01",
         "BoosterVersion": "Falcon 9",
         "PayloadMass": 677,
         "Orbit": "ISS",
         "LaunchSite": "CCAFS SLC 40",
         "Outcome": "None None",
         "Flights": 1,
         "GridFins": false,
         "Reused": false,
         "Legs": false,
         "LandingPad": "nan",
         "Block": 1,
         "ReusedCount": 0,
         "Serial": "B0007",
         "Longitude": -80.577366,
         "Latitude": 28.5618571,
         "_deepnote_index_column": 2
        },
        {
         "FlightNumber": 4,
         "Date": "2013-09-29",
         "BoosterVersion": "Falcon 9",
         "PayloadMass": 500,
         "Orbit": "PO",
         "LaunchSite": "VAFB SLC 4E",
         "Outcome": "False Ocean",
         "Flights": 1,
         "GridFins": false,
         "Reused": false,
         "Legs": false,
         "LandingPad": "nan",
         "Block": 1,
         "ReusedCount": 0,
         "Serial": "B1003",
         "Longitude": -120.610829,
         "Latitude": 34.632093,
         "_deepnote_index_column": 3
        },
        {
         "FlightNumber": 5,
         "Date": "2013-12-03",
         "BoosterVersion": "Falcon 9",
         "PayloadMass": 3170,
         "Orbit": "GTO",
         "LaunchSite": "CCAFS SLC 40",
         "Outcome": "None None",
         "Flights": 1,
         "GridFins": false,
         "Reused": false,
         "Legs": false,
         "LandingPad": "nan",
         "Block": 1,
         "ReusedCount": 0,
         "Serial": "B1004",
         "Longitude": -80.577366,
         "Latitude": 28.5618571,
         "_deepnote_index_column": 4
        },
        {
         "FlightNumber": 6,
         "Date": "2014-01-06",
         "BoosterVersion": "Falcon 9",
         "PayloadMass": 3325,
         "Orbit": "GTO",
         "LaunchSite": "CCAFS SLC 40",
         "Outcome": "None None",
         "Flights": 1,
         "GridFins": false,
         "Reused": false,
         "Legs": false,
         "LandingPad": "nan",
         "Block": 1,
         "ReusedCount": 0,
         "Serial": "B1005",
         "Longitude": -80.577366,
         "Latitude": 28.5618571,
         "_deepnote_index_column": 5
        },
        {
         "FlightNumber": 7,
         "Date": "2014-04-18",
         "BoosterVersion": "Falcon 9",
         "PayloadMass": 2296,
         "Orbit": "ISS",
         "LaunchSite": "CCAFS SLC 40",
         "Outcome": "True Ocean",
         "Flights": 1,
         "GridFins": false,
         "Reused": false,
         "Legs": true,
         "LandingPad": "nan",
         "Block": 1,
         "ReusedCount": 0,
         "Serial": "B1006",
         "Longitude": -80.577366,
         "Latitude": 28.5618571,
         "_deepnote_index_column": 6
        },
        {
         "FlightNumber": 8,
         "Date": "2014-07-14",
         "BoosterVersion": "Falcon 9",
         "PayloadMass": 1316,
         "Orbit": "LEO",
         "LaunchSite": "CCAFS SLC 40",
         "Outcome": "True Ocean",
         "Flights": 1,
         "GridFins": false,
         "Reused": false,
         "Legs": true,
         "LandingPad": "nan",
         "Block": 1,
         "ReusedCount": 0,
         "Serial": "B1007",
         "Longitude": -80.577366,
         "Latitude": 28.5618571,
         "_deepnote_index_column": 7
        },
        {
         "FlightNumber": 9,
         "Date": "2014-08-05",
         "BoosterVersion": "Falcon 9",
         "PayloadMass": 4535,
         "Orbit": "GTO",
         "LaunchSite": "CCAFS SLC 40",
         "Outcome": "None None",
         "Flights": 1,
         "GridFins": false,
         "Reused": false,
         "Legs": false,
         "LandingPad": "nan",
         "Block": 1,
         "ReusedCount": 0,
         "Serial": "B1008",
         "Longitude": -80.577366,
         "Latitude": 28.5618571,
         "_deepnote_index_column": 8
        },
        {
         "FlightNumber": 10,
         "Date": "2014-09-07",
         "BoosterVersion": "Falcon 9",
         "PayloadMass": 4428,
         "Orbit": "GTO",
         "LaunchSite": "CCAFS SLC 40",
         "Outcome": "None None",
         "Flights": 1,
         "GridFins": false,
         "Reused": false,
         "Legs": false,
         "LandingPad": "nan",
         "Block": 1,
         "ReusedCount": 0,
         "Serial": "B1011",
         "Longitude": -80.577366,
         "Latitude": 28.5618571,
         "_deepnote_index_column": 9
        }
       ]
      },
      "text/plain": "   FlightNumber        Date BoosterVersion  PayloadMass Orbit    LaunchSite  \\\n0             1  2010-06-04       Falcon 9  6104.959412   LEO  CCAFS SLC 40   \n1             2  2012-05-22       Falcon 9   525.000000   LEO  CCAFS SLC 40   \n2             3  2013-03-01       Falcon 9   677.000000   ISS  CCAFS SLC 40   \n3             4  2013-09-29       Falcon 9   500.000000    PO   VAFB SLC 4E   \n4             5  2013-12-03       Falcon 9  3170.000000   GTO  CCAFS SLC 40   \n5             6  2014-01-06       Falcon 9  3325.000000   GTO  CCAFS SLC 40   \n6             7  2014-04-18       Falcon 9  2296.000000   ISS  CCAFS SLC 40   \n7             8  2014-07-14       Falcon 9  1316.000000   LEO  CCAFS SLC 40   \n8             9  2014-08-05       Falcon 9  4535.000000   GTO  CCAFS SLC 40   \n9            10  2014-09-07       Falcon 9  4428.000000   GTO  CCAFS SLC 40   \n\n       Outcome  Flights  GridFins  Reused   Legs LandingPad  Block  \\\n0    None None        1     False   False  False        NaN    1.0   \n1    None None        1     False   False  False        NaN    1.0   \n2    None None        1     False   False  False        NaN    1.0   \n3  False Ocean        1     False   False  False        NaN    1.0   \n4    None None        1     False   False  False        NaN    1.0   \n5    None None        1     False   False  False        NaN    1.0   \n6   True Ocean        1     False   False   True        NaN    1.0   \n7   True Ocean        1     False   False   True        NaN    1.0   \n8    None None        1     False   False  False        NaN    1.0   \n9    None None        1     False   False  False        NaN    1.0   \n\n   ReusedCount Serial   Longitude   Latitude  \n0            0  B0003  -80.577366  28.561857  \n1            0  B0005  -80.577366  28.561857  \n2            0  B0007  -80.577366  28.561857  \n3            0  B1003 -120.610829  34.632093  \n4            0  B1004  -80.577366  28.561857  \n5            0  B1005  -80.577366  28.561857  \n6            0  B1006  -80.577366  28.561857  \n7            0  B1007  -80.577366  28.561857  \n8            0  B1008  -80.577366  28.561857  \n9            0  B1011  -80.577366  28.561857  ",
      "text/html": "<div>\n<style scoped>\n    .dataframe tbody tr th:only-of-type {\n        vertical-align: middle;\n    }\n\n    .dataframe tbody tr th {\n        vertical-align: top;\n    }\n\n    .dataframe thead th {\n        text-align: right;\n    }\n</style>\n<table border=\"1\" class=\"dataframe\">\n  <thead>\n    <tr style=\"text-align: right;\">\n      <th></th>\n      <th>FlightNumber</th>\n      <th>Date</th>\n      <th>BoosterVersion</th>\n      <th>PayloadMass</th>\n      <th>Orbit</th>\n      <th>LaunchSite</th>\n      <th>Outcome</th>\n      <th>Flights</th>\n      <th>GridFins</th>\n      <th>Reused</th>\n      <th>Legs</th>\n      <th>LandingPad</th>\n      <th>Block</th>\n      <th>ReusedCount</th>\n      <th>Serial</th>\n      <th>Longitude</th>\n      <th>Latitude</th>\n    </tr>\n  </thead>\n  <tbody>\n    <tr>\n      <th>0</th>\n      <td>1</td>\n      <td>2010-06-04</td>\n      <td>Falcon 9</td>\n      <td>6104.959412</td>\n      <td>LEO</td>\n      <td>CCAFS SLC 40</td>\n      <td>None None</td>\n      <td>1</td>\n      <td>False</td>\n      <td>False</td>\n      <td>False</td>\n      <td>NaN</td>\n      <td>1.0</td>\n      <td>0</td>\n      <td>B0003</td>\n      <td>-80.577366</td>\n      <td>28.561857</td>\n    </tr>\n    <tr>\n      <th>1</th>\n      <td>2</td>\n      <td>2012-05-22</td>\n      <td>Falcon 9</td>\n      <td>525.000000</td>\n      <td>LEO</td>\n      <td>CCAFS SLC 40</td>\n      <td>None None</td>\n      <td>1</td>\n      <td>False</td>\n      <td>False</td>\n      <td>False</td>\n      <td>NaN</td>\n      <td>1.0</td>\n      <td>0</td>\n      <td>B0005</td>\n      <td>-80.577366</td>\n      <td>28.561857</td>\n    </tr>\n    <tr>\n      <th>2</th>\n      <td>3</td>\n      <td>2013-03-01</td>\n      <td>Falcon 9</td>\n      <td>677.000000</td>\n      <td>ISS</td>\n      <td>CCAFS SLC 40</td>\n      <td>None None</td>\n      <td>1</td>\n      <td>False</td>\n      <td>False</td>\n      <td>False</td>\n      <td>NaN</td>\n      <td>1.0</td>\n      <td>0</td>\n      <td>B0007</td>\n      <td>-80.577366</td>\n      <td>28.561857</td>\n    </tr>\n    <tr>\n      <th>3</th>\n      <td>4</td>\n      <td>2013-09-29</td>\n      <td>Falcon 9</td>\n      <td>500.000000</td>\n      <td>PO</td>\n      <td>VAFB SLC 4E</td>\n      <td>False Ocean</td>\n      <td>1</td>\n      <td>False</td>\n      <td>False</td>\n      <td>False</td>\n      <td>NaN</td>\n      <td>1.0</td>\n      <td>0</td>\n      <td>B1003</td>\n      <td>-120.610829</td>\n      <td>34.632093</td>\n    </tr>\n    <tr>\n      <th>4</th>\n      <td>5</td>\n      <td>2013-12-03</td>\n      <td>Falcon 9</td>\n      <td>3170.000000</td>\n      <td>GTO</td>\n      <td>CCAFS SLC 40</td>\n      <td>None None</td>\n      <td>1</td>\n      <td>False</td>\n      <td>False</td>\n      <td>False</td>\n      <td>NaN</td>\n      <td>1.0</td>\n      <td>0</td>\n      <td>B1004</td>\n      <td>-80.577366</td>\n      <td>28.561857</td>\n    </tr>\n    <tr>\n      <th>5</th>\n      <td>6</td>\n      <td>2014-01-06</td>\n      <td>Falcon 9</td>\n      <td>3325.000000</td>\n      <td>GTO</td>\n      <td>CCAFS SLC 40</td>\n      <td>None None</td>\n      <td>1</td>\n      <td>False</td>\n      <td>False</td>\n      <td>False</td>\n      <td>NaN</td>\n      <td>1.0</td>\n      <td>0</td>\n      <td>B1005</td>\n      <td>-80.577366</td>\n      <td>28.561857</td>\n    </tr>\n    <tr>\n      <th>6</th>\n      <td>7</td>\n      <td>2014-04-18</td>\n      <td>Falcon 9</td>\n      <td>2296.000000</td>\n      <td>ISS</td>\n      <td>CCAFS SLC 40</td>\n      <td>True Ocean</td>\n      <td>1</td>\n      <td>False</td>\n      <td>False</td>\n      <td>True</td>\n      <td>NaN</td>\n      <td>1.0</td>\n      <td>0</td>\n      <td>B1006</td>\n      <td>-80.577366</td>\n      <td>28.561857</td>\n    </tr>\n    <tr>\n      <th>7</th>\n      <td>8</td>\n      <td>2014-07-14</td>\n      <td>Falcon 9</td>\n      <td>1316.000000</td>\n      <td>LEO</td>\n      <td>CCAFS SLC 40</td>\n      <td>True Ocean</td>\n      <td>1</td>\n      <td>False</td>\n      <td>False</td>\n      <td>True</td>\n      <td>NaN</td>\n      <td>1.0</td>\n      <td>0</td>\n      <td>B1007</td>\n      <td>-80.577366</td>\n      <td>28.561857</td>\n    </tr>\n    <tr>\n      <th>8</th>\n      <td>9</td>\n      <td>2014-08-05</td>\n      <td>Falcon 9</td>\n      <td>4535.000000</td>\n      <td>GTO</td>\n      <td>CCAFS SLC 40</td>\n      <td>None None</td>\n      <td>1</td>\n      <td>False</td>\n      <td>False</td>\n      <td>False</td>\n      <td>NaN</td>\n      <td>1.0</td>\n      <td>0</td>\n      <td>B1008</td>\n      <td>-80.577366</td>\n      <td>28.561857</td>\n    </tr>\n    <tr>\n      <th>9</th>\n      <td>10</td>\n      <td>2014-09-07</td>\n      <td>Falcon 9</td>\n      <td>4428.000000</td>\n      <td>GTO</td>\n      <td>CCAFS SLC 40</td>\n      <td>None None</td>\n      <td>1</td>\n      <td>False</td>\n      <td>False</td>\n      <td>False</td>\n      <td>NaN</td>\n      <td>1.0</td>\n      <td>0</td>\n      <td>B1011</td>\n      <td>-80.577366</td>\n      <td>28.561857</td>\n    </tr>\n  </tbody>\n</table>\n</div>"
     },
     "metadata": {}
    }
   ]
  },
  {
   "cell_type": "markdown",
   "source": "Identify and calculate the percentage of the missing values in each attribute\n",
   "metadata": {
    "cell_id": "00018-d32de999-0682-4196-91eb-859b1916fd03",
    "deepnote_cell_type": "markdown",
    "deepnote_cell_height": 52.390625
   }
  },
  {
   "cell_type": "code",
   "metadata": {
    "cell_id": "00019-b4e7a5a9-2253-4a70-bf8e-f58283d17ae4",
    "deepnote_to_be_reexecuted": false,
    "source_hash": "e0803124",
    "execution_start": 1651527358803,
    "execution_millis": 32,
    "deepnote_cell_type": "code",
    "deepnote_cell_height": 444.578125
   },
   "source": "df.isnull().sum()/df.count()*100",
   "execution_count": 3,
   "outputs": [
    {
     "output_type": "execute_result",
     "execution_count": 3,
     "data": {
      "text/plain": "FlightNumber       0.000\nDate               0.000\nBoosterVersion     0.000\nPayloadMass        0.000\nOrbit              0.000\nLaunchSite         0.000\nOutcome            0.000\nFlights            0.000\nGridFins           0.000\nReused             0.000\nLegs               0.000\nLandingPad        40.625\nBlock              0.000\nReusedCount        0.000\nSerial             0.000\nLongitude          0.000\nLatitude           0.000\ndtype: float64"
     },
     "metadata": {}
    }
   ]
  },
  {
   "cell_type": "markdown",
   "source": "Identify which columns are numerical and categorical:\n",
   "metadata": {
    "cell_id": "00020-28083590-0e79-44ec-a647-bd1dc72811d8",
    "deepnote_cell_type": "markdown",
    "deepnote_cell_height": 52.390625
   }
  },
  {
   "cell_type": "code",
   "metadata": {
    "cell_id": "00021-8eaf080f-c48a-4a7c-bc04-f11316bf4eb1",
    "deepnote_to_be_reexecuted": false,
    "source_hash": "52430027",
    "execution_start": 1651527358834,
    "execution_millis": 89,
    "deepnote_cell_type": "code",
    "deepnote_cell_height": 444.578125
   },
   "source": "df.dtypes",
   "execution_count": 4,
   "outputs": [
    {
     "output_type": "execute_result",
     "execution_count": 4,
     "data": {
      "text/plain": "FlightNumber        int64\nDate               object\nBoosterVersion     object\nPayloadMass       float64\nOrbit              object\nLaunchSite         object\nOutcome            object\nFlights             int64\nGridFins             bool\nReused               bool\nLegs                 bool\nLandingPad         object\nBlock             float64\nReusedCount         int64\nSerial             object\nLongitude         float64\nLatitude          float64\ndtype: object"
     },
     "metadata": {}
    }
   ]
  },
  {
   "cell_type": "markdown",
   "source": "### TASK 1: Calculate the number of launches on each site\n\nThe data contains several Space X  launch facilities: <a href='https://en.wikipedia.org/wiki/List_of_Cape_Canaveral_and_Merritt_Island_launch_sites?utm_medium=Exinfluencer&utm_source=Exinfluencer&utm_content=000026UJ&utm_term=10006555&utm_id=NA-SkillsNetwork-Channel-SkillsNetworkCoursesIBMDS0321ENSkillsNetwork26802033-2021-01-01'>Cape Canaveral Space</a> Launch Complex 40  <b>VAFB SLC 4E </b> , Vandenberg Air Force Base Space Launch Complex 4E <b>(SLC-4E)</b>, Kennedy Space Center Launch Complex 39A <b>KSC LC 39A </b>.The location of each Launch Is placed in the column <code>LaunchSite</code>\n",
   "metadata": {
    "cell_id": "00022-5ba790d5-0113-4b92-97e1-f62fbacd6b6d",
    "deepnote_cell_type": "markdown",
    "deepnote_cell_height": 145.1875
   }
  },
  {
   "cell_type": "markdown",
   "source": "Next, let's see the number of launches for each site.\n\nUse the method  <code>value_counts()</code> on the column <code>LaunchSite</code> to determine the number of launches  on each site:\n",
   "metadata": {
    "cell_id": "00023-99aa0da9-be3a-4a58-b3a7-48dc517187dd",
    "deepnote_cell_type": "markdown",
    "deepnote_cell_height": 111.1875
   }
  },
  {
   "cell_type": "code",
   "metadata": {
    "cell_id": "00024-99ec16d2-f574-46cc-a84a-4d7a2f2cec7b",
    "deepnote_to_be_reexecuted": false,
    "source_hash": "861f60d7",
    "execution_start": 1651527358925,
    "execution_millis": 96,
    "deepnote_cell_type": "code",
    "deepnote_cell_height": 193.78125
   },
   "source": "# Apply value_counts() on column LaunchSite\ndf['LaunchSite'].value_counts()",
   "execution_count": 5,
   "outputs": [
    {
     "output_type": "execute_result",
     "execution_count": 5,
     "data": {
      "text/plain": "CCAFS SLC 40    55\nKSC LC 39A      22\nVAFB SLC 4E     13\nName: LaunchSite, dtype: int64"
     },
     "metadata": {}
    }
   ]
  },
  {
   "cell_type": "markdown",
   "source": "Each launch aims to an dedicated orbit, and here are some common orbit types:\n",
   "metadata": {
    "cell_id": "00025-558110fc-5abe-4d1b-893b-38556ea0318a",
    "deepnote_cell_type": "markdown",
    "deepnote_cell_height": 52.390625
   }
  },
  {
   "cell_type": "markdown",
   "source": "*   <b>LEO</b>: Low Earth orbit (LEO)is an Earth-centred orbit with an altitude of 2,000 km (1,200 mi) or less (approximately one-third of the radius of Earth),\\[1] or with at least 11.25 periods per day (an orbital period of 128 minutes or less) and an eccentricity less than 0.25.\\[2] Most of the manmade objects in outer space are in LEO <a href='https://en.wikipedia.org/wiki/Low_Earth_orbit?utm_medium=Exinfluencer&utm_source=Exinfluencer&utm_content=000026UJ&utm_term=10006555&utm_id=NA-SkillsNetwork-Channel-SkillsNetworkCoursesIBMDS0321ENSkillsNetwork26802033-2021-01-01'>\\[1]</a>.\n\n*   <b>VLEO</b>: Very Low Earth Orbits (VLEO) can be defined as the orbits with a mean altitude below 450 km. Operating in these orbits can provide a number of benefits to Earth observation spacecraft as the spacecraft operates closer to the observation<a href='https://www.researchgate.net/publication/271499606_Very_Low_Earth_Orbit_mission_concepts_for_Earth_Observation_Benefits_and_challenges?utm_medium=Exinfluencer&utm_source=Exinfluencer&utm_content=000026UJ&utm_term=10006555&utm_id=NA-SkillsNetwork-Channel-SkillsNetworkCoursesIBMDS0321ENSkillsNetwork26802033-2021-01-01'>\\[2]</a>.\n\n*   <b>GTO</b> A geosynchronous orbit is a high Earth orbit that allows satellites to match Earth's rotation. Located at 22,236 miles (35,786 kilometers) above Earth's equator, this position is a valuable spot for monitoring weather, communications and surveillance. Because the satellite orbits at the same speed that the Earth is turning, the satellite seems to stay in place over a single longitude, though it may drift north to south,” NASA wrote on its Earth Observatory website <a  href=\"https://www.space.com/29222-geosynchronous-orbit.html?utm_medium=Exinfluencer&utm_source=Exinfluencer&utm_content=000026UJ&utm_term=10006555&utm_id=NA-SkillsNetwork-Channel-SkillsNetworkCoursesIBMDS0321ENSkillsNetwork26802033-2021-01-01\" >\\[3] </a>.\n\n*   <b>SSO (or SO)</b>: It is a Sun-synchronous orbit  also called a heliosynchronous orbit is a nearly polar orbit around a planet, in which the satellite passes over any given point of the planet's surface at the same local mean solar time <a href=\"https://en.wikipedia.org/wiki/Sun-synchronous_orbit?utm_medium=Exinfluencer&utm_source=Exinfluencer&utm_content=000026UJ&utm_term=10006555&utm_id=NA-SkillsNetwork-Channel-SkillsNetworkCoursesIBMDS0321ENSkillsNetwork26802033-2021-01-01\">\\[4] <a>.\n\n*   <b>ES-L1 </b>:At the Lagrange points the gravitational forces of the two large bodies cancel out in such a way that a small object placed in orbit there is in equilibrium relative to the center of mass of the large bodies. L1 is one such point between the sun and the earth <a href=\"https://en.wikipedia.org/wiki/Lagrange_point?utm_medium=Exinfluencer&utm_source=Exinfluencer&utm_content=000026UJ&utm_term=10006555&utm_id=NA-SkillsNetwork-Channel-SkillsNetworkCoursesIBMDS0321ENSkillsNetwork26802033-2021-01-01#L1_point\">\\[5]</a> .\n\n*   <b>HEO</b> A highly elliptical orbit, is an elliptic orbit with high eccentricity, usually referring to one around Earth <a href=\"https://en.wikipedia.org/wiki/Highly_elliptical_orbit?utm_medium=Exinfluencer&utm_source=Exinfluencer&utm_content=000026UJ&utm_term=10006555&utm_id=NA-SkillsNetwork-Channel-SkillsNetworkCoursesIBMDS0321ENSkillsNetwork26802033-2021-01-01\">\\[6]</a>.\n\n*   <b> ISS </b> A modular space station (habitable artificial satellite) in low Earth orbit. It is a multinational collaborative project between five participating space agencies: NASA (United States), Roscosmos (Russia), JAXA (Japan), ESA (Europe), and CSA (Canada)<a href=\"https://en.wikipedia.org/wiki/International_Space_Station?utm_medium=Exinfluencer&utm_source=Exinfluencer&utm_content=000026UJ&utm_term=10006555&utm_id=NA-SkillsNetwork-Channel-SkillsNetworkCoursesIBMDS0321ENSkillsNetwork26802033-2021-01-01\"> \\[7] </a>\n\n*   <b> MEO </b> Geocentric orbits ranging in altitude from 2,000 km (1,200 mi) to just below geosynchronous orbit at 35,786 kilometers (22,236 mi). Also known as an intermediate circular orbit. These are \"most commonly at 20,200 kilometers (12,600 mi), or 20,650 kilometers (12,830 mi), with an orbital period of 12 hours <a href=\"https://en.wikipedia.org/wiki/List_of_orbits?utm_medium=Exinfluencer&utm_source=Exinfluencer&utm_content=000026UJ&utm_term=10006555&utm_id=NA-SkillsNetwork-Channel-SkillsNetworkCoursesIBMDS0321ENSkillsNetwork26802033-2021-01-01\"> \\[8] </a>\n\n*   <b> HEO </b> Geocentric orbits above the altitude of geosynchronous orbit (35,786 km or 22,236 mi) <a href=\"https://en.wikipedia.org/wiki/List_of_orbits?utm_medium=Exinfluencer&utm_source=Exinfluencer&utm_content=000026UJ&utm_term=10006555&utm_id=NA-SkillsNetwork-Channel-SkillsNetworkCoursesIBMDS0321ENSkillsNetwork26802033-2021-01-01\"> \\[9] </a>\n\n*   <b> GEO </b> It is a circular geosynchronous orbit 35,786 kilometres (22,236 miles) above Earth's equator and following the direction of Earth's rotation <a href=\"https://en.wikipedia.org/wiki/Geostationary_orbit?utm_medium=Exinfluencer&utm_source=Exinfluencer&utm_content=000026UJ&utm_term=10006555&utm_id=NA-SkillsNetwork-Channel-SkillsNetworkCoursesIBMDS0321ENSkillsNetwork26802033-2021-01-01\"> \\[10] </a>\n\n*   <b> PO </b> It is one type of satellites in which a satellite passes above or nearly above both poles of the body being orbited (usually a planet such as the Earth <a href=\"https://en.wikipedia.org/wiki/Polar_orbit?utm_medium=Exinfluencer&utm_source=Exinfluencer&utm_content=000026UJ&utm_term=10006555&utm_id=NA-SkillsNetwork-Channel-SkillsNetworkCoursesIBMDS0321ENSkillsNetwork26802033-2021-01-01\"> \\[11] </a>\n\nsome are shown in the following plot:\n",
   "metadata": {
    "cell_id": "00026-078a85e9-66e1-4d73-b4a5-df4b38792867",
    "deepnote_cell_type": "markdown",
    "deepnote_cell_height": 793.796875
   }
  },
  {
   "cell_type": "markdown",
   "source": "![](https://cf-courses-data.s3.us.cloud-object-storage.appdomain.cloud/IBMDeveloperSkillsNetwork-DS0701EN-SkillsNetwork/api/Images/Orbits.png)\n",
   "metadata": {
    "cell_id": "00027-c4062415-b198-4c02-8c5b-0eb4c31b13fa",
    "deepnote_cell_type": "markdown",
    "deepnote_cell_height": 554.953125
   }
  },
  {
   "cell_type": "markdown",
   "source": "### TASK 2: Calculate the number and occurrence of each orbit\n",
   "metadata": {
    "cell_id": "00028-add05c4b-e216-4ea8-b244-90d052b362e5",
    "deepnote_cell_type": "markdown",
    "deepnote_cell_height": 62
   }
  },
  {
   "cell_type": "markdown",
   "source": "Use the method  <code>.value_counts()</code> to determine the number and occurrence of each orbit in the  column <code>Orbit</code>\n",
   "metadata": {
    "cell_id": "00029-df2355f5-ba6c-4eae-89bc-3b61f369ac69",
    "deepnote_cell_type": "markdown",
    "deepnote_cell_height": 74.796875
   }
  },
  {
   "cell_type": "code",
   "metadata": {
    "cell_id": "00030-41d309a5-62d3-4f12-97a0-129a92780c40",
    "deepnote_to_be_reexecuted": false,
    "source_hash": "9a33241d",
    "execution_start": 1651527359065,
    "execution_millis": 146,
    "deepnote_cell_type": "code",
    "deepnote_cell_height": 365.375,
    "deepnote_output_heights": [
     232.390625
    ]
   },
   "source": "# Apply value_counts on Orbit column\n\ndf['Orbit'].value_counts()",
   "execution_count": 6,
   "outputs": [
    {
     "output_type": "execute_result",
     "execution_count": 6,
     "data": {
      "text/plain": "GTO      27\nISS      21\nVLEO     14\nPO        9\nLEO       7\nSSO       5\nMEO       3\nSO        1\nHEO       1\nGEO       1\nES-L1     1\nName: Orbit, dtype: int64"
     },
     "metadata": {}
    }
   ]
  },
  {
   "cell_type": "markdown",
   "source": "### TASK 3: Calculate the number and occurence of mission outcome per orbit type\n",
   "metadata": {
    "cell_id": "00031-838c4a84-e9e9-47a8-be0c-05f511bc3eb3",
    "deepnote_cell_type": "markdown",
    "deepnote_cell_height": 94
   }
  },
  {
   "cell_type": "markdown",
   "source": "Use the method <code>.value_counts()</code> on the column <code>Outcome</code> to determine the number of <code>landing_outcomes</code>.Then assign it to a variable landing_outcomes.\n",
   "metadata": {
    "cell_id": "00032-428f3ae9-8f9a-458f-ac6d-418564fd384a",
    "deepnote_cell_type": "markdown",
    "deepnote_cell_height": 74.796875
   }
  },
  {
   "cell_type": "code",
   "metadata": {
    "cell_id": "00033-6c96ee29-97bc-41b4-b8cb-2a437d7b2c00",
    "deepnote_to_be_reexecuted": false,
    "source_hash": "345783be",
    "execution_start": 1651527359210,
    "execution_millis": 120,
    "owner_user_id": "426e2894-84b4-4ddc-9822-54c090a83c57",
    "deepnote_cell_type": "code",
    "deepnote_cell_height": 307.78125,
    "deepnote_output_heights": [
     174.796875
    ]
   },
   "source": "# landing_outcomes = values on Outcome column\nlanding_outcomes = df['Outcome'].value_counts()\nlanding_outcomes",
   "execution_count": 7,
   "outputs": [
    {
     "output_type": "execute_result",
     "execution_count": 7,
     "data": {
      "text/plain": "True ASDS      41\nNone None      19\nTrue RTLS      14\nFalse ASDS      6\nTrue Ocean      5\nFalse Ocean     2\nNone ASDS       2\nFalse RTLS      1\nName: Outcome, dtype: int64"
     },
     "metadata": {}
    }
   ]
  },
  {
   "cell_type": "markdown",
   "source": "<code>True Ocean</code> means the mission outcome was successfully  landed to a specific region of the ocean while <code>False Ocean</code> means the mission outcome was unsuccessfully landed to a specific region of the ocean. <code>True RTLS</code> means the mission outcome was successfully  landed to a ground pad <code>False RTLS</code> means the mission outcome was unsuccessfully landed to a ground pad.<code>True ASDS</code> means the mission outcome was successfully  landed to a drone ship <code>False ASDS</code> means the mission outcome was unsuccessfully landed to a drone ship. <code>None ASDS</code> and <code>None None</code> these represent a failure to land.\n",
   "metadata": {
    "cell_id": "00034-1582d549-7577-4bc5-b616-6368706675be",
    "deepnote_cell_type": "markdown",
    "deepnote_cell_height": 164.390625
   }
  },
  {
   "cell_type": "code",
   "metadata": {
    "cell_id": "00035-7e37a112-54db-4db8-a497-d070430ebfd3",
    "deepnote_to_be_reexecuted": false,
    "source_hash": "5301e235",
    "execution_start": 1651527359327,
    "execution_millis": 112,
    "deepnote_cell_type": "code",
    "deepnote_cell_height": 270
   },
   "source": "for i,outcome in enumerate(landing_outcomes.keys()):\n    print(i,outcome)",
   "execution_count": 8,
   "outputs": [
    {
     "name": "stdout",
     "text": "0 True ASDS\n1 None None\n2 True RTLS\n3 False ASDS\n4 True Ocean\n5 False Ocean\n6 None ASDS\n7 False RTLS\n",
     "output_type": "stream"
    }
   ]
  },
  {
   "cell_type": "markdown",
   "source": "We create a set of outcomes where the second stage did not land successfully:\n",
   "metadata": {
    "cell_id": "00036-aec20988-8880-49af-ad6d-9549c507948b",
    "deepnote_cell_type": "markdown",
    "deepnote_cell_height": 52.390625
   }
  },
  {
   "cell_type": "code",
   "metadata": {
    "cell_id": "00037-6d408ca4-4135-458a-bee9-4bd0152deed3",
    "deepnote_to_be_reexecuted": false,
    "source_hash": "64fd226b",
    "execution_start": 1651527359439,
    "execution_millis": 144,
    "deepnote_cell_type": "code",
    "deepnote_cell_height": 136.1875,
    "deepnote_output_heights": [
     21.1875
    ]
   },
   "source": "bad_outcomes=set(landing_outcomes.keys()[[1,3,5,6,7]])\nbad_outcomes",
   "execution_count": 9,
   "outputs": [
    {
     "output_type": "execute_result",
     "execution_count": 9,
     "data": {
      "text/plain": "{'False ASDS', 'False Ocean', 'False RTLS', 'None ASDS', 'None None'}"
     },
     "metadata": {}
    }
   ]
  },
  {
   "cell_type": "markdown",
   "source": "### TASK 4: Create a landing outcome label from Outcome column\n",
   "metadata": {
    "cell_id": "00038-ed03cec0-1edf-47a8-890f-d08e7fcba67a",
    "deepnote_cell_type": "markdown",
    "deepnote_cell_height": 62
   }
  },
  {
   "cell_type": "markdown",
   "source": "Using the <code>Outcome</code>,  create a list where the element is zero if the corresponding  row  in  <code>Outcome</code> is in the set <code>bad_outcome</code>; otherwise, it's one. Then assign it to the variable <code>landing_class</code>:\n",
   "metadata": {
    "cell_id": "00039-5cf3c273-0e44-4f50-a5c9-accc8312ec2a",
    "deepnote_cell_type": "markdown",
    "deepnote_cell_height": 74.796875
   }
  },
  {
   "cell_type": "code",
   "metadata": {
    "cell_id": "00040-a78513e8-a85f-42cf-9dbf-f151f7d6f4dc",
    "deepnote_to_be_reexecuted": false,
    "source_hash": "5e707f20",
    "execution_start": 1651527359628,
    "execution_millis": 144,
    "deepnote_cell_type": "code",
    "deepnote_cell_height": 279
   },
   "source": "# landing_class = 0 if bad_outcome\n# landing_class = 1 otherwise\nlanding_class = []\ni = 0\nfor i in range(len(df)):\n    if df.loc[i,'Outcome'] in bad_outcomes:\n        landing_class.append(0)\n    else:\n        landing_class.append(1)\n    i += 1\n\n",
   "execution_count": 10,
   "outputs": []
  },
  {
   "cell_type": "markdown",
   "source": "This variable will represent the classification variable that represents the outcome of each launch. If the value is zero, the  first stage did not land successfully; one means  the first stage landed Successfully\n",
   "metadata": {
    "cell_id": "00041-72b97dff-13e7-44e0-9614-bf08d56c8a62",
    "deepnote_cell_type": "markdown",
    "deepnote_cell_height": 74.796875
   }
  },
  {
   "cell_type": "code",
   "metadata": {
    "cell_id": "00042-59c85abb-edee-47b9-b550-6fbc4e3ed059",
    "deepnote_to_be_reexecuted": false,
    "source_hash": "41e67746",
    "execution_start": 1651527359772,
    "execution_millis": 218,
    "deepnote_cell_type": "code",
    "deepnote_cell_height": 536
   },
   "source": "df['Class']=landing_class\ndf[['Class']].head(8)",
   "execution_count": 11,
   "outputs": [
    {
     "output_type": "execute_result",
     "execution_count": 11,
     "data": {
      "application/vnd.deepnote.dataframe.v3+json": {
       "column_count": 1,
       "row_count": 8,
       "columns": [
        {
         "name": "Class",
         "dtype": "int64",
         "stats": {
          "unique_count": 2,
          "nan_count": 0,
          "min": "0",
          "max": "1",
          "histogram": [
           {
            "bin_start": 0,
            "bin_end": 0.1,
            "count": 6
           },
           {
            "bin_start": 0.1,
            "bin_end": 0.2,
            "count": 0
           },
           {
            "bin_start": 0.2,
            "bin_end": 0.30000000000000004,
            "count": 0
           },
           {
            "bin_start": 0.30000000000000004,
            "bin_end": 0.4,
            "count": 0
           },
           {
            "bin_start": 0.4,
            "bin_end": 0.5,
            "count": 0
           },
           {
            "bin_start": 0.5,
            "bin_end": 0.6000000000000001,
            "count": 0
           },
           {
            "bin_start": 0.6000000000000001,
            "bin_end": 0.7000000000000001,
            "count": 0
           },
           {
            "bin_start": 0.7000000000000001,
            "bin_end": 0.8,
            "count": 0
           },
           {
            "bin_start": 0.8,
            "bin_end": 0.9,
            "count": 0
           },
           {
            "bin_start": 0.9,
            "bin_end": 1,
            "count": 2
           }
          ]
         }
        },
        {
         "name": "_deepnote_index_column",
         "dtype": "int64"
        }
       ],
       "rows": [
        {
         "Class": 0,
         "_deepnote_index_column": 0
        },
        {
         "Class": 0,
         "_deepnote_index_column": 1
        },
        {
         "Class": 0,
         "_deepnote_index_column": 2
        },
        {
         "Class": 0,
         "_deepnote_index_column": 3
        },
        {
         "Class": 0,
         "_deepnote_index_column": 4
        },
        {
         "Class": 0,
         "_deepnote_index_column": 5
        },
        {
         "Class": 1,
         "_deepnote_index_column": 6
        },
        {
         "Class": 1,
         "_deepnote_index_column": 7
        }
       ]
      },
      "text/plain": "   Class\n0      0\n1      0\n2      0\n3      0\n4      0\n5      0\n6      1\n7      1",
      "text/html": "<div>\n<style scoped>\n    .dataframe tbody tr th:only-of-type {\n        vertical-align: middle;\n    }\n\n    .dataframe tbody tr th {\n        vertical-align: top;\n    }\n\n    .dataframe thead th {\n        text-align: right;\n    }\n</style>\n<table border=\"1\" class=\"dataframe\">\n  <thead>\n    <tr style=\"text-align: right;\">\n      <th></th>\n      <th>Class</th>\n    </tr>\n  </thead>\n  <tbody>\n    <tr>\n      <th>0</th>\n      <td>0</td>\n    </tr>\n    <tr>\n      <th>1</th>\n      <td>0</td>\n    </tr>\n    <tr>\n      <th>2</th>\n      <td>0</td>\n    </tr>\n    <tr>\n      <th>3</th>\n      <td>0</td>\n    </tr>\n    <tr>\n      <th>4</th>\n      <td>0</td>\n    </tr>\n    <tr>\n      <th>5</th>\n      <td>0</td>\n    </tr>\n    <tr>\n      <th>6</th>\n      <td>1</td>\n    </tr>\n    <tr>\n      <th>7</th>\n      <td>1</td>\n    </tr>\n  </tbody>\n</table>\n</div>"
     },
     "metadata": {}
    }
   ]
  },
  {
   "cell_type": "code",
   "metadata": {
    "cell_id": "00043-e11c7aa7-e128-49f4-9b93-4eebe26d093a",
    "deepnote_to_be_reexecuted": false,
    "source_hash": "245876d0",
    "execution_start": 1651527359989,
    "execution_millis": 233,
    "deepnote_cell_type": "code",
    "deepnote_cell_height": 408.59375
   },
   "source": "df.head(5)",
   "execution_count": 12,
   "outputs": [
    {
     "output_type": "execute_result",
     "execution_count": 12,
     "data": {
      "application/vnd.deepnote.dataframe.v3+json": {
       "column_count": 18,
       "row_count": 5,
       "columns": [
        {
         "name": "FlightNumber",
         "dtype": "int64",
         "stats": {
          "unique_count": 5,
          "nan_count": 0,
          "min": "1",
          "max": "5",
          "histogram": [
           {
            "bin_start": 1,
            "bin_end": 1.4,
            "count": 1
           },
           {
            "bin_start": 1.4,
            "bin_end": 1.8,
            "count": 0
           },
           {
            "bin_start": 1.8,
            "bin_end": 2.2,
            "count": 1
           },
           {
            "bin_start": 2.2,
            "bin_end": 2.6,
            "count": 0
           },
           {
            "bin_start": 2.6,
            "bin_end": 3,
            "count": 0
           },
           {
            "bin_start": 3,
            "bin_end": 3.4000000000000004,
            "count": 1
           },
           {
            "bin_start": 3.4000000000000004,
            "bin_end": 3.8000000000000003,
            "count": 0
           },
           {
            "bin_start": 3.8000000000000003,
            "bin_end": 4.2,
            "count": 1
           },
           {
            "bin_start": 4.2,
            "bin_end": 4.6,
            "count": 0
           },
           {
            "bin_start": 4.6,
            "bin_end": 5,
            "count": 1
           }
          ]
         }
        },
        {
         "name": "Date",
         "dtype": "object",
         "stats": {
          "unique_count": 5,
          "nan_count": 0,
          "categories": [
           {
            "name": "2010-06-04",
            "count": 1
           },
           {
            "name": "2012-05-22",
            "count": 1
           },
           {
            "name": "3 others",
            "count": 3
           }
          ]
         }
        },
        {
         "name": "BoosterVersion",
         "dtype": "object",
         "stats": {
          "unique_count": 1,
          "nan_count": 0,
          "categories": [
           {
            "name": "Falcon 9",
            "count": 5
           }
          ]
         }
        },
        {
         "name": "PayloadMass",
         "dtype": "float64",
         "stats": {
          "unique_count": 5,
          "nan_count": 0,
          "min": "500.0",
          "max": "6104.959411764706",
          "histogram": [
           {
            "bin_start": 500,
            "bin_end": 1060.4959411764705,
            "count": 3
           },
           {
            "bin_start": 1060.4959411764705,
            "bin_end": 1620.991882352941,
            "count": 0
           },
           {
            "bin_start": 1620.991882352941,
            "bin_end": 2181.487823529412,
            "count": 0
           },
           {
            "bin_start": 2181.487823529412,
            "bin_end": 2741.983764705882,
            "count": 0
           },
           {
            "bin_start": 2741.983764705882,
            "bin_end": 3302.4797058823524,
            "count": 1
           },
           {
            "bin_start": 3302.4797058823524,
            "bin_end": 3862.975647058823,
            "count": 0
           },
           {
            "bin_start": 3862.975647058823,
            "bin_end": 4423.471588235294,
            "count": 0
           },
           {
            "bin_start": 4423.471588235294,
            "bin_end": 4983.967529411764,
            "count": 0
           },
           {
            "bin_start": 4983.967529411764,
            "bin_end": 5544.4634705882345,
            "count": 0
           },
           {
            "bin_start": 5544.4634705882345,
            "bin_end": 6104.959411764706,
            "count": 1
           }
          ]
         }
        },
        {
         "name": "Orbit",
         "dtype": "object",
         "stats": {
          "unique_count": 4,
          "nan_count": 0,
          "categories": [
           {
            "name": "LEO",
            "count": 2
           },
           {
            "name": "ISS",
            "count": 1
           },
           {
            "name": "2 others",
            "count": 2
           }
          ]
         }
        },
        {
         "name": "LaunchSite",
         "dtype": "object",
         "stats": {
          "unique_count": 2,
          "nan_count": 0,
          "categories": [
           {
            "name": "CCAFS SLC 40",
            "count": 4
           },
           {
            "name": "VAFB SLC 4E",
            "count": 1
           }
          ]
         }
        },
        {
         "name": "Outcome",
         "dtype": "object",
         "stats": {
          "unique_count": 2,
          "nan_count": 0,
          "categories": [
           {
            "name": "None None",
            "count": 4
           },
           {
            "name": "False Ocean",
            "count": 1
           }
          ]
         }
        },
        {
         "name": "Flights",
         "dtype": "int64",
         "stats": {
          "unique_count": 1,
          "nan_count": 0,
          "min": "1",
          "max": "1",
          "histogram": [
           {
            "bin_start": 0.5,
            "bin_end": 0.6,
            "count": 0
           },
           {
            "bin_start": 0.6,
            "bin_end": 0.7,
            "count": 0
           },
           {
            "bin_start": 0.7,
            "bin_end": 0.8,
            "count": 0
           },
           {
            "bin_start": 0.8,
            "bin_end": 0.9,
            "count": 0
           },
           {
            "bin_start": 0.9,
            "bin_end": 1,
            "count": 0
           },
           {
            "bin_start": 1,
            "bin_end": 1.1,
            "count": 5
           },
           {
            "bin_start": 1.1,
            "bin_end": 1.2000000000000002,
            "count": 0
           },
           {
            "bin_start": 1.2000000000000002,
            "bin_end": 1.3,
            "count": 0
           },
           {
            "bin_start": 1.3,
            "bin_end": 1.4,
            "count": 0
           },
           {
            "bin_start": 1.4,
            "bin_end": 1.5,
            "count": 0
           }
          ]
         }
        },
        {
         "name": "GridFins",
         "dtype": "bool",
         "stats": {
          "unique_count": 1,
          "nan_count": 0,
          "categories": [
           {
            "name": "False",
            "count": 5
           }
          ]
         }
        },
        {
         "name": "Reused",
         "dtype": "bool",
         "stats": {
          "unique_count": 1,
          "nan_count": 0,
          "categories": [
           {
            "name": "False",
            "count": 5
           }
          ]
         }
        },
        {
         "name": "Legs",
         "dtype": "bool",
         "stats": {
          "unique_count": 1,
          "nan_count": 0,
          "categories": [
           {
            "name": "False",
            "count": 5
           }
          ]
         }
        },
        {
         "name": "LandingPad",
         "dtype": "object",
         "stats": {
          "unique_count": 0,
          "nan_count": 5,
          "categories": [
           {
            "name": "Missing",
            "count": 5
           }
          ]
         }
        },
        {
         "name": "Block",
         "dtype": "float64",
         "stats": {
          "unique_count": 1,
          "nan_count": 0,
          "min": "1.0",
          "max": "1.0",
          "histogram": [
           {
            "bin_start": 0.5,
            "bin_end": 0.6,
            "count": 0
           },
           {
            "bin_start": 0.6,
            "bin_end": 0.7,
            "count": 0
           },
           {
            "bin_start": 0.7,
            "bin_end": 0.8,
            "count": 0
           },
           {
            "bin_start": 0.8,
            "bin_end": 0.9,
            "count": 0
           },
           {
            "bin_start": 0.9,
            "bin_end": 1,
            "count": 0
           },
           {
            "bin_start": 1,
            "bin_end": 1.1,
            "count": 5
           },
           {
            "bin_start": 1.1,
            "bin_end": 1.2000000000000002,
            "count": 0
           },
           {
            "bin_start": 1.2000000000000002,
            "bin_end": 1.3,
            "count": 0
           },
           {
            "bin_start": 1.3,
            "bin_end": 1.4,
            "count": 0
           },
           {
            "bin_start": 1.4,
            "bin_end": 1.5,
            "count": 0
           }
          ]
         }
        },
        {
         "name": "ReusedCount",
         "dtype": "int64",
         "stats": {
          "unique_count": 1,
          "nan_count": 0,
          "min": "0",
          "max": "0",
          "histogram": [
           {
            "bin_start": -0.5,
            "bin_end": -0.4,
            "count": 0
           },
           {
            "bin_start": -0.4,
            "bin_end": -0.3,
            "count": 0
           },
           {
            "bin_start": -0.3,
            "bin_end": -0.19999999999999996,
            "count": 0
           },
           {
            "bin_start": -0.19999999999999996,
            "bin_end": -0.09999999999999998,
            "count": 0
           },
           {
            "bin_start": -0.09999999999999998,
            "bin_end": 0,
            "count": 0
           },
           {
            "bin_start": 0,
            "bin_end": 0.10000000000000009,
            "count": 5
           },
           {
            "bin_start": 0.10000000000000009,
            "bin_end": 0.20000000000000007,
            "count": 0
           },
           {
            "bin_start": 0.20000000000000007,
            "bin_end": 0.30000000000000004,
            "count": 0
           },
           {
            "bin_start": 0.30000000000000004,
            "bin_end": 0.4,
            "count": 0
           },
           {
            "bin_start": 0.4,
            "bin_end": 0.5,
            "count": 0
           }
          ]
         }
        },
        {
         "name": "Serial",
         "dtype": "object",
         "stats": {
          "unique_count": 5,
          "nan_count": 0,
          "categories": [
           {
            "name": "B0003",
            "count": 1
           },
           {
            "name": "B0005",
            "count": 1
           },
           {
            "name": "3 others",
            "count": 3
           }
          ]
         }
        },
        {
         "name": "Longitude",
         "dtype": "float64",
         "stats": {
          "unique_count": 2,
          "nan_count": 0,
          "min": "-120.610829",
          "max": "-80.577366",
          "histogram": [
           {
            "bin_start": -120.610829,
            "bin_end": -116.60748269999999,
            "count": 1
           },
           {
            "bin_start": -116.60748269999999,
            "bin_end": -112.6041364,
            "count": 0
           },
           {
            "bin_start": -112.6041364,
            "bin_end": -108.6007901,
            "count": 0
           },
           {
            "bin_start": -108.6007901,
            "bin_end": -104.5974438,
            "count": 0
           },
           {
            "bin_start": -104.5974438,
            "bin_end": -100.5940975,
            "count": 0
           },
           {
            "bin_start": -100.5940975,
            "bin_end": -96.5907512,
            "count": 0
           },
           {
            "bin_start": -96.5907512,
            "bin_end": -92.5874049,
            "count": 0
           },
           {
            "bin_start": -92.5874049,
            "bin_end": -88.58405859999999,
            "count": 0
           },
           {
            "bin_start": -88.58405859999999,
            "bin_end": -84.5807123,
            "count": 0
           },
           {
            "bin_start": -84.5807123,
            "bin_end": -80.577366,
            "count": 4
           }
          ]
         }
        },
        {
         "name": "Latitude",
         "dtype": "float64",
         "stats": {
          "unique_count": 2,
          "nan_count": 0,
          "min": "28.5618571",
          "max": "34.632093",
          "histogram": [
           {
            "bin_start": 28.5618571,
            "bin_end": 29.16888069,
            "count": 4
           },
           {
            "bin_start": 29.16888069,
            "bin_end": 29.77590428,
            "count": 0
           },
           {
            "bin_start": 29.77590428,
            "bin_end": 30.38292787,
            "count": 0
           },
           {
            "bin_start": 30.38292787,
            "bin_end": 30.98995146,
            "count": 0
           },
           {
            "bin_start": 30.98995146,
            "bin_end": 31.596975049999998,
            "count": 0
           },
           {
            "bin_start": 31.596975049999998,
            "bin_end": 32.20399864,
            "count": 0
           },
           {
            "bin_start": 32.20399864,
            "bin_end": 32.81102223,
            "count": 0
           },
           {
            "bin_start": 32.81102223,
            "bin_end": 33.418045819999996,
            "count": 0
           },
           {
            "bin_start": 33.418045819999996,
            "bin_end": 34.02506941,
            "count": 0
           },
           {
            "bin_start": 34.02506941,
            "bin_end": 34.632093,
            "count": 1
           }
          ]
         }
        },
        {
         "name": "Class",
         "dtype": "int64",
         "stats": {
          "unique_count": 1,
          "nan_count": 0,
          "min": "0",
          "max": "0",
          "histogram": [
           {
            "bin_start": -0.5,
            "bin_end": -0.4,
            "count": 0
           },
           {
            "bin_start": -0.4,
            "bin_end": -0.3,
            "count": 0
           },
           {
            "bin_start": -0.3,
            "bin_end": -0.19999999999999996,
            "count": 0
           },
           {
            "bin_start": -0.19999999999999996,
            "bin_end": -0.09999999999999998,
            "count": 0
           },
           {
            "bin_start": -0.09999999999999998,
            "bin_end": 0,
            "count": 0
           },
           {
            "bin_start": 0,
            "bin_end": 0.10000000000000009,
            "count": 5
           },
           {
            "bin_start": 0.10000000000000009,
            "bin_end": 0.20000000000000007,
            "count": 0
           },
           {
            "bin_start": 0.20000000000000007,
            "bin_end": 0.30000000000000004,
            "count": 0
           },
           {
            "bin_start": 0.30000000000000004,
            "bin_end": 0.4,
            "count": 0
           },
           {
            "bin_start": 0.4,
            "bin_end": 0.5,
            "count": 0
           }
          ]
         }
        },
        {
         "name": "_deepnote_index_column",
         "dtype": "int64"
        }
       ],
       "rows": [
        {
         "FlightNumber": 1,
         "Date": "2010-06-04",
         "BoosterVersion": "Falcon 9",
         "PayloadMass": 6104.959411764706,
         "Orbit": "LEO",
         "LaunchSite": "CCAFS SLC 40",
         "Outcome": "None None",
         "Flights": 1,
         "GridFins": false,
         "Reused": false,
         "Legs": false,
         "LandingPad": "nan",
         "Block": 1,
         "ReusedCount": 0,
         "Serial": "B0003",
         "Longitude": -80.577366,
         "Latitude": 28.5618571,
         "Class": 0,
         "_deepnote_index_column": 0
        },
        {
         "FlightNumber": 2,
         "Date": "2012-05-22",
         "BoosterVersion": "Falcon 9",
         "PayloadMass": 525,
         "Orbit": "LEO",
         "LaunchSite": "CCAFS SLC 40",
         "Outcome": "None None",
         "Flights": 1,
         "GridFins": false,
         "Reused": false,
         "Legs": false,
         "LandingPad": "nan",
         "Block": 1,
         "ReusedCount": 0,
         "Serial": "B0005",
         "Longitude": -80.577366,
         "Latitude": 28.5618571,
         "Class": 0,
         "_deepnote_index_column": 1
        },
        {
         "FlightNumber": 3,
         "Date": "2013-03-01",
         "BoosterVersion": "Falcon 9",
         "PayloadMass": 677,
         "Orbit": "ISS",
         "LaunchSite": "CCAFS SLC 40",
         "Outcome": "None None",
         "Flights": 1,
         "GridFins": false,
         "Reused": false,
         "Legs": false,
         "LandingPad": "nan",
         "Block": 1,
         "ReusedCount": 0,
         "Serial": "B0007",
         "Longitude": -80.577366,
         "Latitude": 28.5618571,
         "Class": 0,
         "_deepnote_index_column": 2
        },
        {
         "FlightNumber": 4,
         "Date": "2013-09-29",
         "BoosterVersion": "Falcon 9",
         "PayloadMass": 500,
         "Orbit": "PO",
         "LaunchSite": "VAFB SLC 4E",
         "Outcome": "False Ocean",
         "Flights": 1,
         "GridFins": false,
         "Reused": false,
         "Legs": false,
         "LandingPad": "nan",
         "Block": 1,
         "ReusedCount": 0,
         "Serial": "B1003",
         "Longitude": -120.610829,
         "Latitude": 34.632093,
         "Class": 0,
         "_deepnote_index_column": 3
        },
        {
         "FlightNumber": 5,
         "Date": "2013-12-03",
         "BoosterVersion": "Falcon 9",
         "PayloadMass": 3170,
         "Orbit": "GTO",
         "LaunchSite": "CCAFS SLC 40",
         "Outcome": "None None",
         "Flights": 1,
         "GridFins": false,
         "Reused": false,
         "Legs": false,
         "LandingPad": "nan",
         "Block": 1,
         "ReusedCount": 0,
         "Serial": "B1004",
         "Longitude": -80.577366,
         "Latitude": 28.5618571,
         "Class": 0,
         "_deepnote_index_column": 4
        }
       ]
      },
      "text/plain": "   FlightNumber        Date BoosterVersion  PayloadMass Orbit    LaunchSite  \\\n0             1  2010-06-04       Falcon 9  6104.959412   LEO  CCAFS SLC 40   \n1             2  2012-05-22       Falcon 9   525.000000   LEO  CCAFS SLC 40   \n2             3  2013-03-01       Falcon 9   677.000000   ISS  CCAFS SLC 40   \n3             4  2013-09-29       Falcon 9   500.000000    PO   VAFB SLC 4E   \n4             5  2013-12-03       Falcon 9  3170.000000   GTO  CCAFS SLC 40   \n\n       Outcome  Flights  GridFins  Reused   Legs LandingPad  Block  \\\n0    None None        1     False   False  False        NaN    1.0   \n1    None None        1     False   False  False        NaN    1.0   \n2    None None        1     False   False  False        NaN    1.0   \n3  False Ocean        1     False   False  False        NaN    1.0   \n4    None None        1     False   False  False        NaN    1.0   \n\n   ReusedCount Serial   Longitude   Latitude  Class  \n0            0  B0003  -80.577366  28.561857      0  \n1            0  B0005  -80.577366  28.561857      0  \n2            0  B0007  -80.577366  28.561857      0  \n3            0  B1003 -120.610829  34.632093      0  \n4            0  B1004  -80.577366  28.561857      0  ",
      "text/html": "<div>\n<style scoped>\n    .dataframe tbody tr th:only-of-type {\n        vertical-align: middle;\n    }\n\n    .dataframe tbody tr th {\n        vertical-align: top;\n    }\n\n    .dataframe thead th {\n        text-align: right;\n    }\n</style>\n<table border=\"1\" class=\"dataframe\">\n  <thead>\n    <tr style=\"text-align: right;\">\n      <th></th>\n      <th>FlightNumber</th>\n      <th>Date</th>\n      <th>BoosterVersion</th>\n      <th>PayloadMass</th>\n      <th>Orbit</th>\n      <th>LaunchSite</th>\n      <th>Outcome</th>\n      <th>Flights</th>\n      <th>GridFins</th>\n      <th>Reused</th>\n      <th>Legs</th>\n      <th>LandingPad</th>\n      <th>Block</th>\n      <th>ReusedCount</th>\n      <th>Serial</th>\n      <th>Longitude</th>\n      <th>Latitude</th>\n      <th>Class</th>\n    </tr>\n  </thead>\n  <tbody>\n    <tr>\n      <th>0</th>\n      <td>1</td>\n      <td>2010-06-04</td>\n      <td>Falcon 9</td>\n      <td>6104.959412</td>\n      <td>LEO</td>\n      <td>CCAFS SLC 40</td>\n      <td>None None</td>\n      <td>1</td>\n      <td>False</td>\n      <td>False</td>\n      <td>False</td>\n      <td>NaN</td>\n      <td>1.0</td>\n      <td>0</td>\n      <td>B0003</td>\n      <td>-80.577366</td>\n      <td>28.561857</td>\n      <td>0</td>\n    </tr>\n    <tr>\n      <th>1</th>\n      <td>2</td>\n      <td>2012-05-22</td>\n      <td>Falcon 9</td>\n      <td>525.000000</td>\n      <td>LEO</td>\n      <td>CCAFS SLC 40</td>\n      <td>None None</td>\n      <td>1</td>\n      <td>False</td>\n      <td>False</td>\n      <td>False</td>\n      <td>NaN</td>\n      <td>1.0</td>\n      <td>0</td>\n      <td>B0005</td>\n      <td>-80.577366</td>\n      <td>28.561857</td>\n      <td>0</td>\n    </tr>\n    <tr>\n      <th>2</th>\n      <td>3</td>\n      <td>2013-03-01</td>\n      <td>Falcon 9</td>\n      <td>677.000000</td>\n      <td>ISS</td>\n      <td>CCAFS SLC 40</td>\n      <td>None None</td>\n      <td>1</td>\n      <td>False</td>\n      <td>False</td>\n      <td>False</td>\n      <td>NaN</td>\n      <td>1.0</td>\n      <td>0</td>\n      <td>B0007</td>\n      <td>-80.577366</td>\n      <td>28.561857</td>\n      <td>0</td>\n    </tr>\n    <tr>\n      <th>3</th>\n      <td>4</td>\n      <td>2013-09-29</td>\n      <td>Falcon 9</td>\n      <td>500.000000</td>\n      <td>PO</td>\n      <td>VAFB SLC 4E</td>\n      <td>False Ocean</td>\n      <td>1</td>\n      <td>False</td>\n      <td>False</td>\n      <td>False</td>\n      <td>NaN</td>\n      <td>1.0</td>\n      <td>0</td>\n      <td>B1003</td>\n      <td>-120.610829</td>\n      <td>34.632093</td>\n      <td>0</td>\n    </tr>\n    <tr>\n      <th>4</th>\n      <td>5</td>\n      <td>2013-12-03</td>\n      <td>Falcon 9</td>\n      <td>3170.000000</td>\n      <td>GTO</td>\n      <td>CCAFS SLC 40</td>\n      <td>None None</td>\n      <td>1</td>\n      <td>False</td>\n      <td>False</td>\n      <td>False</td>\n      <td>NaN</td>\n      <td>1.0</td>\n      <td>0</td>\n      <td>B1004</td>\n      <td>-80.577366</td>\n      <td>28.561857</td>\n      <td>0</td>\n    </tr>\n  </tbody>\n</table>\n</div>"
     },
     "metadata": {}
    }
   ]
  },
  {
   "cell_type": "markdown",
   "source": "We can use the following line of code to determine  the success rate:\n",
   "metadata": {
    "cell_id": "00044-468e36b9-73c6-4b75-9595-b79703aba939",
    "deepnote_cell_type": "markdown",
    "deepnote_cell_height": 52.390625
   }
  },
  {
   "cell_type": "code",
   "metadata": {
    "cell_id": "00045-d32dd85d-93e2-4dbb-959c-4d883750e7e3",
    "deepnote_to_be_reexecuted": false,
    "source_hash": "82ea94d4",
    "execution_start": 1651527360224,
    "execution_millis": 103,
    "deepnote_cell_type": "code",
    "deepnote_cell_height": 118.1875,
    "deepnote_output_heights": [
     21.1875
    ]
   },
   "source": "df[\"Class\"].mean()",
   "execution_count": 13,
   "outputs": [
    {
     "output_type": "execute_result",
     "execution_count": 13,
     "data": {
      "text/plain": "0.6666666666666666"
     },
     "metadata": {}
    }
   ]
  },
  {
   "cell_type": "markdown",
   "source": "We can now export it to a CSV for the next section,but to make the answers consistent, in the next lab we will provide data in a pre-selected date range.\n",
   "metadata": {
    "cell_id": "00046-b57babef-f27b-4170-b216-320b4561f57a",
    "deepnote_cell_type": "markdown",
    "deepnote_cell_height": 74.796875
   }
  },
  {
   "cell_type": "markdown",
   "source": "<code>df.to_csv(\"dataset_part\\_2.csv\", index=False)</code>\n",
   "metadata": {
    "cell_id": "00047-0ce5d806-7532-4b3b-af19-767601dec8a6",
    "deepnote_cell_type": "markdown",
    "deepnote_cell_height": 52.390625
   }
  },
  {
   "cell_type": "markdown",
   "source": "## Authors\n",
   "metadata": {
    "cell_id": "00048-82f9f8d8-709c-4c39-b1a2-454f3db89528",
    "deepnote_cell_type": "markdown",
    "deepnote_cell_height": 70
   }
  },
  {
   "cell_type": "markdown",
   "source": "<a href=\"https://www.linkedin.com/in/joseph-s-50398b136/?utm_medium=Exinfluencer&utm_source=Exinfluencer&utm_content=000026UJ&utm_term=10006555&utm_id=NA-SkillsNetwork-Channel-SkillsNetworkCoursesIBMDS0321ENSkillsNetwork26802033-2021-01-01\">Joseph Santarcangelo</a> has a PhD in Electrical Engineering, his research focused on using machine learning, signal processing, and computer vision to determine how videos impact human cognition. Joseph has been working for IBM since he completed his PhD.\n",
   "metadata": {
    "cell_id": "00049-32395699-7d67-4e05-98e9-32e197d20f22",
    "deepnote_cell_type": "markdown",
    "deepnote_cell_height": 97.1875
   }
  },
  {
   "cell_type": "markdown",
   "source": "<a href=\"https://www.linkedin.com/in/nayefaboutayoun/?utm_medium=Exinfluencer&utm_source=Exinfluencer&utm_content=000026UJ&utm_term=10006555&utm_id=NA-SkillsNetwork-Channel-SkillsNetworkCoursesIBMDS0321ENSkillsNetwork26802033-2021-01-01\">Nayef Abou Tayoun</a> is a Data Scientist at IBM and pursuing a Master of Management in Artificial intelligence degree at Queen's University.\n",
   "metadata": {
    "cell_id": "00050-10505f91-de9e-4b4f-8c8c-fe5930f60011",
    "deepnote_cell_type": "markdown",
    "deepnote_cell_height": 74.796875
   }
  },
  {
   "cell_type": "markdown",
   "source": "## Change Log\n",
   "metadata": {
    "cell_id": "00051-a6379099-22d3-4735-8802-c810eba45353",
    "deepnote_cell_type": "markdown",
    "deepnote_cell_height": 70
   }
  },
  {
   "cell_type": "markdown",
   "source": "| Date (YYYY-MM-DD) | Version | Changed By    | Change Description      |\n| ----------------- | ------- | ------------- | ----------------------- |\n| 2021-08-31        | 1.1     | Lakshmi Holla | Changed Markdown        |\n| 2020-09-20        | 1.0     | Joseph        | Modified Multiple Areas |\n| 2020-11-04        | 1.1.    | Nayef         | updating the input data |\n| 2021-05-026       | 1.1.    | Joseph        | updating the input data |\n",
   "metadata": {
    "cell_id": "00052-3c599c0c-00ce-4972-b97b-1941cb983c8a",
    "deepnote_cell_type": "markdown",
    "deepnote_cell_height": 152
   }
  },
  {
   "cell_type": "markdown",
   "source": "Copyright © 2021 IBM Corporation. All rights reserved.\n",
   "metadata": {
    "cell_id": "00053-707432d6-cb81-46a9-afeb-e7bdcd4a2f64",
    "deepnote_cell_type": "markdown",
    "deepnote_cell_height": 52.390625
   }
  },
  {
   "cell_type": "markdown",
   "source": "<a style='text-decoration:none;line-height:16px;display:flex;color:#5B5B62;padding:10px;justify-content:end;' href='https://deepnote.com?utm_source=created-in-deepnote-cell&projectId=e9c94000-0602-4f6f-9d8b-7a7db5ef060f' target=\"_blank\">\n<img alt='Created in deepnote.com' style='display:inline;max-height:16px;margin:0px;margin-right:7.5px;' src='data:image/svg+xml;base64,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' > </img>\nCreated in <span style='font-weight:600;margin-left:4px;'>Deepnote</span></a>",
   "metadata": {
    "tags": [],
    "created_in_deepnote_cell": true,
    "deepnote_cell_type": "markdown"
   }
  }
 ],
 "nbformat": 4,
 "nbformat_minor": 4,
 "metadata": {
  "kernelspec": {
   "display_name": "Python 3",
   "language": "python",
   "name": "python3"
  },
  "language_info": {
   "codemirror_mode": {
    "name": "ipython",
    "version": 3
   },
   "file_extension": ".py",
   "mimetype": "text/x-python",
   "name": "python",
   "nbconvert_exporter": "python",
   "pygments_lexer": "ipython3",
   "version": "3.8.8"
  },
  "deepnote_notebook_id": "f5aac630-59c4-48ec-930e-48c358abcc69",
  "deepnote": {},
  "deepnote_execution_queue": []
 }
}