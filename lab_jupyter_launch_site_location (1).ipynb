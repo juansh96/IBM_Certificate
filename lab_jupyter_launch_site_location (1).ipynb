{
 "cells": [
  {
   "cell_type": "markdown",
   "source": "<center>\n    <img src=\"https://gitlab.com/ibm/skills-network/courses/placeholder101/-/raw/master/labs/module%201/images/IDSNlogo.png\" width=\"300\" alt=\"cognitiveclass.ai logo\"  />\n</center>\n",
   "metadata": {
    "id": "3n3ltmfnrqpi",
    "outputId": "a2d4f52a-2fb7-4668-f5f0-fe862aab8eb0",
    "papermill": {
     "duration": 1.489571,
     "end_time": "2020-09-19T06:26:57.168979",
     "exception": false,
     "start_time": "2020-09-19T06:26:55.679408",
     "status": "completed"
    },
    "tags": [],
    "cell_id": "efc96384-241e-4d34-9c57-1bcabb856c24",
    "deepnote_cell_type": "markdown",
    "deepnote_cell_height": 70
   }
  },
  {
   "cell_type": "markdown",
   "source": "# **Launch Sites Locations Analysis with Folium**\n",
   "metadata": {
    "cell_id": "00001-530fa48e-8f37-4d81-af69-699a25acfa78",
    "deepnote_cell_type": "markdown",
    "deepnote_cell_height": 134
   }
  },
  {
   "cell_type": "markdown",
   "source": "Estimated time needed: **40** minutes\n",
   "metadata": {
    "cell_id": "00002-cfe3882c-dad0-4752-85b8-2aa9a5533bb2",
    "deepnote_cell_type": "markdown",
    "deepnote_cell_height": 52.390625
   }
  },
  {
   "cell_type": "markdown",
   "source": "The launch success rate may depend on many factors such as payload mass, orbit type, and so on. It may also depend on the location and proximities of a launch site, i.e., the initial position of rocket trajectories. Finding an optimal location for building a launch site certainly involves many factors and hopefully we could discover some of the factors by analyzing the existing launch site locations.\n",
   "metadata": {
    "cell_id": "00003-981c6067-604b-4ff9-8fc8-84f5fa769135",
    "deepnote_cell_type": "markdown",
    "deepnote_cell_height": 119.59375
   }
  },
  {
   "cell_type": "markdown",
   "source": "In the previous exploratory data analysis labs, you have visualized the SpaceX launch dataset using `matplotlib` and `seaborn` and discovered some preliminary correlations between the launch site and success rates. In this lab, you will be performing more interactive visual analytics using `Folium`.\n",
   "metadata": {
    "cell_id": "00004-86880485-81e0-4f92-a5ce-216d74e21e62",
    "deepnote_cell_type": "markdown",
    "deepnote_cell_height": 97.1875
   }
  },
  {
   "cell_type": "markdown",
   "source": "## Objectives\n",
   "metadata": {
    "cell_id": "00005-45c99eda-3849-4137-97f9-b17b7497fba3",
    "deepnote_cell_type": "markdown",
    "deepnote_cell_height": 70
   }
  },
  {
   "cell_type": "markdown",
   "source": "This lab contains the following tasks:\n\n*   **TASK 1:** Mark all launch sites on a map\n*   **TASK 2:** Mark the success/failed launches for each site on the map\n*   **TASK 3:** Calculate the distances between a launch site to its proximities\n\nAfter completed the above tasks, you should be able to find some geographical patterns about launch sites.\n",
   "metadata": {
    "cell_id": "00006-9019810b-a69c-4f39-8b2a-0bc5c79ed79e",
    "deepnote_cell_type": "markdown",
    "deepnote_cell_height": 176
   }
  },
  {
   "cell_type": "markdown",
   "source": "Let's first import required Python packages for this lab:\n",
   "metadata": {
    "cell_id": "00007-a7206023-13ed-42fc-a05b-8175aa262675",
    "deepnote_cell_type": "markdown",
    "deepnote_cell_height": 52.390625
   }
  },
  {
   "cell_type": "code",
   "metadata": {
    "cell_id": "00008-3428a694-24a5-4a3f-b3a4-4d382eb2bbe3",
    "deepnote_to_be_reexecuted": false,
    "source_hash": "53a6fcee",
    "execution_start": 1651531055852,
    "execution_millis": 10759,
    "deepnote_cell_type": "code",
    "deepnote_cell_height": 575
   },
   "source": "!pip3 install folium\n!pip3 install wget",
   "execution_count": 1,
   "outputs": [
    {
     "name": "stdout",
     "text": "Requirement already satisfied: folium in /shared-libs/python3.7/py/lib/python3.7/site-packages (0.12.1.post1)\nRequirement already satisfied: branca>=0.3.0 in /shared-libs/python3.7/py/lib/python3.7/site-packages (from folium) (0.5.0)\nRequirement already satisfied: requests in /shared-libs/python3.7/py/lib/python3.7/site-packages (from folium) (2.27.1)\nRequirement already satisfied: jinja2>=2.9 in /shared-libs/python3.7/py-core/lib/python3.7/site-packages (from folium) (2.11.3)\nRequirement already satisfied: numpy in /shared-libs/python3.7/py/lib/python3.7/site-packages (from folium) (1.21.6)\nRequirement already satisfied: charset-normalizer~=2.0.0; python_version >= \"3\" in /shared-libs/python3.7/py-core/lib/python3.7/site-packages (from requests->folium) (2.0.12)\nRequirement already satisfied: certifi>=2017.4.17 in /shared-libs/python3.7/py/lib/python3.7/site-packages (from requests->folium) (2021.10.8)\nRequirement already satisfied: urllib3<1.27,>=1.21.1 in /shared-libs/python3.7/py/lib/python3.7/site-packages (from requests->folium) (1.26.9)\nRequirement already satisfied: idna<4,>=2.5; python_version >= \"3\" in /shared-libs/python3.7/py-core/lib/python3.7/site-packages (from requests->folium) (3.3)\nRequirement already satisfied: MarkupSafe>=0.23 in /shared-libs/python3.7/py-core/lib/python3.7/site-packages (from jinja2>=2.9->folium) (2.0.1)\n\u001b[33mWARNING: You are using pip version 20.1.1; however, version 22.0.4 is available.\nYou should consider upgrading via the '/root/venv/bin/python -m pip install --upgrade pip' command.\u001b[0m\nCollecting wget\n  Downloading wget-3.2.zip (10 kB)\nBuilding wheels for collected packages: wget\n  Building wheel for wget (setup.py) ... \u001b[?25ldone\n\u001b[?25h  Created wheel for wget: filename=wget-3.2-py3-none-any.whl size=9679 sha256=7aea9ef3f78ef1787b0ca6bf24c537085697c49e6a8308ab93923cc5fdc71b1b\n  Stored in directory: /root/.cache/pip/wheels/a1/b6/7c/0e63e34eb06634181c63adacca38b79ff8f35c37e3c13e3c02\nSuccessfully built wget\nInstalling collected packages: wget\nSuccessfully installed wget-3.2\n\u001b[33mWARNING: You are using pip version 20.1.1; however, version 22.0.4 is available.\nYou should consider upgrading via the '/root/venv/bin/python -m pip install --upgrade pip' command.\u001b[0m\n",
     "output_type": "stream"
    }
   ]
  },
  {
   "cell_type": "code",
   "metadata": {
    "cell_id": "00009-1dd8ed85-8f46-4f59-898c-79219516be9e",
    "deepnote_to_be_reexecuted": false,
    "source_hash": "c7abab63",
    "execution_start": 1651531066510,
    "execution_millis": 692,
    "deepnote_cell_type": "code",
    "deepnote_cell_height": 117
   },
   "source": "import folium\nimport wget\nimport pandas as pd",
   "execution_count": 2,
   "outputs": []
  },
  {
   "cell_type": "code",
   "metadata": {
    "cell_id": "00010-bc993846-da07-44c4-a5c4-ba38524ec32a",
    "deepnote_to_be_reexecuted": false,
    "source_hash": "5edef253",
    "execution_start": 1651531067211,
    "execution_millis": 136,
    "deepnote_cell_type": "code",
    "deepnote_cell_height": 171
   },
   "source": "# Import folium MarkerCluster plugin\nfrom folium.plugins import MarkerCluster\n# Import folium MousePosition plugin\nfrom folium.plugins import MousePosition\n# Import folium DivIcon plugin\nfrom folium.features import DivIcon",
   "execution_count": 3,
   "outputs": []
  },
  {
   "cell_type": "markdown",
   "source": "If you need to refresh your memory about folium, you may download and refer to this previous folium lab:\n",
   "metadata": {
    "cell_id": "00011-7fa8e964-7c71-4395-801c-6f9b3f1910d6",
    "deepnote_cell_type": "markdown",
    "deepnote_cell_height": 52.390625
   }
  },
  {
   "cell_type": "markdown",
   "source": "[Generating Maps with Python](https://cf-courses-data.s3.us.cloud-object-storage.appdomain.cloud/IBM-DS0321EN-SkillsNetwork/labs/module\\_3/DV0101EN-3-5-1-Generating-Maps-in-Python-py-v2.0.ipynb)\n",
   "metadata": {
    "cell_id": "00012-4a71b582-0ddb-46b0-b105-b71d9d279693",
    "deepnote_cell_type": "markdown",
    "deepnote_cell_height": 52.390625
   }
  },
  {
   "cell_type": "markdown",
   "source": "## Task 1: Mark all launch sites on a map\n",
   "metadata": {
    "cell_id": "00013-d49860f6-8975-4dfe-bddd-d517ec45eaa0",
    "deepnote_cell_type": "markdown",
    "deepnote_cell_height": 70
   }
  },
  {
   "cell_type": "markdown",
   "source": "First, let's try to add each site's location on a map using site's latitude and longitude coordinates\n",
   "metadata": {
    "cell_id": "00014-b3e74ea5-9c5c-49e7-ba32-d8078cebda27",
    "deepnote_cell_type": "markdown",
    "deepnote_cell_height": 52.390625
   }
  },
  {
   "cell_type": "markdown",
   "source": "The following dataset with the name `spacex_launch_geo.csv` is an augmented dataset with latitude and longitude added for each site.\n",
   "metadata": {
    "cell_id": "00015-b957abbe-52dd-4026-a3ac-ab78b48f5ebd",
    "deepnote_cell_type": "markdown",
    "deepnote_cell_height": 74.796875
   }
  },
  {
   "cell_type": "code",
   "metadata": {
    "cell_id": "00016-ab104bcb-eb28-4710-8c28-7bf44ce0879c",
    "deepnote_to_be_reexecuted": false,
    "source_hash": "e4705f92",
    "execution_start": 1651531067350,
    "execution_millis": 227,
    "deepnote_cell_type": "code",
    "deepnote_cell_height": 117
   },
   "source": "# Download and read the `spacex_launch_geo.csv`\nspacex_csv_file = wget.download('https://cf-courses-data.s3.us.cloud-object-storage.appdomain.cloud/IBM-DS0321EN-SkillsNetwork/datasets/spacex_launch_geo.csv')\nspacex_df=pd.read_csv(spacex_csv_file)",
   "execution_count": 4,
   "outputs": []
  },
  {
   "cell_type": "markdown",
   "source": "Now, you can take a look at what are the coordinates for each site.\n",
   "metadata": {
    "cell_id": "00017-738f572d-6c92-4be7-8c6b-beeeefcef94d",
    "deepnote_cell_type": "markdown",
    "deepnote_cell_height": 52.390625
   }
  },
  {
   "cell_type": "code",
   "metadata": {
    "cell_id": "00018-2d96c811-d797-4502-acd2-b4da466cec6c",
    "deepnote_to_be_reexecuted": false,
    "source_hash": "10745633",
    "execution_start": 1651531067623,
    "execution_millis": 15,
    "deepnote_cell_type": "code",
    "deepnote_cell_height": 426
   },
   "source": "# Select relevant sub-columns: `Launch Site`, `Lat(Latitude)`, `Long(Longitude)`, `class`\nspacex_df = spacex_df[['Launch Site', 'Lat', 'Long', 'class']]\nlaunch_sites_df = spacex_df.groupby(['Launch Site'], as_index=False).first()\nlaunch_sites_df = launch_sites_df[['Launch Site', 'Lat', 'Long']]\nlaunch_sites_df",
   "execution_count": 5,
   "outputs": [
    {
     "output_type": "execute_result",
     "execution_count": 5,
     "data": {
      "application/vnd.deepnote.dataframe.v3+json": {
       "column_count": 3,
       "row_count": 4,
       "columns": [
        {
         "name": "Launch Site",
         "dtype": "object",
         "stats": {
          "unique_count": 4,
          "nan_count": 0,
          "categories": [
           {
            "name": "CCAFS LC-40",
            "count": 1
           },
           {
            "name": "CCAFS SLC-40",
            "count": 1
           },
           {
            "name": "2 others",
            "count": 2
           }
          ]
         }
        },
        {
         "name": "Lat",
         "dtype": "float64",
         "stats": {
          "unique_count": 4,
          "nan_count": 0,
          "min": "28.56230197",
          "max": "34.63283416",
          "histogram": [
           {
            "bin_start": 28.56230197,
            "bin_end": 29.169355189,
            "count": 3
           },
           {
            "bin_start": 29.169355189,
            "bin_end": 29.776408408,
            "count": 0
           },
           {
            "bin_start": 29.776408408,
            "bin_end": 30.383461627,
            "count": 0
           },
           {
            "bin_start": 30.383461627,
            "bin_end": 30.990514846,
            "count": 0
           },
           {
            "bin_start": 30.990514846,
            "bin_end": 31.597568065,
            "count": 0
           },
           {
            "bin_start": 31.597568065,
            "bin_end": 32.204621284,
            "count": 0
           },
           {
            "bin_start": 32.204621284,
            "bin_end": 32.811674503,
            "count": 0
           },
           {
            "bin_start": 32.811674503,
            "bin_end": 33.418727722,
            "count": 0
           },
           {
            "bin_start": 33.418727722,
            "bin_end": 34.025780941,
            "count": 0
           },
           {
            "bin_start": 34.025780941,
            "bin_end": 34.63283416,
            "count": 1
           }
          ]
         }
        },
        {
         "name": "Long",
         "dtype": "float64",
         "stats": {
          "unique_count": 4,
          "nan_count": 0,
          "min": "-120.6107455",
          "max": "-80.57682003",
          "histogram": [
           {
            "bin_start": -120.6107455,
            "bin_end": -116.60735295299999,
            "count": 1
           },
           {
            "bin_start": -116.60735295299999,
            "bin_end": -112.603960406,
            "count": 0
           },
           {
            "bin_start": -112.603960406,
            "bin_end": -108.600567859,
            "count": 0
           },
           {
            "bin_start": -108.600567859,
            "bin_end": -104.59717531199999,
            "count": 0
           },
           {
            "bin_start": -104.59717531199999,
            "bin_end": -100.59378276499999,
            "count": 0
           },
           {
            "bin_start": -100.59378276499999,
            "bin_end": -96.590390218,
            "count": 0
           },
           {
            "bin_start": -96.590390218,
            "bin_end": -92.58699767099999,
            "count": 0
           },
           {
            "bin_start": -92.58699767099999,
            "bin_end": -88.583605124,
            "count": 0
           },
           {
            "bin_start": -88.583605124,
            "bin_end": -84.580212577,
            "count": 0
           },
           {
            "bin_start": -84.580212577,
            "bin_end": -80.57682003,
            "count": 3
           }
          ]
         }
        },
        {
         "name": "_deepnote_index_column",
         "dtype": "int64"
        }
       ],
       "rows": [
        {
         "Launch Site": "CCAFS LC-40",
         "Lat": 28.56230197,
         "Long": -80.57735648,
         "_deepnote_index_column": 0
        },
        {
         "Launch Site": "CCAFS SLC-40",
         "Lat": 28.56319718,
         "Long": -80.57682003,
         "_deepnote_index_column": 1
        },
        {
         "Launch Site": "KSC LC-39A",
         "Lat": 28.57325457,
         "Long": -80.64689529,
         "_deepnote_index_column": 2
        },
        {
         "Launch Site": "VAFB SLC-4E",
         "Lat": 34.63283416,
         "Long": -120.6107455,
         "_deepnote_index_column": 3
        }
       ]
      },
      "text/plain": "    Launch Site        Lat        Long\n0   CCAFS LC-40  28.562302  -80.577356\n1  CCAFS SLC-40  28.563197  -80.576820\n2    KSC LC-39A  28.573255  -80.646895\n3   VAFB SLC-4E  34.632834 -120.610745",
      "text/html": "<div>\n<style scoped>\n    .dataframe tbody tr th:only-of-type {\n        vertical-align: middle;\n    }\n\n    .dataframe tbody tr th {\n        vertical-align: top;\n    }\n\n    .dataframe thead th {\n        text-align: right;\n    }\n</style>\n<table border=\"1\" class=\"dataframe\">\n  <thead>\n    <tr style=\"text-align: right;\">\n      <th></th>\n      <th>Launch Site</th>\n      <th>Lat</th>\n      <th>Long</th>\n    </tr>\n  </thead>\n  <tbody>\n    <tr>\n      <th>0</th>\n      <td>CCAFS LC-40</td>\n      <td>28.562302</td>\n      <td>-80.577356</td>\n    </tr>\n    <tr>\n      <th>1</th>\n      <td>CCAFS SLC-40</td>\n      <td>28.563197</td>\n      <td>-80.576820</td>\n    </tr>\n    <tr>\n      <th>2</th>\n      <td>KSC LC-39A</td>\n      <td>28.573255</td>\n      <td>-80.646895</td>\n    </tr>\n    <tr>\n      <th>3</th>\n      <td>VAFB SLC-4E</td>\n      <td>34.632834</td>\n      <td>-120.610745</td>\n    </tr>\n  </tbody>\n</table>\n</div>"
     },
     "metadata": {}
    }
   ]
  },
  {
   "cell_type": "markdown",
   "source": "Above coordinates are just plain numbers that can not give you any intuitive insights about where are those launch sites. If you are very good at geography, you can interpret those numbers directly in your mind. If not, that's fine too. Let's visualize those locations by pinning them on a map.\n",
   "metadata": {
    "cell_id": "00019-a2b987a3-c3be-4283-b666-3690f2270a7b",
    "deepnote_cell_type": "markdown",
    "deepnote_cell_height": 97.1875
   }
  },
  {
   "cell_type": "markdown",
   "source": "We first need to create a folium `Map` object, with an initial center location to be NASA Johnson Space Center at Houston, Texas.\n",
   "metadata": {
    "cell_id": "00020-813d2985-4a4c-4bfc-aa58-29bbeba3262b",
    "deepnote_cell_type": "markdown",
    "deepnote_cell_height": 74.796875
   }
  },
  {
   "cell_type": "code",
   "metadata": {
    "cell_id": "00021-22736c2a-a596-4154-b0aa-3703f9be6a2a",
    "deepnote_to_be_reexecuted": false,
    "source_hash": "5932c570",
    "execution_start": 1651531067643,
    "execution_millis": 22,
    "deepnote_cell_type": "code",
    "deepnote_cell_height": 117
   },
   "source": "# Start location is NASA Johnson Space Center\nnasa_coordinate = [29.559684888503615, -95.0830971930759]\nsite_map = folium.Map(location=nasa_coordinate, zoom_start=10)",
   "execution_count": 6,
   "outputs": []
  },
  {
   "cell_type": "markdown",
   "source": "We could use `folium.Circle` to add a highlighted circle area with a text label on a specific coordinate. For example,\n",
   "metadata": {
    "cell_id": "00022-b1e2f772-9adc-4fff-a9c2-40ffbdebc777",
    "deepnote_cell_type": "markdown",
    "deepnote_cell_height": 74.796875
   }
  },
  {
   "cell_type": "code",
   "metadata": {
    "cell_id": "00023-82ec498d-aa2d-45e6-92ce-1b91e0bdd43e",
    "deepnote_to_be_reexecuted": false,
    "source_hash": "eeb73374",
    "execution_start": 1651531067678,
    "execution_millis": 12,
    "deepnote_cell_type": "code",
    "deepnote_cell_height": 772.1875,
    "deepnote_output_heights": [
     441.1875
    ]
   },
   "source": "# Create a blue circle at NASA Johnson Space Center's coordinate with a popup label showing its name\ncircle = folium.Circle(nasa_coordinate, radius=1000, color='#d35400', fill=True).add_child(folium.Popup('NASA Johnson Space Center'))\n# Create a blue circle at NASA Johnson Space Center's coordinate with a icon showing its name\nmarker = folium.map.Marker(\n    nasa_coordinate,\n    # Create an icon as a text label\n    icon=DivIcon(\n        icon_size=(20,20),\n        icon_anchor=(0,0),\n        html='<div style=\"font-size: 12; color:#d35400;\"><b>%s</b></div>' % 'NASA JSC',\n        )\n    )\nsite_map.add_child(circle)\nsite_map.add_child(marker)",
   "execution_count": 7,
   "outputs": [
    {
     "output_type": "execute_result",
     "execution_count": 7,
     "data": {
      "text/plain": "<folium.folium.Map at 0x7f7710be5350>",
      "text/html": "<div style=\"width:100%;\"><div style=\"position:relative;width:100%;height:0;padding-bottom:60%;\"><span style=\"color:#565656\">Make this Notebook Trusted to load map: File -> Trust Notebook</span><iframe srcdoc=\"&lt;!DOCTYPE html&gt;\n&lt;head&gt;    \n    &lt;meta http-equiv=&quot;content-type&quot; content=&quot;text/html; charset=UTF-8&quot; /&gt;\n    \n        &lt;script&gt;\n            L_NO_TOUCH = false;\n            L_DISABLE_3D = false;\n        &lt;/script&gt;\n    \n    &lt;style&gt;html, body {width: 100%;height: 100%;margin: 0;padding: 0;}&lt;/style&gt;\n    &lt;style&gt;#map {position:absolute;top:0;bottom:0;right:0;left:0;}&lt;/style&gt;\n    &lt;script src=&quot;https://cdn.jsdelivr.net/npm/leaflet@1.6.0/dist/leaflet.js&quot;&gt;&lt;/script&gt;\n    &lt;script src=&quot;https://code.jquery.com/jquery-1.12.4.min.js&quot;&gt;&lt;/script&gt;\n    &lt;script src=&quot;https://maxcdn.bootstrapcdn.com/bootstrap/3.2.0/js/bootstrap.min.js&quot;&gt;&lt;/script&gt;\n    &lt;script src=&quot;https://cdnjs.cloudflare.com/ajax/libs/Leaflet.awesome-markers/2.0.2/leaflet.awesome-markers.js&quot;&gt;&lt;/script&gt;\n    &lt;link rel=&quot;stylesheet&quot; href=&quot;https://cdn.jsdelivr.net/npm/leaflet@1.6.0/dist/leaflet.css&quot;/&gt;\n    &lt;link rel=&quot;stylesheet&quot; href=&quot;https://maxcdn.bootstrapcdn.com/bootstrap/3.2.0/css/bootstrap.min.css&quot;/&gt;\n    &lt;link rel=&quot;stylesheet&quot; href=&quot;https://maxcdn.bootstrapcdn.com/bootstrap/3.2.0/css/bootstrap-theme.min.css&quot;/&gt;\n    &lt;link rel=&quot;stylesheet&quot; href=&quot;https://maxcdn.bootstrapcdn.com/font-awesome/4.6.3/css/font-awesome.min.css&quot;/&gt;\n    &lt;link rel=&quot;stylesheet&quot; href=&quot;https://cdnjs.cloudflare.com/ajax/libs/Leaflet.awesome-markers/2.0.2/leaflet.awesome-markers.css&quot;/&gt;\n    &lt;link rel=&quot;stylesheet&quot; href=&quot;https://cdn.jsdelivr.net/gh/python-visualization/folium/folium/templates/leaflet.awesome.rotate.min.css&quot;/&gt;\n    \n            &lt;meta name=&quot;viewport&quot; content=&quot;width=device-width,\n                initial-scale=1.0, maximum-scale=1.0, user-scalable=no&quot; /&gt;\n            &lt;style&gt;\n                #map_7ac021267dd4c76d6ec417be78f32d09 {\n                    position: relative;\n                    width: 100.0%;\n                    height: 100.0%;\n                    left: 0.0%;\n                    top: 0.0%;\n                }\n            &lt;/style&gt;\n        \n&lt;/head&gt;\n&lt;body&gt;    \n    \n            &lt;div class=&quot;folium-map&quot; id=&quot;map_7ac021267dd4c76d6ec417be78f32d09&quot; &gt;&lt;/div&gt;\n        \n&lt;/body&gt;\n&lt;script&gt;    \n    \n            var map_7ac021267dd4c76d6ec417be78f32d09 = L.map(\n                &quot;map_7ac021267dd4c76d6ec417be78f32d09&quot;,\n                {\n                    center: [29.559684888503615, -95.0830971930759],\n                    crs: L.CRS.EPSG3857,\n                    zoom: 10,\n                    zoomControl: true,\n                    preferCanvas: false,\n                }\n            );\n\n            \n\n        \n    \n            var tile_layer_6ab2574ac45a802f096928b5dcd1bad2 = L.tileLayer(\n                &quot;https://{s}.tile.openstreetmap.org/{z}/{x}/{y}.png&quot;,\n                {&quot;attribution&quot;: &quot;Data by \\u0026copy; \\u003ca href=\\&quot;http://openstreetmap.org\\&quot;\\u003eOpenStreetMap\\u003c/a\\u003e, under \\u003ca href=\\&quot;http://www.openstreetmap.org/copyright\\&quot;\\u003eODbL\\u003c/a\\u003e.&quot;, &quot;detectRetina&quot;: false, &quot;maxNativeZoom&quot;: 18, &quot;maxZoom&quot;: 18, &quot;minZoom&quot;: 0, &quot;noWrap&quot;: false, &quot;opacity&quot;: 1, &quot;subdomains&quot;: &quot;abc&quot;, &quot;tms&quot;: false}\n            ).addTo(map_7ac021267dd4c76d6ec417be78f32d09);\n        \n    \n            var circle_0ac3f5d282fe5a5237349aa010e5c2ff = L.circle(\n                [29.559684888503615, -95.0830971930759],\n                {&quot;bubblingMouseEvents&quot;: true, &quot;color&quot;: &quot;#d35400&quot;, &quot;dashArray&quot;: null, &quot;dashOffset&quot;: null, &quot;fill&quot;: true, &quot;fillColor&quot;: &quot;#d35400&quot;, &quot;fillOpacity&quot;: 0.2, &quot;fillRule&quot;: &quot;evenodd&quot;, &quot;lineCap&quot;: &quot;round&quot;, &quot;lineJoin&quot;: &quot;round&quot;, &quot;opacity&quot;: 1.0, &quot;radius&quot;: 1000, &quot;stroke&quot;: true, &quot;weight&quot;: 3}\n            ).addTo(map_7ac021267dd4c76d6ec417be78f32d09);\n        \n    \n        var popup_b95930c64838ba6e4f1f264838dd3b4c = L.popup({&quot;maxWidth&quot;: &quot;100%&quot;});\n\n        \n            var html_5e452a723a76fdd891afd6fe15c13b9a = $(`&lt;div id=&quot;html_5e452a723a76fdd891afd6fe15c13b9a&quot; style=&quot;width: 100.0%; height: 100.0%;&quot;&gt;NASA Johnson Space Center&lt;/div&gt;`)[0];\n            popup_b95930c64838ba6e4f1f264838dd3b4c.setContent(html_5e452a723a76fdd891afd6fe15c13b9a);\n        \n\n        circle_0ac3f5d282fe5a5237349aa010e5c2ff.bindPopup(popup_b95930c64838ba6e4f1f264838dd3b4c)\n        ;\n\n        \n    \n    \n            var marker_3bde71a1da167720057b78657fb11c34 = L.marker(\n                [29.559684888503615, -95.0830971930759],\n                {}\n            ).addTo(map_7ac021267dd4c76d6ec417be78f32d09);\n        \n    \n            var div_icon_59be3bef9c14cb14d6a9b5ac5cb48dfb = L.divIcon({&quot;className&quot;: &quot;empty&quot;, &quot;html&quot;: &quot;\\u003cdiv style=\\&quot;font-size: 12; color:#d35400;\\&quot;\\u003e\\u003cb\\u003eNASA JSC\\u003c/b\\u003e\\u003c/div\\u003e&quot;, &quot;iconAnchor&quot;: [0, 0], &quot;iconSize&quot;: [20, 20]});\n            marker_3bde71a1da167720057b78657fb11c34.setIcon(div_icon_59be3bef9c14cb14d6a9b5ac5cb48dfb);\n        \n&lt;/script&gt;\" style=\"position:absolute;width:100%;height:100%;left:0;top:0;border:none !important;\" allowfullscreen webkitallowfullscreen mozallowfullscreen></iframe></div></div>"
     },
     "metadata": {}
    }
   ]
  },
  {
   "cell_type": "markdown",
   "source": "and you should find a small yellow circle near the city of Houston and you can zoom-in to see a larger circle.\n",
   "metadata": {
    "cell_id": "00024-ea38625d-4b8f-4347-a2a4-b6dca0fb7687",
    "deepnote_cell_type": "markdown",
    "deepnote_cell_height": 52.390625
   }
  },
  {
   "cell_type": "markdown",
   "source": "Now, let's add a circle for each launch site in data frame `launch_sites`\n",
   "metadata": {
    "cell_id": "00025-9e82eb95-7d96-4b2a-ac2b-a89ecb0050fc",
    "deepnote_cell_type": "markdown",
    "deepnote_cell_height": 52.390625
   }
  },
  {
   "cell_type": "markdown",
   "source": "*TODO:*  Create and add `folium.Circle` and `folium.Marker` for each launch site on the site map\n",
   "metadata": {
    "cell_id": "00026-13b278d2-5029-4207-8e2b-df8dcbe4aff0",
    "deepnote_cell_type": "markdown",
    "deepnote_cell_height": 52.390625
   }
  },
  {
   "cell_type": "markdown",
   "source": "An example of folium.Circle:\n",
   "metadata": {
    "cell_id": "00027-a93e38d5-58a2-4ffe-a057-e82c90612635",
    "deepnote_cell_type": "markdown",
    "deepnote_cell_height": 52.390625
   }
  },
  {
   "cell_type": "markdown",
   "source": "`folium.Circle(coordinate, radius=1000, color='#000000', fill=True).add_child(folium.Popup(...))`\n",
   "metadata": {
    "cell_id": "00028-f2991018-b2e1-49e9-b662-cce3c385778d",
    "deepnote_cell_type": "markdown",
    "deepnote_cell_height": 74.796875
   }
  },
  {
   "cell_type": "markdown",
   "source": "An example of folium.Marker:\n",
   "metadata": {
    "cell_id": "00029-aad90aa9-9464-4f14-bf25-9c5533acdcc8",
    "deepnote_cell_type": "markdown",
    "deepnote_cell_height": 52.390625
   }
  },
  {
   "cell_type": "markdown",
   "source": "`folium.map.Marker(coordinate, icon=DivIcon(icon_size=(20,20),icon_anchor=(0,0), html='<div style=\"font-size: 12; color:#d35400;\"><b>%s</b></div>' % 'label', ))`\n",
   "metadata": {
    "cell_id": "00030-8c5524e9-9e7f-43f2-8b48-3a0d4bb8c428",
    "deepnote_cell_type": "markdown",
    "deepnote_cell_height": 74.796875
   }
  },
  {
   "cell_type": "code",
   "metadata": {
    "cell_id": "00031-10bc5916-dd31-4f24-a38f-14c1544f4917",
    "deepnote_to_be_reexecuted": false,
    "source_hash": "d4f07df",
    "execution_start": 1651531067717,
    "execution_millis": 1,
    "deepnote_cell_type": "code",
    "deepnote_cell_height": 135
   },
   "source": "# Initial the map\nsite_map = folium.Map(location=nasa_coordinate, zoom_start=5)\n# For each launch site, add a Circle object based on its coordinate (Lat, Long) values. In addition, add Launch site name as a popup label\n",
   "execution_count": 8,
   "outputs": []
  },
  {
   "cell_type": "code",
   "metadata": {
    "cell_id": "0aa4cba5c5174f4197847c0b6942934d",
    "tags": [],
    "deepnote_to_be_reexecuted": false,
    "source_hash": "3ef632de",
    "execution_start": 1651531067718,
    "execution_millis": 3,
    "deepnote_cell_type": "code",
    "deepnote_cell_height": 195
   },
   "source": "launch_sites_df['Launch Site']",
   "execution_count": 9,
   "outputs": [
    {
     "output_type": "execute_result",
     "execution_count": 9,
     "data": {
      "text/plain": "0     CCAFS LC-40\n1    CCAFS SLC-40\n2      KSC LC-39A\n3     VAFB SLC-4E\nName: Launch Site, dtype: object"
     },
     "metadata": {}
    }
   ]
  },
  {
   "cell_type": "code",
   "metadata": {
    "cell_id": "861e74a4b04f48c69c0cd1fa67e8d406",
    "tags": [],
    "deepnote_to_be_reexecuted": false,
    "source_hash": "27672c7f",
    "execution_start": 1651531067719,
    "execution_millis": 0,
    "deepnote_cell_type": "code",
    "deepnote_cell_height": 171
   },
   "source": "#Coordenadas \n\nCCAFSLC40 = [launch_sites_df.iloc[0,1],launch_sites_df.iloc[0,2]]\nCCAFSSLC40 = [launch_sites_df.iloc[1,1],launch_sites_df.iloc[1,2]]\nKSCLC39A = [launch_sites_df.iloc[2,1],launch_sites_df.iloc[2,2]]\nVAFBSLC4E = [launch_sites_df.iloc[3,1],launch_sites_df.iloc[3,2]]",
   "execution_count": 10,
   "outputs": []
  },
  {
   "cell_type": "code",
   "metadata": {
    "cell_id": "e8d20adc120c4fbc81ba634bf9bdf787",
    "tags": [],
    "deepnote_to_be_reexecuted": false,
    "source_hash": "22db0e6",
    "execution_start": 1651531067722,
    "execution_millis": 4,
    "deepnote_cell_type": "code",
    "deepnote_cell_height": 999
   },
   "source": "# Create a blue circle at NASA Johnson Space Center's coordinate with a popup label showing its name\ncircle1 = folium.Circle(CCAFSLC40, radius=1000, color='#d35400', fill=True).add_child(folium.Popup('CCAFS LC-40'))\ncircle2 = folium.Circle(CCAFSSLC40, radius=1000, color='#d35400', fill=True).add_child(folium.Popup('CCAFS SLC-40'))\ncircle3 = folium.Circle(KSCLC39A, radius=1000, color='#d35400', fill=True).add_child(folium.Popup('KSC LC-39A'))\ncircle4 = folium.Circle(VAFBSLC4E, radius=1000, color='#d35400', fill=True).add_child(folium.Popup('VAFB SLC-4E'))\n\n# Create a blue circle at NASA Johnson Space Center's coordinate with a icon showing its name\nmarker1 = folium.map.Marker(\n    CCAFSLC40,\n    # Create an icon as a text label\n    icon=DivIcon(\n        icon_size=(20,20),\n        icon_anchor=(0,0),\n        html='<div style=\"font-size: 12; color:#d35400;\"><b>%s</b></div>' % 'CCAFS LC-40',\n        )\n    )\nmarker2 = folium.map.Marker(\n    CCAFSSLC40,\n    # Create an icon as a text label\n    icon=DivIcon(\n        icon_size=(20,20),\n        icon_anchor=(0,0),\n        html='<div style=\"font-size: 12; color:#d35400;\"><b>%s</b></div>' % 'CCAFS SLC-40',\n        )\n    )\nmarker3 = folium.map.Marker(\n    KSCLC39A,\n    # Create an icon as a text label\n    icon=DivIcon(\n        icon_size=(20,20),\n        icon_anchor=(0,0),\n        html='<div style=\"font-size: 12; color:#d35400;\"><b>%s</b></div>' % 'KSC LC-39A',\n        )\n    )\nmarker4 = folium.map.Marker(\n    VAFBSLC4E,\n    # Create an icon as a text label\n    icon=DivIcon(\n        icon_size=(20,20),\n        icon_anchor=(0,0),\n        html='<div style=\"font-size: 12; color:#d35400;\"><b>%s</b></div>' % 'VAFB SLC-4E',\n        )\n    )\n\nfor c in [circle1,circle2,circle3,circle4]:\n    site_map.add_child(c)\n\n#site_map.add_child([circle1,circle2,circle3,circle4])\n\nfor m in [marker1,marker2,marker3,marker4]:\n    site_map.add_child(m)\n#site_map.add_child([marker1,marker2,marker3,marker4])",
   "execution_count": 11,
   "outputs": []
  },
  {
   "cell_type": "code",
   "metadata": {
    "cell_id": "503797b830854ae9b2c651c7a1e16fb0",
    "tags": [],
    "deepnote_to_be_reexecuted": false,
    "source_hash": "24cdd2ab",
    "execution_start": 1651531067745,
    "execution_millis": 4,
    "deepnote_cell_type": "code",
    "deepnote_cell_height": 538.1875,
    "deepnote_output_heights": [
     441.1875
    ]
   },
   "source": "site_map",
   "execution_count": 12,
   "outputs": [
    {
     "output_type": "execute_result",
     "execution_count": 12,
     "data": {
      "text/plain": "<folium.folium.Map at 0x7f7710be50d0>",
      "text/html": "<div style=\"width:100%;\"><div style=\"position:relative;width:100%;height:0;padding-bottom:60%;\"><span style=\"color:#565656\">Make this Notebook Trusted to load map: File -> Trust Notebook</span><iframe srcdoc=\"&lt;!DOCTYPE html&gt;\n&lt;head&gt;    \n    &lt;meta http-equiv=&quot;content-type&quot; content=&quot;text/html; charset=UTF-8&quot; /&gt;\n    \n        &lt;script&gt;\n            L_NO_TOUCH = false;\n            L_DISABLE_3D = false;\n        &lt;/script&gt;\n    \n    &lt;style&gt;html, body {width: 100%;height: 100%;margin: 0;padding: 0;}&lt;/style&gt;\n    &lt;style&gt;#map {position:absolute;top:0;bottom:0;right:0;left:0;}&lt;/style&gt;\n    &lt;script src=&quot;https://cdn.jsdelivr.net/npm/leaflet@1.6.0/dist/leaflet.js&quot;&gt;&lt;/script&gt;\n    &lt;script src=&quot;https://code.jquery.com/jquery-1.12.4.min.js&quot;&gt;&lt;/script&gt;\n    &lt;script src=&quot;https://maxcdn.bootstrapcdn.com/bootstrap/3.2.0/js/bootstrap.min.js&quot;&gt;&lt;/script&gt;\n    &lt;script src=&quot;https://cdnjs.cloudflare.com/ajax/libs/Leaflet.awesome-markers/2.0.2/leaflet.awesome-markers.js&quot;&gt;&lt;/script&gt;\n    &lt;link rel=&quot;stylesheet&quot; href=&quot;https://cdn.jsdelivr.net/npm/leaflet@1.6.0/dist/leaflet.css&quot;/&gt;\n    &lt;link rel=&quot;stylesheet&quot; href=&quot;https://maxcdn.bootstrapcdn.com/bootstrap/3.2.0/css/bootstrap.min.css&quot;/&gt;\n    &lt;link rel=&quot;stylesheet&quot; href=&quot;https://maxcdn.bootstrapcdn.com/bootstrap/3.2.0/css/bootstrap-theme.min.css&quot;/&gt;\n    &lt;link rel=&quot;stylesheet&quot; href=&quot;https://maxcdn.bootstrapcdn.com/font-awesome/4.6.3/css/font-awesome.min.css&quot;/&gt;\n    &lt;link rel=&quot;stylesheet&quot; href=&quot;https://cdnjs.cloudflare.com/ajax/libs/Leaflet.awesome-markers/2.0.2/leaflet.awesome-markers.css&quot;/&gt;\n    &lt;link rel=&quot;stylesheet&quot; href=&quot;https://cdn.jsdelivr.net/gh/python-visualization/folium/folium/templates/leaflet.awesome.rotate.min.css&quot;/&gt;\n    \n            &lt;meta name=&quot;viewport&quot; content=&quot;width=device-width,\n                initial-scale=1.0, maximum-scale=1.0, user-scalable=no&quot; /&gt;\n            &lt;style&gt;\n                #map_268b67e61ef56bb219cc3630fa5275e8 {\n                    position: relative;\n                    width: 100.0%;\n                    height: 100.0%;\n                    left: 0.0%;\n                    top: 0.0%;\n                }\n            &lt;/style&gt;\n        \n&lt;/head&gt;\n&lt;body&gt;    \n    \n            &lt;div class=&quot;folium-map&quot; id=&quot;map_268b67e61ef56bb219cc3630fa5275e8&quot; &gt;&lt;/div&gt;\n        \n&lt;/body&gt;\n&lt;script&gt;    \n    \n            var map_268b67e61ef56bb219cc3630fa5275e8 = L.map(\n                &quot;map_268b67e61ef56bb219cc3630fa5275e8&quot;,\n                {\n                    center: [29.559684888503615, -95.0830971930759],\n                    crs: L.CRS.EPSG3857,\n                    zoom: 5,\n                    zoomControl: true,\n                    preferCanvas: false,\n                }\n            );\n\n            \n\n        \n    \n            var tile_layer_a59fde23c5e7ac15442604a4e587fba1 = L.tileLayer(\n                &quot;https://{s}.tile.openstreetmap.org/{z}/{x}/{y}.png&quot;,\n                {&quot;attribution&quot;: &quot;Data by \\u0026copy; \\u003ca href=\\&quot;http://openstreetmap.org\\&quot;\\u003eOpenStreetMap\\u003c/a\\u003e, under \\u003ca href=\\&quot;http://www.openstreetmap.org/copyright\\&quot;\\u003eODbL\\u003c/a\\u003e.&quot;, &quot;detectRetina&quot;: false, &quot;maxNativeZoom&quot;: 18, &quot;maxZoom&quot;: 18, &quot;minZoom&quot;: 0, &quot;noWrap&quot;: false, &quot;opacity&quot;: 1, &quot;subdomains&quot;: &quot;abc&quot;, &quot;tms&quot;: false}\n            ).addTo(map_268b67e61ef56bb219cc3630fa5275e8);\n        \n    \n            var circle_7e350abc0248e4d63860fcdee5229933 = L.circle(\n                [28.56230197, -80.57735648],\n                {&quot;bubblingMouseEvents&quot;: true, &quot;color&quot;: &quot;#d35400&quot;, &quot;dashArray&quot;: null, &quot;dashOffset&quot;: null, &quot;fill&quot;: true, &quot;fillColor&quot;: &quot;#d35400&quot;, &quot;fillOpacity&quot;: 0.2, &quot;fillRule&quot;: &quot;evenodd&quot;, &quot;lineCap&quot;: &quot;round&quot;, &quot;lineJoin&quot;: &quot;round&quot;, &quot;opacity&quot;: 1.0, &quot;radius&quot;: 1000, &quot;stroke&quot;: true, &quot;weight&quot;: 3}\n            ).addTo(map_268b67e61ef56bb219cc3630fa5275e8);\n        \n    \n        var popup_a4696e19199f1fd06500f6c64ae23186 = L.popup({&quot;maxWidth&quot;: &quot;100%&quot;});\n\n        \n            var html_ec4e65d7c471166e23c29bb3ed8ebd4b = $(`&lt;div id=&quot;html_ec4e65d7c471166e23c29bb3ed8ebd4b&quot; style=&quot;width: 100.0%; height: 100.0%;&quot;&gt;CCAFS LC-40&lt;/div&gt;`)[0];\n            popup_a4696e19199f1fd06500f6c64ae23186.setContent(html_ec4e65d7c471166e23c29bb3ed8ebd4b);\n        \n\n        circle_7e350abc0248e4d63860fcdee5229933.bindPopup(popup_a4696e19199f1fd06500f6c64ae23186)\n        ;\n\n        \n    \n    \n            var circle_5f0e8648efdd3f30b2abf21711fffde6 = L.circle(\n                [28.56319718, -80.57682003],\n                {&quot;bubblingMouseEvents&quot;: true, &quot;color&quot;: &quot;#d35400&quot;, &quot;dashArray&quot;: null, &quot;dashOffset&quot;: null, &quot;fill&quot;: true, &quot;fillColor&quot;: &quot;#d35400&quot;, &quot;fillOpacity&quot;: 0.2, &quot;fillRule&quot;: &quot;evenodd&quot;, &quot;lineCap&quot;: &quot;round&quot;, &quot;lineJoin&quot;: &quot;round&quot;, &quot;opacity&quot;: 1.0, &quot;radius&quot;: 1000, &quot;stroke&quot;: true, &quot;weight&quot;: 3}\n            ).addTo(map_268b67e61ef56bb219cc3630fa5275e8);\n        \n    \n        var popup_f6daea7c0108c07eb74a2af2e9a06b49 = L.popup({&quot;maxWidth&quot;: &quot;100%&quot;});\n\n        \n            var html_1bb4be7c10ab0a65e593a56e1dc246b7 = $(`&lt;div id=&quot;html_1bb4be7c10ab0a65e593a56e1dc246b7&quot; style=&quot;width: 100.0%; height: 100.0%;&quot;&gt;CCAFS SLC-40&lt;/div&gt;`)[0];\n            popup_f6daea7c0108c07eb74a2af2e9a06b49.setContent(html_1bb4be7c10ab0a65e593a56e1dc246b7);\n        \n\n        circle_5f0e8648efdd3f30b2abf21711fffde6.bindPopup(popup_f6daea7c0108c07eb74a2af2e9a06b49)\n        ;\n\n        \n    \n    \n            var circle_0f92b99d20e1d2edb5d83c41fcc2caaa = L.circle(\n                [28.57325457, -80.64689529],\n                {&quot;bubblingMouseEvents&quot;: true, &quot;color&quot;: &quot;#d35400&quot;, &quot;dashArray&quot;: null, &quot;dashOffset&quot;: null, &quot;fill&quot;: true, &quot;fillColor&quot;: &quot;#d35400&quot;, &quot;fillOpacity&quot;: 0.2, &quot;fillRule&quot;: &quot;evenodd&quot;, &quot;lineCap&quot;: &quot;round&quot;, &quot;lineJoin&quot;: &quot;round&quot;, &quot;opacity&quot;: 1.0, &quot;radius&quot;: 1000, &quot;stroke&quot;: true, &quot;weight&quot;: 3}\n            ).addTo(map_268b67e61ef56bb219cc3630fa5275e8);\n        \n    \n        var popup_fc1e45ca5f7d571f8903fc01f4ba97dd = L.popup({&quot;maxWidth&quot;: &quot;100%&quot;});\n\n        \n            var html_5e28f9680f3a80780eaf8ed3b07c087a = $(`&lt;div id=&quot;html_5e28f9680f3a80780eaf8ed3b07c087a&quot; style=&quot;width: 100.0%; height: 100.0%;&quot;&gt;KSC LC-39A&lt;/div&gt;`)[0];\n            popup_fc1e45ca5f7d571f8903fc01f4ba97dd.setContent(html_5e28f9680f3a80780eaf8ed3b07c087a);\n        \n\n        circle_0f92b99d20e1d2edb5d83c41fcc2caaa.bindPopup(popup_fc1e45ca5f7d571f8903fc01f4ba97dd)\n        ;\n\n        \n    \n    \n            var circle_4654fe6585cd272558989ce1274b7b04 = L.circle(\n                [34.63283416, -120.6107455],\n                {&quot;bubblingMouseEvents&quot;: true, &quot;color&quot;: &quot;#d35400&quot;, &quot;dashArray&quot;: null, &quot;dashOffset&quot;: null, &quot;fill&quot;: true, &quot;fillColor&quot;: &quot;#d35400&quot;, &quot;fillOpacity&quot;: 0.2, &quot;fillRule&quot;: &quot;evenodd&quot;, &quot;lineCap&quot;: &quot;round&quot;, &quot;lineJoin&quot;: &quot;round&quot;, &quot;opacity&quot;: 1.0, &quot;radius&quot;: 1000, &quot;stroke&quot;: true, &quot;weight&quot;: 3}\n            ).addTo(map_268b67e61ef56bb219cc3630fa5275e8);\n        \n    \n        var popup_31d4028a767a6c9dbf386e7f2887fa19 = L.popup({&quot;maxWidth&quot;: &quot;100%&quot;});\n\n        \n            var html_c30aa68b00ed035d0767c8351c131f85 = $(`&lt;div id=&quot;html_c30aa68b00ed035d0767c8351c131f85&quot; style=&quot;width: 100.0%; height: 100.0%;&quot;&gt;VAFB SLC-4E&lt;/div&gt;`)[0];\n            popup_31d4028a767a6c9dbf386e7f2887fa19.setContent(html_c30aa68b00ed035d0767c8351c131f85);\n        \n\n        circle_4654fe6585cd272558989ce1274b7b04.bindPopup(popup_31d4028a767a6c9dbf386e7f2887fa19)\n        ;\n\n        \n    \n    \n            var marker_5bd35dfa2de95b34d12ab6de0e4eb0b8 = L.marker(\n                [28.56230197, -80.57735648],\n                {}\n            ).addTo(map_268b67e61ef56bb219cc3630fa5275e8);\n        \n    \n            var div_icon_251b62da8230f8c4109fefb1c0b27fd6 = L.divIcon({&quot;className&quot;: &quot;empty&quot;, &quot;html&quot;: &quot;\\u003cdiv style=\\&quot;font-size: 12; color:#d35400;\\&quot;\\u003e\\u003cb\\u003eCCAFS LC-40\\u003c/b\\u003e\\u003c/div\\u003e&quot;, &quot;iconAnchor&quot;: [0, 0], &quot;iconSize&quot;: [20, 20]});\n            marker_5bd35dfa2de95b34d12ab6de0e4eb0b8.setIcon(div_icon_251b62da8230f8c4109fefb1c0b27fd6);\n        \n    \n            var marker_8f6c13dc92518708e0f9d2a32a4a637e = L.marker(\n                [28.56319718, -80.57682003],\n                {}\n            ).addTo(map_268b67e61ef56bb219cc3630fa5275e8);\n        \n    \n            var div_icon_c32a9035aa49be79c4552eef746314d9 = L.divIcon({&quot;className&quot;: &quot;empty&quot;, &quot;html&quot;: &quot;\\u003cdiv style=\\&quot;font-size: 12; color:#d35400;\\&quot;\\u003e\\u003cb\\u003eCCAFS SLC-40\\u003c/b\\u003e\\u003c/div\\u003e&quot;, &quot;iconAnchor&quot;: [0, 0], &quot;iconSize&quot;: [20, 20]});\n            marker_8f6c13dc92518708e0f9d2a32a4a637e.setIcon(div_icon_c32a9035aa49be79c4552eef746314d9);\n        \n    \n            var marker_531a33a2177c1631b14c3ecfd9d87482 = L.marker(\n                [28.57325457, -80.64689529],\n                {}\n            ).addTo(map_268b67e61ef56bb219cc3630fa5275e8);\n        \n    \n            var div_icon_d05bab279b9b55f7965ad856e21d36d6 = L.divIcon({&quot;className&quot;: &quot;empty&quot;, &quot;html&quot;: &quot;\\u003cdiv style=\\&quot;font-size: 12; color:#d35400;\\&quot;\\u003e\\u003cb\\u003eKSC LC-39A\\u003c/b\\u003e\\u003c/div\\u003e&quot;, &quot;iconAnchor&quot;: [0, 0], &quot;iconSize&quot;: [20, 20]});\n            marker_531a33a2177c1631b14c3ecfd9d87482.setIcon(div_icon_d05bab279b9b55f7965ad856e21d36d6);\n        \n    \n            var marker_7e1e2c335ef43344e4b9b2abb408e05c = L.marker(\n                [34.63283416, -120.6107455],\n                {}\n            ).addTo(map_268b67e61ef56bb219cc3630fa5275e8);\n        \n    \n            var div_icon_4d5fa2fbdec5f1c9fab1851dc1f1df07 = L.divIcon({&quot;className&quot;: &quot;empty&quot;, &quot;html&quot;: &quot;\\u003cdiv style=\\&quot;font-size: 12; color:#d35400;\\&quot;\\u003e\\u003cb\\u003eVAFB SLC-4E\\u003c/b\\u003e\\u003c/div\\u003e&quot;, &quot;iconAnchor&quot;: [0, 0], &quot;iconSize&quot;: [20, 20]});\n            marker_7e1e2c335ef43344e4b9b2abb408e05c.setIcon(div_icon_4d5fa2fbdec5f1c9fab1851dc1f1df07);\n        \n&lt;/script&gt;\" style=\"position:absolute;width:100%;height:100%;left:0;top:0;border:none !important;\" allowfullscreen webkitallowfullscreen mozallowfullscreen></iframe></div></div>"
     },
     "metadata": {}
    }
   ]
  },
  {
   "cell_type": "markdown",
   "source": "The generated map with marked launch sites should look similar to the following:\n",
   "metadata": {
    "cell_id": "00032-6caf29a5-b323-4162-8ab9-32db2f337f89",
    "deepnote_cell_type": "markdown",
    "deepnote_cell_height": 52.390625
   }
  },
  {
   "cell_type": "markdown",
   "source": "<center>\n    <img src=\"https://cf-courses-data.s3.us.cloud-object-storage.appdomain.cloud/IBM-DS0321EN-SkillsNetwork/labs/module_3/images/launch_site_markers.png\" />\n</center>\n",
   "metadata": {
    "cell_id": "00033-ab7b0650-4682-4170-94f2-e5e70ee69c3f",
    "deepnote_cell_type": "markdown",
    "deepnote_cell_height": 70
   }
  },
  {
   "cell_type": "markdown",
   "source": "Now, you can explore the map by zoom-in/out the marked areas\n, and try to answer the following questions:\n\n*   Are all launch sites in proximity to the Equator line?\n*   Are all launch sites in very close proximity to the coast?\n\nAlso please try to explain your findings.\n",
   "metadata": {
    "cell_id": "00034-996ebb13-d5de-4589-8441-dc4165b4c615",
    "deepnote_cell_type": "markdown",
    "deepnote_cell_height": 150.59375
   }
  },
  {
   "cell_type": "markdown",
   "source": "# Task 2: Mark the success/failed launches for each site on the map\n",
   "metadata": {
    "cell_id": "00035-35c253d1-acfa-49f0-b31b-0018b9c0549f",
    "deepnote_cell_type": "markdown",
    "deepnote_cell_height": 134
   }
  },
  {
   "cell_type": "markdown",
   "source": "Next, let's try to enhance the map by adding the launch outcomes for each site, and see which sites have high success rates.\nRecall that data frame spacex_df has detailed launch records, and the `class` column indicates if this launch was successful or not\n",
   "metadata": {
    "cell_id": "00036-68d733c5-aa3f-4e30-bc96-18e3aa3d8a95",
    "deepnote_cell_type": "markdown",
    "deepnote_cell_height": 97.1875
   }
  },
  {
   "cell_type": "code",
   "metadata": {
    "cell_id": "00037-bb6e8366-7b59-4f87-ada9-291c7b05aaaf",
    "deepnote_to_be_reexecuted": false,
    "source_hash": "413759f",
    "execution_start": 1651531067772,
    "execution_millis": 8,
    "deepnote_cell_type": "code",
    "deepnote_cell_height": 600
   },
   "source": "spacex_df.tail(10)",
   "execution_count": 13,
   "outputs": [
    {
     "output_type": "execute_result",
     "execution_count": 13,
     "data": {
      "application/vnd.deepnote.dataframe.v3+json": {
       "column_count": 4,
       "row_count": 10,
       "columns": [
        {
         "name": "Launch Site",
         "dtype": "object",
         "stats": {
          "unique_count": 2,
          "nan_count": 0,
          "categories": [
           {
            "name": "CCAFS SLC-40",
            "count": 7
           },
           {
            "name": "KSC LC-39A",
            "count": 3
           }
          ]
         }
        },
        {
         "name": "Lat",
         "dtype": "float64",
         "stats": {
          "unique_count": 2,
          "nan_count": 0,
          "min": "28.56319718",
          "max": "28.57325457",
          "histogram": [
           {
            "bin_start": 28.56319718,
            "bin_end": 28.564202919,
            "count": 7
           },
           {
            "bin_start": 28.564202919,
            "bin_end": 28.565208658,
            "count": 0
           },
           {
            "bin_start": 28.565208658,
            "bin_end": 28.566214397,
            "count": 0
           },
           {
            "bin_start": 28.566214397,
            "bin_end": 28.567220136,
            "count": 0
           },
           {
            "bin_start": 28.567220136,
            "bin_end": 28.568225875,
            "count": 0
           },
           {
            "bin_start": 28.568225875,
            "bin_end": 28.569231614,
            "count": 0
           },
           {
            "bin_start": 28.569231614,
            "bin_end": 28.570237353,
            "count": 0
           },
           {
            "bin_start": 28.570237353,
            "bin_end": 28.571243092,
            "count": 0
           },
           {
            "bin_start": 28.571243092,
            "bin_end": 28.572248831,
            "count": 0
           },
           {
            "bin_start": 28.572248831,
            "bin_end": 28.57325457,
            "count": 3
           }
          ]
         }
        },
        {
         "name": "Long",
         "dtype": "float64",
         "stats": {
          "unique_count": 2,
          "nan_count": 0,
          "min": "-80.64689529",
          "max": "-80.57682003",
          "histogram": [
           {
            "bin_start": -80.64689529,
            "bin_end": -80.63988776400001,
            "count": 3
           },
           {
            "bin_start": -80.63988776400001,
            "bin_end": -80.632880238,
            "count": 0
           },
           {
            "bin_start": -80.632880238,
            "bin_end": -80.625872712,
            "count": 0
           },
           {
            "bin_start": -80.625872712,
            "bin_end": -80.618865186,
            "count": 0
           },
           {
            "bin_start": -80.618865186,
            "bin_end": -80.61185766,
            "count": 0
           },
           {
            "bin_start": -80.61185766,
            "bin_end": -80.604850134,
            "count": 0
           },
           {
            "bin_start": -80.604850134,
            "bin_end": -80.597842608,
            "count": 0
           },
           {
            "bin_start": -80.597842608,
            "bin_end": -80.590835082,
            "count": 0
           },
           {
            "bin_start": -80.590835082,
            "bin_end": -80.58382755599999,
            "count": 0
           },
           {
            "bin_start": -80.58382755599999,
            "bin_end": -80.57682003,
            "count": 7
           }
          ]
         }
        },
        {
         "name": "class",
         "dtype": "int64",
         "stats": {
          "unique_count": 2,
          "nan_count": 0,
          "min": "0",
          "max": "1",
          "histogram": [
           {
            "bin_start": 0,
            "bin_end": 0.1,
            "count": 4
           },
           {
            "bin_start": 0.1,
            "bin_end": 0.2,
            "count": 0
           },
           {
            "bin_start": 0.2,
            "bin_end": 0.30000000000000004,
            "count": 0
           },
           {
            "bin_start": 0.30000000000000004,
            "bin_end": 0.4,
            "count": 0
           },
           {
            "bin_start": 0.4,
            "bin_end": 0.5,
            "count": 0
           },
           {
            "bin_start": 0.5,
            "bin_end": 0.6000000000000001,
            "count": 0
           },
           {
            "bin_start": 0.6000000000000001,
            "bin_end": 0.7000000000000001,
            "count": 0
           },
           {
            "bin_start": 0.7000000000000001,
            "bin_end": 0.8,
            "count": 0
           },
           {
            "bin_start": 0.8,
            "bin_end": 0.9,
            "count": 0
           },
           {
            "bin_start": 0.9,
            "bin_end": 1,
            "count": 6
           }
          ]
         }
        },
        {
         "name": "_deepnote_index_column",
         "dtype": "int64"
        }
       ],
       "rows": [
        {
         "Launch Site": "KSC LC-39A",
         "Lat": 28.57325457,
         "Long": -80.64689529,
         "class": 1,
         "_deepnote_index_column": 46
        },
        {
         "Launch Site": "KSC LC-39A",
         "Lat": 28.57325457,
         "Long": -80.64689529,
         "class": 1,
         "_deepnote_index_column": 47
        },
        {
         "Launch Site": "KSC LC-39A",
         "Lat": 28.57325457,
         "Long": -80.64689529,
         "class": 1,
         "_deepnote_index_column": 48
        },
        {
         "Launch Site": "CCAFS SLC-40",
         "Lat": 28.56319718,
         "Long": -80.57682003,
         "class": 1,
         "_deepnote_index_column": 49
        },
        {
         "Launch Site": "CCAFS SLC-40",
         "Lat": 28.56319718,
         "Long": -80.57682003,
         "class": 1,
         "_deepnote_index_column": 50
        },
        {
         "Launch Site": "CCAFS SLC-40",
         "Lat": 28.56319718,
         "Long": -80.57682003,
         "class": 0,
         "_deepnote_index_column": 51
        },
        {
         "Launch Site": "CCAFS SLC-40",
         "Lat": 28.56319718,
         "Long": -80.57682003,
         "class": 0,
         "_deepnote_index_column": 52
        },
        {
         "Launch Site": "CCAFS SLC-40",
         "Lat": 28.56319718,
         "Long": -80.57682003,
         "class": 0,
         "_deepnote_index_column": 53
        },
        {
         "Launch Site": "CCAFS SLC-40",
         "Lat": 28.56319718,
         "Long": -80.57682003,
         "class": 1,
         "_deepnote_index_column": 54
        },
        {
         "Launch Site": "CCAFS SLC-40",
         "Lat": 28.56319718,
         "Long": -80.57682003,
         "class": 0,
         "_deepnote_index_column": 55
        }
       ]
      },
      "text/plain": "     Launch Site        Lat       Long  class\n46    KSC LC-39A  28.573255 -80.646895      1\n47    KSC LC-39A  28.573255 -80.646895      1\n48    KSC LC-39A  28.573255 -80.646895      1\n49  CCAFS SLC-40  28.563197 -80.576820      1\n50  CCAFS SLC-40  28.563197 -80.576820      1\n51  CCAFS SLC-40  28.563197 -80.576820      0\n52  CCAFS SLC-40  28.563197 -80.576820      0\n53  CCAFS SLC-40  28.563197 -80.576820      0\n54  CCAFS SLC-40  28.563197 -80.576820      1\n55  CCAFS SLC-40  28.563197 -80.576820      0",
      "text/html": "<div>\n<style scoped>\n    .dataframe tbody tr th:only-of-type {\n        vertical-align: middle;\n    }\n\n    .dataframe tbody tr th {\n        vertical-align: top;\n    }\n\n    .dataframe thead th {\n        text-align: right;\n    }\n</style>\n<table border=\"1\" class=\"dataframe\">\n  <thead>\n    <tr style=\"text-align: right;\">\n      <th></th>\n      <th>Launch Site</th>\n      <th>Lat</th>\n      <th>Long</th>\n      <th>class</th>\n    </tr>\n  </thead>\n  <tbody>\n    <tr>\n      <th>46</th>\n      <td>KSC LC-39A</td>\n      <td>28.573255</td>\n      <td>-80.646895</td>\n      <td>1</td>\n    </tr>\n    <tr>\n      <th>47</th>\n      <td>KSC LC-39A</td>\n      <td>28.573255</td>\n      <td>-80.646895</td>\n      <td>1</td>\n    </tr>\n    <tr>\n      <th>48</th>\n      <td>KSC LC-39A</td>\n      <td>28.573255</td>\n      <td>-80.646895</td>\n      <td>1</td>\n    </tr>\n    <tr>\n      <th>49</th>\n      <td>CCAFS SLC-40</td>\n      <td>28.563197</td>\n      <td>-80.576820</td>\n      <td>1</td>\n    </tr>\n    <tr>\n      <th>50</th>\n      <td>CCAFS SLC-40</td>\n      <td>28.563197</td>\n      <td>-80.576820</td>\n      <td>1</td>\n    </tr>\n    <tr>\n      <th>51</th>\n      <td>CCAFS SLC-40</td>\n      <td>28.563197</td>\n      <td>-80.576820</td>\n      <td>0</td>\n    </tr>\n    <tr>\n      <th>52</th>\n      <td>CCAFS SLC-40</td>\n      <td>28.563197</td>\n      <td>-80.576820</td>\n      <td>0</td>\n    </tr>\n    <tr>\n      <th>53</th>\n      <td>CCAFS SLC-40</td>\n      <td>28.563197</td>\n      <td>-80.576820</td>\n      <td>0</td>\n    </tr>\n    <tr>\n      <th>54</th>\n      <td>CCAFS SLC-40</td>\n      <td>28.563197</td>\n      <td>-80.576820</td>\n      <td>1</td>\n    </tr>\n    <tr>\n      <th>55</th>\n      <td>CCAFS SLC-40</td>\n      <td>28.563197</td>\n      <td>-80.576820</td>\n      <td>0</td>\n    </tr>\n  </tbody>\n</table>\n</div>"
     },
     "metadata": {}
    }
   ]
  },
  {
   "cell_type": "markdown",
   "source": "Next, let's create markers for all launch records.\nIf a launch was successful `(class=1)`, then we use a green marker and if a launch was failed, we use a red marker `(class=0)`\n",
   "metadata": {
    "cell_id": "00038-5fa5e08d-7c3e-4f39-8e77-cf46325ed5c3",
    "deepnote_cell_type": "markdown",
    "deepnote_cell_height": 74.796875
   }
  },
  {
   "cell_type": "markdown",
   "source": "Note that a launch only happens in one of the four launch sites, which means many launch records will have the exact same coordinate. Marker clusters can be a good way to simplify a map containing many markers having the same coordinate.\n",
   "metadata": {
    "cell_id": "00039-8c5d0a69-10e8-4d81-b57a-768376b3f327",
    "deepnote_cell_type": "markdown",
    "deepnote_cell_height": 97.1875
   }
  },
  {
   "cell_type": "markdown",
   "source": "Let's first create a `MarkerCluster` object\n",
   "metadata": {
    "cell_id": "00040-e23c1d30-db8b-4b29-85de-85207ede30f7",
    "deepnote_cell_type": "markdown",
    "deepnote_cell_height": 52.390625
   }
  },
  {
   "cell_type": "code",
   "metadata": {
    "id": "wP9PVUZ7Jfjt",
    "outputId": "6a3b8164-940c-4b93-9f3d-c655c4a0c683",
    "papermill": {
     "duration": 0.904519,
     "end_time": "2020-09-19T06:27:38.357041",
     "exception": false,
     "start_time": "2020-09-19T06:27:37.452522",
     "status": "completed"
    },
    "tags": [],
    "cell_id": "00041-d184d024-9b7d-41a5-a991-4f593b30be3c",
    "deepnote_to_be_reexecuted": false,
    "source_hash": "d0819922",
    "execution_start": 1651531067781,
    "execution_millis": 1,
    "deepnote_cell_type": "code",
    "deepnote_cell_height": 99
   },
   "source": "marker_cluster = MarkerCluster()\n",
   "execution_count": 14,
   "outputs": []
  },
  {
   "cell_type": "markdown",
   "source": "*TODO:* Create a new column in `launch_sites` dataframe called `marker_color` to store the marker colors based on the `class` value\n",
   "metadata": {
    "cell_id": "00042-0b642f92-e7e8-4e90-a2bc-49496ca9e6f3",
    "deepnote_cell_type": "markdown",
    "deepnote_cell_height": 74.796875
   }
  },
  {
   "cell_type": "code",
   "metadata": {
    "cell_id": "00043-73982bdd-9ae9-438f-b49e-9da218794744",
    "deepnote_to_be_reexecuted": false,
    "source_hash": "a725f0ef",
    "execution_start": 1651531067834,
    "execution_millis": 0,
    "deepnote_cell_type": "code",
    "deepnote_cell_height": 297
   },
   "source": "\n# Apply a function to check the value of `class` column\n# If class=1, marker_color value will be green\n# If class=0, marker_color value will be red\n\nmarker_color = []\ni=0\nfor i in range(len(spacex_df)):\n    if spacex_df.loc[i,'class'] == 1:\n        marker_color.append('green')\n    else:\n        marker_color.append('red')\n",
   "execution_count": 15,
   "outputs": []
  },
  {
   "cell_type": "code",
   "metadata": {
    "cell_id": "00044-f3611f93-9dbb-45bd-b790-10e96492eaf9",
    "deepnote_to_be_reexecuted": false,
    "source_hash": "684db13c",
    "execution_start": 1651531067835,
    "execution_millis": 5,
    "deepnote_cell_type": "code",
    "deepnote_cell_height": 780
   },
   "source": "# Function to assign color to launch outcome\n\ndef assign_marker_color(launch_outcome):\n    if launch_outcome == 1:\n        return 'green'\n    else:\n        return 'red'\n    \nspacex_df['marker_color'] = spacex_df['class'].apply(assign_marker_color)\nspacex_df.tail(10)\n",
   "execution_count": 16,
   "outputs": [
    {
     "output_type": "execute_result",
     "execution_count": 16,
     "data": {
      "application/vnd.deepnote.dataframe.v3+json": {
       "column_count": 5,
       "row_count": 10,
       "columns": [
        {
         "name": "Launch Site",
         "dtype": "object",
         "stats": {
          "unique_count": 2,
          "nan_count": 0,
          "categories": [
           {
            "name": "CCAFS SLC-40",
            "count": 7
           },
           {
            "name": "KSC LC-39A",
            "count": 3
           }
          ]
         }
        },
        {
         "name": "Lat",
         "dtype": "float64",
         "stats": {
          "unique_count": 2,
          "nan_count": 0,
          "min": "28.56319718",
          "max": "28.57325457",
          "histogram": [
           {
            "bin_start": 28.56319718,
            "bin_end": 28.564202919,
            "count": 7
           },
           {
            "bin_start": 28.564202919,
            "bin_end": 28.565208658,
            "count": 0
           },
           {
            "bin_start": 28.565208658,
            "bin_end": 28.566214397,
            "count": 0
           },
           {
            "bin_start": 28.566214397,
            "bin_end": 28.567220136,
            "count": 0
           },
           {
            "bin_start": 28.567220136,
            "bin_end": 28.568225875,
            "count": 0
           },
           {
            "bin_start": 28.568225875,
            "bin_end": 28.569231614,
            "count": 0
           },
           {
            "bin_start": 28.569231614,
            "bin_end": 28.570237353,
            "count": 0
           },
           {
            "bin_start": 28.570237353,
            "bin_end": 28.571243092,
            "count": 0
           },
           {
            "bin_start": 28.571243092,
            "bin_end": 28.572248831,
            "count": 0
           },
           {
            "bin_start": 28.572248831,
            "bin_end": 28.57325457,
            "count": 3
           }
          ]
         }
        },
        {
         "name": "Long",
         "dtype": "float64",
         "stats": {
          "unique_count": 2,
          "nan_count": 0,
          "min": "-80.64689529",
          "max": "-80.57682003",
          "histogram": [
           {
            "bin_start": -80.64689529,
            "bin_end": -80.63988776400001,
            "count": 3
           },
           {
            "bin_start": -80.63988776400001,
            "bin_end": -80.632880238,
            "count": 0
           },
           {
            "bin_start": -80.632880238,
            "bin_end": -80.625872712,
            "count": 0
           },
           {
            "bin_start": -80.625872712,
            "bin_end": -80.618865186,
            "count": 0
           },
           {
            "bin_start": -80.618865186,
            "bin_end": -80.61185766,
            "count": 0
           },
           {
            "bin_start": -80.61185766,
            "bin_end": -80.604850134,
            "count": 0
           },
           {
            "bin_start": -80.604850134,
            "bin_end": -80.597842608,
            "count": 0
           },
           {
            "bin_start": -80.597842608,
            "bin_end": -80.590835082,
            "count": 0
           },
           {
            "bin_start": -80.590835082,
            "bin_end": -80.58382755599999,
            "count": 0
           },
           {
            "bin_start": -80.58382755599999,
            "bin_end": -80.57682003,
            "count": 7
           }
          ]
         }
        },
        {
         "name": "class",
         "dtype": "int64",
         "stats": {
          "unique_count": 2,
          "nan_count": 0,
          "min": "0",
          "max": "1",
          "histogram": [
           {
            "bin_start": 0,
            "bin_end": 0.1,
            "count": 4
           },
           {
            "bin_start": 0.1,
            "bin_end": 0.2,
            "count": 0
           },
           {
            "bin_start": 0.2,
            "bin_end": 0.30000000000000004,
            "count": 0
           },
           {
            "bin_start": 0.30000000000000004,
            "bin_end": 0.4,
            "count": 0
           },
           {
            "bin_start": 0.4,
            "bin_end": 0.5,
            "count": 0
           },
           {
            "bin_start": 0.5,
            "bin_end": 0.6000000000000001,
            "count": 0
           },
           {
            "bin_start": 0.6000000000000001,
            "bin_end": 0.7000000000000001,
            "count": 0
           },
           {
            "bin_start": 0.7000000000000001,
            "bin_end": 0.8,
            "count": 0
           },
           {
            "bin_start": 0.8,
            "bin_end": 0.9,
            "count": 0
           },
           {
            "bin_start": 0.9,
            "bin_end": 1,
            "count": 6
           }
          ]
         }
        },
        {
         "name": "marker_color",
         "dtype": "object",
         "stats": {
          "unique_count": 2,
          "nan_count": 0,
          "categories": [
           {
            "name": "green",
            "count": 6
           },
           {
            "name": "red",
            "count": 4
           }
          ]
         }
        },
        {
         "name": "_deepnote_index_column",
         "dtype": "int64"
        }
       ],
       "rows": [
        {
         "Launch Site": "KSC LC-39A",
         "Lat": 28.57325457,
         "Long": -80.64689529,
         "class": 1,
         "marker_color": "green",
         "_deepnote_index_column": 46
        },
        {
         "Launch Site": "KSC LC-39A",
         "Lat": 28.57325457,
         "Long": -80.64689529,
         "class": 1,
         "marker_color": "green",
         "_deepnote_index_column": 47
        },
        {
         "Launch Site": "KSC LC-39A",
         "Lat": 28.57325457,
         "Long": -80.64689529,
         "class": 1,
         "marker_color": "green",
         "_deepnote_index_column": 48
        },
        {
         "Launch Site": "CCAFS SLC-40",
         "Lat": 28.56319718,
         "Long": -80.57682003,
         "class": 1,
         "marker_color": "green",
         "_deepnote_index_column": 49
        },
        {
         "Launch Site": "CCAFS SLC-40",
         "Lat": 28.56319718,
         "Long": -80.57682003,
         "class": 1,
         "marker_color": "green",
         "_deepnote_index_column": 50
        },
        {
         "Launch Site": "CCAFS SLC-40",
         "Lat": 28.56319718,
         "Long": -80.57682003,
         "class": 0,
         "marker_color": "red",
         "_deepnote_index_column": 51
        },
        {
         "Launch Site": "CCAFS SLC-40",
         "Lat": 28.56319718,
         "Long": -80.57682003,
         "class": 0,
         "marker_color": "red",
         "_deepnote_index_column": 52
        },
        {
         "Launch Site": "CCAFS SLC-40",
         "Lat": 28.56319718,
         "Long": -80.57682003,
         "class": 0,
         "marker_color": "red",
         "_deepnote_index_column": 53
        },
        {
         "Launch Site": "CCAFS SLC-40",
         "Lat": 28.56319718,
         "Long": -80.57682003,
         "class": 1,
         "marker_color": "green",
         "_deepnote_index_column": 54
        },
        {
         "Launch Site": "CCAFS SLC-40",
         "Lat": 28.56319718,
         "Long": -80.57682003,
         "class": 0,
         "marker_color": "red",
         "_deepnote_index_column": 55
        }
       ]
      },
      "text/plain": "     Launch Site        Lat       Long  class marker_color\n46    KSC LC-39A  28.573255 -80.646895      1        green\n47    KSC LC-39A  28.573255 -80.646895      1        green\n48    KSC LC-39A  28.573255 -80.646895      1        green\n49  CCAFS SLC-40  28.563197 -80.576820      1        green\n50  CCAFS SLC-40  28.563197 -80.576820      1        green\n51  CCAFS SLC-40  28.563197 -80.576820      0          red\n52  CCAFS SLC-40  28.563197 -80.576820      0          red\n53  CCAFS SLC-40  28.563197 -80.576820      0          red\n54  CCAFS SLC-40  28.563197 -80.576820      1        green\n55  CCAFS SLC-40  28.563197 -80.576820      0          red",
      "text/html": "<div>\n<style scoped>\n    .dataframe tbody tr th:only-of-type {\n        vertical-align: middle;\n    }\n\n    .dataframe tbody tr th {\n        vertical-align: top;\n    }\n\n    .dataframe thead th {\n        text-align: right;\n    }\n</style>\n<table border=\"1\" class=\"dataframe\">\n  <thead>\n    <tr style=\"text-align: right;\">\n      <th></th>\n      <th>Launch Site</th>\n      <th>Lat</th>\n      <th>Long</th>\n      <th>class</th>\n      <th>marker_color</th>\n    </tr>\n  </thead>\n  <tbody>\n    <tr>\n      <th>46</th>\n      <td>KSC LC-39A</td>\n      <td>28.573255</td>\n      <td>-80.646895</td>\n      <td>1</td>\n      <td>green</td>\n    </tr>\n    <tr>\n      <th>47</th>\n      <td>KSC LC-39A</td>\n      <td>28.573255</td>\n      <td>-80.646895</td>\n      <td>1</td>\n      <td>green</td>\n    </tr>\n    <tr>\n      <th>48</th>\n      <td>KSC LC-39A</td>\n      <td>28.573255</td>\n      <td>-80.646895</td>\n      <td>1</td>\n      <td>green</td>\n    </tr>\n    <tr>\n      <th>49</th>\n      <td>CCAFS SLC-40</td>\n      <td>28.563197</td>\n      <td>-80.576820</td>\n      <td>1</td>\n      <td>green</td>\n    </tr>\n    <tr>\n      <th>50</th>\n      <td>CCAFS SLC-40</td>\n      <td>28.563197</td>\n      <td>-80.576820</td>\n      <td>1</td>\n      <td>green</td>\n    </tr>\n    <tr>\n      <th>51</th>\n      <td>CCAFS SLC-40</td>\n      <td>28.563197</td>\n      <td>-80.576820</td>\n      <td>0</td>\n      <td>red</td>\n    </tr>\n    <tr>\n      <th>52</th>\n      <td>CCAFS SLC-40</td>\n      <td>28.563197</td>\n      <td>-80.576820</td>\n      <td>0</td>\n      <td>red</td>\n    </tr>\n    <tr>\n      <th>53</th>\n      <td>CCAFS SLC-40</td>\n      <td>28.563197</td>\n      <td>-80.576820</td>\n      <td>0</td>\n      <td>red</td>\n    </tr>\n    <tr>\n      <th>54</th>\n      <td>CCAFS SLC-40</td>\n      <td>28.563197</td>\n      <td>-80.576820</td>\n      <td>1</td>\n      <td>green</td>\n    </tr>\n    <tr>\n      <th>55</th>\n      <td>CCAFS SLC-40</td>\n      <td>28.563197</td>\n      <td>-80.576820</td>\n      <td>0</td>\n      <td>red</td>\n    </tr>\n  </tbody>\n</table>\n</div>"
     },
     "metadata": {}
    }
   ]
  },
  {
   "cell_type": "markdown",
   "source": "*TODO:* For each launch result in `spacex_df` data frame, add a `folium.Marker` to `marker_cluster`\n",
   "metadata": {
    "cell_id": "00045-cab9ff26-a5e5-4ad7-b517-d302780f6700",
    "deepnote_cell_type": "markdown",
    "deepnote_cell_height": 52.390625
   }
  },
  {
   "cell_type": "code",
   "metadata": {
    "cell_id": "00046-db98d15c-f87e-4394-8849-1132008f38ca",
    "deepnote_to_be_reexecuted": false,
    "source_hash": "b55bccd5",
    "execution_start": 1651531067854,
    "execution_millis": 121,
    "deepnote_cell_type": "code",
    "deepnote_cell_height": 790.1875,
    "deepnote_output_heights": [
     441.1875
    ]
   },
   "source": "# Add marker_cluster to current site_map\nsite_map.add_child(marker_cluster)\n\n# for each row in spacex_df data frame\n# create a Marker object with its coordinate\n# and customize the Marker's icon property to indicate if this launch was successed or failed, \n# e.g., icon=folium.Icon(color='white', icon_color=row['marker_color']\nfor index, record in spacex_df.iterrows():\n    # TODO: Create and add a Marker cluster to the site map\n    marker = folium.Marker(location=[record.Lat,record.Long],popup=index,icon=folium.Icon(color=record.marker_color))\n    marker_cluster.add_child(marker)\n\nsite_map\n\n",
   "execution_count": 17,
   "outputs": [
    {
     "output_type": "execute_result",
     "execution_count": 17,
     "data": {
      "text/plain": "<folium.folium.Map at 0x7f7710be50d0>",
      "text/html": "<div style=\"width:100%;\"><div style=\"position:relative;width:100%;height:0;padding-bottom:60%;\"><span style=\"color:#565656\">Make this Notebook Trusted to load map: File -> Trust Notebook</span><iframe srcdoc=\"&lt;!DOCTYPE html&gt;\n&lt;head&gt;    \n    &lt;meta http-equiv=&quot;content-type&quot; content=&quot;text/html; charset=UTF-8&quot; /&gt;\n    \n        &lt;script&gt;\n            L_NO_TOUCH = false;\n            L_DISABLE_3D = false;\n        &lt;/script&gt;\n    \n    &lt;style&gt;html, body {width: 100%;height: 100%;margin: 0;padding: 0;}&lt;/style&gt;\n    &lt;style&gt;#map {position:absolute;top:0;bottom:0;right:0;left:0;}&lt;/style&gt;\n    &lt;script src=&quot;https://cdn.jsdelivr.net/npm/leaflet@1.6.0/dist/leaflet.js&quot;&gt;&lt;/script&gt;\n    &lt;script src=&quot;https://code.jquery.com/jquery-1.12.4.min.js&quot;&gt;&lt;/script&gt;\n    &lt;script src=&quot;https://maxcdn.bootstrapcdn.com/bootstrap/3.2.0/js/bootstrap.min.js&quot;&gt;&lt;/script&gt;\n    &lt;script src=&quot;https://cdnjs.cloudflare.com/ajax/libs/Leaflet.awesome-markers/2.0.2/leaflet.awesome-markers.js&quot;&gt;&lt;/script&gt;\n    &lt;link rel=&quot;stylesheet&quot; href=&quot;https://cdn.jsdelivr.net/npm/leaflet@1.6.0/dist/leaflet.css&quot;/&gt;\n    &lt;link rel=&quot;stylesheet&quot; href=&quot;https://maxcdn.bootstrapcdn.com/bootstrap/3.2.0/css/bootstrap.min.css&quot;/&gt;\n    &lt;link rel=&quot;stylesheet&quot; href=&quot;https://maxcdn.bootstrapcdn.com/bootstrap/3.2.0/css/bootstrap-theme.min.css&quot;/&gt;\n    &lt;link rel=&quot;stylesheet&quot; href=&quot;https://maxcdn.bootstrapcdn.com/font-awesome/4.6.3/css/font-awesome.min.css&quot;/&gt;\n    &lt;link rel=&quot;stylesheet&quot; href=&quot;https://cdnjs.cloudflare.com/ajax/libs/Leaflet.awesome-markers/2.0.2/leaflet.awesome-markers.css&quot;/&gt;\n    &lt;link rel=&quot;stylesheet&quot; href=&quot;https://cdn.jsdelivr.net/gh/python-visualization/folium/folium/templates/leaflet.awesome.rotate.min.css&quot;/&gt;\n    \n            &lt;meta name=&quot;viewport&quot; content=&quot;width=device-width,\n                initial-scale=1.0, maximum-scale=1.0, user-scalable=no&quot; /&gt;\n            &lt;style&gt;\n                #map_268b67e61ef56bb219cc3630fa5275e8 {\n                    position: relative;\n                    width: 100.0%;\n                    height: 100.0%;\n                    left: 0.0%;\n                    top: 0.0%;\n                }\n            &lt;/style&gt;\n        \n    &lt;script src=&quot;https://cdnjs.cloudflare.com/ajax/libs/leaflet.markercluster/1.1.0/leaflet.markercluster.js&quot;&gt;&lt;/script&gt;\n    &lt;link rel=&quot;stylesheet&quot; href=&quot;https://cdnjs.cloudflare.com/ajax/libs/leaflet.markercluster/1.1.0/MarkerCluster.css&quot;/&gt;\n    &lt;link rel=&quot;stylesheet&quot; href=&quot;https://cdnjs.cloudflare.com/ajax/libs/leaflet.markercluster/1.1.0/MarkerCluster.Default.css&quot;/&gt;\n&lt;/head&gt;\n&lt;body&gt;    \n    \n            &lt;div class=&quot;folium-map&quot; id=&quot;map_268b67e61ef56bb219cc3630fa5275e8&quot; &gt;&lt;/div&gt;\n        \n&lt;/body&gt;\n&lt;script&gt;    \n    \n            var map_268b67e61ef56bb219cc3630fa5275e8 = L.map(\n                &quot;map_268b67e61ef56bb219cc3630fa5275e8&quot;,\n                {\n                    center: [29.559684888503615, -95.0830971930759],\n                    crs: L.CRS.EPSG3857,\n                    zoom: 5,\n                    zoomControl: true,\n                    preferCanvas: false,\n                }\n            );\n\n            \n\n        \n    \n            var tile_layer_a59fde23c5e7ac15442604a4e587fba1 = L.tileLayer(\n                &quot;https://{s}.tile.openstreetmap.org/{z}/{x}/{y}.png&quot;,\n                {&quot;attribution&quot;: &quot;Data by \\u0026copy; \\u003ca href=\\&quot;http://openstreetmap.org\\&quot;\\u003eOpenStreetMap\\u003c/a\\u003e, under \\u003ca href=\\&quot;http://www.openstreetmap.org/copyright\\&quot;\\u003eODbL\\u003c/a\\u003e.&quot;, &quot;detectRetina&quot;: false, &quot;maxNativeZoom&quot;: 18, &quot;maxZoom&quot;: 18, &quot;minZoom&quot;: 0, &quot;noWrap&quot;: false, &quot;opacity&quot;: 1, &quot;subdomains&quot;: &quot;abc&quot;, &quot;tms&quot;: false}\n            ).addTo(map_268b67e61ef56bb219cc3630fa5275e8);\n        \n    \n            var circle_7e350abc0248e4d63860fcdee5229933 = L.circle(\n                [28.56230197, -80.57735648],\n                {&quot;bubblingMouseEvents&quot;: true, &quot;color&quot;: &quot;#d35400&quot;, &quot;dashArray&quot;: null, &quot;dashOffset&quot;: null, &quot;fill&quot;: true, &quot;fillColor&quot;: &quot;#d35400&quot;, &quot;fillOpacity&quot;: 0.2, &quot;fillRule&quot;: &quot;evenodd&quot;, &quot;lineCap&quot;: &quot;round&quot;, &quot;lineJoin&quot;: &quot;round&quot;, &quot;opacity&quot;: 1.0, &quot;radius&quot;: 1000, &quot;stroke&quot;: true, &quot;weight&quot;: 3}\n            ).addTo(map_268b67e61ef56bb219cc3630fa5275e8);\n        \n    \n        var popup_a4696e19199f1fd06500f6c64ae23186 = L.popup({&quot;maxWidth&quot;: &quot;100%&quot;});\n\n        \n            var html_ec4e65d7c471166e23c29bb3ed8ebd4b = $(`&lt;div id=&quot;html_ec4e65d7c471166e23c29bb3ed8ebd4b&quot; style=&quot;width: 100.0%; height: 100.0%;&quot;&gt;CCAFS LC-40&lt;/div&gt;`)[0];\n            popup_a4696e19199f1fd06500f6c64ae23186.setContent(html_ec4e65d7c471166e23c29bb3ed8ebd4b);\n        \n\n        circle_7e350abc0248e4d63860fcdee5229933.bindPopup(popup_a4696e19199f1fd06500f6c64ae23186)\n        ;\n\n        \n    \n    \n            var circle_5f0e8648efdd3f30b2abf21711fffde6 = L.circle(\n                [28.56319718, -80.57682003],\n                {&quot;bubblingMouseEvents&quot;: true, &quot;color&quot;: &quot;#d35400&quot;, &quot;dashArray&quot;: null, &quot;dashOffset&quot;: null, &quot;fill&quot;: true, &quot;fillColor&quot;: &quot;#d35400&quot;, &quot;fillOpacity&quot;: 0.2, &quot;fillRule&quot;: &quot;evenodd&quot;, &quot;lineCap&quot;: &quot;round&quot;, &quot;lineJoin&quot;: &quot;round&quot;, &quot;opacity&quot;: 1.0, &quot;radius&quot;: 1000, &quot;stroke&quot;: true, &quot;weight&quot;: 3}\n            ).addTo(map_268b67e61ef56bb219cc3630fa5275e8);\n        \n    \n        var popup_f6daea7c0108c07eb74a2af2e9a06b49 = L.popup({&quot;maxWidth&quot;: &quot;100%&quot;});\n\n        \n            var html_1bb4be7c10ab0a65e593a56e1dc246b7 = $(`&lt;div id=&quot;html_1bb4be7c10ab0a65e593a56e1dc246b7&quot; style=&quot;width: 100.0%; height: 100.0%;&quot;&gt;CCAFS SLC-40&lt;/div&gt;`)[0];\n            popup_f6daea7c0108c07eb74a2af2e9a06b49.setContent(html_1bb4be7c10ab0a65e593a56e1dc246b7);\n        \n\n        circle_5f0e8648efdd3f30b2abf21711fffde6.bindPopup(popup_f6daea7c0108c07eb74a2af2e9a06b49)\n        ;\n\n        \n    \n    \n            var circle_0f92b99d20e1d2edb5d83c41fcc2caaa = L.circle(\n                [28.57325457, -80.64689529],\n                {&quot;bubblingMouseEvents&quot;: true, &quot;color&quot;: &quot;#d35400&quot;, &quot;dashArray&quot;: null, &quot;dashOffset&quot;: null, &quot;fill&quot;: true, &quot;fillColor&quot;: &quot;#d35400&quot;, &quot;fillOpacity&quot;: 0.2, &quot;fillRule&quot;: &quot;evenodd&quot;, &quot;lineCap&quot;: &quot;round&quot;, &quot;lineJoin&quot;: &quot;round&quot;, &quot;opacity&quot;: 1.0, &quot;radius&quot;: 1000, &quot;stroke&quot;: true, &quot;weight&quot;: 3}\n            ).addTo(map_268b67e61ef56bb219cc3630fa5275e8);\n        \n    \n        var popup_fc1e45ca5f7d571f8903fc01f4ba97dd = L.popup({&quot;maxWidth&quot;: &quot;100%&quot;});\n\n        \n            var html_5e28f9680f3a80780eaf8ed3b07c087a = $(`&lt;div id=&quot;html_5e28f9680f3a80780eaf8ed3b07c087a&quot; style=&quot;width: 100.0%; height: 100.0%;&quot;&gt;KSC LC-39A&lt;/div&gt;`)[0];\n            popup_fc1e45ca5f7d571f8903fc01f4ba97dd.setContent(html_5e28f9680f3a80780eaf8ed3b07c087a);\n        \n\n        circle_0f92b99d20e1d2edb5d83c41fcc2caaa.bindPopup(popup_fc1e45ca5f7d571f8903fc01f4ba97dd)\n        ;\n\n        \n    \n    \n            var circle_4654fe6585cd272558989ce1274b7b04 = L.circle(\n                [34.63283416, -120.6107455],\n                {&quot;bubblingMouseEvents&quot;: true, &quot;color&quot;: &quot;#d35400&quot;, &quot;dashArray&quot;: null, &quot;dashOffset&quot;: null, &quot;fill&quot;: true, &quot;fillColor&quot;: &quot;#d35400&quot;, &quot;fillOpacity&quot;: 0.2, &quot;fillRule&quot;: &quot;evenodd&quot;, &quot;lineCap&quot;: &quot;round&quot;, &quot;lineJoin&quot;: &quot;round&quot;, &quot;opacity&quot;: 1.0, &quot;radius&quot;: 1000, &quot;stroke&quot;: true, &quot;weight&quot;: 3}\n            ).addTo(map_268b67e61ef56bb219cc3630fa5275e8);\n        \n    \n        var popup_31d4028a767a6c9dbf386e7f2887fa19 = L.popup({&quot;maxWidth&quot;: &quot;100%&quot;});\n\n        \n            var html_c30aa68b00ed035d0767c8351c131f85 = $(`&lt;div id=&quot;html_c30aa68b00ed035d0767c8351c131f85&quot; style=&quot;width: 100.0%; height: 100.0%;&quot;&gt;VAFB SLC-4E&lt;/div&gt;`)[0];\n            popup_31d4028a767a6c9dbf386e7f2887fa19.setContent(html_c30aa68b00ed035d0767c8351c131f85);\n        \n\n        circle_4654fe6585cd272558989ce1274b7b04.bindPopup(popup_31d4028a767a6c9dbf386e7f2887fa19)\n        ;\n\n        \n    \n    \n            var marker_5bd35dfa2de95b34d12ab6de0e4eb0b8 = L.marker(\n                [28.56230197, -80.57735648],\n                {}\n            ).addTo(map_268b67e61ef56bb219cc3630fa5275e8);\n        \n    \n            var div_icon_251b62da8230f8c4109fefb1c0b27fd6 = L.divIcon({&quot;className&quot;: &quot;empty&quot;, &quot;html&quot;: &quot;\\u003cdiv style=\\&quot;font-size: 12; color:#d35400;\\&quot;\\u003e\\u003cb\\u003eCCAFS LC-40\\u003c/b\\u003e\\u003c/div\\u003e&quot;, &quot;iconAnchor&quot;: [0, 0], &quot;iconSize&quot;: [20, 20]});\n            marker_5bd35dfa2de95b34d12ab6de0e4eb0b8.setIcon(div_icon_251b62da8230f8c4109fefb1c0b27fd6);\n        \n    \n            var marker_8f6c13dc92518708e0f9d2a32a4a637e = L.marker(\n                [28.56319718, -80.57682003],\n                {}\n            ).addTo(map_268b67e61ef56bb219cc3630fa5275e8);\n        \n    \n            var div_icon_c32a9035aa49be79c4552eef746314d9 = L.divIcon({&quot;className&quot;: &quot;empty&quot;, &quot;html&quot;: &quot;\\u003cdiv style=\\&quot;font-size: 12; color:#d35400;\\&quot;\\u003e\\u003cb\\u003eCCAFS SLC-40\\u003c/b\\u003e\\u003c/div\\u003e&quot;, &quot;iconAnchor&quot;: [0, 0], &quot;iconSize&quot;: [20, 20]});\n            marker_8f6c13dc92518708e0f9d2a32a4a637e.setIcon(div_icon_c32a9035aa49be79c4552eef746314d9);\n        \n    \n            var marker_531a33a2177c1631b14c3ecfd9d87482 = L.marker(\n                [28.57325457, -80.64689529],\n                {}\n            ).addTo(map_268b67e61ef56bb219cc3630fa5275e8);\n        \n    \n            var div_icon_d05bab279b9b55f7965ad856e21d36d6 = L.divIcon({&quot;className&quot;: &quot;empty&quot;, &quot;html&quot;: &quot;\\u003cdiv style=\\&quot;font-size: 12; color:#d35400;\\&quot;\\u003e\\u003cb\\u003eKSC LC-39A\\u003c/b\\u003e\\u003c/div\\u003e&quot;, &quot;iconAnchor&quot;: [0, 0], &quot;iconSize&quot;: [20, 20]});\n            marker_531a33a2177c1631b14c3ecfd9d87482.setIcon(div_icon_d05bab279b9b55f7965ad856e21d36d6);\n        \n    \n            var marker_7e1e2c335ef43344e4b9b2abb408e05c = L.marker(\n                [34.63283416, -120.6107455],\n                {}\n            ).addTo(map_268b67e61ef56bb219cc3630fa5275e8);\n        \n    \n            var div_icon_4d5fa2fbdec5f1c9fab1851dc1f1df07 = L.divIcon({&quot;className&quot;: &quot;empty&quot;, &quot;html&quot;: &quot;\\u003cdiv style=\\&quot;font-size: 12; color:#d35400;\\&quot;\\u003e\\u003cb\\u003eVAFB SLC-4E\\u003c/b\\u003e\\u003c/div\\u003e&quot;, &quot;iconAnchor&quot;: [0, 0], &quot;iconSize&quot;: [20, 20]});\n            marker_7e1e2c335ef43344e4b9b2abb408e05c.setIcon(div_icon_4d5fa2fbdec5f1c9fab1851dc1f1df07);\n        \n    \n            var marker_cluster_c6a6a7a80e7c028561e7b0e944869269 = L.markerClusterGroup(\n                {}\n            );\n            map_268b67e61ef56bb219cc3630fa5275e8.addLayer(marker_cluster_c6a6a7a80e7c028561e7b0e944869269);\n        \n    \n            var marker_c0e088ce57004ebd121ef03a4e41f601 = L.marker(\n                [28.56230197, -80.57735648],\n                {}\n            ).addTo(marker_cluster_c6a6a7a80e7c028561e7b0e944869269);\n        \n    \n            var icon_cc9b88aa2572ec60c7f99272955313bc = L.AwesomeMarkers.icon(\n                {&quot;extraClasses&quot;: &quot;fa-rotate-0&quot;, &quot;icon&quot;: &quot;info-sign&quot;, &quot;iconColor&quot;: &quot;white&quot;, &quot;markerColor&quot;: &quot;red&quot;, &quot;prefix&quot;: &quot;glyphicon&quot;}\n            );\n            marker_c0e088ce57004ebd121ef03a4e41f601.setIcon(icon_cc9b88aa2572ec60c7f99272955313bc);\n        \n    \n        var popup_a4cc957fc6be2473aaef191cdeeb0e46 = L.popup({&quot;maxWidth&quot;: &quot;100%&quot;});\n\n        \n            var html_062f37b92eb18b31a9e9aa55ef56e947 = $(`&lt;div id=&quot;html_062f37b92eb18b31a9e9aa55ef56e947&quot; style=&quot;width: 100.0%; height: 100.0%;&quot;&gt;0&lt;/div&gt;`)[0];\n            popup_a4cc957fc6be2473aaef191cdeeb0e46.setContent(html_062f37b92eb18b31a9e9aa55ef56e947);\n        \n\n        marker_c0e088ce57004ebd121ef03a4e41f601.bindPopup(popup_a4cc957fc6be2473aaef191cdeeb0e46)\n        ;\n\n        \n    \n    \n            var marker_f517e1d14cb8fc5671a95a1c2a7329c9 = L.marker(\n                [28.56230197, -80.57735648],\n                {}\n            ).addTo(marker_cluster_c6a6a7a80e7c028561e7b0e944869269);\n        \n    \n            var icon_7310367ea6432cd8dfdfadfd268007cf = L.AwesomeMarkers.icon(\n                {&quot;extraClasses&quot;: &quot;fa-rotate-0&quot;, &quot;icon&quot;: &quot;info-sign&quot;, &quot;iconColor&quot;: &quot;white&quot;, &quot;markerColor&quot;: &quot;red&quot;, &quot;prefix&quot;: &quot;glyphicon&quot;}\n            );\n            marker_f517e1d14cb8fc5671a95a1c2a7329c9.setIcon(icon_7310367ea6432cd8dfdfadfd268007cf);\n        \n    \n        var popup_d650d07cd549cd864dd68cdeb29bd1a2 = L.popup({&quot;maxWidth&quot;: &quot;100%&quot;});\n\n        \n            var html_7a83bcce90bcaf2516f2c525452b8c74 = $(`&lt;div id=&quot;html_7a83bcce90bcaf2516f2c525452b8c74&quot; style=&quot;width: 100.0%; height: 100.0%;&quot;&gt;1&lt;/div&gt;`)[0];\n            popup_d650d07cd549cd864dd68cdeb29bd1a2.setContent(html_7a83bcce90bcaf2516f2c525452b8c74);\n        \n\n        marker_f517e1d14cb8fc5671a95a1c2a7329c9.bindPopup(popup_d650d07cd549cd864dd68cdeb29bd1a2)\n        ;\n\n        \n    \n    \n            var marker_637471d5a047504a826e0efb9288b564 = L.marker(\n                [28.56230197, -80.57735648],\n                {}\n            ).addTo(marker_cluster_c6a6a7a80e7c028561e7b0e944869269);\n        \n    \n            var icon_ffa0a558284057613f25e1b16c185418 = L.AwesomeMarkers.icon(\n                {&quot;extraClasses&quot;: &quot;fa-rotate-0&quot;, &quot;icon&quot;: &quot;info-sign&quot;, &quot;iconColor&quot;: &quot;white&quot;, &quot;markerColor&quot;: &quot;red&quot;, &quot;prefix&quot;: &quot;glyphicon&quot;}\n            );\n            marker_637471d5a047504a826e0efb9288b564.setIcon(icon_ffa0a558284057613f25e1b16c185418);\n        \n    \n        var popup_e4898a5ff527c105a3a836d0291dd993 = L.popup({&quot;maxWidth&quot;: &quot;100%&quot;});\n\n        \n            var html_8cf77eaa6d1d77b0a366c086fd7519af = $(`&lt;div id=&quot;html_8cf77eaa6d1d77b0a366c086fd7519af&quot; style=&quot;width: 100.0%; height: 100.0%;&quot;&gt;2&lt;/div&gt;`)[0];\n            popup_e4898a5ff527c105a3a836d0291dd993.setContent(html_8cf77eaa6d1d77b0a366c086fd7519af);\n        \n\n        marker_637471d5a047504a826e0efb9288b564.bindPopup(popup_e4898a5ff527c105a3a836d0291dd993)\n        ;\n\n        \n    \n    \n            var marker_30e2447f239f15382ecda8a3433b7011 = L.marker(\n                [28.56230197, -80.57735648],\n                {}\n            ).addTo(marker_cluster_c6a6a7a80e7c028561e7b0e944869269);\n        \n    \n            var icon_2b1b7441f07621dc97af553260c3d339 = L.AwesomeMarkers.icon(\n                {&quot;extraClasses&quot;: &quot;fa-rotate-0&quot;, &quot;icon&quot;: &quot;info-sign&quot;, &quot;iconColor&quot;: &quot;white&quot;, &quot;markerColor&quot;: &quot;red&quot;, &quot;prefix&quot;: &quot;glyphicon&quot;}\n            );\n            marker_30e2447f239f15382ecda8a3433b7011.setIcon(icon_2b1b7441f07621dc97af553260c3d339);\n        \n    \n        var popup_13175dffb82a757beee8ddd56d9e7b8c = L.popup({&quot;maxWidth&quot;: &quot;100%&quot;});\n\n        \n            var html_a46027a84c0f1e1d4e86f6febe8917b4 = $(`&lt;div id=&quot;html_a46027a84c0f1e1d4e86f6febe8917b4&quot; style=&quot;width: 100.0%; height: 100.0%;&quot;&gt;3&lt;/div&gt;`)[0];\n            popup_13175dffb82a757beee8ddd56d9e7b8c.setContent(html_a46027a84c0f1e1d4e86f6febe8917b4);\n        \n\n        marker_30e2447f239f15382ecda8a3433b7011.bindPopup(popup_13175dffb82a757beee8ddd56d9e7b8c)\n        ;\n\n        \n    \n    \n            var marker_1943c6c58f38278fcce0d2ebc57bc619 = L.marker(\n                [28.56230197, -80.57735648],\n                {}\n            ).addTo(marker_cluster_c6a6a7a80e7c028561e7b0e944869269);\n        \n    \n            var icon_4039a3ab222229a96aa03746a008c2c1 = L.AwesomeMarkers.icon(\n                {&quot;extraClasses&quot;: &quot;fa-rotate-0&quot;, &quot;icon&quot;: &quot;info-sign&quot;, &quot;iconColor&quot;: &quot;white&quot;, &quot;markerColor&quot;: &quot;red&quot;, &quot;prefix&quot;: &quot;glyphicon&quot;}\n            );\n            marker_1943c6c58f38278fcce0d2ebc57bc619.setIcon(icon_4039a3ab222229a96aa03746a008c2c1);\n        \n    \n        var popup_8db22b85096d771b73c1ede0beb710c2 = L.popup({&quot;maxWidth&quot;: &quot;100%&quot;});\n\n        \n            var html_04714d51557e7b1a51ffb6266511ac8d = $(`&lt;div id=&quot;html_04714d51557e7b1a51ffb6266511ac8d&quot; style=&quot;width: 100.0%; height: 100.0%;&quot;&gt;4&lt;/div&gt;`)[0];\n            popup_8db22b85096d771b73c1ede0beb710c2.setContent(html_04714d51557e7b1a51ffb6266511ac8d);\n        \n\n        marker_1943c6c58f38278fcce0d2ebc57bc619.bindPopup(popup_8db22b85096d771b73c1ede0beb710c2)\n        ;\n\n        \n    \n    \n            var marker_cc9523c5380181b8828086d926991663 = L.marker(\n                [28.56230197, -80.57735648],\n                {}\n            ).addTo(marker_cluster_c6a6a7a80e7c028561e7b0e944869269);\n        \n    \n            var icon_b051b81900f4143f00f7ce969e65ac7c = L.AwesomeMarkers.icon(\n                {&quot;extraClasses&quot;: &quot;fa-rotate-0&quot;, &quot;icon&quot;: &quot;info-sign&quot;, &quot;iconColor&quot;: &quot;white&quot;, &quot;markerColor&quot;: &quot;red&quot;, &quot;prefix&quot;: &quot;glyphicon&quot;}\n            );\n            marker_cc9523c5380181b8828086d926991663.setIcon(icon_b051b81900f4143f00f7ce969e65ac7c);\n        \n    \n        var popup_86625d49e4782cc24ec649089f76cac5 = L.popup({&quot;maxWidth&quot;: &quot;100%&quot;});\n\n        \n            var html_5a86601856f9baa799e5ed9d6f994f2e = $(`&lt;div id=&quot;html_5a86601856f9baa799e5ed9d6f994f2e&quot; style=&quot;width: 100.0%; height: 100.0%;&quot;&gt;5&lt;/div&gt;`)[0];\n            popup_86625d49e4782cc24ec649089f76cac5.setContent(html_5a86601856f9baa799e5ed9d6f994f2e);\n        \n\n        marker_cc9523c5380181b8828086d926991663.bindPopup(popup_86625d49e4782cc24ec649089f76cac5)\n        ;\n\n        \n    \n    \n            var marker_cd353380b2033c47d516ff979266bb59 = L.marker(\n                [28.56230197, -80.57735648],\n                {}\n            ).addTo(marker_cluster_c6a6a7a80e7c028561e7b0e944869269);\n        \n    \n            var icon_9b7c742ad0adebe698dc8608ad609aa6 = L.AwesomeMarkers.icon(\n                {&quot;extraClasses&quot;: &quot;fa-rotate-0&quot;, &quot;icon&quot;: &quot;info-sign&quot;, &quot;iconColor&quot;: &quot;white&quot;, &quot;markerColor&quot;: &quot;red&quot;, &quot;prefix&quot;: &quot;glyphicon&quot;}\n            );\n            marker_cd353380b2033c47d516ff979266bb59.setIcon(icon_9b7c742ad0adebe698dc8608ad609aa6);\n        \n    \n        var popup_35688a0058a376ec6342f584b7118eff = L.popup({&quot;maxWidth&quot;: &quot;100%&quot;});\n\n        \n            var html_06966c0118c8986bb8b945375b44d65b = $(`&lt;div id=&quot;html_06966c0118c8986bb8b945375b44d65b&quot; style=&quot;width: 100.0%; height: 100.0%;&quot;&gt;6&lt;/div&gt;`)[0];\n            popup_35688a0058a376ec6342f584b7118eff.setContent(html_06966c0118c8986bb8b945375b44d65b);\n        \n\n        marker_cd353380b2033c47d516ff979266bb59.bindPopup(popup_35688a0058a376ec6342f584b7118eff)\n        ;\n\n        \n    \n    \n            var marker_843bfc9ddc43cc030455e401b5b75c57 = L.marker(\n                [28.56230197, -80.57735648],\n                {}\n            ).addTo(marker_cluster_c6a6a7a80e7c028561e7b0e944869269);\n        \n    \n            var icon_0ea4bb41cc4d6b07ea2feb389967f1be = L.AwesomeMarkers.icon(\n                {&quot;extraClasses&quot;: &quot;fa-rotate-0&quot;, &quot;icon&quot;: &quot;info-sign&quot;, &quot;iconColor&quot;: &quot;white&quot;, &quot;markerColor&quot;: &quot;red&quot;, &quot;prefix&quot;: &quot;glyphicon&quot;}\n            );\n            marker_843bfc9ddc43cc030455e401b5b75c57.setIcon(icon_0ea4bb41cc4d6b07ea2feb389967f1be);\n        \n    \n        var popup_438bd1bb05ea5002821919c8a9892c6a = L.popup({&quot;maxWidth&quot;: &quot;100%&quot;});\n\n        \n            var html_9a203c321186b74519afadc2a03bc6cb = $(`&lt;div id=&quot;html_9a203c321186b74519afadc2a03bc6cb&quot; style=&quot;width: 100.0%; height: 100.0%;&quot;&gt;7&lt;/div&gt;`)[0];\n            popup_438bd1bb05ea5002821919c8a9892c6a.setContent(html_9a203c321186b74519afadc2a03bc6cb);\n        \n\n        marker_843bfc9ddc43cc030455e401b5b75c57.bindPopup(popup_438bd1bb05ea5002821919c8a9892c6a)\n        ;\n\n        \n    \n    \n            var marker_1774165950f33c38fed0dc0c39ef9395 = L.marker(\n                [28.56230197, -80.57735648],\n                {}\n            ).addTo(marker_cluster_c6a6a7a80e7c028561e7b0e944869269);\n        \n    \n            var icon_decb53ee3ec0ddf684088d54049d3984 = L.AwesomeMarkers.icon(\n                {&quot;extraClasses&quot;: &quot;fa-rotate-0&quot;, &quot;icon&quot;: &quot;info-sign&quot;, &quot;iconColor&quot;: &quot;white&quot;, &quot;markerColor&quot;: &quot;red&quot;, &quot;prefix&quot;: &quot;glyphicon&quot;}\n            );\n            marker_1774165950f33c38fed0dc0c39ef9395.setIcon(icon_decb53ee3ec0ddf684088d54049d3984);\n        \n    \n        var popup_42cc65c61f4dc36d356dffe10cd8f732 = L.popup({&quot;maxWidth&quot;: &quot;100%&quot;});\n\n        \n            var html_63f10908ee6e7876799d8af0bc11e81c = $(`&lt;div id=&quot;html_63f10908ee6e7876799d8af0bc11e81c&quot; style=&quot;width: 100.0%; height: 100.0%;&quot;&gt;8&lt;/div&gt;`)[0];\n            popup_42cc65c61f4dc36d356dffe10cd8f732.setContent(html_63f10908ee6e7876799d8af0bc11e81c);\n        \n\n        marker_1774165950f33c38fed0dc0c39ef9395.bindPopup(popup_42cc65c61f4dc36d356dffe10cd8f732)\n        ;\n\n        \n    \n    \n            var marker_3856769a61168fa13f099e525c5ba4d2 = L.marker(\n                [28.56230197, -80.57735648],\n                {}\n            ).addTo(marker_cluster_c6a6a7a80e7c028561e7b0e944869269);\n        \n    \n            var icon_e89effae2615a64b47c5f7965b2deacc = L.AwesomeMarkers.icon(\n                {&quot;extraClasses&quot;: &quot;fa-rotate-0&quot;, &quot;icon&quot;: &quot;info-sign&quot;, &quot;iconColor&quot;: &quot;white&quot;, &quot;markerColor&quot;: &quot;red&quot;, &quot;prefix&quot;: &quot;glyphicon&quot;}\n            );\n            marker_3856769a61168fa13f099e525c5ba4d2.setIcon(icon_e89effae2615a64b47c5f7965b2deacc);\n        \n    \n        var popup_2ed56a6bdf83f6c3222eb6ebbba9b83d = L.popup({&quot;maxWidth&quot;: &quot;100%&quot;});\n\n        \n            var html_2f6cf44cdfa24beeff427cda0bcb731b = $(`&lt;div id=&quot;html_2f6cf44cdfa24beeff427cda0bcb731b&quot; style=&quot;width: 100.0%; height: 100.0%;&quot;&gt;9&lt;/div&gt;`)[0];\n            popup_2ed56a6bdf83f6c3222eb6ebbba9b83d.setContent(html_2f6cf44cdfa24beeff427cda0bcb731b);\n        \n\n        marker_3856769a61168fa13f099e525c5ba4d2.bindPopup(popup_2ed56a6bdf83f6c3222eb6ebbba9b83d)\n        ;\n\n        \n    \n    \n            var marker_5f6fb736f81ac42f0e2de63aa85ab402 = L.marker(\n                [28.56230197, -80.57735648],\n                {}\n            ).addTo(marker_cluster_c6a6a7a80e7c028561e7b0e944869269);\n        \n    \n            var icon_0a6a25ffdb876e365b40b8d0267b5e5b = L.AwesomeMarkers.icon(\n                {&quot;extraClasses&quot;: &quot;fa-rotate-0&quot;, &quot;icon&quot;: &quot;info-sign&quot;, &quot;iconColor&quot;: &quot;white&quot;, &quot;markerColor&quot;: &quot;red&quot;, &quot;prefix&quot;: &quot;glyphicon&quot;}\n            );\n            marker_5f6fb736f81ac42f0e2de63aa85ab402.setIcon(icon_0a6a25ffdb876e365b40b8d0267b5e5b);\n        \n    \n        var popup_07f56d6da8a9d86f47923029e1eb7d87 = L.popup({&quot;maxWidth&quot;: &quot;100%&quot;});\n\n        \n            var html_1844cdce3006568e4d5109f9c45282be = $(`&lt;div id=&quot;html_1844cdce3006568e4d5109f9c45282be&quot; style=&quot;width: 100.0%; height: 100.0%;&quot;&gt;10&lt;/div&gt;`)[0];\n            popup_07f56d6da8a9d86f47923029e1eb7d87.setContent(html_1844cdce3006568e4d5109f9c45282be);\n        \n\n        marker_5f6fb736f81ac42f0e2de63aa85ab402.bindPopup(popup_07f56d6da8a9d86f47923029e1eb7d87)\n        ;\n\n        \n    \n    \n            var marker_207653870e1919e47aa3e54a688d3e1e = L.marker(\n                [28.56230197, -80.57735648],\n                {}\n            ).addTo(marker_cluster_c6a6a7a80e7c028561e7b0e944869269);\n        \n    \n            var icon_66419e808492914ab8abfeaabe2a0296 = L.AwesomeMarkers.icon(\n                {&quot;extraClasses&quot;: &quot;fa-rotate-0&quot;, &quot;icon&quot;: &quot;info-sign&quot;, &quot;iconColor&quot;: &quot;white&quot;, &quot;markerColor&quot;: &quot;red&quot;, &quot;prefix&quot;: &quot;glyphicon&quot;}\n            );\n            marker_207653870e1919e47aa3e54a688d3e1e.setIcon(icon_66419e808492914ab8abfeaabe2a0296);\n        \n    \n        var popup_a5a69928e02a9d77955a4f31af0c7cdf = L.popup({&quot;maxWidth&quot;: &quot;100%&quot;});\n\n        \n            var html_044d8f68bdf384a8ef8d7493f6a7bed3 = $(`&lt;div id=&quot;html_044d8f68bdf384a8ef8d7493f6a7bed3&quot; style=&quot;width: 100.0%; height: 100.0%;&quot;&gt;11&lt;/div&gt;`)[0];\n            popup_a5a69928e02a9d77955a4f31af0c7cdf.setContent(html_044d8f68bdf384a8ef8d7493f6a7bed3);\n        \n\n        marker_207653870e1919e47aa3e54a688d3e1e.bindPopup(popup_a5a69928e02a9d77955a4f31af0c7cdf)\n        ;\n\n        \n    \n    \n            var marker_c317c522875b443f023d5126018ad091 = L.marker(\n                [28.56230197, -80.57735648],\n                {}\n            ).addTo(marker_cluster_c6a6a7a80e7c028561e7b0e944869269);\n        \n    \n            var icon_1eaa783c709cf1e36a46955c0a7c7cf2 = L.AwesomeMarkers.icon(\n                {&quot;extraClasses&quot;: &quot;fa-rotate-0&quot;, &quot;icon&quot;: &quot;info-sign&quot;, &quot;iconColor&quot;: &quot;white&quot;, &quot;markerColor&quot;: &quot;red&quot;, &quot;prefix&quot;: &quot;glyphicon&quot;}\n            );\n            marker_c317c522875b443f023d5126018ad091.setIcon(icon_1eaa783c709cf1e36a46955c0a7c7cf2);\n        \n    \n        var popup_8e940fcb8f5bbe80a0c7437af40b68da = L.popup({&quot;maxWidth&quot;: &quot;100%&quot;});\n\n        \n            var html_6fcf385688451027c6ccc33895b76ae8 = $(`&lt;div id=&quot;html_6fcf385688451027c6ccc33895b76ae8&quot; style=&quot;width: 100.0%; height: 100.0%;&quot;&gt;12&lt;/div&gt;`)[0];\n            popup_8e940fcb8f5bbe80a0c7437af40b68da.setContent(html_6fcf385688451027c6ccc33895b76ae8);\n        \n\n        marker_c317c522875b443f023d5126018ad091.bindPopup(popup_8e940fcb8f5bbe80a0c7437af40b68da)\n        ;\n\n        \n    \n    \n            var marker_a4c5aaf488659e77ac7f6e73e5acdea1 = L.marker(\n                [28.56230197, -80.57735648],\n                {}\n            ).addTo(marker_cluster_c6a6a7a80e7c028561e7b0e944869269);\n        \n    \n            var icon_4ead75717a7d978b9dbb5723864e4028 = L.AwesomeMarkers.icon(\n                {&quot;extraClasses&quot;: &quot;fa-rotate-0&quot;, &quot;icon&quot;: &quot;info-sign&quot;, &quot;iconColor&quot;: &quot;white&quot;, &quot;markerColor&quot;: &quot;red&quot;, &quot;prefix&quot;: &quot;glyphicon&quot;}\n            );\n            marker_a4c5aaf488659e77ac7f6e73e5acdea1.setIcon(icon_4ead75717a7d978b9dbb5723864e4028);\n        \n    \n        var popup_3d992860b24c2a1828ac64692dc1a24a = L.popup({&quot;maxWidth&quot;: &quot;100%&quot;});\n\n        \n            var html_5efc88373d356365cb7917437ee1c9bc = $(`&lt;div id=&quot;html_5efc88373d356365cb7917437ee1c9bc&quot; style=&quot;width: 100.0%; height: 100.0%;&quot;&gt;13&lt;/div&gt;`)[0];\n            popup_3d992860b24c2a1828ac64692dc1a24a.setContent(html_5efc88373d356365cb7917437ee1c9bc);\n        \n\n        marker_a4c5aaf488659e77ac7f6e73e5acdea1.bindPopup(popup_3d992860b24c2a1828ac64692dc1a24a)\n        ;\n\n        \n    \n    \n            var marker_3dfbc3f2fa2e08668039367b089e2ef9 = L.marker(\n                [28.56230197, -80.57735648],\n                {}\n            ).addTo(marker_cluster_c6a6a7a80e7c028561e7b0e944869269);\n        \n    \n            var icon_97fefe6d6312f627b1e01e30f62e6e21 = L.AwesomeMarkers.icon(\n                {&quot;extraClasses&quot;: &quot;fa-rotate-0&quot;, &quot;icon&quot;: &quot;info-sign&quot;, &quot;iconColor&quot;: &quot;white&quot;, &quot;markerColor&quot;: &quot;red&quot;, &quot;prefix&quot;: &quot;glyphicon&quot;}\n            );\n            marker_3dfbc3f2fa2e08668039367b089e2ef9.setIcon(icon_97fefe6d6312f627b1e01e30f62e6e21);\n        \n    \n        var popup_2bf8d4f176c11d3188dd03dd6fd1adba = L.popup({&quot;maxWidth&quot;: &quot;100%&quot;});\n\n        \n            var html_adbd5d45e28010116b10d228d40f8e5f = $(`&lt;div id=&quot;html_adbd5d45e28010116b10d228d40f8e5f&quot; style=&quot;width: 100.0%; height: 100.0%;&quot;&gt;14&lt;/div&gt;`)[0];\n            popup_2bf8d4f176c11d3188dd03dd6fd1adba.setContent(html_adbd5d45e28010116b10d228d40f8e5f);\n        \n\n        marker_3dfbc3f2fa2e08668039367b089e2ef9.bindPopup(popup_2bf8d4f176c11d3188dd03dd6fd1adba)\n        ;\n\n        \n    \n    \n            var marker_3d3f98a6ca1f4d7845d2612d2b17e990 = L.marker(\n                [28.56230197, -80.57735648],\n                {}\n            ).addTo(marker_cluster_c6a6a7a80e7c028561e7b0e944869269);\n        \n    \n            var icon_3bbd82d99fe4c1265c324dc439796530 = L.AwesomeMarkers.icon(\n                {&quot;extraClasses&quot;: &quot;fa-rotate-0&quot;, &quot;icon&quot;: &quot;info-sign&quot;, &quot;iconColor&quot;: &quot;white&quot;, &quot;markerColor&quot;: &quot;red&quot;, &quot;prefix&quot;: &quot;glyphicon&quot;}\n            );\n            marker_3d3f98a6ca1f4d7845d2612d2b17e990.setIcon(icon_3bbd82d99fe4c1265c324dc439796530);\n        \n    \n        var popup_e13f1fe12e8120e4c7348e536a7509ea = L.popup({&quot;maxWidth&quot;: &quot;100%&quot;});\n\n        \n            var html_287d6e4b1e4c0992f6cc38eb752c5f73 = $(`&lt;div id=&quot;html_287d6e4b1e4c0992f6cc38eb752c5f73&quot; style=&quot;width: 100.0%; height: 100.0%;&quot;&gt;15&lt;/div&gt;`)[0];\n            popup_e13f1fe12e8120e4c7348e536a7509ea.setContent(html_287d6e4b1e4c0992f6cc38eb752c5f73);\n        \n\n        marker_3d3f98a6ca1f4d7845d2612d2b17e990.bindPopup(popup_e13f1fe12e8120e4c7348e536a7509ea)\n        ;\n\n        \n    \n    \n            var marker_07ba8da77b2ba746dd1f304f02d9eeec = L.marker(\n                [28.56230197, -80.57735648],\n                {}\n            ).addTo(marker_cluster_c6a6a7a80e7c028561e7b0e944869269);\n        \n    \n            var icon_60903085ec50adee47ea4362f0602c47 = L.AwesomeMarkers.icon(\n                {&quot;extraClasses&quot;: &quot;fa-rotate-0&quot;, &quot;icon&quot;: &quot;info-sign&quot;, &quot;iconColor&quot;: &quot;white&quot;, &quot;markerColor&quot;: &quot;red&quot;, &quot;prefix&quot;: &quot;glyphicon&quot;}\n            );\n            marker_07ba8da77b2ba746dd1f304f02d9eeec.setIcon(icon_60903085ec50adee47ea4362f0602c47);\n        \n    \n        var popup_f62b96cd55b8fc38bade6a1556aa5ad6 = L.popup({&quot;maxWidth&quot;: &quot;100%&quot;});\n\n        \n            var html_415260bb4b41afe82c576f0fe6e313c2 = $(`&lt;div id=&quot;html_415260bb4b41afe82c576f0fe6e313c2&quot; style=&quot;width: 100.0%; height: 100.0%;&quot;&gt;16&lt;/div&gt;`)[0];\n            popup_f62b96cd55b8fc38bade6a1556aa5ad6.setContent(html_415260bb4b41afe82c576f0fe6e313c2);\n        \n\n        marker_07ba8da77b2ba746dd1f304f02d9eeec.bindPopup(popup_f62b96cd55b8fc38bade6a1556aa5ad6)\n        ;\n\n        \n    \n    \n            var marker_769587fc576c33306ba2ceb8d99b43e6 = L.marker(\n                [28.56230197, -80.57735648],\n                {}\n            ).addTo(marker_cluster_c6a6a7a80e7c028561e7b0e944869269);\n        \n    \n            var icon_5f402534fb356f58ec01b2f352a85663 = L.AwesomeMarkers.icon(\n                {&quot;extraClasses&quot;: &quot;fa-rotate-0&quot;, &quot;icon&quot;: &quot;info-sign&quot;, &quot;iconColor&quot;: &quot;white&quot;, &quot;markerColor&quot;: &quot;green&quot;, &quot;prefix&quot;: &quot;glyphicon&quot;}\n            );\n            marker_769587fc576c33306ba2ceb8d99b43e6.setIcon(icon_5f402534fb356f58ec01b2f352a85663);\n        \n    \n        var popup_c1924d5299b2d6dd39e2788998213878 = L.popup({&quot;maxWidth&quot;: &quot;100%&quot;});\n\n        \n            var html_df88a1062e17bd20ed3940eba91dbeef = $(`&lt;div id=&quot;html_df88a1062e17bd20ed3940eba91dbeef&quot; style=&quot;width: 100.0%; height: 100.0%;&quot;&gt;17&lt;/div&gt;`)[0];\n            popup_c1924d5299b2d6dd39e2788998213878.setContent(html_df88a1062e17bd20ed3940eba91dbeef);\n        \n\n        marker_769587fc576c33306ba2ceb8d99b43e6.bindPopup(popup_c1924d5299b2d6dd39e2788998213878)\n        ;\n\n        \n    \n    \n            var marker_8bc0900c4f7b7e65ca206ad68c73e680 = L.marker(\n                [28.56230197, -80.57735648],\n                {}\n            ).addTo(marker_cluster_c6a6a7a80e7c028561e7b0e944869269);\n        \n    \n            var icon_c9d1a4bcb2fa092f1b985ebb44f4f994 = L.AwesomeMarkers.icon(\n                {&quot;extraClasses&quot;: &quot;fa-rotate-0&quot;, &quot;icon&quot;: &quot;info-sign&quot;, &quot;iconColor&quot;: &quot;white&quot;, &quot;markerColor&quot;: &quot;green&quot;, &quot;prefix&quot;: &quot;glyphicon&quot;}\n            );\n            marker_8bc0900c4f7b7e65ca206ad68c73e680.setIcon(icon_c9d1a4bcb2fa092f1b985ebb44f4f994);\n        \n    \n        var popup_a462bcf19710d84853d25258cf9e4212 = L.popup({&quot;maxWidth&quot;: &quot;100%&quot;});\n\n        \n            var html_b931f0c99850e2aa740d54433e72f161 = $(`&lt;div id=&quot;html_b931f0c99850e2aa740d54433e72f161&quot; style=&quot;width: 100.0%; height: 100.0%;&quot;&gt;18&lt;/div&gt;`)[0];\n            popup_a462bcf19710d84853d25258cf9e4212.setContent(html_b931f0c99850e2aa740d54433e72f161);\n        \n\n        marker_8bc0900c4f7b7e65ca206ad68c73e680.bindPopup(popup_a462bcf19710d84853d25258cf9e4212)\n        ;\n\n        \n    \n    \n            var marker_d250030311a8e7f1af00b2328ceab378 = L.marker(\n                [28.56230197, -80.57735648],\n                {}\n            ).addTo(marker_cluster_c6a6a7a80e7c028561e7b0e944869269);\n        \n    \n            var icon_fd82d83b09e511c993bf4152a9c33ab2 = L.AwesomeMarkers.icon(\n                {&quot;extraClasses&quot;: &quot;fa-rotate-0&quot;, &quot;icon&quot;: &quot;info-sign&quot;, &quot;iconColor&quot;: &quot;white&quot;, &quot;markerColor&quot;: &quot;red&quot;, &quot;prefix&quot;: &quot;glyphicon&quot;}\n            );\n            marker_d250030311a8e7f1af00b2328ceab378.setIcon(icon_fd82d83b09e511c993bf4152a9c33ab2);\n        \n    \n        var popup_a1ad1b497eebc387f11cda7c6714d1cc = L.popup({&quot;maxWidth&quot;: &quot;100%&quot;});\n\n        \n            var html_143fbda9833c0b63b8e47898750f24fc = $(`&lt;div id=&quot;html_143fbda9833c0b63b8e47898750f24fc&quot; style=&quot;width: 100.0%; height: 100.0%;&quot;&gt;19&lt;/div&gt;`)[0];\n            popup_a1ad1b497eebc387f11cda7c6714d1cc.setContent(html_143fbda9833c0b63b8e47898750f24fc);\n        \n\n        marker_d250030311a8e7f1af00b2328ceab378.bindPopup(popup_a1ad1b497eebc387f11cda7c6714d1cc)\n        ;\n\n        \n    \n    \n            var marker_0203ead16cfe67289686bab1fd7aa5e6 = L.marker(\n                [28.56230197, -80.57735648],\n                {}\n            ).addTo(marker_cluster_c6a6a7a80e7c028561e7b0e944869269);\n        \n    \n            var icon_c8fa57630d41213129b0be3d4c521079 = L.AwesomeMarkers.icon(\n                {&quot;extraClasses&quot;: &quot;fa-rotate-0&quot;, &quot;icon&quot;: &quot;info-sign&quot;, &quot;iconColor&quot;: &quot;white&quot;, &quot;markerColor&quot;: &quot;green&quot;, &quot;prefix&quot;: &quot;glyphicon&quot;}\n            );\n            marker_0203ead16cfe67289686bab1fd7aa5e6.setIcon(icon_c8fa57630d41213129b0be3d4c521079);\n        \n    \n        var popup_3687f5ebf5e9bf0760e27afa4a59344f = L.popup({&quot;maxWidth&quot;: &quot;100%&quot;});\n\n        \n            var html_e7b3022909dec52a947eb03f8c12dc45 = $(`&lt;div id=&quot;html_e7b3022909dec52a947eb03f8c12dc45&quot; style=&quot;width: 100.0%; height: 100.0%;&quot;&gt;20&lt;/div&gt;`)[0];\n            popup_3687f5ebf5e9bf0760e27afa4a59344f.setContent(html_e7b3022909dec52a947eb03f8c12dc45);\n        \n\n        marker_0203ead16cfe67289686bab1fd7aa5e6.bindPopup(popup_3687f5ebf5e9bf0760e27afa4a59344f)\n        ;\n\n        \n    \n    \n            var marker_d5ca8684f1409792a9400202a09fa037 = L.marker(\n                [28.56230197, -80.57735648],\n                {}\n            ).addTo(marker_cluster_c6a6a7a80e7c028561e7b0e944869269);\n        \n    \n            var icon_0bca6d25668b85ea2cd7ce19a0d85960 = L.AwesomeMarkers.icon(\n                {&quot;extraClasses&quot;: &quot;fa-rotate-0&quot;, &quot;icon&quot;: &quot;info-sign&quot;, &quot;iconColor&quot;: &quot;white&quot;, &quot;markerColor&quot;: &quot;green&quot;, &quot;prefix&quot;: &quot;glyphicon&quot;}\n            );\n            marker_d5ca8684f1409792a9400202a09fa037.setIcon(icon_0bca6d25668b85ea2cd7ce19a0d85960);\n        \n    \n        var popup_7c4c9ee00d45f4688e30e45c738cdca0 = L.popup({&quot;maxWidth&quot;: &quot;100%&quot;});\n\n        \n            var html_e6284350a87707fcb68e71f02a9ede28 = $(`&lt;div id=&quot;html_e6284350a87707fcb68e71f02a9ede28&quot; style=&quot;width: 100.0%; height: 100.0%;&quot;&gt;21&lt;/div&gt;`)[0];\n            popup_7c4c9ee00d45f4688e30e45c738cdca0.setContent(html_e6284350a87707fcb68e71f02a9ede28);\n        \n\n        marker_d5ca8684f1409792a9400202a09fa037.bindPopup(popup_7c4c9ee00d45f4688e30e45c738cdca0)\n        ;\n\n        \n    \n    \n            var marker_f1d9e7c373558fd2b8d0db34ff0d7cd9 = L.marker(\n                [28.56230197, -80.57735648],\n                {}\n            ).addTo(marker_cluster_c6a6a7a80e7c028561e7b0e944869269);\n        \n    \n            var icon_9b2f21a8f6f127588fbbd733736e702f = L.AwesomeMarkers.icon(\n                {&quot;extraClasses&quot;: &quot;fa-rotate-0&quot;, &quot;icon&quot;: &quot;info-sign&quot;, &quot;iconColor&quot;: &quot;white&quot;, &quot;markerColor&quot;: &quot;green&quot;, &quot;prefix&quot;: &quot;glyphicon&quot;}\n            );\n            marker_f1d9e7c373558fd2b8d0db34ff0d7cd9.setIcon(icon_9b2f21a8f6f127588fbbd733736e702f);\n        \n    \n        var popup_ceee1bd8e2f4036d5678f5ffa460aa72 = L.popup({&quot;maxWidth&quot;: &quot;100%&quot;});\n\n        \n            var html_4f7c996b338efb27081983a7c7c42619 = $(`&lt;div id=&quot;html_4f7c996b338efb27081983a7c7c42619&quot; style=&quot;width: 100.0%; height: 100.0%;&quot;&gt;22&lt;/div&gt;`)[0];\n            popup_ceee1bd8e2f4036d5678f5ffa460aa72.setContent(html_4f7c996b338efb27081983a7c7c42619);\n        \n\n        marker_f1d9e7c373558fd2b8d0db34ff0d7cd9.bindPopup(popup_ceee1bd8e2f4036d5678f5ffa460aa72)\n        ;\n\n        \n    \n    \n            var marker_0c1d8f5479bdb77cef6764a6f2c5498c = L.marker(\n                [28.56230197, -80.57735648],\n                {}\n            ).addTo(marker_cluster_c6a6a7a80e7c028561e7b0e944869269);\n        \n    \n            var icon_656e6ba8af0f69dc52e7ffb7847cdb95 = L.AwesomeMarkers.icon(\n                {&quot;extraClasses&quot;: &quot;fa-rotate-0&quot;, &quot;icon&quot;: &quot;info-sign&quot;, &quot;iconColor&quot;: &quot;white&quot;, &quot;markerColor&quot;: &quot;red&quot;, &quot;prefix&quot;: &quot;glyphicon&quot;}\n            );\n            marker_0c1d8f5479bdb77cef6764a6f2c5498c.setIcon(icon_656e6ba8af0f69dc52e7ffb7847cdb95);\n        \n    \n        var popup_dd5a08a1e1c05b37bea31a6421468f0a = L.popup({&quot;maxWidth&quot;: &quot;100%&quot;});\n\n        \n            var html_8a7a69cbde5b863cc1e39be4eca4ecd5 = $(`&lt;div id=&quot;html_8a7a69cbde5b863cc1e39be4eca4ecd5&quot; style=&quot;width: 100.0%; height: 100.0%;&quot;&gt;23&lt;/div&gt;`)[0];\n            popup_dd5a08a1e1c05b37bea31a6421468f0a.setContent(html_8a7a69cbde5b863cc1e39be4eca4ecd5);\n        \n\n        marker_0c1d8f5479bdb77cef6764a6f2c5498c.bindPopup(popup_dd5a08a1e1c05b37bea31a6421468f0a)\n        ;\n\n        \n    \n    \n            var marker_6f340803b8384fef5d0e7a387374f19d = L.marker(\n                [28.56230197, -80.57735648],\n                {}\n            ).addTo(marker_cluster_c6a6a7a80e7c028561e7b0e944869269);\n        \n    \n            var icon_217f3472c9bd05b1faabe796b97ceb59 = L.AwesomeMarkers.icon(\n                {&quot;extraClasses&quot;: &quot;fa-rotate-0&quot;, &quot;icon&quot;: &quot;info-sign&quot;, &quot;iconColor&quot;: &quot;white&quot;, &quot;markerColor&quot;: &quot;green&quot;, &quot;prefix&quot;: &quot;glyphicon&quot;}\n            );\n            marker_6f340803b8384fef5d0e7a387374f19d.setIcon(icon_217f3472c9bd05b1faabe796b97ceb59);\n        \n    \n        var popup_96a3919d16f36ed0606cfb55a29dc609 = L.popup({&quot;maxWidth&quot;: &quot;100%&quot;});\n\n        \n            var html_840fd67cc51a479eb3de9306175dfbc7 = $(`&lt;div id=&quot;html_840fd67cc51a479eb3de9306175dfbc7&quot; style=&quot;width: 100.0%; height: 100.0%;&quot;&gt;24&lt;/div&gt;`)[0];\n            popup_96a3919d16f36ed0606cfb55a29dc609.setContent(html_840fd67cc51a479eb3de9306175dfbc7);\n        \n\n        marker_6f340803b8384fef5d0e7a387374f19d.bindPopup(popup_96a3919d16f36ed0606cfb55a29dc609)\n        ;\n\n        \n    \n    \n            var marker_80e7c3e9be1877a5f47e5ef5943bec1e = L.marker(\n                [28.56230197, -80.57735648],\n                {}\n            ).addTo(marker_cluster_c6a6a7a80e7c028561e7b0e944869269);\n        \n    \n            var icon_0f5b29dae42dd041e04497912fc0a456 = L.AwesomeMarkers.icon(\n                {&quot;extraClasses&quot;: &quot;fa-rotate-0&quot;, &quot;icon&quot;: &quot;info-sign&quot;, &quot;iconColor&quot;: &quot;white&quot;, &quot;markerColor&quot;: &quot;green&quot;, &quot;prefix&quot;: &quot;glyphicon&quot;}\n            );\n            marker_80e7c3e9be1877a5f47e5ef5943bec1e.setIcon(icon_0f5b29dae42dd041e04497912fc0a456);\n        \n    \n        var popup_2ff0003c2d3c82a50c52d1acb7877bbc = L.popup({&quot;maxWidth&quot;: &quot;100%&quot;});\n\n        \n            var html_052b1dc713e9adf2e05908edd730b189 = $(`&lt;div id=&quot;html_052b1dc713e9adf2e05908edd730b189&quot; style=&quot;width: 100.0%; height: 100.0%;&quot;&gt;25&lt;/div&gt;`)[0];\n            popup_2ff0003c2d3c82a50c52d1acb7877bbc.setContent(html_052b1dc713e9adf2e05908edd730b189);\n        \n\n        marker_80e7c3e9be1877a5f47e5ef5943bec1e.bindPopup(popup_2ff0003c2d3c82a50c52d1acb7877bbc)\n        ;\n\n        \n    \n    \n            var marker_e13d390a8235ee49c3fbf20d2d9cb2d4 = L.marker(\n                [34.63283416, -120.6107455],\n                {}\n            ).addTo(marker_cluster_c6a6a7a80e7c028561e7b0e944869269);\n        \n    \n            var icon_f3f8ae7b0c45de32921c03b729dcddf3 = L.AwesomeMarkers.icon(\n                {&quot;extraClasses&quot;: &quot;fa-rotate-0&quot;, &quot;icon&quot;: &quot;info-sign&quot;, &quot;iconColor&quot;: &quot;white&quot;, &quot;markerColor&quot;: &quot;red&quot;, &quot;prefix&quot;: &quot;glyphicon&quot;}\n            );\n            marker_e13d390a8235ee49c3fbf20d2d9cb2d4.setIcon(icon_f3f8ae7b0c45de32921c03b729dcddf3);\n        \n    \n        var popup_aabb0457c57f37a422690a32e813a0b6 = L.popup({&quot;maxWidth&quot;: &quot;100%&quot;});\n\n        \n            var html_ae8fa571dd19c513c71db0449c6f7e02 = $(`&lt;div id=&quot;html_ae8fa571dd19c513c71db0449c6f7e02&quot; style=&quot;width: 100.0%; height: 100.0%;&quot;&gt;26&lt;/div&gt;`)[0];\n            popup_aabb0457c57f37a422690a32e813a0b6.setContent(html_ae8fa571dd19c513c71db0449c6f7e02);\n        \n\n        marker_e13d390a8235ee49c3fbf20d2d9cb2d4.bindPopup(popup_aabb0457c57f37a422690a32e813a0b6)\n        ;\n\n        \n    \n    \n            var marker_ef0f9928d87c05faca4b261fb53a0a71 = L.marker(\n                [34.63283416, -120.6107455],\n                {}\n            ).addTo(marker_cluster_c6a6a7a80e7c028561e7b0e944869269);\n        \n    \n            var icon_2c256e1e36f239643ff948ff81b86732 = L.AwesomeMarkers.icon(\n                {&quot;extraClasses&quot;: &quot;fa-rotate-0&quot;, &quot;icon&quot;: &quot;info-sign&quot;, &quot;iconColor&quot;: &quot;white&quot;, &quot;markerColor&quot;: &quot;red&quot;, &quot;prefix&quot;: &quot;glyphicon&quot;}\n            );\n            marker_ef0f9928d87c05faca4b261fb53a0a71.setIcon(icon_2c256e1e36f239643ff948ff81b86732);\n        \n    \n        var popup_b77728c6a9b6edc69eac0051723c9138 = L.popup({&quot;maxWidth&quot;: &quot;100%&quot;});\n\n        \n            var html_3a599a73ddde4dd9c2b688c5f035b3bd = $(`&lt;div id=&quot;html_3a599a73ddde4dd9c2b688c5f035b3bd&quot; style=&quot;width: 100.0%; height: 100.0%;&quot;&gt;27&lt;/div&gt;`)[0];\n            popup_b77728c6a9b6edc69eac0051723c9138.setContent(html_3a599a73ddde4dd9c2b688c5f035b3bd);\n        \n\n        marker_ef0f9928d87c05faca4b261fb53a0a71.bindPopup(popup_b77728c6a9b6edc69eac0051723c9138)\n        ;\n\n        \n    \n    \n            var marker_1794f5ee937fe6855f0312c5c900b364 = L.marker(\n                [34.63283416, -120.6107455],\n                {}\n            ).addTo(marker_cluster_c6a6a7a80e7c028561e7b0e944869269);\n        \n    \n            var icon_cafebf953e8f38e241f4de90c9c36b29 = L.AwesomeMarkers.icon(\n                {&quot;extraClasses&quot;: &quot;fa-rotate-0&quot;, &quot;icon&quot;: &quot;info-sign&quot;, &quot;iconColor&quot;: &quot;white&quot;, &quot;markerColor&quot;: &quot;green&quot;, &quot;prefix&quot;: &quot;glyphicon&quot;}\n            );\n            marker_1794f5ee937fe6855f0312c5c900b364.setIcon(icon_cafebf953e8f38e241f4de90c9c36b29);\n        \n    \n        var popup_b504a2cf90f4dd6c55d69a1523b241cc = L.popup({&quot;maxWidth&quot;: &quot;100%&quot;});\n\n        \n            var html_cc32b134c2165be6314a9921c18cbd14 = $(`&lt;div id=&quot;html_cc32b134c2165be6314a9921c18cbd14&quot; style=&quot;width: 100.0%; height: 100.0%;&quot;&gt;28&lt;/div&gt;`)[0];\n            popup_b504a2cf90f4dd6c55d69a1523b241cc.setContent(html_cc32b134c2165be6314a9921c18cbd14);\n        \n\n        marker_1794f5ee937fe6855f0312c5c900b364.bindPopup(popup_b504a2cf90f4dd6c55d69a1523b241cc)\n        ;\n\n        \n    \n    \n            var marker_94716aa606355ece5cbecafa97d2b5c7 = L.marker(\n                [34.63283416, -120.6107455],\n                {}\n            ).addTo(marker_cluster_c6a6a7a80e7c028561e7b0e944869269);\n        \n    \n            var icon_e98cc2c537f6fea9773d81efbe9d8349 = L.AwesomeMarkers.icon(\n                {&quot;extraClasses&quot;: &quot;fa-rotate-0&quot;, &quot;icon&quot;: &quot;info-sign&quot;, &quot;iconColor&quot;: &quot;white&quot;, &quot;markerColor&quot;: &quot;green&quot;, &quot;prefix&quot;: &quot;glyphicon&quot;}\n            );\n            marker_94716aa606355ece5cbecafa97d2b5c7.setIcon(icon_e98cc2c537f6fea9773d81efbe9d8349);\n        \n    \n        var popup_2416f06651d1ec19a4cf0f7c583ff9f6 = L.popup({&quot;maxWidth&quot;: &quot;100%&quot;});\n\n        \n            var html_3c8752e8a8291c7f87c8b8a34158f44b = $(`&lt;div id=&quot;html_3c8752e8a8291c7f87c8b8a34158f44b&quot; style=&quot;width: 100.0%; height: 100.0%;&quot;&gt;29&lt;/div&gt;`)[0];\n            popup_2416f06651d1ec19a4cf0f7c583ff9f6.setContent(html_3c8752e8a8291c7f87c8b8a34158f44b);\n        \n\n        marker_94716aa606355ece5cbecafa97d2b5c7.bindPopup(popup_2416f06651d1ec19a4cf0f7c583ff9f6)\n        ;\n\n        \n    \n    \n            var marker_e3630892ad330f0791d162672350e827 = L.marker(\n                [34.63283416, -120.6107455],\n                {}\n            ).addTo(marker_cluster_c6a6a7a80e7c028561e7b0e944869269);\n        \n    \n            var icon_f99967cbd35ea0cce57def401b9ae1fc = L.AwesomeMarkers.icon(\n                {&quot;extraClasses&quot;: &quot;fa-rotate-0&quot;, &quot;icon&quot;: &quot;info-sign&quot;, &quot;iconColor&quot;: &quot;white&quot;, &quot;markerColor&quot;: &quot;green&quot;, &quot;prefix&quot;: &quot;glyphicon&quot;}\n            );\n            marker_e3630892ad330f0791d162672350e827.setIcon(icon_f99967cbd35ea0cce57def401b9ae1fc);\n        \n    \n        var popup_f8a77d83caf3cd741737521202c7fc87 = L.popup({&quot;maxWidth&quot;: &quot;100%&quot;});\n\n        \n            var html_14953f28fd7b77a615993f7c0e38eebf = $(`&lt;div id=&quot;html_14953f28fd7b77a615993f7c0e38eebf&quot; style=&quot;width: 100.0%; height: 100.0%;&quot;&gt;30&lt;/div&gt;`)[0];\n            popup_f8a77d83caf3cd741737521202c7fc87.setContent(html_14953f28fd7b77a615993f7c0e38eebf);\n        \n\n        marker_e3630892ad330f0791d162672350e827.bindPopup(popup_f8a77d83caf3cd741737521202c7fc87)\n        ;\n\n        \n    \n    \n            var marker_f7dd209a8b6a850b0e9f109d2c6fdbab = L.marker(\n                [34.63283416, -120.6107455],\n                {}\n            ).addTo(marker_cluster_c6a6a7a80e7c028561e7b0e944869269);\n        \n    \n            var icon_22f23aef9adad8484bcc256cb3784f71 = L.AwesomeMarkers.icon(\n                {&quot;extraClasses&quot;: &quot;fa-rotate-0&quot;, &quot;icon&quot;: &quot;info-sign&quot;, &quot;iconColor&quot;: &quot;white&quot;, &quot;markerColor&quot;: &quot;green&quot;, &quot;prefix&quot;: &quot;glyphicon&quot;}\n            );\n            marker_f7dd209a8b6a850b0e9f109d2c6fdbab.setIcon(icon_22f23aef9adad8484bcc256cb3784f71);\n        \n    \n        var popup_d399264e6290958fcd6941e69027fbb7 = L.popup({&quot;maxWidth&quot;: &quot;100%&quot;});\n\n        \n            var html_2d055bc93b3c4ba664a6c929368a7b6c = $(`&lt;div id=&quot;html_2d055bc93b3c4ba664a6c929368a7b6c&quot; style=&quot;width: 100.0%; height: 100.0%;&quot;&gt;31&lt;/div&gt;`)[0];\n            popup_d399264e6290958fcd6941e69027fbb7.setContent(html_2d055bc93b3c4ba664a6c929368a7b6c);\n        \n\n        marker_f7dd209a8b6a850b0e9f109d2c6fdbab.bindPopup(popup_d399264e6290958fcd6941e69027fbb7)\n        ;\n\n        \n    \n    \n            var marker_9fc49a037cbbfff52095ba284dca603c = L.marker(\n                [34.63283416, -120.6107455],\n                {}\n            ).addTo(marker_cluster_c6a6a7a80e7c028561e7b0e944869269);\n        \n    \n            var icon_69675250a4ba7f8ecab95a7b0824ba38 = L.AwesomeMarkers.icon(\n                {&quot;extraClasses&quot;: &quot;fa-rotate-0&quot;, &quot;icon&quot;: &quot;info-sign&quot;, &quot;iconColor&quot;: &quot;white&quot;, &quot;markerColor&quot;: &quot;red&quot;, &quot;prefix&quot;: &quot;glyphicon&quot;}\n            );\n            marker_9fc49a037cbbfff52095ba284dca603c.setIcon(icon_69675250a4ba7f8ecab95a7b0824ba38);\n        \n    \n        var popup_8aaeaa0b76e78a92c768f1f757cf0aaa = L.popup({&quot;maxWidth&quot;: &quot;100%&quot;});\n\n        \n            var html_0a8d9d6d89d8a30ba26f7e6f9240d70c = $(`&lt;div id=&quot;html_0a8d9d6d89d8a30ba26f7e6f9240d70c&quot; style=&quot;width: 100.0%; height: 100.0%;&quot;&gt;32&lt;/div&gt;`)[0];\n            popup_8aaeaa0b76e78a92c768f1f757cf0aaa.setContent(html_0a8d9d6d89d8a30ba26f7e6f9240d70c);\n        \n\n        marker_9fc49a037cbbfff52095ba284dca603c.bindPopup(popup_8aaeaa0b76e78a92c768f1f757cf0aaa)\n        ;\n\n        \n    \n    \n            var marker_c3972efab81529c480d384ab84cb1b33 = L.marker(\n                [34.63283416, -120.6107455],\n                {}\n            ).addTo(marker_cluster_c6a6a7a80e7c028561e7b0e944869269);\n        \n    \n            var icon_d8acb89a8ee2715e997af0b0bde65bce = L.AwesomeMarkers.icon(\n                {&quot;extraClasses&quot;: &quot;fa-rotate-0&quot;, &quot;icon&quot;: &quot;info-sign&quot;, &quot;iconColor&quot;: &quot;white&quot;, &quot;markerColor&quot;: &quot;red&quot;, &quot;prefix&quot;: &quot;glyphicon&quot;}\n            );\n            marker_c3972efab81529c480d384ab84cb1b33.setIcon(icon_d8acb89a8ee2715e997af0b0bde65bce);\n        \n    \n        var popup_044e2c2b0401a75a80708143434b8c2d = L.popup({&quot;maxWidth&quot;: &quot;100%&quot;});\n\n        \n            var html_229374a433533dd38ec65150f485e9f3 = $(`&lt;div id=&quot;html_229374a433533dd38ec65150f485e9f3&quot; style=&quot;width: 100.0%; height: 100.0%;&quot;&gt;33&lt;/div&gt;`)[0];\n            popup_044e2c2b0401a75a80708143434b8c2d.setContent(html_229374a433533dd38ec65150f485e9f3);\n        \n\n        marker_c3972efab81529c480d384ab84cb1b33.bindPopup(popup_044e2c2b0401a75a80708143434b8c2d)\n        ;\n\n        \n    \n    \n            var marker_6ab83e066b8f122bf78e0481e88d72a3 = L.marker(\n                [34.63283416, -120.6107455],\n                {}\n            ).addTo(marker_cluster_c6a6a7a80e7c028561e7b0e944869269);\n        \n    \n            var icon_296059a428e0422cb14b22f192e3166a = L.AwesomeMarkers.icon(\n                {&quot;extraClasses&quot;: &quot;fa-rotate-0&quot;, &quot;icon&quot;: &quot;info-sign&quot;, &quot;iconColor&quot;: &quot;white&quot;, &quot;markerColor&quot;: &quot;red&quot;, &quot;prefix&quot;: &quot;glyphicon&quot;}\n            );\n            marker_6ab83e066b8f122bf78e0481e88d72a3.setIcon(icon_296059a428e0422cb14b22f192e3166a);\n        \n    \n        var popup_340105f133156ec01c863dcf8716e537 = L.popup({&quot;maxWidth&quot;: &quot;100%&quot;});\n\n        \n            var html_d5f1f852b91760db38109f314c772e33 = $(`&lt;div id=&quot;html_d5f1f852b91760db38109f314c772e33&quot; style=&quot;width: 100.0%; height: 100.0%;&quot;&gt;34&lt;/div&gt;`)[0];\n            popup_340105f133156ec01c863dcf8716e537.setContent(html_d5f1f852b91760db38109f314c772e33);\n        \n\n        marker_6ab83e066b8f122bf78e0481e88d72a3.bindPopup(popup_340105f133156ec01c863dcf8716e537)\n        ;\n\n        \n    \n    \n            var marker_12d173ca483424985474e954c7d651cf = L.marker(\n                [34.63283416, -120.6107455],\n                {}\n            ).addTo(marker_cluster_c6a6a7a80e7c028561e7b0e944869269);\n        \n    \n            var icon_74dc065e661215caa1adf9d408c05c77 = L.AwesomeMarkers.icon(\n                {&quot;extraClasses&quot;: &quot;fa-rotate-0&quot;, &quot;icon&quot;: &quot;info-sign&quot;, &quot;iconColor&quot;: &quot;white&quot;, &quot;markerColor&quot;: &quot;red&quot;, &quot;prefix&quot;: &quot;glyphicon&quot;}\n            );\n            marker_12d173ca483424985474e954c7d651cf.setIcon(icon_74dc065e661215caa1adf9d408c05c77);\n        \n    \n        var popup_6ed58c71d03a018e6f98126adbd683d9 = L.popup({&quot;maxWidth&quot;: &quot;100%&quot;});\n\n        \n            var html_d1c3f395a981b2727e0ef59e40c8f261 = $(`&lt;div id=&quot;html_d1c3f395a981b2727e0ef59e40c8f261&quot; style=&quot;width: 100.0%; height: 100.0%;&quot;&gt;35&lt;/div&gt;`)[0];\n            popup_6ed58c71d03a018e6f98126adbd683d9.setContent(html_d1c3f395a981b2727e0ef59e40c8f261);\n        \n\n        marker_12d173ca483424985474e954c7d651cf.bindPopup(popup_6ed58c71d03a018e6f98126adbd683d9)\n        ;\n\n        \n    \n    \n            var marker_d5482e4c0924e92074727494e007c13f = L.marker(\n                [28.57325457, -80.64689529],\n                {}\n            ).addTo(marker_cluster_c6a6a7a80e7c028561e7b0e944869269);\n        \n    \n            var icon_ab8f29e9a37b926d76d40aa2c0661bd3 = L.AwesomeMarkers.icon(\n                {&quot;extraClasses&quot;: &quot;fa-rotate-0&quot;, &quot;icon&quot;: &quot;info-sign&quot;, &quot;iconColor&quot;: &quot;white&quot;, &quot;markerColor&quot;: &quot;green&quot;, &quot;prefix&quot;: &quot;glyphicon&quot;}\n            );\n            marker_d5482e4c0924e92074727494e007c13f.setIcon(icon_ab8f29e9a37b926d76d40aa2c0661bd3);\n        \n    \n        var popup_b07d66a690b8eeab1ff1eac4b710db7e = L.popup({&quot;maxWidth&quot;: &quot;100%&quot;});\n\n        \n            var html_b7bd6ce14c4e032fccc23e871c88f5ae = $(`&lt;div id=&quot;html_b7bd6ce14c4e032fccc23e871c88f5ae&quot; style=&quot;width: 100.0%; height: 100.0%;&quot;&gt;36&lt;/div&gt;`)[0];\n            popup_b07d66a690b8eeab1ff1eac4b710db7e.setContent(html_b7bd6ce14c4e032fccc23e871c88f5ae);\n        \n\n        marker_d5482e4c0924e92074727494e007c13f.bindPopup(popup_b07d66a690b8eeab1ff1eac4b710db7e)\n        ;\n\n        \n    \n    \n            var marker_32a0b98152c0dc5c4aab55e617039d8c = L.marker(\n                [28.57325457, -80.64689529],\n                {}\n            ).addTo(marker_cluster_c6a6a7a80e7c028561e7b0e944869269);\n        \n    \n            var icon_7439d0a965ae8ba742725698c36b743d = L.AwesomeMarkers.icon(\n                {&quot;extraClasses&quot;: &quot;fa-rotate-0&quot;, &quot;icon&quot;: &quot;info-sign&quot;, &quot;iconColor&quot;: &quot;white&quot;, &quot;markerColor&quot;: &quot;red&quot;, &quot;prefix&quot;: &quot;glyphicon&quot;}\n            );\n            marker_32a0b98152c0dc5c4aab55e617039d8c.setIcon(icon_7439d0a965ae8ba742725698c36b743d);\n        \n    \n        var popup_80b76d9f305ba249c73e5897dd272bc7 = L.popup({&quot;maxWidth&quot;: &quot;100%&quot;});\n\n        \n            var html_308f03cb04ef06db2a9c58e074279b2e = $(`&lt;div id=&quot;html_308f03cb04ef06db2a9c58e074279b2e&quot; style=&quot;width: 100.0%; height: 100.0%;&quot;&gt;37&lt;/div&gt;`)[0];\n            popup_80b76d9f305ba249c73e5897dd272bc7.setContent(html_308f03cb04ef06db2a9c58e074279b2e);\n        \n\n        marker_32a0b98152c0dc5c4aab55e617039d8c.bindPopup(popup_80b76d9f305ba249c73e5897dd272bc7)\n        ;\n\n        \n    \n    \n            var marker_6696abf87f7ad1ea497d469b3d39bad9 = L.marker(\n                [28.57325457, -80.64689529],\n                {}\n            ).addTo(marker_cluster_c6a6a7a80e7c028561e7b0e944869269);\n        \n    \n            var icon_babca3251f39aee8bd1d499abbd23235 = L.AwesomeMarkers.icon(\n                {&quot;extraClasses&quot;: &quot;fa-rotate-0&quot;, &quot;icon&quot;: &quot;info-sign&quot;, &quot;iconColor&quot;: &quot;white&quot;, &quot;markerColor&quot;: &quot;green&quot;, &quot;prefix&quot;: &quot;glyphicon&quot;}\n            );\n            marker_6696abf87f7ad1ea497d469b3d39bad9.setIcon(icon_babca3251f39aee8bd1d499abbd23235);\n        \n    \n        var popup_191c4695ae0734ba309ce9f84f810388 = L.popup({&quot;maxWidth&quot;: &quot;100%&quot;});\n\n        \n            var html_8e25d592f275a712b65cd6de1685052f = $(`&lt;div id=&quot;html_8e25d592f275a712b65cd6de1685052f&quot; style=&quot;width: 100.0%; height: 100.0%;&quot;&gt;38&lt;/div&gt;`)[0];\n            popup_191c4695ae0734ba309ce9f84f810388.setContent(html_8e25d592f275a712b65cd6de1685052f);\n        \n\n        marker_6696abf87f7ad1ea497d469b3d39bad9.bindPopup(popup_191c4695ae0734ba309ce9f84f810388)\n        ;\n\n        \n    \n    \n            var marker_ea1742450581869ed519995114f2116e = L.marker(\n                [28.57325457, -80.64689529],\n                {}\n            ).addTo(marker_cluster_c6a6a7a80e7c028561e7b0e944869269);\n        \n    \n            var icon_d15c8fdb9d679502c64369b340218449 = L.AwesomeMarkers.icon(\n                {&quot;extraClasses&quot;: &quot;fa-rotate-0&quot;, &quot;icon&quot;: &quot;info-sign&quot;, &quot;iconColor&quot;: &quot;white&quot;, &quot;markerColor&quot;: &quot;green&quot;, &quot;prefix&quot;: &quot;glyphicon&quot;}\n            );\n            marker_ea1742450581869ed519995114f2116e.setIcon(icon_d15c8fdb9d679502c64369b340218449);\n        \n    \n        var popup_c4742036ba2539f4c4fb7ffaad05203c = L.popup({&quot;maxWidth&quot;: &quot;100%&quot;});\n\n        \n            var html_1f937fe94548d6ec54dfca892f755e14 = $(`&lt;div id=&quot;html_1f937fe94548d6ec54dfca892f755e14&quot; style=&quot;width: 100.0%; height: 100.0%;&quot;&gt;39&lt;/div&gt;`)[0];\n            popup_c4742036ba2539f4c4fb7ffaad05203c.setContent(html_1f937fe94548d6ec54dfca892f755e14);\n        \n\n        marker_ea1742450581869ed519995114f2116e.bindPopup(popup_c4742036ba2539f4c4fb7ffaad05203c)\n        ;\n\n        \n    \n    \n            var marker_d5f525631a3af0ccffaccb905e123a87 = L.marker(\n                [28.57325457, -80.64689529],\n                {}\n            ).addTo(marker_cluster_c6a6a7a80e7c028561e7b0e944869269);\n        \n    \n            var icon_cbb1de1cfc031d8a3f5b02a3d1fc6fa0 = L.AwesomeMarkers.icon(\n                {&quot;extraClasses&quot;: &quot;fa-rotate-0&quot;, &quot;icon&quot;: &quot;info-sign&quot;, &quot;iconColor&quot;: &quot;white&quot;, &quot;markerColor&quot;: &quot;red&quot;, &quot;prefix&quot;: &quot;glyphicon&quot;}\n            );\n            marker_d5f525631a3af0ccffaccb905e123a87.setIcon(icon_cbb1de1cfc031d8a3f5b02a3d1fc6fa0);\n        \n    \n        var popup_856957855ba2383b1f0ff1a6600c25fa = L.popup({&quot;maxWidth&quot;: &quot;100%&quot;});\n\n        \n            var html_379a94edf5620a74b67d916714cbfe20 = $(`&lt;div id=&quot;html_379a94edf5620a74b67d916714cbfe20&quot; style=&quot;width: 100.0%; height: 100.0%;&quot;&gt;40&lt;/div&gt;`)[0];\n            popup_856957855ba2383b1f0ff1a6600c25fa.setContent(html_379a94edf5620a74b67d916714cbfe20);\n        \n\n        marker_d5f525631a3af0ccffaccb905e123a87.bindPopup(popup_856957855ba2383b1f0ff1a6600c25fa)\n        ;\n\n        \n    \n    \n            var marker_42f529e0bd0bb6fe1feb883ab2753da9 = L.marker(\n                [28.57325457, -80.64689529],\n                {}\n            ).addTo(marker_cluster_c6a6a7a80e7c028561e7b0e944869269);\n        \n    \n            var icon_31389e576a6b323be18943d6022668a5 = L.AwesomeMarkers.icon(\n                {&quot;extraClasses&quot;: &quot;fa-rotate-0&quot;, &quot;icon&quot;: &quot;info-sign&quot;, &quot;iconColor&quot;: &quot;white&quot;, &quot;markerColor&quot;: &quot;green&quot;, &quot;prefix&quot;: &quot;glyphicon&quot;}\n            );\n            marker_42f529e0bd0bb6fe1feb883ab2753da9.setIcon(icon_31389e576a6b323be18943d6022668a5);\n        \n    \n        var popup_ba75022d7799ec821c003d402895b742 = L.popup({&quot;maxWidth&quot;: &quot;100%&quot;});\n\n        \n            var html_c170f91a4cf96564e4aa76839f27f198 = $(`&lt;div id=&quot;html_c170f91a4cf96564e4aa76839f27f198&quot; style=&quot;width: 100.0%; height: 100.0%;&quot;&gt;41&lt;/div&gt;`)[0];\n            popup_ba75022d7799ec821c003d402895b742.setContent(html_c170f91a4cf96564e4aa76839f27f198);\n        \n\n        marker_42f529e0bd0bb6fe1feb883ab2753da9.bindPopup(popup_ba75022d7799ec821c003d402895b742)\n        ;\n\n        \n    \n    \n            var marker_b3f2d56d70cf4d5ac64e77b1ea9cb817 = L.marker(\n                [28.57325457, -80.64689529],\n                {}\n            ).addTo(marker_cluster_c6a6a7a80e7c028561e7b0e944869269);\n        \n    \n            var icon_7fe9d633438ea8c7d7c443c1879c97be = L.AwesomeMarkers.icon(\n                {&quot;extraClasses&quot;: &quot;fa-rotate-0&quot;, &quot;icon&quot;: &quot;info-sign&quot;, &quot;iconColor&quot;: &quot;white&quot;, &quot;markerColor&quot;: &quot;green&quot;, &quot;prefix&quot;: &quot;glyphicon&quot;}\n            );\n            marker_b3f2d56d70cf4d5ac64e77b1ea9cb817.setIcon(icon_7fe9d633438ea8c7d7c443c1879c97be);\n        \n    \n        var popup_19279af80d2340ed7047cc110847bb37 = L.popup({&quot;maxWidth&quot;: &quot;100%&quot;});\n\n        \n            var html_779b96ced903de2e6cbc470e14a3a44c = $(`&lt;div id=&quot;html_779b96ced903de2e6cbc470e14a3a44c&quot; style=&quot;width: 100.0%; height: 100.0%;&quot;&gt;42&lt;/div&gt;`)[0];\n            popup_19279af80d2340ed7047cc110847bb37.setContent(html_779b96ced903de2e6cbc470e14a3a44c);\n        \n\n        marker_b3f2d56d70cf4d5ac64e77b1ea9cb817.bindPopup(popup_19279af80d2340ed7047cc110847bb37)\n        ;\n\n        \n    \n    \n            var marker_fddad02b89356bb96f72f96677f3e7bc = L.marker(\n                [28.57325457, -80.64689529],\n                {}\n            ).addTo(marker_cluster_c6a6a7a80e7c028561e7b0e944869269);\n        \n    \n            var icon_8f90a73877c9975f27847c6386f4d8e2 = L.AwesomeMarkers.icon(\n                {&quot;extraClasses&quot;: &quot;fa-rotate-0&quot;, &quot;icon&quot;: &quot;info-sign&quot;, &quot;iconColor&quot;: &quot;white&quot;, &quot;markerColor&quot;: &quot;red&quot;, &quot;prefix&quot;: &quot;glyphicon&quot;}\n            );\n            marker_fddad02b89356bb96f72f96677f3e7bc.setIcon(icon_8f90a73877c9975f27847c6386f4d8e2);\n        \n    \n        var popup_287cfc9226db19dcdd24f16d05957553 = L.popup({&quot;maxWidth&quot;: &quot;100%&quot;});\n\n        \n            var html_cd3f19c682ef7cfb4ad9d391381f575f = $(`&lt;div id=&quot;html_cd3f19c682ef7cfb4ad9d391381f575f&quot; style=&quot;width: 100.0%; height: 100.0%;&quot;&gt;43&lt;/div&gt;`)[0];\n            popup_287cfc9226db19dcdd24f16d05957553.setContent(html_cd3f19c682ef7cfb4ad9d391381f575f);\n        \n\n        marker_fddad02b89356bb96f72f96677f3e7bc.bindPopup(popup_287cfc9226db19dcdd24f16d05957553)\n        ;\n\n        \n    \n    \n            var marker_78422b9295f0a35c639fa46a82c07e82 = L.marker(\n                [28.57325457, -80.64689529],\n                {}\n            ).addTo(marker_cluster_c6a6a7a80e7c028561e7b0e944869269);\n        \n    \n            var icon_a21a27b6a01c8ef14b77e7e6f6318900 = L.AwesomeMarkers.icon(\n                {&quot;extraClasses&quot;: &quot;fa-rotate-0&quot;, &quot;icon&quot;: &quot;info-sign&quot;, &quot;iconColor&quot;: &quot;white&quot;, &quot;markerColor&quot;: &quot;green&quot;, &quot;prefix&quot;: &quot;glyphicon&quot;}\n            );\n            marker_78422b9295f0a35c639fa46a82c07e82.setIcon(icon_a21a27b6a01c8ef14b77e7e6f6318900);\n        \n    \n        var popup_8f6fa483be381d25976653c132098f23 = L.popup({&quot;maxWidth&quot;: &quot;100%&quot;});\n\n        \n            var html_e37443a156ebb60a38103bb2f7f24c72 = $(`&lt;div id=&quot;html_e37443a156ebb60a38103bb2f7f24c72&quot; style=&quot;width: 100.0%; height: 100.0%;&quot;&gt;44&lt;/div&gt;`)[0];\n            popup_8f6fa483be381d25976653c132098f23.setContent(html_e37443a156ebb60a38103bb2f7f24c72);\n        \n\n        marker_78422b9295f0a35c639fa46a82c07e82.bindPopup(popup_8f6fa483be381d25976653c132098f23)\n        ;\n\n        \n    \n    \n            var marker_be93986078e7d6d4d0f893f4e11895d4 = L.marker(\n                [28.57325457, -80.64689529],\n                {}\n            ).addTo(marker_cluster_c6a6a7a80e7c028561e7b0e944869269);\n        \n    \n            var icon_6e3eb9909cd79e403920cd38bd997dba = L.AwesomeMarkers.icon(\n                {&quot;extraClasses&quot;: &quot;fa-rotate-0&quot;, &quot;icon&quot;: &quot;info-sign&quot;, &quot;iconColor&quot;: &quot;white&quot;, &quot;markerColor&quot;: &quot;green&quot;, &quot;prefix&quot;: &quot;glyphicon&quot;}\n            );\n            marker_be93986078e7d6d4d0f893f4e11895d4.setIcon(icon_6e3eb9909cd79e403920cd38bd997dba);\n        \n    \n        var popup_0b9f988f7211ff0bbdcf84c7ab20ed9a = L.popup({&quot;maxWidth&quot;: &quot;100%&quot;});\n\n        \n            var html_af3746dfd8c1cd7420016725782c67bc = $(`&lt;div id=&quot;html_af3746dfd8c1cd7420016725782c67bc&quot; style=&quot;width: 100.0%; height: 100.0%;&quot;&gt;45&lt;/div&gt;`)[0];\n            popup_0b9f988f7211ff0bbdcf84c7ab20ed9a.setContent(html_af3746dfd8c1cd7420016725782c67bc);\n        \n\n        marker_be93986078e7d6d4d0f893f4e11895d4.bindPopup(popup_0b9f988f7211ff0bbdcf84c7ab20ed9a)\n        ;\n\n        \n    \n    \n            var marker_ca548d04f30a86127e0f49c35b3b5637 = L.marker(\n                [28.57325457, -80.64689529],\n                {}\n            ).addTo(marker_cluster_c6a6a7a80e7c028561e7b0e944869269);\n        \n    \n            var icon_81c3c2089bad38771851b26d7c07bb82 = L.AwesomeMarkers.icon(\n                {&quot;extraClasses&quot;: &quot;fa-rotate-0&quot;, &quot;icon&quot;: &quot;info-sign&quot;, &quot;iconColor&quot;: &quot;white&quot;, &quot;markerColor&quot;: &quot;green&quot;, &quot;prefix&quot;: &quot;glyphicon&quot;}\n            );\n            marker_ca548d04f30a86127e0f49c35b3b5637.setIcon(icon_81c3c2089bad38771851b26d7c07bb82);\n        \n    \n        var popup_d1668c2bc1e128d9d6aa71af55ea86cf = L.popup({&quot;maxWidth&quot;: &quot;100%&quot;});\n\n        \n            var html_879119ab29b9e74388418924c8b1dcc4 = $(`&lt;div id=&quot;html_879119ab29b9e74388418924c8b1dcc4&quot; style=&quot;width: 100.0%; height: 100.0%;&quot;&gt;46&lt;/div&gt;`)[0];\n            popup_d1668c2bc1e128d9d6aa71af55ea86cf.setContent(html_879119ab29b9e74388418924c8b1dcc4);\n        \n\n        marker_ca548d04f30a86127e0f49c35b3b5637.bindPopup(popup_d1668c2bc1e128d9d6aa71af55ea86cf)\n        ;\n\n        \n    \n    \n            var marker_377f52d63d1523991aaa08bd9594e746 = L.marker(\n                [28.57325457, -80.64689529],\n                {}\n            ).addTo(marker_cluster_c6a6a7a80e7c028561e7b0e944869269);\n        \n    \n            var icon_7a51078d6ce26ec82c7f0ce4c5d2c867 = L.AwesomeMarkers.icon(\n                {&quot;extraClasses&quot;: &quot;fa-rotate-0&quot;, &quot;icon&quot;: &quot;info-sign&quot;, &quot;iconColor&quot;: &quot;white&quot;, &quot;markerColor&quot;: &quot;green&quot;, &quot;prefix&quot;: &quot;glyphicon&quot;}\n            );\n            marker_377f52d63d1523991aaa08bd9594e746.setIcon(icon_7a51078d6ce26ec82c7f0ce4c5d2c867);\n        \n    \n        var popup_9679206c03c77fda894ea406952cbafc = L.popup({&quot;maxWidth&quot;: &quot;100%&quot;});\n\n        \n            var html_04ae94c186d28c3afcead6bb7f2adff0 = $(`&lt;div id=&quot;html_04ae94c186d28c3afcead6bb7f2adff0&quot; style=&quot;width: 100.0%; height: 100.0%;&quot;&gt;47&lt;/div&gt;`)[0];\n            popup_9679206c03c77fda894ea406952cbafc.setContent(html_04ae94c186d28c3afcead6bb7f2adff0);\n        \n\n        marker_377f52d63d1523991aaa08bd9594e746.bindPopup(popup_9679206c03c77fda894ea406952cbafc)\n        ;\n\n        \n    \n    \n            var marker_dbb789ae2ccfbdf3ff17cf60b105e50a = L.marker(\n                [28.57325457, -80.64689529],\n                {}\n            ).addTo(marker_cluster_c6a6a7a80e7c028561e7b0e944869269);\n        \n    \n            var icon_b46d16f62f44a5d52d96c27b7e3912f8 = L.AwesomeMarkers.icon(\n                {&quot;extraClasses&quot;: &quot;fa-rotate-0&quot;, &quot;icon&quot;: &quot;info-sign&quot;, &quot;iconColor&quot;: &quot;white&quot;, &quot;markerColor&quot;: &quot;green&quot;, &quot;prefix&quot;: &quot;glyphicon&quot;}\n            );\n            marker_dbb789ae2ccfbdf3ff17cf60b105e50a.setIcon(icon_b46d16f62f44a5d52d96c27b7e3912f8);\n        \n    \n        var popup_e46da3f4d79cc22bd87fb652b51367a9 = L.popup({&quot;maxWidth&quot;: &quot;100%&quot;});\n\n        \n            var html_2959f224e9f7ec9d52786f58ba2aea40 = $(`&lt;div id=&quot;html_2959f224e9f7ec9d52786f58ba2aea40&quot; style=&quot;width: 100.0%; height: 100.0%;&quot;&gt;48&lt;/div&gt;`)[0];\n            popup_e46da3f4d79cc22bd87fb652b51367a9.setContent(html_2959f224e9f7ec9d52786f58ba2aea40);\n        \n\n        marker_dbb789ae2ccfbdf3ff17cf60b105e50a.bindPopup(popup_e46da3f4d79cc22bd87fb652b51367a9)\n        ;\n\n        \n    \n    \n            var marker_23131eac6fd61eeec8438ff58c043837 = L.marker(\n                [28.56319718, -80.57682003],\n                {}\n            ).addTo(marker_cluster_c6a6a7a80e7c028561e7b0e944869269);\n        \n    \n            var icon_2e9c1d6ae095953018fc1076b12ed755 = L.AwesomeMarkers.icon(\n                {&quot;extraClasses&quot;: &quot;fa-rotate-0&quot;, &quot;icon&quot;: &quot;info-sign&quot;, &quot;iconColor&quot;: &quot;white&quot;, &quot;markerColor&quot;: &quot;green&quot;, &quot;prefix&quot;: &quot;glyphicon&quot;}\n            );\n            marker_23131eac6fd61eeec8438ff58c043837.setIcon(icon_2e9c1d6ae095953018fc1076b12ed755);\n        \n    \n        var popup_27c1f241e8411ca1bb1efe2e92cdcdd1 = L.popup({&quot;maxWidth&quot;: &quot;100%&quot;});\n\n        \n            var html_889c886853b673f576467141cab9bc43 = $(`&lt;div id=&quot;html_889c886853b673f576467141cab9bc43&quot; style=&quot;width: 100.0%; height: 100.0%;&quot;&gt;49&lt;/div&gt;`)[0];\n            popup_27c1f241e8411ca1bb1efe2e92cdcdd1.setContent(html_889c886853b673f576467141cab9bc43);\n        \n\n        marker_23131eac6fd61eeec8438ff58c043837.bindPopup(popup_27c1f241e8411ca1bb1efe2e92cdcdd1)\n        ;\n\n        \n    \n    \n            var marker_7c4bd9b28c31751a83c1bc0d0680966f = L.marker(\n                [28.56319718, -80.57682003],\n                {}\n            ).addTo(marker_cluster_c6a6a7a80e7c028561e7b0e944869269);\n        \n    \n            var icon_2911223fc22731f68a81611dc67b2269 = L.AwesomeMarkers.icon(\n                {&quot;extraClasses&quot;: &quot;fa-rotate-0&quot;, &quot;icon&quot;: &quot;info-sign&quot;, &quot;iconColor&quot;: &quot;white&quot;, &quot;markerColor&quot;: &quot;green&quot;, &quot;prefix&quot;: &quot;glyphicon&quot;}\n            );\n            marker_7c4bd9b28c31751a83c1bc0d0680966f.setIcon(icon_2911223fc22731f68a81611dc67b2269);\n        \n    \n        var popup_36f80e5bafd2441591e0f3f9bb3c46a8 = L.popup({&quot;maxWidth&quot;: &quot;100%&quot;});\n\n        \n            var html_d50d3f1a40898ff2b26a2664b0d60466 = $(`&lt;div id=&quot;html_d50d3f1a40898ff2b26a2664b0d60466&quot; style=&quot;width: 100.0%; height: 100.0%;&quot;&gt;50&lt;/div&gt;`)[0];\n            popup_36f80e5bafd2441591e0f3f9bb3c46a8.setContent(html_d50d3f1a40898ff2b26a2664b0d60466);\n        \n\n        marker_7c4bd9b28c31751a83c1bc0d0680966f.bindPopup(popup_36f80e5bafd2441591e0f3f9bb3c46a8)\n        ;\n\n        \n    \n    \n            var marker_1a1f7d41cc98f2d60d2bb95a076f3d9b = L.marker(\n                [28.56319718, -80.57682003],\n                {}\n            ).addTo(marker_cluster_c6a6a7a80e7c028561e7b0e944869269);\n        \n    \n            var icon_0ad9a9ad99254726e756191cb88696cd = L.AwesomeMarkers.icon(\n                {&quot;extraClasses&quot;: &quot;fa-rotate-0&quot;, &quot;icon&quot;: &quot;info-sign&quot;, &quot;iconColor&quot;: &quot;white&quot;, &quot;markerColor&quot;: &quot;red&quot;, &quot;prefix&quot;: &quot;glyphicon&quot;}\n            );\n            marker_1a1f7d41cc98f2d60d2bb95a076f3d9b.setIcon(icon_0ad9a9ad99254726e756191cb88696cd);\n        \n    \n        var popup_4366d5abb14401e74841e0379ba81ca0 = L.popup({&quot;maxWidth&quot;: &quot;100%&quot;});\n\n        \n            var html_d3a8385a9a35572ee5e8a846ac77985b = $(`&lt;div id=&quot;html_d3a8385a9a35572ee5e8a846ac77985b&quot; style=&quot;width: 100.0%; height: 100.0%;&quot;&gt;51&lt;/div&gt;`)[0];\n            popup_4366d5abb14401e74841e0379ba81ca0.setContent(html_d3a8385a9a35572ee5e8a846ac77985b);\n        \n\n        marker_1a1f7d41cc98f2d60d2bb95a076f3d9b.bindPopup(popup_4366d5abb14401e74841e0379ba81ca0)\n        ;\n\n        \n    \n    \n            var marker_ae04f230b2dbfd67ad50a8e53938fa8f = L.marker(\n                [28.56319718, -80.57682003],\n                {}\n            ).addTo(marker_cluster_c6a6a7a80e7c028561e7b0e944869269);\n        \n    \n            var icon_fbad658acec14406d396807f853e95a2 = L.AwesomeMarkers.icon(\n                {&quot;extraClasses&quot;: &quot;fa-rotate-0&quot;, &quot;icon&quot;: &quot;info-sign&quot;, &quot;iconColor&quot;: &quot;white&quot;, &quot;markerColor&quot;: &quot;red&quot;, &quot;prefix&quot;: &quot;glyphicon&quot;}\n            );\n            marker_ae04f230b2dbfd67ad50a8e53938fa8f.setIcon(icon_fbad658acec14406d396807f853e95a2);\n        \n    \n        var popup_9b7cff809979355e5bb25d6eb8927f6f = L.popup({&quot;maxWidth&quot;: &quot;100%&quot;});\n\n        \n            var html_ff4da46ad035cd09aac2c8d29ed2da3e = $(`&lt;div id=&quot;html_ff4da46ad035cd09aac2c8d29ed2da3e&quot; style=&quot;width: 100.0%; height: 100.0%;&quot;&gt;52&lt;/div&gt;`)[0];\n            popup_9b7cff809979355e5bb25d6eb8927f6f.setContent(html_ff4da46ad035cd09aac2c8d29ed2da3e);\n        \n\n        marker_ae04f230b2dbfd67ad50a8e53938fa8f.bindPopup(popup_9b7cff809979355e5bb25d6eb8927f6f)\n        ;\n\n        \n    \n    \n            var marker_dce28118b1a50b5115ef75ba5d274da3 = L.marker(\n                [28.56319718, -80.57682003],\n                {}\n            ).addTo(marker_cluster_c6a6a7a80e7c028561e7b0e944869269);\n        \n    \n            var icon_644cd0da5c19355a0f3f8e35bae90312 = L.AwesomeMarkers.icon(\n                {&quot;extraClasses&quot;: &quot;fa-rotate-0&quot;, &quot;icon&quot;: &quot;info-sign&quot;, &quot;iconColor&quot;: &quot;white&quot;, &quot;markerColor&quot;: &quot;red&quot;, &quot;prefix&quot;: &quot;glyphicon&quot;}\n            );\n            marker_dce28118b1a50b5115ef75ba5d274da3.setIcon(icon_644cd0da5c19355a0f3f8e35bae90312);\n        \n    \n        var popup_340d15e7507b2aa4383f45bd40fde063 = L.popup({&quot;maxWidth&quot;: &quot;100%&quot;});\n\n        \n            var html_157aa86e42d08a36fe09c92955533d7a = $(`&lt;div id=&quot;html_157aa86e42d08a36fe09c92955533d7a&quot; style=&quot;width: 100.0%; height: 100.0%;&quot;&gt;53&lt;/div&gt;`)[0];\n            popup_340d15e7507b2aa4383f45bd40fde063.setContent(html_157aa86e42d08a36fe09c92955533d7a);\n        \n\n        marker_dce28118b1a50b5115ef75ba5d274da3.bindPopup(popup_340d15e7507b2aa4383f45bd40fde063)\n        ;\n\n        \n    \n    \n            var marker_d1f593a335cfd773a6b6d1a38ef1a5b1 = L.marker(\n                [28.56319718, -80.57682003],\n                {}\n            ).addTo(marker_cluster_c6a6a7a80e7c028561e7b0e944869269);\n        \n    \n            var icon_367bcca5dad1d2adfa2b7a31002721e2 = L.AwesomeMarkers.icon(\n                {&quot;extraClasses&quot;: &quot;fa-rotate-0&quot;, &quot;icon&quot;: &quot;info-sign&quot;, &quot;iconColor&quot;: &quot;white&quot;, &quot;markerColor&quot;: &quot;green&quot;, &quot;prefix&quot;: &quot;glyphicon&quot;}\n            );\n            marker_d1f593a335cfd773a6b6d1a38ef1a5b1.setIcon(icon_367bcca5dad1d2adfa2b7a31002721e2);\n        \n    \n        var popup_f126e931dc3103f50a2224bc593e5228 = L.popup({&quot;maxWidth&quot;: &quot;100%&quot;});\n\n        \n            var html_7ceb532bee80468784e4583eac54c057 = $(`&lt;div id=&quot;html_7ceb532bee80468784e4583eac54c057&quot; style=&quot;width: 100.0%; height: 100.0%;&quot;&gt;54&lt;/div&gt;`)[0];\n            popup_f126e931dc3103f50a2224bc593e5228.setContent(html_7ceb532bee80468784e4583eac54c057);\n        \n\n        marker_d1f593a335cfd773a6b6d1a38ef1a5b1.bindPopup(popup_f126e931dc3103f50a2224bc593e5228)\n        ;\n\n        \n    \n    \n            var marker_54e130ea27feee430d379b5d0dbde7bb = L.marker(\n                [28.56319718, -80.57682003],\n                {}\n            ).addTo(marker_cluster_c6a6a7a80e7c028561e7b0e944869269);\n        \n    \n            var icon_f2cd9af1dbd2e1a0af9d5224c10ddac1 = L.AwesomeMarkers.icon(\n                {&quot;extraClasses&quot;: &quot;fa-rotate-0&quot;, &quot;icon&quot;: &quot;info-sign&quot;, &quot;iconColor&quot;: &quot;white&quot;, &quot;markerColor&quot;: &quot;red&quot;, &quot;prefix&quot;: &quot;glyphicon&quot;}\n            );\n            marker_54e130ea27feee430d379b5d0dbde7bb.setIcon(icon_f2cd9af1dbd2e1a0af9d5224c10ddac1);\n        \n    \n        var popup_8f645418a98d97111ac4cc1ad792d002 = L.popup({&quot;maxWidth&quot;: &quot;100%&quot;});\n\n        \n            var html_d503969b40099a59efe8703181650ca3 = $(`&lt;div id=&quot;html_d503969b40099a59efe8703181650ca3&quot; style=&quot;width: 100.0%; height: 100.0%;&quot;&gt;55&lt;/div&gt;`)[0];\n            popup_8f645418a98d97111ac4cc1ad792d002.setContent(html_d503969b40099a59efe8703181650ca3);\n        \n\n        marker_54e130ea27feee430d379b5d0dbde7bb.bindPopup(popup_8f645418a98d97111ac4cc1ad792d002)\n        ;\n\n        \n    \n&lt;/script&gt;\" style=\"position:absolute;width:100%;height:100%;left:0;top:0;border:none !important;\" allowfullscreen webkitallowfullscreen mozallowfullscreen></iframe></div></div>"
     },
     "metadata": {}
    }
   ]
  },
  {
   "cell_type": "markdown",
   "source": "Your updated map may look like the following screenshots:\n",
   "metadata": {
    "cell_id": "00047-fea0ecd4-a133-4eea-8aef-31bd469fcb56",
    "deepnote_cell_type": "markdown",
    "deepnote_cell_height": 52.390625
   }
  },
  {
   "cell_type": "markdown",
   "source": "<center>\n    <img src=\"https://cf-courses-data.s3.us.cloud-object-storage.appdomain.cloud/IBM-DS0321EN-SkillsNetwork/labs/module_3/images/launch_site_marker_cluster.png\" />\n</center>\n",
   "metadata": {
    "cell_id": "00048-56bf1fcf-1e60-4332-a204-eae6042175a8",
    "deepnote_cell_type": "markdown",
    "deepnote_cell_height": 70
   }
  },
  {
   "cell_type": "code",
   "metadata": {
    "cell_id": "7d694637d1ca47e680a37b9cd3845628",
    "tags": [],
    "deepnote_to_be_reexecuted": false,
    "source_hash": "78300bb2",
    "execution_start": 1651531067974,
    "execution_millis": 7,
    "deepnote_cell_type": "code",
    "deepnote_cell_height": 144.1875
   },
   "source": "break",
   "execution_count": 18,
   "outputs": [
    {
     "output_type": "error",
     "ename": "SyntaxError",
     "evalue": "'break' outside loop (<ipython-input-18-6aaf1f276005>, line 4)",
     "traceback": [
      "\u001b[0;36m  File \u001b[0;32m\"<ipython-input-18-6aaf1f276005>\"\u001b[0;36m, line \u001b[0;32m4\u001b[0m\n\u001b[0;31mSyntaxError\u001b[0m\u001b[0;31m:\u001b[0m 'break' outside loop\n"
     ]
    }
   ]
  },
  {
   "cell_type": "markdown",
   "source": "<center>\n    <img src=\"https://cf-courses-data.s3.us.cloud-object-storage.appdomain.cloud/IBM-DS0321EN-SkillsNetwork/labs/module_3/images/launch_site_marker_cluster_zoomed.png\" />\n</center>\n",
   "metadata": {
    "cell_id": "00049-a1ee5a95-8995-45f8-aee5-64a0165b27b8",
    "deepnote_cell_type": "markdown",
    "deepnote_cell_height": 70
   }
  },
  {
   "cell_type": "markdown",
   "source": "From the color-labeled markers in marker clusters, you should be able to easily identify which launch sites have relatively high success rates.\n",
   "metadata": {
    "cell_id": "00050-46a7f4d9-25bf-40c7-9ac8-9a2b7d0c9210",
    "deepnote_cell_type": "markdown",
    "deepnote_cell_height": 74.796875
   }
  },
  {
   "cell_type": "markdown",
   "source": "# TASK 3: Calculate the distances between a launch site to its proximities\n",
   "metadata": {
    "cell_id": "00051-a3ecf022-509b-425f-9dc9-6e8ede8c3d53",
    "deepnote_cell_type": "markdown",
    "deepnote_cell_height": 186
   }
  },
  {
   "cell_type": "markdown",
   "source": "Next, we need to explore and analyze the proximities of launch sites.\n",
   "metadata": {
    "cell_id": "00052-46400b19-9ba8-4f87-80f3-a61b8c45be01",
    "deepnote_cell_type": "markdown",
    "deepnote_cell_height": 52.390625
   }
  },
  {
   "cell_type": "markdown",
   "source": "Let's first add a `MousePosition` on the map to get coordinate for a mouse over a point on the map. As such, while you are exploring the map, you can easily find the coordinates of any points of interests (such as railway)\n",
   "metadata": {
    "cell_id": "00053-0d34192a-fe66-4841-aa6b-c181ed989959",
    "deepnote_cell_type": "markdown",
    "deepnote_cell_height": 97.1875
   }
  },
  {
   "cell_type": "code",
   "metadata": {
    "cell_id": "00054-8c88b33a-28cb-4ab7-81cc-dea71485c959",
    "deepnote_to_be_reexecuted": false,
    "source_hash": "ac98b4e7",
    "execution_start": 1651531068080,
    "execution_millis": 13,
    "deepnote_cell_type": "code",
    "deepnote_cell_height": 870.8125
   },
   "source": "# Add Mouse Position to get the coordinate (Lat, Long) for a mouse over on the map\nformatter = \"function(num) {return L.Util.formatNum(num, 5);};\"\nmouse_position = MousePosition(\n    position='topright',\n    separator=' Long: ',\n    empty_string='NaN',\n    lng_first=False,\n    num_digits=20,\n    prefix='Lat:',\n    lat_formatter=formatter,\n    lng_formatter=formatter,\n)\n\nsite_map.add_child(mouse_position)\nsite_map",
   "execution_count": 19,
   "outputs": [
    {
     "output_type": "execute_result",
     "execution_count": 19,
     "data": {
      "text/plain": "<folium.folium.Map at 0x7f7710be50d0>",
      "text/html": "<div style=\"width:100%;\"><div style=\"position:relative;width:100%;height:0;padding-bottom:60%;\"><span style=\"color:#565656\">Make this Notebook Trusted to load map: File -> Trust Notebook</span><iframe srcdoc=\"&lt;!DOCTYPE html&gt;\n&lt;head&gt;    \n    &lt;meta http-equiv=&quot;content-type&quot; content=&quot;text/html; charset=UTF-8&quot; /&gt;\n    \n        &lt;script&gt;\n            L_NO_TOUCH = false;\n            L_DISABLE_3D = false;\n        &lt;/script&gt;\n    \n    &lt;style&gt;html, body {width: 100%;height: 100%;margin: 0;padding: 0;}&lt;/style&gt;\n    &lt;style&gt;#map {position:absolute;top:0;bottom:0;right:0;left:0;}&lt;/style&gt;\n    &lt;script src=&quot;https://cdn.jsdelivr.net/npm/leaflet@1.6.0/dist/leaflet.js&quot;&gt;&lt;/script&gt;\n    &lt;script src=&quot;https://code.jquery.com/jquery-1.12.4.min.js&quot;&gt;&lt;/script&gt;\n    &lt;script src=&quot;https://maxcdn.bootstrapcdn.com/bootstrap/3.2.0/js/bootstrap.min.js&quot;&gt;&lt;/script&gt;\n    &lt;script src=&quot;https://cdnjs.cloudflare.com/ajax/libs/Leaflet.awesome-markers/2.0.2/leaflet.awesome-markers.js&quot;&gt;&lt;/script&gt;\n    &lt;link rel=&quot;stylesheet&quot; href=&quot;https://cdn.jsdelivr.net/npm/leaflet@1.6.0/dist/leaflet.css&quot;/&gt;\n    &lt;link rel=&quot;stylesheet&quot; href=&quot;https://maxcdn.bootstrapcdn.com/bootstrap/3.2.0/css/bootstrap.min.css&quot;/&gt;\n    &lt;link rel=&quot;stylesheet&quot; href=&quot;https://maxcdn.bootstrapcdn.com/bootstrap/3.2.0/css/bootstrap-theme.min.css&quot;/&gt;\n    &lt;link rel=&quot;stylesheet&quot; href=&quot;https://maxcdn.bootstrapcdn.com/font-awesome/4.6.3/css/font-awesome.min.css&quot;/&gt;\n    &lt;link rel=&quot;stylesheet&quot; href=&quot;https://cdnjs.cloudflare.com/ajax/libs/Leaflet.awesome-markers/2.0.2/leaflet.awesome-markers.css&quot;/&gt;\n    &lt;link rel=&quot;stylesheet&quot; href=&quot;https://cdn.jsdelivr.net/gh/python-visualization/folium/folium/templates/leaflet.awesome.rotate.min.css&quot;/&gt;\n    \n            &lt;meta name=&quot;viewport&quot; content=&quot;width=device-width,\n                initial-scale=1.0, maximum-scale=1.0, user-scalable=no&quot; /&gt;\n            &lt;style&gt;\n                #map_268b67e61ef56bb219cc3630fa5275e8 {\n                    position: relative;\n                    width: 100.0%;\n                    height: 100.0%;\n                    left: 0.0%;\n                    top: 0.0%;\n                }\n            &lt;/style&gt;\n        \n    &lt;script src=&quot;https://cdnjs.cloudflare.com/ajax/libs/leaflet.markercluster/1.1.0/leaflet.markercluster.js&quot;&gt;&lt;/script&gt;\n    &lt;link rel=&quot;stylesheet&quot; href=&quot;https://cdnjs.cloudflare.com/ajax/libs/leaflet.markercluster/1.1.0/MarkerCluster.css&quot;/&gt;\n    &lt;link rel=&quot;stylesheet&quot; href=&quot;https://cdnjs.cloudflare.com/ajax/libs/leaflet.markercluster/1.1.0/MarkerCluster.Default.css&quot;/&gt;\n    &lt;script src=&quot;https://cdn.jsdelivr.net/gh/ardhi/Leaflet.MousePosition/src/L.Control.MousePosition.min.js&quot;&gt;&lt;/script&gt;\n    &lt;link rel=&quot;stylesheet&quot; href=&quot;https://cdn.jsdelivr.net/gh/ardhi/Leaflet.MousePosition/src/L.Control.MousePosition.min.css&quot;/&gt;\n&lt;/head&gt;\n&lt;body&gt;    \n    \n            &lt;div class=&quot;folium-map&quot; id=&quot;map_268b67e61ef56bb219cc3630fa5275e8&quot; &gt;&lt;/div&gt;\n        \n&lt;/body&gt;\n&lt;script&gt;    \n    \n            var map_268b67e61ef56bb219cc3630fa5275e8 = L.map(\n                &quot;map_268b67e61ef56bb219cc3630fa5275e8&quot;,\n                {\n                    center: [29.559684888503615, -95.0830971930759],\n                    crs: L.CRS.EPSG3857,\n                    zoom: 5,\n                    zoomControl: true,\n                    preferCanvas: false,\n                }\n            );\n\n            \n\n        \n    \n            var tile_layer_a59fde23c5e7ac15442604a4e587fba1 = L.tileLayer(\n                &quot;https://{s}.tile.openstreetmap.org/{z}/{x}/{y}.png&quot;,\n                {&quot;attribution&quot;: &quot;Data by \\u0026copy; \\u003ca href=\\&quot;http://openstreetmap.org\\&quot;\\u003eOpenStreetMap\\u003c/a\\u003e, under \\u003ca href=\\&quot;http://www.openstreetmap.org/copyright\\&quot;\\u003eODbL\\u003c/a\\u003e.&quot;, &quot;detectRetina&quot;: false, &quot;maxNativeZoom&quot;: 18, &quot;maxZoom&quot;: 18, &quot;minZoom&quot;: 0, &quot;noWrap&quot;: false, &quot;opacity&quot;: 1, &quot;subdomains&quot;: &quot;abc&quot;, &quot;tms&quot;: false}\n            ).addTo(map_268b67e61ef56bb219cc3630fa5275e8);\n        \n    \n            var circle_7e350abc0248e4d63860fcdee5229933 = L.circle(\n                [28.56230197, -80.57735648],\n                {&quot;bubblingMouseEvents&quot;: true, &quot;color&quot;: &quot;#d35400&quot;, &quot;dashArray&quot;: null, &quot;dashOffset&quot;: null, &quot;fill&quot;: true, &quot;fillColor&quot;: &quot;#d35400&quot;, &quot;fillOpacity&quot;: 0.2, &quot;fillRule&quot;: &quot;evenodd&quot;, &quot;lineCap&quot;: &quot;round&quot;, &quot;lineJoin&quot;: &quot;round&quot;, &quot;opacity&quot;: 1.0, &quot;radius&quot;: 1000, &quot;stroke&quot;: true, &quot;weight&quot;: 3}\n            ).addTo(map_268b67e61ef56bb219cc3630fa5275e8);\n        \n    \n        var popup_a4696e19199f1fd06500f6c64ae23186 = L.popup({&quot;maxWidth&quot;: &quot;100%&quot;});\n\n        \n            var html_ec4e65d7c471166e23c29bb3ed8ebd4b = $(`&lt;div id=&quot;html_ec4e65d7c471166e23c29bb3ed8ebd4b&quot; style=&quot;width: 100.0%; height: 100.0%;&quot;&gt;CCAFS LC-40&lt;/div&gt;`)[0];\n            popup_a4696e19199f1fd06500f6c64ae23186.setContent(html_ec4e65d7c471166e23c29bb3ed8ebd4b);\n        \n\n        circle_7e350abc0248e4d63860fcdee5229933.bindPopup(popup_a4696e19199f1fd06500f6c64ae23186)\n        ;\n\n        \n    \n    \n            var circle_5f0e8648efdd3f30b2abf21711fffde6 = L.circle(\n                [28.56319718, -80.57682003],\n                {&quot;bubblingMouseEvents&quot;: true, &quot;color&quot;: &quot;#d35400&quot;, &quot;dashArray&quot;: null, &quot;dashOffset&quot;: null, &quot;fill&quot;: true, &quot;fillColor&quot;: &quot;#d35400&quot;, &quot;fillOpacity&quot;: 0.2, &quot;fillRule&quot;: &quot;evenodd&quot;, &quot;lineCap&quot;: &quot;round&quot;, &quot;lineJoin&quot;: &quot;round&quot;, &quot;opacity&quot;: 1.0, &quot;radius&quot;: 1000, &quot;stroke&quot;: true, &quot;weight&quot;: 3}\n            ).addTo(map_268b67e61ef56bb219cc3630fa5275e8);\n        \n    \n        var popup_f6daea7c0108c07eb74a2af2e9a06b49 = L.popup({&quot;maxWidth&quot;: &quot;100%&quot;});\n\n        \n            var html_1bb4be7c10ab0a65e593a56e1dc246b7 = $(`&lt;div id=&quot;html_1bb4be7c10ab0a65e593a56e1dc246b7&quot; style=&quot;width: 100.0%; height: 100.0%;&quot;&gt;CCAFS SLC-40&lt;/div&gt;`)[0];\n            popup_f6daea7c0108c07eb74a2af2e9a06b49.setContent(html_1bb4be7c10ab0a65e593a56e1dc246b7);\n        \n\n        circle_5f0e8648efdd3f30b2abf21711fffde6.bindPopup(popup_f6daea7c0108c07eb74a2af2e9a06b49)\n        ;\n\n        \n    \n    \n            var circle_0f92b99d20e1d2edb5d83c41fcc2caaa = L.circle(\n                [28.57325457, -80.64689529],\n                {&quot;bubblingMouseEvents&quot;: true, &quot;color&quot;: &quot;#d35400&quot;, &quot;dashArray&quot;: null, &quot;dashOffset&quot;: null, &quot;fill&quot;: true, &quot;fillColor&quot;: &quot;#d35400&quot;, &quot;fillOpacity&quot;: 0.2, &quot;fillRule&quot;: &quot;evenodd&quot;, &quot;lineCap&quot;: &quot;round&quot;, &quot;lineJoin&quot;: &quot;round&quot;, &quot;opacity&quot;: 1.0, &quot;radius&quot;: 1000, &quot;stroke&quot;: true, &quot;weight&quot;: 3}\n            ).addTo(map_268b67e61ef56bb219cc3630fa5275e8);\n        \n    \n        var popup_fc1e45ca5f7d571f8903fc01f4ba97dd = L.popup({&quot;maxWidth&quot;: &quot;100%&quot;});\n\n        \n            var html_5e28f9680f3a80780eaf8ed3b07c087a = $(`&lt;div id=&quot;html_5e28f9680f3a80780eaf8ed3b07c087a&quot; style=&quot;width: 100.0%; height: 100.0%;&quot;&gt;KSC LC-39A&lt;/div&gt;`)[0];\n            popup_fc1e45ca5f7d571f8903fc01f4ba97dd.setContent(html_5e28f9680f3a80780eaf8ed3b07c087a);\n        \n\n        circle_0f92b99d20e1d2edb5d83c41fcc2caaa.bindPopup(popup_fc1e45ca5f7d571f8903fc01f4ba97dd)\n        ;\n\n        \n    \n    \n            var circle_4654fe6585cd272558989ce1274b7b04 = L.circle(\n                [34.63283416, -120.6107455],\n                {&quot;bubblingMouseEvents&quot;: true, &quot;color&quot;: &quot;#d35400&quot;, &quot;dashArray&quot;: null, &quot;dashOffset&quot;: null, &quot;fill&quot;: true, &quot;fillColor&quot;: &quot;#d35400&quot;, &quot;fillOpacity&quot;: 0.2, &quot;fillRule&quot;: &quot;evenodd&quot;, &quot;lineCap&quot;: &quot;round&quot;, &quot;lineJoin&quot;: &quot;round&quot;, &quot;opacity&quot;: 1.0, &quot;radius&quot;: 1000, &quot;stroke&quot;: true, &quot;weight&quot;: 3}\n            ).addTo(map_268b67e61ef56bb219cc3630fa5275e8);\n        \n    \n        var popup_31d4028a767a6c9dbf386e7f2887fa19 = L.popup({&quot;maxWidth&quot;: &quot;100%&quot;});\n\n        \n            var html_c30aa68b00ed035d0767c8351c131f85 = $(`&lt;div id=&quot;html_c30aa68b00ed035d0767c8351c131f85&quot; style=&quot;width: 100.0%; height: 100.0%;&quot;&gt;VAFB SLC-4E&lt;/div&gt;`)[0];\n            popup_31d4028a767a6c9dbf386e7f2887fa19.setContent(html_c30aa68b00ed035d0767c8351c131f85);\n        \n\n        circle_4654fe6585cd272558989ce1274b7b04.bindPopup(popup_31d4028a767a6c9dbf386e7f2887fa19)\n        ;\n\n        \n    \n    \n            var marker_5bd35dfa2de95b34d12ab6de0e4eb0b8 = L.marker(\n                [28.56230197, -80.57735648],\n                {}\n            ).addTo(map_268b67e61ef56bb219cc3630fa5275e8);\n        \n    \n            var div_icon_251b62da8230f8c4109fefb1c0b27fd6 = L.divIcon({&quot;className&quot;: &quot;empty&quot;, &quot;html&quot;: &quot;\\u003cdiv style=\\&quot;font-size: 12; color:#d35400;\\&quot;\\u003e\\u003cb\\u003eCCAFS LC-40\\u003c/b\\u003e\\u003c/div\\u003e&quot;, &quot;iconAnchor&quot;: [0, 0], &quot;iconSize&quot;: [20, 20]});\n            marker_5bd35dfa2de95b34d12ab6de0e4eb0b8.setIcon(div_icon_251b62da8230f8c4109fefb1c0b27fd6);\n        \n    \n            var marker_8f6c13dc92518708e0f9d2a32a4a637e = L.marker(\n                [28.56319718, -80.57682003],\n                {}\n            ).addTo(map_268b67e61ef56bb219cc3630fa5275e8);\n        \n    \n            var div_icon_c32a9035aa49be79c4552eef746314d9 = L.divIcon({&quot;className&quot;: &quot;empty&quot;, &quot;html&quot;: &quot;\\u003cdiv style=\\&quot;font-size: 12; color:#d35400;\\&quot;\\u003e\\u003cb\\u003eCCAFS SLC-40\\u003c/b\\u003e\\u003c/div\\u003e&quot;, &quot;iconAnchor&quot;: [0, 0], &quot;iconSize&quot;: [20, 20]});\n            marker_8f6c13dc92518708e0f9d2a32a4a637e.setIcon(div_icon_c32a9035aa49be79c4552eef746314d9);\n        \n    \n            var marker_531a33a2177c1631b14c3ecfd9d87482 = L.marker(\n                [28.57325457, -80.64689529],\n                {}\n            ).addTo(map_268b67e61ef56bb219cc3630fa5275e8);\n        \n    \n            var div_icon_d05bab279b9b55f7965ad856e21d36d6 = L.divIcon({&quot;className&quot;: &quot;empty&quot;, &quot;html&quot;: &quot;\\u003cdiv style=\\&quot;font-size: 12; color:#d35400;\\&quot;\\u003e\\u003cb\\u003eKSC LC-39A\\u003c/b\\u003e\\u003c/div\\u003e&quot;, &quot;iconAnchor&quot;: [0, 0], &quot;iconSize&quot;: [20, 20]});\n            marker_531a33a2177c1631b14c3ecfd9d87482.setIcon(div_icon_d05bab279b9b55f7965ad856e21d36d6);\n        \n    \n            var marker_7e1e2c335ef43344e4b9b2abb408e05c = L.marker(\n                [34.63283416, -120.6107455],\n                {}\n            ).addTo(map_268b67e61ef56bb219cc3630fa5275e8);\n        \n    \n            var div_icon_4d5fa2fbdec5f1c9fab1851dc1f1df07 = L.divIcon({&quot;className&quot;: &quot;empty&quot;, &quot;html&quot;: &quot;\\u003cdiv style=\\&quot;font-size: 12; color:#d35400;\\&quot;\\u003e\\u003cb\\u003eVAFB SLC-4E\\u003c/b\\u003e\\u003c/div\\u003e&quot;, &quot;iconAnchor&quot;: [0, 0], &quot;iconSize&quot;: [20, 20]});\n            marker_7e1e2c335ef43344e4b9b2abb408e05c.setIcon(div_icon_4d5fa2fbdec5f1c9fab1851dc1f1df07);\n        \n    \n            var marker_cluster_c6a6a7a80e7c028561e7b0e944869269 = L.markerClusterGroup(\n                {}\n            );\n            map_268b67e61ef56bb219cc3630fa5275e8.addLayer(marker_cluster_c6a6a7a80e7c028561e7b0e944869269);\n        \n    \n            var marker_c0e088ce57004ebd121ef03a4e41f601 = L.marker(\n                [28.56230197, -80.57735648],\n                {}\n            ).addTo(marker_cluster_c6a6a7a80e7c028561e7b0e944869269);\n        \n    \n            var icon_cc9b88aa2572ec60c7f99272955313bc = L.AwesomeMarkers.icon(\n                {&quot;extraClasses&quot;: &quot;fa-rotate-0&quot;, &quot;icon&quot;: &quot;info-sign&quot;, &quot;iconColor&quot;: &quot;white&quot;, &quot;markerColor&quot;: &quot;red&quot;, &quot;prefix&quot;: &quot;glyphicon&quot;}\n            );\n            marker_c0e088ce57004ebd121ef03a4e41f601.setIcon(icon_cc9b88aa2572ec60c7f99272955313bc);\n        \n    \n        var popup_a4cc957fc6be2473aaef191cdeeb0e46 = L.popup({&quot;maxWidth&quot;: &quot;100%&quot;});\n\n        \n            var html_062f37b92eb18b31a9e9aa55ef56e947 = $(`&lt;div id=&quot;html_062f37b92eb18b31a9e9aa55ef56e947&quot; style=&quot;width: 100.0%; height: 100.0%;&quot;&gt;0&lt;/div&gt;`)[0];\n            popup_a4cc957fc6be2473aaef191cdeeb0e46.setContent(html_062f37b92eb18b31a9e9aa55ef56e947);\n        \n\n        marker_c0e088ce57004ebd121ef03a4e41f601.bindPopup(popup_a4cc957fc6be2473aaef191cdeeb0e46)\n        ;\n\n        \n    \n    \n            var marker_f517e1d14cb8fc5671a95a1c2a7329c9 = L.marker(\n                [28.56230197, -80.57735648],\n                {}\n            ).addTo(marker_cluster_c6a6a7a80e7c028561e7b0e944869269);\n        \n    \n            var icon_7310367ea6432cd8dfdfadfd268007cf = L.AwesomeMarkers.icon(\n                {&quot;extraClasses&quot;: &quot;fa-rotate-0&quot;, &quot;icon&quot;: &quot;info-sign&quot;, &quot;iconColor&quot;: &quot;white&quot;, &quot;markerColor&quot;: &quot;red&quot;, &quot;prefix&quot;: &quot;glyphicon&quot;}\n            );\n            marker_f517e1d14cb8fc5671a95a1c2a7329c9.setIcon(icon_7310367ea6432cd8dfdfadfd268007cf);\n        \n    \n        var popup_d650d07cd549cd864dd68cdeb29bd1a2 = L.popup({&quot;maxWidth&quot;: &quot;100%&quot;});\n\n        \n            var html_7a83bcce90bcaf2516f2c525452b8c74 = $(`&lt;div id=&quot;html_7a83bcce90bcaf2516f2c525452b8c74&quot; style=&quot;width: 100.0%; height: 100.0%;&quot;&gt;1&lt;/div&gt;`)[0];\n            popup_d650d07cd549cd864dd68cdeb29bd1a2.setContent(html_7a83bcce90bcaf2516f2c525452b8c74);\n        \n\n        marker_f517e1d14cb8fc5671a95a1c2a7329c9.bindPopup(popup_d650d07cd549cd864dd68cdeb29bd1a2)\n        ;\n\n        \n    \n    \n            var marker_637471d5a047504a826e0efb9288b564 = L.marker(\n                [28.56230197, -80.57735648],\n                {}\n            ).addTo(marker_cluster_c6a6a7a80e7c028561e7b0e944869269);\n        \n    \n            var icon_ffa0a558284057613f25e1b16c185418 = L.AwesomeMarkers.icon(\n                {&quot;extraClasses&quot;: &quot;fa-rotate-0&quot;, &quot;icon&quot;: &quot;info-sign&quot;, &quot;iconColor&quot;: &quot;white&quot;, &quot;markerColor&quot;: &quot;red&quot;, &quot;prefix&quot;: &quot;glyphicon&quot;}\n            );\n            marker_637471d5a047504a826e0efb9288b564.setIcon(icon_ffa0a558284057613f25e1b16c185418);\n        \n    \n        var popup_e4898a5ff527c105a3a836d0291dd993 = L.popup({&quot;maxWidth&quot;: &quot;100%&quot;});\n\n        \n            var html_8cf77eaa6d1d77b0a366c086fd7519af = $(`&lt;div id=&quot;html_8cf77eaa6d1d77b0a366c086fd7519af&quot; style=&quot;width: 100.0%; height: 100.0%;&quot;&gt;2&lt;/div&gt;`)[0];\n            popup_e4898a5ff527c105a3a836d0291dd993.setContent(html_8cf77eaa6d1d77b0a366c086fd7519af);\n        \n\n        marker_637471d5a047504a826e0efb9288b564.bindPopup(popup_e4898a5ff527c105a3a836d0291dd993)\n        ;\n\n        \n    \n    \n            var marker_30e2447f239f15382ecda8a3433b7011 = L.marker(\n                [28.56230197, -80.57735648],\n                {}\n            ).addTo(marker_cluster_c6a6a7a80e7c028561e7b0e944869269);\n        \n    \n            var icon_2b1b7441f07621dc97af553260c3d339 = L.AwesomeMarkers.icon(\n                {&quot;extraClasses&quot;: &quot;fa-rotate-0&quot;, &quot;icon&quot;: &quot;info-sign&quot;, &quot;iconColor&quot;: &quot;white&quot;, &quot;markerColor&quot;: &quot;red&quot;, &quot;prefix&quot;: &quot;glyphicon&quot;}\n            );\n            marker_30e2447f239f15382ecda8a3433b7011.setIcon(icon_2b1b7441f07621dc97af553260c3d339);\n        \n    \n        var popup_13175dffb82a757beee8ddd56d9e7b8c = L.popup({&quot;maxWidth&quot;: &quot;100%&quot;});\n\n        \n            var html_a46027a84c0f1e1d4e86f6febe8917b4 = $(`&lt;div id=&quot;html_a46027a84c0f1e1d4e86f6febe8917b4&quot; style=&quot;width: 100.0%; height: 100.0%;&quot;&gt;3&lt;/div&gt;`)[0];\n            popup_13175dffb82a757beee8ddd56d9e7b8c.setContent(html_a46027a84c0f1e1d4e86f6febe8917b4);\n        \n\n        marker_30e2447f239f15382ecda8a3433b7011.bindPopup(popup_13175dffb82a757beee8ddd56d9e7b8c)\n        ;\n\n        \n    \n    \n            var marker_1943c6c58f38278fcce0d2ebc57bc619 = L.marker(\n                [28.56230197, -80.57735648],\n                {}\n            ).addTo(marker_cluster_c6a6a7a80e7c028561e7b0e944869269);\n        \n    \n            var icon_4039a3ab222229a96aa03746a008c2c1 = L.AwesomeMarkers.icon(\n                {&quot;extraClasses&quot;: &quot;fa-rotate-0&quot;, &quot;icon&quot;: &quot;info-sign&quot;, &quot;iconColor&quot;: &quot;white&quot;, &quot;markerColor&quot;: &quot;red&quot;, &quot;prefix&quot;: &quot;glyphicon&quot;}\n            );\n            marker_1943c6c58f38278fcce0d2ebc57bc619.setIcon(icon_4039a3ab222229a96aa03746a008c2c1);\n        \n    \n        var popup_8db22b85096d771b73c1ede0beb710c2 = L.popup({&quot;maxWidth&quot;: &quot;100%&quot;});\n\n        \n            var html_04714d51557e7b1a51ffb6266511ac8d = $(`&lt;div id=&quot;html_04714d51557e7b1a51ffb6266511ac8d&quot; style=&quot;width: 100.0%; height: 100.0%;&quot;&gt;4&lt;/div&gt;`)[0];\n            popup_8db22b85096d771b73c1ede0beb710c2.setContent(html_04714d51557e7b1a51ffb6266511ac8d);\n        \n\n        marker_1943c6c58f38278fcce0d2ebc57bc619.bindPopup(popup_8db22b85096d771b73c1ede0beb710c2)\n        ;\n\n        \n    \n    \n            var marker_cc9523c5380181b8828086d926991663 = L.marker(\n                [28.56230197, -80.57735648],\n                {}\n            ).addTo(marker_cluster_c6a6a7a80e7c028561e7b0e944869269);\n        \n    \n            var icon_b051b81900f4143f00f7ce969e65ac7c = L.AwesomeMarkers.icon(\n                {&quot;extraClasses&quot;: &quot;fa-rotate-0&quot;, &quot;icon&quot;: &quot;info-sign&quot;, &quot;iconColor&quot;: &quot;white&quot;, &quot;markerColor&quot;: &quot;red&quot;, &quot;prefix&quot;: &quot;glyphicon&quot;}\n            );\n            marker_cc9523c5380181b8828086d926991663.setIcon(icon_b051b81900f4143f00f7ce969e65ac7c);\n        \n    \n        var popup_86625d49e4782cc24ec649089f76cac5 = L.popup({&quot;maxWidth&quot;: &quot;100%&quot;});\n\n        \n            var html_5a86601856f9baa799e5ed9d6f994f2e = $(`&lt;div id=&quot;html_5a86601856f9baa799e5ed9d6f994f2e&quot; style=&quot;width: 100.0%; height: 100.0%;&quot;&gt;5&lt;/div&gt;`)[0];\n            popup_86625d49e4782cc24ec649089f76cac5.setContent(html_5a86601856f9baa799e5ed9d6f994f2e);\n        \n\n        marker_cc9523c5380181b8828086d926991663.bindPopup(popup_86625d49e4782cc24ec649089f76cac5)\n        ;\n\n        \n    \n    \n            var marker_cd353380b2033c47d516ff979266bb59 = L.marker(\n                [28.56230197, -80.57735648],\n                {}\n            ).addTo(marker_cluster_c6a6a7a80e7c028561e7b0e944869269);\n        \n    \n            var icon_9b7c742ad0adebe698dc8608ad609aa6 = L.AwesomeMarkers.icon(\n                {&quot;extraClasses&quot;: &quot;fa-rotate-0&quot;, &quot;icon&quot;: &quot;info-sign&quot;, &quot;iconColor&quot;: &quot;white&quot;, &quot;markerColor&quot;: &quot;red&quot;, &quot;prefix&quot;: &quot;glyphicon&quot;}\n            );\n            marker_cd353380b2033c47d516ff979266bb59.setIcon(icon_9b7c742ad0adebe698dc8608ad609aa6);\n        \n    \n        var popup_35688a0058a376ec6342f584b7118eff = L.popup({&quot;maxWidth&quot;: &quot;100%&quot;});\n\n        \n            var html_06966c0118c8986bb8b945375b44d65b = $(`&lt;div id=&quot;html_06966c0118c8986bb8b945375b44d65b&quot; style=&quot;width: 100.0%; height: 100.0%;&quot;&gt;6&lt;/div&gt;`)[0];\n            popup_35688a0058a376ec6342f584b7118eff.setContent(html_06966c0118c8986bb8b945375b44d65b);\n        \n\n        marker_cd353380b2033c47d516ff979266bb59.bindPopup(popup_35688a0058a376ec6342f584b7118eff)\n        ;\n\n        \n    \n    \n            var marker_843bfc9ddc43cc030455e401b5b75c57 = L.marker(\n                [28.56230197, -80.57735648],\n                {}\n            ).addTo(marker_cluster_c6a6a7a80e7c028561e7b0e944869269);\n        \n    \n            var icon_0ea4bb41cc4d6b07ea2feb389967f1be = L.AwesomeMarkers.icon(\n                {&quot;extraClasses&quot;: &quot;fa-rotate-0&quot;, &quot;icon&quot;: &quot;info-sign&quot;, &quot;iconColor&quot;: &quot;white&quot;, &quot;markerColor&quot;: &quot;red&quot;, &quot;prefix&quot;: &quot;glyphicon&quot;}\n            );\n            marker_843bfc9ddc43cc030455e401b5b75c57.setIcon(icon_0ea4bb41cc4d6b07ea2feb389967f1be);\n        \n    \n        var popup_438bd1bb05ea5002821919c8a9892c6a = L.popup({&quot;maxWidth&quot;: &quot;100%&quot;});\n\n        \n            var html_9a203c321186b74519afadc2a03bc6cb = $(`&lt;div id=&quot;html_9a203c321186b74519afadc2a03bc6cb&quot; style=&quot;width: 100.0%; height: 100.0%;&quot;&gt;7&lt;/div&gt;`)[0];\n            popup_438bd1bb05ea5002821919c8a9892c6a.setContent(html_9a203c321186b74519afadc2a03bc6cb);\n        \n\n        marker_843bfc9ddc43cc030455e401b5b75c57.bindPopup(popup_438bd1bb05ea5002821919c8a9892c6a)\n        ;\n\n        \n    \n    \n            var marker_1774165950f33c38fed0dc0c39ef9395 = L.marker(\n                [28.56230197, -80.57735648],\n                {}\n            ).addTo(marker_cluster_c6a6a7a80e7c028561e7b0e944869269);\n        \n    \n            var icon_decb53ee3ec0ddf684088d54049d3984 = L.AwesomeMarkers.icon(\n                {&quot;extraClasses&quot;: &quot;fa-rotate-0&quot;, &quot;icon&quot;: &quot;info-sign&quot;, &quot;iconColor&quot;: &quot;white&quot;, &quot;markerColor&quot;: &quot;red&quot;, &quot;prefix&quot;: &quot;glyphicon&quot;}\n            );\n            marker_1774165950f33c38fed0dc0c39ef9395.setIcon(icon_decb53ee3ec0ddf684088d54049d3984);\n        \n    \n        var popup_42cc65c61f4dc36d356dffe10cd8f732 = L.popup({&quot;maxWidth&quot;: &quot;100%&quot;});\n\n        \n            var html_63f10908ee6e7876799d8af0bc11e81c = $(`&lt;div id=&quot;html_63f10908ee6e7876799d8af0bc11e81c&quot; style=&quot;width: 100.0%; height: 100.0%;&quot;&gt;8&lt;/div&gt;`)[0];\n            popup_42cc65c61f4dc36d356dffe10cd8f732.setContent(html_63f10908ee6e7876799d8af0bc11e81c);\n        \n\n        marker_1774165950f33c38fed0dc0c39ef9395.bindPopup(popup_42cc65c61f4dc36d356dffe10cd8f732)\n        ;\n\n        \n    \n    \n            var marker_3856769a61168fa13f099e525c5ba4d2 = L.marker(\n                [28.56230197, -80.57735648],\n                {}\n            ).addTo(marker_cluster_c6a6a7a80e7c028561e7b0e944869269);\n        \n    \n            var icon_e89effae2615a64b47c5f7965b2deacc = L.AwesomeMarkers.icon(\n                {&quot;extraClasses&quot;: &quot;fa-rotate-0&quot;, &quot;icon&quot;: &quot;info-sign&quot;, &quot;iconColor&quot;: &quot;white&quot;, &quot;markerColor&quot;: &quot;red&quot;, &quot;prefix&quot;: &quot;glyphicon&quot;}\n            );\n            marker_3856769a61168fa13f099e525c5ba4d2.setIcon(icon_e89effae2615a64b47c5f7965b2deacc);\n        \n    \n        var popup_2ed56a6bdf83f6c3222eb6ebbba9b83d = L.popup({&quot;maxWidth&quot;: &quot;100%&quot;});\n\n        \n            var html_2f6cf44cdfa24beeff427cda0bcb731b = $(`&lt;div id=&quot;html_2f6cf44cdfa24beeff427cda0bcb731b&quot; style=&quot;width: 100.0%; height: 100.0%;&quot;&gt;9&lt;/div&gt;`)[0];\n            popup_2ed56a6bdf83f6c3222eb6ebbba9b83d.setContent(html_2f6cf44cdfa24beeff427cda0bcb731b);\n        \n\n        marker_3856769a61168fa13f099e525c5ba4d2.bindPopup(popup_2ed56a6bdf83f6c3222eb6ebbba9b83d)\n        ;\n\n        \n    \n    \n            var marker_5f6fb736f81ac42f0e2de63aa85ab402 = L.marker(\n                [28.56230197, -80.57735648],\n                {}\n            ).addTo(marker_cluster_c6a6a7a80e7c028561e7b0e944869269);\n        \n    \n            var icon_0a6a25ffdb876e365b40b8d0267b5e5b = L.AwesomeMarkers.icon(\n                {&quot;extraClasses&quot;: &quot;fa-rotate-0&quot;, &quot;icon&quot;: &quot;info-sign&quot;, &quot;iconColor&quot;: &quot;white&quot;, &quot;markerColor&quot;: &quot;red&quot;, &quot;prefix&quot;: &quot;glyphicon&quot;}\n            );\n            marker_5f6fb736f81ac42f0e2de63aa85ab402.setIcon(icon_0a6a25ffdb876e365b40b8d0267b5e5b);\n        \n    \n        var popup_07f56d6da8a9d86f47923029e1eb7d87 = L.popup({&quot;maxWidth&quot;: &quot;100%&quot;});\n\n        \n            var html_1844cdce3006568e4d5109f9c45282be = $(`&lt;div id=&quot;html_1844cdce3006568e4d5109f9c45282be&quot; style=&quot;width: 100.0%; height: 100.0%;&quot;&gt;10&lt;/div&gt;`)[0];\n            popup_07f56d6da8a9d86f47923029e1eb7d87.setContent(html_1844cdce3006568e4d5109f9c45282be);\n        \n\n        marker_5f6fb736f81ac42f0e2de63aa85ab402.bindPopup(popup_07f56d6da8a9d86f47923029e1eb7d87)\n        ;\n\n        \n    \n    \n            var marker_207653870e1919e47aa3e54a688d3e1e = L.marker(\n                [28.56230197, -80.57735648],\n                {}\n            ).addTo(marker_cluster_c6a6a7a80e7c028561e7b0e944869269);\n        \n    \n            var icon_66419e808492914ab8abfeaabe2a0296 = L.AwesomeMarkers.icon(\n                {&quot;extraClasses&quot;: &quot;fa-rotate-0&quot;, &quot;icon&quot;: &quot;info-sign&quot;, &quot;iconColor&quot;: &quot;white&quot;, &quot;markerColor&quot;: &quot;red&quot;, &quot;prefix&quot;: &quot;glyphicon&quot;}\n            );\n            marker_207653870e1919e47aa3e54a688d3e1e.setIcon(icon_66419e808492914ab8abfeaabe2a0296);\n        \n    \n        var popup_a5a69928e02a9d77955a4f31af0c7cdf = L.popup({&quot;maxWidth&quot;: &quot;100%&quot;});\n\n        \n            var html_044d8f68bdf384a8ef8d7493f6a7bed3 = $(`&lt;div id=&quot;html_044d8f68bdf384a8ef8d7493f6a7bed3&quot; style=&quot;width: 100.0%; height: 100.0%;&quot;&gt;11&lt;/div&gt;`)[0];\n            popup_a5a69928e02a9d77955a4f31af0c7cdf.setContent(html_044d8f68bdf384a8ef8d7493f6a7bed3);\n        \n\n        marker_207653870e1919e47aa3e54a688d3e1e.bindPopup(popup_a5a69928e02a9d77955a4f31af0c7cdf)\n        ;\n\n        \n    \n    \n            var marker_c317c522875b443f023d5126018ad091 = L.marker(\n                [28.56230197, -80.57735648],\n                {}\n            ).addTo(marker_cluster_c6a6a7a80e7c028561e7b0e944869269);\n        \n    \n            var icon_1eaa783c709cf1e36a46955c0a7c7cf2 = L.AwesomeMarkers.icon(\n                {&quot;extraClasses&quot;: &quot;fa-rotate-0&quot;, &quot;icon&quot;: &quot;info-sign&quot;, &quot;iconColor&quot;: &quot;white&quot;, &quot;markerColor&quot;: &quot;red&quot;, &quot;prefix&quot;: &quot;glyphicon&quot;}\n            );\n            marker_c317c522875b443f023d5126018ad091.setIcon(icon_1eaa783c709cf1e36a46955c0a7c7cf2);\n        \n    \n        var popup_8e940fcb8f5bbe80a0c7437af40b68da = L.popup({&quot;maxWidth&quot;: &quot;100%&quot;});\n\n        \n            var html_6fcf385688451027c6ccc33895b76ae8 = $(`&lt;div id=&quot;html_6fcf385688451027c6ccc33895b76ae8&quot; style=&quot;width: 100.0%; height: 100.0%;&quot;&gt;12&lt;/div&gt;`)[0];\n            popup_8e940fcb8f5bbe80a0c7437af40b68da.setContent(html_6fcf385688451027c6ccc33895b76ae8);\n        \n\n        marker_c317c522875b443f023d5126018ad091.bindPopup(popup_8e940fcb8f5bbe80a0c7437af40b68da)\n        ;\n\n        \n    \n    \n            var marker_a4c5aaf488659e77ac7f6e73e5acdea1 = L.marker(\n                [28.56230197, -80.57735648],\n                {}\n            ).addTo(marker_cluster_c6a6a7a80e7c028561e7b0e944869269);\n        \n    \n            var icon_4ead75717a7d978b9dbb5723864e4028 = L.AwesomeMarkers.icon(\n                {&quot;extraClasses&quot;: &quot;fa-rotate-0&quot;, &quot;icon&quot;: &quot;info-sign&quot;, &quot;iconColor&quot;: &quot;white&quot;, &quot;markerColor&quot;: &quot;red&quot;, &quot;prefix&quot;: &quot;glyphicon&quot;}\n            );\n            marker_a4c5aaf488659e77ac7f6e73e5acdea1.setIcon(icon_4ead75717a7d978b9dbb5723864e4028);\n        \n    \n        var popup_3d992860b24c2a1828ac64692dc1a24a = L.popup({&quot;maxWidth&quot;: &quot;100%&quot;});\n\n        \n            var html_5efc88373d356365cb7917437ee1c9bc = $(`&lt;div id=&quot;html_5efc88373d356365cb7917437ee1c9bc&quot; style=&quot;width: 100.0%; height: 100.0%;&quot;&gt;13&lt;/div&gt;`)[0];\n            popup_3d992860b24c2a1828ac64692dc1a24a.setContent(html_5efc88373d356365cb7917437ee1c9bc);\n        \n\n        marker_a4c5aaf488659e77ac7f6e73e5acdea1.bindPopup(popup_3d992860b24c2a1828ac64692dc1a24a)\n        ;\n\n        \n    \n    \n            var marker_3dfbc3f2fa2e08668039367b089e2ef9 = L.marker(\n                [28.56230197, -80.57735648],\n                {}\n            ).addTo(marker_cluster_c6a6a7a80e7c028561e7b0e944869269);\n        \n    \n            var icon_97fefe6d6312f627b1e01e30f62e6e21 = L.AwesomeMarkers.icon(\n                {&quot;extraClasses&quot;: &quot;fa-rotate-0&quot;, &quot;icon&quot;: &quot;info-sign&quot;, &quot;iconColor&quot;: &quot;white&quot;, &quot;markerColor&quot;: &quot;red&quot;, &quot;prefix&quot;: &quot;glyphicon&quot;}\n            );\n            marker_3dfbc3f2fa2e08668039367b089e2ef9.setIcon(icon_97fefe6d6312f627b1e01e30f62e6e21);\n        \n    \n        var popup_2bf8d4f176c11d3188dd03dd6fd1adba = L.popup({&quot;maxWidth&quot;: &quot;100%&quot;});\n\n        \n            var html_adbd5d45e28010116b10d228d40f8e5f = $(`&lt;div id=&quot;html_adbd5d45e28010116b10d228d40f8e5f&quot; style=&quot;width: 100.0%; height: 100.0%;&quot;&gt;14&lt;/div&gt;`)[0];\n            popup_2bf8d4f176c11d3188dd03dd6fd1adba.setContent(html_adbd5d45e28010116b10d228d40f8e5f);\n        \n\n        marker_3dfbc3f2fa2e08668039367b089e2ef9.bindPopup(popup_2bf8d4f176c11d3188dd03dd6fd1adba)\n        ;\n\n        \n    \n    \n            var marker_3d3f98a6ca1f4d7845d2612d2b17e990 = L.marker(\n                [28.56230197, -80.57735648],\n                {}\n            ).addTo(marker_cluster_c6a6a7a80e7c028561e7b0e944869269);\n        \n    \n            var icon_3bbd82d99fe4c1265c324dc439796530 = L.AwesomeMarkers.icon(\n                {&quot;extraClasses&quot;: &quot;fa-rotate-0&quot;, &quot;icon&quot;: &quot;info-sign&quot;, &quot;iconColor&quot;: &quot;white&quot;, &quot;markerColor&quot;: &quot;red&quot;, &quot;prefix&quot;: &quot;glyphicon&quot;}\n            );\n            marker_3d3f98a6ca1f4d7845d2612d2b17e990.setIcon(icon_3bbd82d99fe4c1265c324dc439796530);\n        \n    \n        var popup_e13f1fe12e8120e4c7348e536a7509ea = L.popup({&quot;maxWidth&quot;: &quot;100%&quot;});\n\n        \n            var html_287d6e4b1e4c0992f6cc38eb752c5f73 = $(`&lt;div id=&quot;html_287d6e4b1e4c0992f6cc38eb752c5f73&quot; style=&quot;width: 100.0%; height: 100.0%;&quot;&gt;15&lt;/div&gt;`)[0];\n            popup_e13f1fe12e8120e4c7348e536a7509ea.setContent(html_287d6e4b1e4c0992f6cc38eb752c5f73);\n        \n\n        marker_3d3f98a6ca1f4d7845d2612d2b17e990.bindPopup(popup_e13f1fe12e8120e4c7348e536a7509ea)\n        ;\n\n        \n    \n    \n            var marker_07ba8da77b2ba746dd1f304f02d9eeec = L.marker(\n                [28.56230197, -80.57735648],\n                {}\n            ).addTo(marker_cluster_c6a6a7a80e7c028561e7b0e944869269);\n        \n    \n            var icon_60903085ec50adee47ea4362f0602c47 = L.AwesomeMarkers.icon(\n                {&quot;extraClasses&quot;: &quot;fa-rotate-0&quot;, &quot;icon&quot;: &quot;info-sign&quot;, &quot;iconColor&quot;: &quot;white&quot;, &quot;markerColor&quot;: &quot;red&quot;, &quot;prefix&quot;: &quot;glyphicon&quot;}\n            );\n            marker_07ba8da77b2ba746dd1f304f02d9eeec.setIcon(icon_60903085ec50adee47ea4362f0602c47);\n        \n    \n        var popup_f62b96cd55b8fc38bade6a1556aa5ad6 = L.popup({&quot;maxWidth&quot;: &quot;100%&quot;});\n\n        \n            var html_415260bb4b41afe82c576f0fe6e313c2 = $(`&lt;div id=&quot;html_415260bb4b41afe82c576f0fe6e313c2&quot; style=&quot;width: 100.0%; height: 100.0%;&quot;&gt;16&lt;/div&gt;`)[0];\n            popup_f62b96cd55b8fc38bade6a1556aa5ad6.setContent(html_415260bb4b41afe82c576f0fe6e313c2);\n        \n\n        marker_07ba8da77b2ba746dd1f304f02d9eeec.bindPopup(popup_f62b96cd55b8fc38bade6a1556aa5ad6)\n        ;\n\n        \n    \n    \n            var marker_769587fc576c33306ba2ceb8d99b43e6 = L.marker(\n                [28.56230197, -80.57735648],\n                {}\n            ).addTo(marker_cluster_c6a6a7a80e7c028561e7b0e944869269);\n        \n    \n            var icon_5f402534fb356f58ec01b2f352a85663 = L.AwesomeMarkers.icon(\n                {&quot;extraClasses&quot;: &quot;fa-rotate-0&quot;, &quot;icon&quot;: &quot;info-sign&quot;, &quot;iconColor&quot;: &quot;white&quot;, &quot;markerColor&quot;: &quot;green&quot;, &quot;prefix&quot;: &quot;glyphicon&quot;}\n            );\n            marker_769587fc576c33306ba2ceb8d99b43e6.setIcon(icon_5f402534fb356f58ec01b2f352a85663);\n        \n    \n        var popup_c1924d5299b2d6dd39e2788998213878 = L.popup({&quot;maxWidth&quot;: &quot;100%&quot;});\n\n        \n            var html_df88a1062e17bd20ed3940eba91dbeef = $(`&lt;div id=&quot;html_df88a1062e17bd20ed3940eba91dbeef&quot; style=&quot;width: 100.0%; height: 100.0%;&quot;&gt;17&lt;/div&gt;`)[0];\n            popup_c1924d5299b2d6dd39e2788998213878.setContent(html_df88a1062e17bd20ed3940eba91dbeef);\n        \n\n        marker_769587fc576c33306ba2ceb8d99b43e6.bindPopup(popup_c1924d5299b2d6dd39e2788998213878)\n        ;\n\n        \n    \n    \n            var marker_8bc0900c4f7b7e65ca206ad68c73e680 = L.marker(\n                [28.56230197, -80.57735648],\n                {}\n            ).addTo(marker_cluster_c6a6a7a80e7c028561e7b0e944869269);\n        \n    \n            var icon_c9d1a4bcb2fa092f1b985ebb44f4f994 = L.AwesomeMarkers.icon(\n                {&quot;extraClasses&quot;: &quot;fa-rotate-0&quot;, &quot;icon&quot;: &quot;info-sign&quot;, &quot;iconColor&quot;: &quot;white&quot;, &quot;markerColor&quot;: &quot;green&quot;, &quot;prefix&quot;: &quot;glyphicon&quot;}\n            );\n            marker_8bc0900c4f7b7e65ca206ad68c73e680.setIcon(icon_c9d1a4bcb2fa092f1b985ebb44f4f994);\n        \n    \n        var popup_a462bcf19710d84853d25258cf9e4212 = L.popup({&quot;maxWidth&quot;: &quot;100%&quot;});\n\n        \n            var html_b931f0c99850e2aa740d54433e72f161 = $(`&lt;div id=&quot;html_b931f0c99850e2aa740d54433e72f161&quot; style=&quot;width: 100.0%; height: 100.0%;&quot;&gt;18&lt;/div&gt;`)[0];\n            popup_a462bcf19710d84853d25258cf9e4212.setContent(html_b931f0c99850e2aa740d54433e72f161);\n        \n\n        marker_8bc0900c4f7b7e65ca206ad68c73e680.bindPopup(popup_a462bcf19710d84853d25258cf9e4212)\n        ;\n\n        \n    \n    \n            var marker_d250030311a8e7f1af00b2328ceab378 = L.marker(\n                [28.56230197, -80.57735648],\n                {}\n            ).addTo(marker_cluster_c6a6a7a80e7c028561e7b0e944869269);\n        \n    \n            var icon_fd82d83b09e511c993bf4152a9c33ab2 = L.AwesomeMarkers.icon(\n                {&quot;extraClasses&quot;: &quot;fa-rotate-0&quot;, &quot;icon&quot;: &quot;info-sign&quot;, &quot;iconColor&quot;: &quot;white&quot;, &quot;markerColor&quot;: &quot;red&quot;, &quot;prefix&quot;: &quot;glyphicon&quot;}\n            );\n            marker_d250030311a8e7f1af00b2328ceab378.setIcon(icon_fd82d83b09e511c993bf4152a9c33ab2);\n        \n    \n        var popup_a1ad1b497eebc387f11cda7c6714d1cc = L.popup({&quot;maxWidth&quot;: &quot;100%&quot;});\n\n        \n            var html_143fbda9833c0b63b8e47898750f24fc = $(`&lt;div id=&quot;html_143fbda9833c0b63b8e47898750f24fc&quot; style=&quot;width: 100.0%; height: 100.0%;&quot;&gt;19&lt;/div&gt;`)[0];\n            popup_a1ad1b497eebc387f11cda7c6714d1cc.setContent(html_143fbda9833c0b63b8e47898750f24fc);\n        \n\n        marker_d250030311a8e7f1af00b2328ceab378.bindPopup(popup_a1ad1b497eebc387f11cda7c6714d1cc)\n        ;\n\n        \n    \n    \n            var marker_0203ead16cfe67289686bab1fd7aa5e6 = L.marker(\n                [28.56230197, -80.57735648],\n                {}\n            ).addTo(marker_cluster_c6a6a7a80e7c028561e7b0e944869269);\n        \n    \n            var icon_c8fa57630d41213129b0be3d4c521079 = L.AwesomeMarkers.icon(\n                {&quot;extraClasses&quot;: &quot;fa-rotate-0&quot;, &quot;icon&quot;: &quot;info-sign&quot;, &quot;iconColor&quot;: &quot;white&quot;, &quot;markerColor&quot;: &quot;green&quot;, &quot;prefix&quot;: &quot;glyphicon&quot;}\n            );\n            marker_0203ead16cfe67289686bab1fd7aa5e6.setIcon(icon_c8fa57630d41213129b0be3d4c521079);\n        \n    \n        var popup_3687f5ebf5e9bf0760e27afa4a59344f = L.popup({&quot;maxWidth&quot;: &quot;100%&quot;});\n\n        \n            var html_e7b3022909dec52a947eb03f8c12dc45 = $(`&lt;div id=&quot;html_e7b3022909dec52a947eb03f8c12dc45&quot; style=&quot;width: 100.0%; height: 100.0%;&quot;&gt;20&lt;/div&gt;`)[0];\n            popup_3687f5ebf5e9bf0760e27afa4a59344f.setContent(html_e7b3022909dec52a947eb03f8c12dc45);\n        \n\n        marker_0203ead16cfe67289686bab1fd7aa5e6.bindPopup(popup_3687f5ebf5e9bf0760e27afa4a59344f)\n        ;\n\n        \n    \n    \n            var marker_d5ca8684f1409792a9400202a09fa037 = L.marker(\n                [28.56230197, -80.57735648],\n                {}\n            ).addTo(marker_cluster_c6a6a7a80e7c028561e7b0e944869269);\n        \n    \n            var icon_0bca6d25668b85ea2cd7ce19a0d85960 = L.AwesomeMarkers.icon(\n                {&quot;extraClasses&quot;: &quot;fa-rotate-0&quot;, &quot;icon&quot;: &quot;info-sign&quot;, &quot;iconColor&quot;: &quot;white&quot;, &quot;markerColor&quot;: &quot;green&quot;, &quot;prefix&quot;: &quot;glyphicon&quot;}\n            );\n            marker_d5ca8684f1409792a9400202a09fa037.setIcon(icon_0bca6d25668b85ea2cd7ce19a0d85960);\n        \n    \n        var popup_7c4c9ee00d45f4688e30e45c738cdca0 = L.popup({&quot;maxWidth&quot;: &quot;100%&quot;});\n\n        \n            var html_e6284350a87707fcb68e71f02a9ede28 = $(`&lt;div id=&quot;html_e6284350a87707fcb68e71f02a9ede28&quot; style=&quot;width: 100.0%; height: 100.0%;&quot;&gt;21&lt;/div&gt;`)[0];\n            popup_7c4c9ee00d45f4688e30e45c738cdca0.setContent(html_e6284350a87707fcb68e71f02a9ede28);\n        \n\n        marker_d5ca8684f1409792a9400202a09fa037.bindPopup(popup_7c4c9ee00d45f4688e30e45c738cdca0)\n        ;\n\n        \n    \n    \n            var marker_f1d9e7c373558fd2b8d0db34ff0d7cd9 = L.marker(\n                [28.56230197, -80.57735648],\n                {}\n            ).addTo(marker_cluster_c6a6a7a80e7c028561e7b0e944869269);\n        \n    \n            var icon_9b2f21a8f6f127588fbbd733736e702f = L.AwesomeMarkers.icon(\n                {&quot;extraClasses&quot;: &quot;fa-rotate-0&quot;, &quot;icon&quot;: &quot;info-sign&quot;, &quot;iconColor&quot;: &quot;white&quot;, &quot;markerColor&quot;: &quot;green&quot;, &quot;prefix&quot;: &quot;glyphicon&quot;}\n            );\n            marker_f1d9e7c373558fd2b8d0db34ff0d7cd9.setIcon(icon_9b2f21a8f6f127588fbbd733736e702f);\n        \n    \n        var popup_ceee1bd8e2f4036d5678f5ffa460aa72 = L.popup({&quot;maxWidth&quot;: &quot;100%&quot;});\n\n        \n            var html_4f7c996b338efb27081983a7c7c42619 = $(`&lt;div id=&quot;html_4f7c996b338efb27081983a7c7c42619&quot; style=&quot;width: 100.0%; height: 100.0%;&quot;&gt;22&lt;/div&gt;`)[0];\n            popup_ceee1bd8e2f4036d5678f5ffa460aa72.setContent(html_4f7c996b338efb27081983a7c7c42619);\n        \n\n        marker_f1d9e7c373558fd2b8d0db34ff0d7cd9.bindPopup(popup_ceee1bd8e2f4036d5678f5ffa460aa72)\n        ;\n\n        \n    \n    \n            var marker_0c1d8f5479bdb77cef6764a6f2c5498c = L.marker(\n                [28.56230197, -80.57735648],\n                {}\n            ).addTo(marker_cluster_c6a6a7a80e7c028561e7b0e944869269);\n        \n    \n            var icon_656e6ba8af0f69dc52e7ffb7847cdb95 = L.AwesomeMarkers.icon(\n                {&quot;extraClasses&quot;: &quot;fa-rotate-0&quot;, &quot;icon&quot;: &quot;info-sign&quot;, &quot;iconColor&quot;: &quot;white&quot;, &quot;markerColor&quot;: &quot;red&quot;, &quot;prefix&quot;: &quot;glyphicon&quot;}\n            );\n            marker_0c1d8f5479bdb77cef6764a6f2c5498c.setIcon(icon_656e6ba8af0f69dc52e7ffb7847cdb95);\n        \n    \n        var popup_dd5a08a1e1c05b37bea31a6421468f0a = L.popup({&quot;maxWidth&quot;: &quot;100%&quot;});\n\n        \n            var html_8a7a69cbde5b863cc1e39be4eca4ecd5 = $(`&lt;div id=&quot;html_8a7a69cbde5b863cc1e39be4eca4ecd5&quot; style=&quot;width: 100.0%; height: 100.0%;&quot;&gt;23&lt;/div&gt;`)[0];\n            popup_dd5a08a1e1c05b37bea31a6421468f0a.setContent(html_8a7a69cbde5b863cc1e39be4eca4ecd5);\n        \n\n        marker_0c1d8f5479bdb77cef6764a6f2c5498c.bindPopup(popup_dd5a08a1e1c05b37bea31a6421468f0a)\n        ;\n\n        \n    \n    \n            var marker_6f340803b8384fef5d0e7a387374f19d = L.marker(\n                [28.56230197, -80.57735648],\n                {}\n            ).addTo(marker_cluster_c6a6a7a80e7c028561e7b0e944869269);\n        \n    \n            var icon_217f3472c9bd05b1faabe796b97ceb59 = L.AwesomeMarkers.icon(\n                {&quot;extraClasses&quot;: &quot;fa-rotate-0&quot;, &quot;icon&quot;: &quot;info-sign&quot;, &quot;iconColor&quot;: &quot;white&quot;, &quot;markerColor&quot;: &quot;green&quot;, &quot;prefix&quot;: &quot;glyphicon&quot;}\n            );\n            marker_6f340803b8384fef5d0e7a387374f19d.setIcon(icon_217f3472c9bd05b1faabe796b97ceb59);\n        \n    \n        var popup_96a3919d16f36ed0606cfb55a29dc609 = L.popup({&quot;maxWidth&quot;: &quot;100%&quot;});\n\n        \n            var html_840fd67cc51a479eb3de9306175dfbc7 = $(`&lt;div id=&quot;html_840fd67cc51a479eb3de9306175dfbc7&quot; style=&quot;width: 100.0%; height: 100.0%;&quot;&gt;24&lt;/div&gt;`)[0];\n            popup_96a3919d16f36ed0606cfb55a29dc609.setContent(html_840fd67cc51a479eb3de9306175dfbc7);\n        \n\n        marker_6f340803b8384fef5d0e7a387374f19d.bindPopup(popup_96a3919d16f36ed0606cfb55a29dc609)\n        ;\n\n        \n    \n    \n            var marker_80e7c3e9be1877a5f47e5ef5943bec1e = L.marker(\n                [28.56230197, -80.57735648],\n                {}\n            ).addTo(marker_cluster_c6a6a7a80e7c028561e7b0e944869269);\n        \n    \n            var icon_0f5b29dae42dd041e04497912fc0a456 = L.AwesomeMarkers.icon(\n                {&quot;extraClasses&quot;: &quot;fa-rotate-0&quot;, &quot;icon&quot;: &quot;info-sign&quot;, &quot;iconColor&quot;: &quot;white&quot;, &quot;markerColor&quot;: &quot;green&quot;, &quot;prefix&quot;: &quot;glyphicon&quot;}\n            );\n            marker_80e7c3e9be1877a5f47e5ef5943bec1e.setIcon(icon_0f5b29dae42dd041e04497912fc0a456);\n        \n    \n        var popup_2ff0003c2d3c82a50c52d1acb7877bbc = L.popup({&quot;maxWidth&quot;: &quot;100%&quot;});\n\n        \n            var html_052b1dc713e9adf2e05908edd730b189 = $(`&lt;div id=&quot;html_052b1dc713e9adf2e05908edd730b189&quot; style=&quot;width: 100.0%; height: 100.0%;&quot;&gt;25&lt;/div&gt;`)[0];\n            popup_2ff0003c2d3c82a50c52d1acb7877bbc.setContent(html_052b1dc713e9adf2e05908edd730b189);\n        \n\n        marker_80e7c3e9be1877a5f47e5ef5943bec1e.bindPopup(popup_2ff0003c2d3c82a50c52d1acb7877bbc)\n        ;\n\n        \n    \n    \n            var marker_e13d390a8235ee49c3fbf20d2d9cb2d4 = L.marker(\n                [34.63283416, -120.6107455],\n                {}\n            ).addTo(marker_cluster_c6a6a7a80e7c028561e7b0e944869269);\n        \n    \n            var icon_f3f8ae7b0c45de32921c03b729dcddf3 = L.AwesomeMarkers.icon(\n                {&quot;extraClasses&quot;: &quot;fa-rotate-0&quot;, &quot;icon&quot;: &quot;info-sign&quot;, &quot;iconColor&quot;: &quot;white&quot;, &quot;markerColor&quot;: &quot;red&quot;, &quot;prefix&quot;: &quot;glyphicon&quot;}\n            );\n            marker_e13d390a8235ee49c3fbf20d2d9cb2d4.setIcon(icon_f3f8ae7b0c45de32921c03b729dcddf3);\n        \n    \n        var popup_aabb0457c57f37a422690a32e813a0b6 = L.popup({&quot;maxWidth&quot;: &quot;100%&quot;});\n\n        \n            var html_ae8fa571dd19c513c71db0449c6f7e02 = $(`&lt;div id=&quot;html_ae8fa571dd19c513c71db0449c6f7e02&quot; style=&quot;width: 100.0%; height: 100.0%;&quot;&gt;26&lt;/div&gt;`)[0];\n            popup_aabb0457c57f37a422690a32e813a0b6.setContent(html_ae8fa571dd19c513c71db0449c6f7e02);\n        \n\n        marker_e13d390a8235ee49c3fbf20d2d9cb2d4.bindPopup(popup_aabb0457c57f37a422690a32e813a0b6)\n        ;\n\n        \n    \n    \n            var marker_ef0f9928d87c05faca4b261fb53a0a71 = L.marker(\n                [34.63283416, -120.6107455],\n                {}\n            ).addTo(marker_cluster_c6a6a7a80e7c028561e7b0e944869269);\n        \n    \n            var icon_2c256e1e36f239643ff948ff81b86732 = L.AwesomeMarkers.icon(\n                {&quot;extraClasses&quot;: &quot;fa-rotate-0&quot;, &quot;icon&quot;: &quot;info-sign&quot;, &quot;iconColor&quot;: &quot;white&quot;, &quot;markerColor&quot;: &quot;red&quot;, &quot;prefix&quot;: &quot;glyphicon&quot;}\n            );\n            marker_ef0f9928d87c05faca4b261fb53a0a71.setIcon(icon_2c256e1e36f239643ff948ff81b86732);\n        \n    \n        var popup_b77728c6a9b6edc69eac0051723c9138 = L.popup({&quot;maxWidth&quot;: &quot;100%&quot;});\n\n        \n            var html_3a599a73ddde4dd9c2b688c5f035b3bd = $(`&lt;div id=&quot;html_3a599a73ddde4dd9c2b688c5f035b3bd&quot; style=&quot;width: 100.0%; height: 100.0%;&quot;&gt;27&lt;/div&gt;`)[0];\n            popup_b77728c6a9b6edc69eac0051723c9138.setContent(html_3a599a73ddde4dd9c2b688c5f035b3bd);\n        \n\n        marker_ef0f9928d87c05faca4b261fb53a0a71.bindPopup(popup_b77728c6a9b6edc69eac0051723c9138)\n        ;\n\n        \n    \n    \n            var marker_1794f5ee937fe6855f0312c5c900b364 = L.marker(\n                [34.63283416, -120.6107455],\n                {}\n            ).addTo(marker_cluster_c6a6a7a80e7c028561e7b0e944869269);\n        \n    \n            var icon_cafebf953e8f38e241f4de90c9c36b29 = L.AwesomeMarkers.icon(\n                {&quot;extraClasses&quot;: &quot;fa-rotate-0&quot;, &quot;icon&quot;: &quot;info-sign&quot;, &quot;iconColor&quot;: &quot;white&quot;, &quot;markerColor&quot;: &quot;green&quot;, &quot;prefix&quot;: &quot;glyphicon&quot;}\n            );\n            marker_1794f5ee937fe6855f0312c5c900b364.setIcon(icon_cafebf953e8f38e241f4de90c9c36b29);\n        \n    \n        var popup_b504a2cf90f4dd6c55d69a1523b241cc = L.popup({&quot;maxWidth&quot;: &quot;100%&quot;});\n\n        \n            var html_cc32b134c2165be6314a9921c18cbd14 = $(`&lt;div id=&quot;html_cc32b134c2165be6314a9921c18cbd14&quot; style=&quot;width: 100.0%; height: 100.0%;&quot;&gt;28&lt;/div&gt;`)[0];\n            popup_b504a2cf90f4dd6c55d69a1523b241cc.setContent(html_cc32b134c2165be6314a9921c18cbd14);\n        \n\n        marker_1794f5ee937fe6855f0312c5c900b364.bindPopup(popup_b504a2cf90f4dd6c55d69a1523b241cc)\n        ;\n\n        \n    \n    \n            var marker_94716aa606355ece5cbecafa97d2b5c7 = L.marker(\n                [34.63283416, -120.6107455],\n                {}\n            ).addTo(marker_cluster_c6a6a7a80e7c028561e7b0e944869269);\n        \n    \n            var icon_e98cc2c537f6fea9773d81efbe9d8349 = L.AwesomeMarkers.icon(\n                {&quot;extraClasses&quot;: &quot;fa-rotate-0&quot;, &quot;icon&quot;: &quot;info-sign&quot;, &quot;iconColor&quot;: &quot;white&quot;, &quot;markerColor&quot;: &quot;green&quot;, &quot;prefix&quot;: &quot;glyphicon&quot;}\n            );\n            marker_94716aa606355ece5cbecafa97d2b5c7.setIcon(icon_e98cc2c537f6fea9773d81efbe9d8349);\n        \n    \n        var popup_2416f06651d1ec19a4cf0f7c583ff9f6 = L.popup({&quot;maxWidth&quot;: &quot;100%&quot;});\n\n        \n            var html_3c8752e8a8291c7f87c8b8a34158f44b = $(`&lt;div id=&quot;html_3c8752e8a8291c7f87c8b8a34158f44b&quot; style=&quot;width: 100.0%; height: 100.0%;&quot;&gt;29&lt;/div&gt;`)[0];\n            popup_2416f06651d1ec19a4cf0f7c583ff9f6.setContent(html_3c8752e8a8291c7f87c8b8a34158f44b);\n        \n\n        marker_94716aa606355ece5cbecafa97d2b5c7.bindPopup(popup_2416f06651d1ec19a4cf0f7c583ff9f6)\n        ;\n\n        \n    \n    \n            var marker_e3630892ad330f0791d162672350e827 = L.marker(\n                [34.63283416, -120.6107455],\n                {}\n            ).addTo(marker_cluster_c6a6a7a80e7c028561e7b0e944869269);\n        \n    \n            var icon_f99967cbd35ea0cce57def401b9ae1fc = L.AwesomeMarkers.icon(\n                {&quot;extraClasses&quot;: &quot;fa-rotate-0&quot;, &quot;icon&quot;: &quot;info-sign&quot;, &quot;iconColor&quot;: &quot;white&quot;, &quot;markerColor&quot;: &quot;green&quot;, &quot;prefix&quot;: &quot;glyphicon&quot;}\n            );\n            marker_e3630892ad330f0791d162672350e827.setIcon(icon_f99967cbd35ea0cce57def401b9ae1fc);\n        \n    \n        var popup_f8a77d83caf3cd741737521202c7fc87 = L.popup({&quot;maxWidth&quot;: &quot;100%&quot;});\n\n        \n            var html_14953f28fd7b77a615993f7c0e38eebf = $(`&lt;div id=&quot;html_14953f28fd7b77a615993f7c0e38eebf&quot; style=&quot;width: 100.0%; height: 100.0%;&quot;&gt;30&lt;/div&gt;`)[0];\n            popup_f8a77d83caf3cd741737521202c7fc87.setContent(html_14953f28fd7b77a615993f7c0e38eebf);\n        \n\n        marker_e3630892ad330f0791d162672350e827.bindPopup(popup_f8a77d83caf3cd741737521202c7fc87)\n        ;\n\n        \n    \n    \n            var marker_f7dd209a8b6a850b0e9f109d2c6fdbab = L.marker(\n                [34.63283416, -120.6107455],\n                {}\n            ).addTo(marker_cluster_c6a6a7a80e7c028561e7b0e944869269);\n        \n    \n            var icon_22f23aef9adad8484bcc256cb3784f71 = L.AwesomeMarkers.icon(\n                {&quot;extraClasses&quot;: &quot;fa-rotate-0&quot;, &quot;icon&quot;: &quot;info-sign&quot;, &quot;iconColor&quot;: &quot;white&quot;, &quot;markerColor&quot;: &quot;green&quot;, &quot;prefix&quot;: &quot;glyphicon&quot;}\n            );\n            marker_f7dd209a8b6a850b0e9f109d2c6fdbab.setIcon(icon_22f23aef9adad8484bcc256cb3784f71);\n        \n    \n        var popup_d399264e6290958fcd6941e69027fbb7 = L.popup({&quot;maxWidth&quot;: &quot;100%&quot;});\n\n        \n            var html_2d055bc93b3c4ba664a6c929368a7b6c = $(`&lt;div id=&quot;html_2d055bc93b3c4ba664a6c929368a7b6c&quot; style=&quot;width: 100.0%; height: 100.0%;&quot;&gt;31&lt;/div&gt;`)[0];\n            popup_d399264e6290958fcd6941e69027fbb7.setContent(html_2d055bc93b3c4ba664a6c929368a7b6c);\n        \n\n        marker_f7dd209a8b6a850b0e9f109d2c6fdbab.bindPopup(popup_d399264e6290958fcd6941e69027fbb7)\n        ;\n\n        \n    \n    \n            var marker_9fc49a037cbbfff52095ba284dca603c = L.marker(\n                [34.63283416, -120.6107455],\n                {}\n            ).addTo(marker_cluster_c6a6a7a80e7c028561e7b0e944869269);\n        \n    \n            var icon_69675250a4ba7f8ecab95a7b0824ba38 = L.AwesomeMarkers.icon(\n                {&quot;extraClasses&quot;: &quot;fa-rotate-0&quot;, &quot;icon&quot;: &quot;info-sign&quot;, &quot;iconColor&quot;: &quot;white&quot;, &quot;markerColor&quot;: &quot;red&quot;, &quot;prefix&quot;: &quot;glyphicon&quot;}\n            );\n            marker_9fc49a037cbbfff52095ba284dca603c.setIcon(icon_69675250a4ba7f8ecab95a7b0824ba38);\n        \n    \n        var popup_8aaeaa0b76e78a92c768f1f757cf0aaa = L.popup({&quot;maxWidth&quot;: &quot;100%&quot;});\n\n        \n            var html_0a8d9d6d89d8a30ba26f7e6f9240d70c = $(`&lt;div id=&quot;html_0a8d9d6d89d8a30ba26f7e6f9240d70c&quot; style=&quot;width: 100.0%; height: 100.0%;&quot;&gt;32&lt;/div&gt;`)[0];\n            popup_8aaeaa0b76e78a92c768f1f757cf0aaa.setContent(html_0a8d9d6d89d8a30ba26f7e6f9240d70c);\n        \n\n        marker_9fc49a037cbbfff52095ba284dca603c.bindPopup(popup_8aaeaa0b76e78a92c768f1f757cf0aaa)\n        ;\n\n        \n    \n    \n            var marker_c3972efab81529c480d384ab84cb1b33 = L.marker(\n                [34.63283416, -120.6107455],\n                {}\n            ).addTo(marker_cluster_c6a6a7a80e7c028561e7b0e944869269);\n        \n    \n            var icon_d8acb89a8ee2715e997af0b0bde65bce = L.AwesomeMarkers.icon(\n                {&quot;extraClasses&quot;: &quot;fa-rotate-0&quot;, &quot;icon&quot;: &quot;info-sign&quot;, &quot;iconColor&quot;: &quot;white&quot;, &quot;markerColor&quot;: &quot;red&quot;, &quot;prefix&quot;: &quot;glyphicon&quot;}\n            );\n            marker_c3972efab81529c480d384ab84cb1b33.setIcon(icon_d8acb89a8ee2715e997af0b0bde65bce);\n        \n    \n        var popup_044e2c2b0401a75a80708143434b8c2d = L.popup({&quot;maxWidth&quot;: &quot;100%&quot;});\n\n        \n            var html_229374a433533dd38ec65150f485e9f3 = $(`&lt;div id=&quot;html_229374a433533dd38ec65150f485e9f3&quot; style=&quot;width: 100.0%; height: 100.0%;&quot;&gt;33&lt;/div&gt;`)[0];\n            popup_044e2c2b0401a75a80708143434b8c2d.setContent(html_229374a433533dd38ec65150f485e9f3);\n        \n\n        marker_c3972efab81529c480d384ab84cb1b33.bindPopup(popup_044e2c2b0401a75a80708143434b8c2d)\n        ;\n\n        \n    \n    \n            var marker_6ab83e066b8f122bf78e0481e88d72a3 = L.marker(\n                [34.63283416, -120.6107455],\n                {}\n            ).addTo(marker_cluster_c6a6a7a80e7c028561e7b0e944869269);\n        \n    \n            var icon_296059a428e0422cb14b22f192e3166a = L.AwesomeMarkers.icon(\n                {&quot;extraClasses&quot;: &quot;fa-rotate-0&quot;, &quot;icon&quot;: &quot;info-sign&quot;, &quot;iconColor&quot;: &quot;white&quot;, &quot;markerColor&quot;: &quot;red&quot;, &quot;prefix&quot;: &quot;glyphicon&quot;}\n            );\n            marker_6ab83e066b8f122bf78e0481e88d72a3.setIcon(icon_296059a428e0422cb14b22f192e3166a);\n        \n    \n        var popup_340105f133156ec01c863dcf8716e537 = L.popup({&quot;maxWidth&quot;: &quot;100%&quot;});\n\n        \n            var html_d5f1f852b91760db38109f314c772e33 = $(`&lt;div id=&quot;html_d5f1f852b91760db38109f314c772e33&quot; style=&quot;width: 100.0%; height: 100.0%;&quot;&gt;34&lt;/div&gt;`)[0];\n            popup_340105f133156ec01c863dcf8716e537.setContent(html_d5f1f852b91760db38109f314c772e33);\n        \n\n        marker_6ab83e066b8f122bf78e0481e88d72a3.bindPopup(popup_340105f133156ec01c863dcf8716e537)\n        ;\n\n        \n    \n    \n            var marker_12d173ca483424985474e954c7d651cf = L.marker(\n                [34.63283416, -120.6107455],\n                {}\n            ).addTo(marker_cluster_c6a6a7a80e7c028561e7b0e944869269);\n        \n    \n            var icon_74dc065e661215caa1adf9d408c05c77 = L.AwesomeMarkers.icon(\n                {&quot;extraClasses&quot;: &quot;fa-rotate-0&quot;, &quot;icon&quot;: &quot;info-sign&quot;, &quot;iconColor&quot;: &quot;white&quot;, &quot;markerColor&quot;: &quot;red&quot;, &quot;prefix&quot;: &quot;glyphicon&quot;}\n            );\n            marker_12d173ca483424985474e954c7d651cf.setIcon(icon_74dc065e661215caa1adf9d408c05c77);\n        \n    \n        var popup_6ed58c71d03a018e6f98126adbd683d9 = L.popup({&quot;maxWidth&quot;: &quot;100%&quot;});\n\n        \n            var html_d1c3f395a981b2727e0ef59e40c8f261 = $(`&lt;div id=&quot;html_d1c3f395a981b2727e0ef59e40c8f261&quot; style=&quot;width: 100.0%; height: 100.0%;&quot;&gt;35&lt;/div&gt;`)[0];\n            popup_6ed58c71d03a018e6f98126adbd683d9.setContent(html_d1c3f395a981b2727e0ef59e40c8f261);\n        \n\n        marker_12d173ca483424985474e954c7d651cf.bindPopup(popup_6ed58c71d03a018e6f98126adbd683d9)\n        ;\n\n        \n    \n    \n            var marker_d5482e4c0924e92074727494e007c13f = L.marker(\n                [28.57325457, -80.64689529],\n                {}\n            ).addTo(marker_cluster_c6a6a7a80e7c028561e7b0e944869269);\n        \n    \n            var icon_ab8f29e9a37b926d76d40aa2c0661bd3 = L.AwesomeMarkers.icon(\n                {&quot;extraClasses&quot;: &quot;fa-rotate-0&quot;, &quot;icon&quot;: &quot;info-sign&quot;, &quot;iconColor&quot;: &quot;white&quot;, &quot;markerColor&quot;: &quot;green&quot;, &quot;prefix&quot;: &quot;glyphicon&quot;}\n            );\n            marker_d5482e4c0924e92074727494e007c13f.setIcon(icon_ab8f29e9a37b926d76d40aa2c0661bd3);\n        \n    \n        var popup_b07d66a690b8eeab1ff1eac4b710db7e = L.popup({&quot;maxWidth&quot;: &quot;100%&quot;});\n\n        \n            var html_b7bd6ce14c4e032fccc23e871c88f5ae = $(`&lt;div id=&quot;html_b7bd6ce14c4e032fccc23e871c88f5ae&quot; style=&quot;width: 100.0%; height: 100.0%;&quot;&gt;36&lt;/div&gt;`)[0];\n            popup_b07d66a690b8eeab1ff1eac4b710db7e.setContent(html_b7bd6ce14c4e032fccc23e871c88f5ae);\n        \n\n        marker_d5482e4c0924e92074727494e007c13f.bindPopup(popup_b07d66a690b8eeab1ff1eac4b710db7e)\n        ;\n\n        \n    \n    \n            var marker_32a0b98152c0dc5c4aab55e617039d8c = L.marker(\n                [28.57325457, -80.64689529],\n                {}\n            ).addTo(marker_cluster_c6a6a7a80e7c028561e7b0e944869269);\n        \n    \n            var icon_7439d0a965ae8ba742725698c36b743d = L.AwesomeMarkers.icon(\n                {&quot;extraClasses&quot;: &quot;fa-rotate-0&quot;, &quot;icon&quot;: &quot;info-sign&quot;, &quot;iconColor&quot;: &quot;white&quot;, &quot;markerColor&quot;: &quot;red&quot;, &quot;prefix&quot;: &quot;glyphicon&quot;}\n            );\n            marker_32a0b98152c0dc5c4aab55e617039d8c.setIcon(icon_7439d0a965ae8ba742725698c36b743d);\n        \n    \n        var popup_80b76d9f305ba249c73e5897dd272bc7 = L.popup({&quot;maxWidth&quot;: &quot;100%&quot;});\n\n        \n            var html_308f03cb04ef06db2a9c58e074279b2e = $(`&lt;div id=&quot;html_308f03cb04ef06db2a9c58e074279b2e&quot; style=&quot;width: 100.0%; height: 100.0%;&quot;&gt;37&lt;/div&gt;`)[0];\n            popup_80b76d9f305ba249c73e5897dd272bc7.setContent(html_308f03cb04ef06db2a9c58e074279b2e);\n        \n\n        marker_32a0b98152c0dc5c4aab55e617039d8c.bindPopup(popup_80b76d9f305ba249c73e5897dd272bc7)\n        ;\n\n        \n    \n    \n            var marker_6696abf87f7ad1ea497d469b3d39bad9 = L.marker(\n                [28.57325457, -80.64689529],\n                {}\n            ).addTo(marker_cluster_c6a6a7a80e7c028561e7b0e944869269);\n        \n    \n            var icon_babca3251f39aee8bd1d499abbd23235 = L.AwesomeMarkers.icon(\n                {&quot;extraClasses&quot;: &quot;fa-rotate-0&quot;, &quot;icon&quot;: &quot;info-sign&quot;, &quot;iconColor&quot;: &quot;white&quot;, &quot;markerColor&quot;: &quot;green&quot;, &quot;prefix&quot;: &quot;glyphicon&quot;}\n            );\n            marker_6696abf87f7ad1ea497d469b3d39bad9.setIcon(icon_babca3251f39aee8bd1d499abbd23235);\n        \n    \n        var popup_191c4695ae0734ba309ce9f84f810388 = L.popup({&quot;maxWidth&quot;: &quot;100%&quot;});\n\n        \n            var html_8e25d592f275a712b65cd6de1685052f = $(`&lt;div id=&quot;html_8e25d592f275a712b65cd6de1685052f&quot; style=&quot;width: 100.0%; height: 100.0%;&quot;&gt;38&lt;/div&gt;`)[0];\n            popup_191c4695ae0734ba309ce9f84f810388.setContent(html_8e25d592f275a712b65cd6de1685052f);\n        \n\n        marker_6696abf87f7ad1ea497d469b3d39bad9.bindPopup(popup_191c4695ae0734ba309ce9f84f810388)\n        ;\n\n        \n    \n    \n            var marker_ea1742450581869ed519995114f2116e = L.marker(\n                [28.57325457, -80.64689529],\n                {}\n            ).addTo(marker_cluster_c6a6a7a80e7c028561e7b0e944869269);\n        \n    \n            var icon_d15c8fdb9d679502c64369b340218449 = L.AwesomeMarkers.icon(\n                {&quot;extraClasses&quot;: &quot;fa-rotate-0&quot;, &quot;icon&quot;: &quot;info-sign&quot;, &quot;iconColor&quot;: &quot;white&quot;, &quot;markerColor&quot;: &quot;green&quot;, &quot;prefix&quot;: &quot;glyphicon&quot;}\n            );\n            marker_ea1742450581869ed519995114f2116e.setIcon(icon_d15c8fdb9d679502c64369b340218449);\n        \n    \n        var popup_c4742036ba2539f4c4fb7ffaad05203c = L.popup({&quot;maxWidth&quot;: &quot;100%&quot;});\n\n        \n            var html_1f937fe94548d6ec54dfca892f755e14 = $(`&lt;div id=&quot;html_1f937fe94548d6ec54dfca892f755e14&quot; style=&quot;width: 100.0%; height: 100.0%;&quot;&gt;39&lt;/div&gt;`)[0];\n            popup_c4742036ba2539f4c4fb7ffaad05203c.setContent(html_1f937fe94548d6ec54dfca892f755e14);\n        \n\n        marker_ea1742450581869ed519995114f2116e.bindPopup(popup_c4742036ba2539f4c4fb7ffaad05203c)\n        ;\n\n        \n    \n    \n            var marker_d5f525631a3af0ccffaccb905e123a87 = L.marker(\n                [28.57325457, -80.64689529],\n                {}\n            ).addTo(marker_cluster_c6a6a7a80e7c028561e7b0e944869269);\n        \n    \n            var icon_cbb1de1cfc031d8a3f5b02a3d1fc6fa0 = L.AwesomeMarkers.icon(\n                {&quot;extraClasses&quot;: &quot;fa-rotate-0&quot;, &quot;icon&quot;: &quot;info-sign&quot;, &quot;iconColor&quot;: &quot;white&quot;, &quot;markerColor&quot;: &quot;red&quot;, &quot;prefix&quot;: &quot;glyphicon&quot;}\n            );\n            marker_d5f525631a3af0ccffaccb905e123a87.setIcon(icon_cbb1de1cfc031d8a3f5b02a3d1fc6fa0);\n        \n    \n        var popup_856957855ba2383b1f0ff1a6600c25fa = L.popup({&quot;maxWidth&quot;: &quot;100%&quot;});\n\n        \n            var html_379a94edf5620a74b67d916714cbfe20 = $(`&lt;div id=&quot;html_379a94edf5620a74b67d916714cbfe20&quot; style=&quot;width: 100.0%; height: 100.0%;&quot;&gt;40&lt;/div&gt;`)[0];\n            popup_856957855ba2383b1f0ff1a6600c25fa.setContent(html_379a94edf5620a74b67d916714cbfe20);\n        \n\n        marker_d5f525631a3af0ccffaccb905e123a87.bindPopup(popup_856957855ba2383b1f0ff1a6600c25fa)\n        ;\n\n        \n    \n    \n            var marker_42f529e0bd0bb6fe1feb883ab2753da9 = L.marker(\n                [28.57325457, -80.64689529],\n                {}\n            ).addTo(marker_cluster_c6a6a7a80e7c028561e7b0e944869269);\n        \n    \n            var icon_31389e576a6b323be18943d6022668a5 = L.AwesomeMarkers.icon(\n                {&quot;extraClasses&quot;: &quot;fa-rotate-0&quot;, &quot;icon&quot;: &quot;info-sign&quot;, &quot;iconColor&quot;: &quot;white&quot;, &quot;markerColor&quot;: &quot;green&quot;, &quot;prefix&quot;: &quot;glyphicon&quot;}\n            );\n            marker_42f529e0bd0bb6fe1feb883ab2753da9.setIcon(icon_31389e576a6b323be18943d6022668a5);\n        \n    \n        var popup_ba75022d7799ec821c003d402895b742 = L.popup({&quot;maxWidth&quot;: &quot;100%&quot;});\n\n        \n            var html_c170f91a4cf96564e4aa76839f27f198 = $(`&lt;div id=&quot;html_c170f91a4cf96564e4aa76839f27f198&quot; style=&quot;width: 100.0%; height: 100.0%;&quot;&gt;41&lt;/div&gt;`)[0];\n            popup_ba75022d7799ec821c003d402895b742.setContent(html_c170f91a4cf96564e4aa76839f27f198);\n        \n\n        marker_42f529e0bd0bb6fe1feb883ab2753da9.bindPopup(popup_ba75022d7799ec821c003d402895b742)\n        ;\n\n        \n    \n    \n            var marker_b3f2d56d70cf4d5ac64e77b1ea9cb817 = L.marker(\n                [28.57325457, -80.64689529],\n                {}\n            ).addTo(marker_cluster_c6a6a7a80e7c028561e7b0e944869269);\n        \n    \n            var icon_7fe9d633438ea8c7d7c443c1879c97be = L.AwesomeMarkers.icon(\n                {&quot;extraClasses&quot;: &quot;fa-rotate-0&quot;, &quot;icon&quot;: &quot;info-sign&quot;, &quot;iconColor&quot;: &quot;white&quot;, &quot;markerColor&quot;: &quot;green&quot;, &quot;prefix&quot;: &quot;glyphicon&quot;}\n            );\n            marker_b3f2d56d70cf4d5ac64e77b1ea9cb817.setIcon(icon_7fe9d633438ea8c7d7c443c1879c97be);\n        \n    \n        var popup_19279af80d2340ed7047cc110847bb37 = L.popup({&quot;maxWidth&quot;: &quot;100%&quot;});\n\n        \n            var html_779b96ced903de2e6cbc470e14a3a44c = $(`&lt;div id=&quot;html_779b96ced903de2e6cbc470e14a3a44c&quot; style=&quot;width: 100.0%; height: 100.0%;&quot;&gt;42&lt;/div&gt;`)[0];\n            popup_19279af80d2340ed7047cc110847bb37.setContent(html_779b96ced903de2e6cbc470e14a3a44c);\n        \n\n        marker_b3f2d56d70cf4d5ac64e77b1ea9cb817.bindPopup(popup_19279af80d2340ed7047cc110847bb37)\n        ;\n\n        \n    \n    \n            var marker_fddad02b89356bb96f72f96677f3e7bc = L.marker(\n                [28.57325457, -80.64689529],\n                {}\n            ).addTo(marker_cluster_c6a6a7a80e7c028561e7b0e944869269);\n        \n    \n            var icon_8f90a73877c9975f27847c6386f4d8e2 = L.AwesomeMarkers.icon(\n                {&quot;extraClasses&quot;: &quot;fa-rotate-0&quot;, &quot;icon&quot;: &quot;info-sign&quot;, &quot;iconColor&quot;: &quot;white&quot;, &quot;markerColor&quot;: &quot;red&quot;, &quot;prefix&quot;: &quot;glyphicon&quot;}\n            );\n            marker_fddad02b89356bb96f72f96677f3e7bc.setIcon(icon_8f90a73877c9975f27847c6386f4d8e2);\n        \n    \n        var popup_287cfc9226db19dcdd24f16d05957553 = L.popup({&quot;maxWidth&quot;: &quot;100%&quot;});\n\n        \n            var html_cd3f19c682ef7cfb4ad9d391381f575f = $(`&lt;div id=&quot;html_cd3f19c682ef7cfb4ad9d391381f575f&quot; style=&quot;width: 100.0%; height: 100.0%;&quot;&gt;43&lt;/div&gt;`)[0];\n            popup_287cfc9226db19dcdd24f16d05957553.setContent(html_cd3f19c682ef7cfb4ad9d391381f575f);\n        \n\n        marker_fddad02b89356bb96f72f96677f3e7bc.bindPopup(popup_287cfc9226db19dcdd24f16d05957553)\n        ;\n\n        \n    \n    \n            var marker_78422b9295f0a35c639fa46a82c07e82 = L.marker(\n                [28.57325457, -80.64689529],\n                {}\n            ).addTo(marker_cluster_c6a6a7a80e7c028561e7b0e944869269);\n        \n    \n            var icon_a21a27b6a01c8ef14b77e7e6f6318900 = L.AwesomeMarkers.icon(\n                {&quot;extraClasses&quot;: &quot;fa-rotate-0&quot;, &quot;icon&quot;: &quot;info-sign&quot;, &quot;iconColor&quot;: &quot;white&quot;, &quot;markerColor&quot;: &quot;green&quot;, &quot;prefix&quot;: &quot;glyphicon&quot;}\n            );\n            marker_78422b9295f0a35c639fa46a82c07e82.setIcon(icon_a21a27b6a01c8ef14b77e7e6f6318900);\n        \n    \n        var popup_8f6fa483be381d25976653c132098f23 = L.popup({&quot;maxWidth&quot;: &quot;100%&quot;});\n\n        \n            var html_e37443a156ebb60a38103bb2f7f24c72 = $(`&lt;div id=&quot;html_e37443a156ebb60a38103bb2f7f24c72&quot; style=&quot;width: 100.0%; height: 100.0%;&quot;&gt;44&lt;/div&gt;`)[0];\n            popup_8f6fa483be381d25976653c132098f23.setContent(html_e37443a156ebb60a38103bb2f7f24c72);\n        \n\n        marker_78422b9295f0a35c639fa46a82c07e82.bindPopup(popup_8f6fa483be381d25976653c132098f23)\n        ;\n\n        \n    \n    \n            var marker_be93986078e7d6d4d0f893f4e11895d4 = L.marker(\n                [28.57325457, -80.64689529],\n                {}\n            ).addTo(marker_cluster_c6a6a7a80e7c028561e7b0e944869269);\n        \n    \n            var icon_6e3eb9909cd79e403920cd38bd997dba = L.AwesomeMarkers.icon(\n                {&quot;extraClasses&quot;: &quot;fa-rotate-0&quot;, &quot;icon&quot;: &quot;info-sign&quot;, &quot;iconColor&quot;: &quot;white&quot;, &quot;markerColor&quot;: &quot;green&quot;, &quot;prefix&quot;: &quot;glyphicon&quot;}\n            );\n            marker_be93986078e7d6d4d0f893f4e11895d4.setIcon(icon_6e3eb9909cd79e403920cd38bd997dba);\n        \n    \n        var popup_0b9f988f7211ff0bbdcf84c7ab20ed9a = L.popup({&quot;maxWidth&quot;: &quot;100%&quot;});\n\n        \n            var html_af3746dfd8c1cd7420016725782c67bc = $(`&lt;div id=&quot;html_af3746dfd8c1cd7420016725782c67bc&quot; style=&quot;width: 100.0%; height: 100.0%;&quot;&gt;45&lt;/div&gt;`)[0];\n            popup_0b9f988f7211ff0bbdcf84c7ab20ed9a.setContent(html_af3746dfd8c1cd7420016725782c67bc);\n        \n\n        marker_be93986078e7d6d4d0f893f4e11895d4.bindPopup(popup_0b9f988f7211ff0bbdcf84c7ab20ed9a)\n        ;\n\n        \n    \n    \n            var marker_ca548d04f30a86127e0f49c35b3b5637 = L.marker(\n                [28.57325457, -80.64689529],\n                {}\n            ).addTo(marker_cluster_c6a6a7a80e7c028561e7b0e944869269);\n        \n    \n            var icon_81c3c2089bad38771851b26d7c07bb82 = L.AwesomeMarkers.icon(\n                {&quot;extraClasses&quot;: &quot;fa-rotate-0&quot;, &quot;icon&quot;: &quot;info-sign&quot;, &quot;iconColor&quot;: &quot;white&quot;, &quot;markerColor&quot;: &quot;green&quot;, &quot;prefix&quot;: &quot;glyphicon&quot;}\n            );\n            marker_ca548d04f30a86127e0f49c35b3b5637.setIcon(icon_81c3c2089bad38771851b26d7c07bb82);\n        \n    \n        var popup_d1668c2bc1e128d9d6aa71af55ea86cf = L.popup({&quot;maxWidth&quot;: &quot;100%&quot;});\n\n        \n            var html_879119ab29b9e74388418924c8b1dcc4 = $(`&lt;div id=&quot;html_879119ab29b9e74388418924c8b1dcc4&quot; style=&quot;width: 100.0%; height: 100.0%;&quot;&gt;46&lt;/div&gt;`)[0];\n            popup_d1668c2bc1e128d9d6aa71af55ea86cf.setContent(html_879119ab29b9e74388418924c8b1dcc4);\n        \n\n        marker_ca548d04f30a86127e0f49c35b3b5637.bindPopup(popup_d1668c2bc1e128d9d6aa71af55ea86cf)\n        ;\n\n        \n    \n    \n            var marker_377f52d63d1523991aaa08bd9594e746 = L.marker(\n                [28.57325457, -80.64689529],\n                {}\n            ).addTo(marker_cluster_c6a6a7a80e7c028561e7b0e944869269);\n        \n    \n            var icon_7a51078d6ce26ec82c7f0ce4c5d2c867 = L.AwesomeMarkers.icon(\n                {&quot;extraClasses&quot;: &quot;fa-rotate-0&quot;, &quot;icon&quot;: &quot;info-sign&quot;, &quot;iconColor&quot;: &quot;white&quot;, &quot;markerColor&quot;: &quot;green&quot;, &quot;prefix&quot;: &quot;glyphicon&quot;}\n            );\n            marker_377f52d63d1523991aaa08bd9594e746.setIcon(icon_7a51078d6ce26ec82c7f0ce4c5d2c867);\n        \n    \n        var popup_9679206c03c77fda894ea406952cbafc = L.popup({&quot;maxWidth&quot;: &quot;100%&quot;});\n\n        \n            var html_04ae94c186d28c3afcead6bb7f2adff0 = $(`&lt;div id=&quot;html_04ae94c186d28c3afcead6bb7f2adff0&quot; style=&quot;width: 100.0%; height: 100.0%;&quot;&gt;47&lt;/div&gt;`)[0];\n            popup_9679206c03c77fda894ea406952cbafc.setContent(html_04ae94c186d28c3afcead6bb7f2adff0);\n        \n\n        marker_377f52d63d1523991aaa08bd9594e746.bindPopup(popup_9679206c03c77fda894ea406952cbafc)\n        ;\n\n        \n    \n    \n            var marker_dbb789ae2ccfbdf3ff17cf60b105e50a = L.marker(\n                [28.57325457, -80.64689529],\n                {}\n            ).addTo(marker_cluster_c6a6a7a80e7c028561e7b0e944869269);\n        \n    \n            var icon_b46d16f62f44a5d52d96c27b7e3912f8 = L.AwesomeMarkers.icon(\n                {&quot;extraClasses&quot;: &quot;fa-rotate-0&quot;, &quot;icon&quot;: &quot;info-sign&quot;, &quot;iconColor&quot;: &quot;white&quot;, &quot;markerColor&quot;: &quot;green&quot;, &quot;prefix&quot;: &quot;glyphicon&quot;}\n            );\n            marker_dbb789ae2ccfbdf3ff17cf60b105e50a.setIcon(icon_b46d16f62f44a5d52d96c27b7e3912f8);\n        \n    \n        var popup_e46da3f4d79cc22bd87fb652b51367a9 = L.popup({&quot;maxWidth&quot;: &quot;100%&quot;});\n\n        \n            var html_2959f224e9f7ec9d52786f58ba2aea40 = $(`&lt;div id=&quot;html_2959f224e9f7ec9d52786f58ba2aea40&quot; style=&quot;width: 100.0%; height: 100.0%;&quot;&gt;48&lt;/div&gt;`)[0];\n            popup_e46da3f4d79cc22bd87fb652b51367a9.setContent(html_2959f224e9f7ec9d52786f58ba2aea40);\n        \n\n        marker_dbb789ae2ccfbdf3ff17cf60b105e50a.bindPopup(popup_e46da3f4d79cc22bd87fb652b51367a9)\n        ;\n\n        \n    \n    \n            var marker_23131eac6fd61eeec8438ff58c043837 = L.marker(\n                [28.56319718, -80.57682003],\n                {}\n            ).addTo(marker_cluster_c6a6a7a80e7c028561e7b0e944869269);\n        \n    \n            var icon_2e9c1d6ae095953018fc1076b12ed755 = L.AwesomeMarkers.icon(\n                {&quot;extraClasses&quot;: &quot;fa-rotate-0&quot;, &quot;icon&quot;: &quot;info-sign&quot;, &quot;iconColor&quot;: &quot;white&quot;, &quot;markerColor&quot;: &quot;green&quot;, &quot;prefix&quot;: &quot;glyphicon&quot;}\n            );\n            marker_23131eac6fd61eeec8438ff58c043837.setIcon(icon_2e9c1d6ae095953018fc1076b12ed755);\n        \n    \n        var popup_27c1f241e8411ca1bb1efe2e92cdcdd1 = L.popup({&quot;maxWidth&quot;: &quot;100%&quot;});\n\n        \n            var html_889c886853b673f576467141cab9bc43 = $(`&lt;div id=&quot;html_889c886853b673f576467141cab9bc43&quot; style=&quot;width: 100.0%; height: 100.0%;&quot;&gt;49&lt;/div&gt;`)[0];\n            popup_27c1f241e8411ca1bb1efe2e92cdcdd1.setContent(html_889c886853b673f576467141cab9bc43);\n        \n\n        marker_23131eac6fd61eeec8438ff58c043837.bindPopup(popup_27c1f241e8411ca1bb1efe2e92cdcdd1)\n        ;\n\n        \n    \n    \n            var marker_7c4bd9b28c31751a83c1bc0d0680966f = L.marker(\n                [28.56319718, -80.57682003],\n                {}\n            ).addTo(marker_cluster_c6a6a7a80e7c028561e7b0e944869269);\n        \n    \n            var icon_2911223fc22731f68a81611dc67b2269 = L.AwesomeMarkers.icon(\n                {&quot;extraClasses&quot;: &quot;fa-rotate-0&quot;, &quot;icon&quot;: &quot;info-sign&quot;, &quot;iconColor&quot;: &quot;white&quot;, &quot;markerColor&quot;: &quot;green&quot;, &quot;prefix&quot;: &quot;glyphicon&quot;}\n            );\n            marker_7c4bd9b28c31751a83c1bc0d0680966f.setIcon(icon_2911223fc22731f68a81611dc67b2269);\n        \n    \n        var popup_36f80e5bafd2441591e0f3f9bb3c46a8 = L.popup({&quot;maxWidth&quot;: &quot;100%&quot;});\n\n        \n            var html_d50d3f1a40898ff2b26a2664b0d60466 = $(`&lt;div id=&quot;html_d50d3f1a40898ff2b26a2664b0d60466&quot; style=&quot;width: 100.0%; height: 100.0%;&quot;&gt;50&lt;/div&gt;`)[0];\n            popup_36f80e5bafd2441591e0f3f9bb3c46a8.setContent(html_d50d3f1a40898ff2b26a2664b0d60466);\n        \n\n        marker_7c4bd9b28c31751a83c1bc0d0680966f.bindPopup(popup_36f80e5bafd2441591e0f3f9bb3c46a8)\n        ;\n\n        \n    \n    \n            var marker_1a1f7d41cc98f2d60d2bb95a076f3d9b = L.marker(\n                [28.56319718, -80.57682003],\n                {}\n            ).addTo(marker_cluster_c6a6a7a80e7c028561e7b0e944869269);\n        \n    \n            var icon_0ad9a9ad99254726e756191cb88696cd = L.AwesomeMarkers.icon(\n                {&quot;extraClasses&quot;: &quot;fa-rotate-0&quot;, &quot;icon&quot;: &quot;info-sign&quot;, &quot;iconColor&quot;: &quot;white&quot;, &quot;markerColor&quot;: &quot;red&quot;, &quot;prefix&quot;: &quot;glyphicon&quot;}\n            );\n            marker_1a1f7d41cc98f2d60d2bb95a076f3d9b.setIcon(icon_0ad9a9ad99254726e756191cb88696cd);\n        \n    \n        var popup_4366d5abb14401e74841e0379ba81ca0 = L.popup({&quot;maxWidth&quot;: &quot;100%&quot;});\n\n        \n            var html_d3a8385a9a35572ee5e8a846ac77985b = $(`&lt;div id=&quot;html_d3a8385a9a35572ee5e8a846ac77985b&quot; style=&quot;width: 100.0%; height: 100.0%;&quot;&gt;51&lt;/div&gt;`)[0];\n            popup_4366d5abb14401e74841e0379ba81ca0.setContent(html_d3a8385a9a35572ee5e8a846ac77985b);\n        \n\n        marker_1a1f7d41cc98f2d60d2bb95a076f3d9b.bindPopup(popup_4366d5abb14401e74841e0379ba81ca0)\n        ;\n\n        \n    \n    \n            var marker_ae04f230b2dbfd67ad50a8e53938fa8f = L.marker(\n                [28.56319718, -80.57682003],\n                {}\n            ).addTo(marker_cluster_c6a6a7a80e7c028561e7b0e944869269);\n        \n    \n            var icon_fbad658acec14406d396807f853e95a2 = L.AwesomeMarkers.icon(\n                {&quot;extraClasses&quot;: &quot;fa-rotate-0&quot;, &quot;icon&quot;: &quot;info-sign&quot;, &quot;iconColor&quot;: &quot;white&quot;, &quot;markerColor&quot;: &quot;red&quot;, &quot;prefix&quot;: &quot;glyphicon&quot;}\n            );\n            marker_ae04f230b2dbfd67ad50a8e53938fa8f.setIcon(icon_fbad658acec14406d396807f853e95a2);\n        \n    \n        var popup_9b7cff809979355e5bb25d6eb8927f6f = L.popup({&quot;maxWidth&quot;: &quot;100%&quot;});\n\n        \n            var html_ff4da46ad035cd09aac2c8d29ed2da3e = $(`&lt;div id=&quot;html_ff4da46ad035cd09aac2c8d29ed2da3e&quot; style=&quot;width: 100.0%; height: 100.0%;&quot;&gt;52&lt;/div&gt;`)[0];\n            popup_9b7cff809979355e5bb25d6eb8927f6f.setContent(html_ff4da46ad035cd09aac2c8d29ed2da3e);\n        \n\n        marker_ae04f230b2dbfd67ad50a8e53938fa8f.bindPopup(popup_9b7cff809979355e5bb25d6eb8927f6f)\n        ;\n\n        \n    \n    \n            var marker_dce28118b1a50b5115ef75ba5d274da3 = L.marker(\n                [28.56319718, -80.57682003],\n                {}\n            ).addTo(marker_cluster_c6a6a7a80e7c028561e7b0e944869269);\n        \n    \n            var icon_644cd0da5c19355a0f3f8e35bae90312 = L.AwesomeMarkers.icon(\n                {&quot;extraClasses&quot;: &quot;fa-rotate-0&quot;, &quot;icon&quot;: &quot;info-sign&quot;, &quot;iconColor&quot;: &quot;white&quot;, &quot;markerColor&quot;: &quot;red&quot;, &quot;prefix&quot;: &quot;glyphicon&quot;}\n            );\n            marker_dce28118b1a50b5115ef75ba5d274da3.setIcon(icon_644cd0da5c19355a0f3f8e35bae90312);\n        \n    \n        var popup_340d15e7507b2aa4383f45bd40fde063 = L.popup({&quot;maxWidth&quot;: &quot;100%&quot;});\n\n        \n            var html_157aa86e42d08a36fe09c92955533d7a = $(`&lt;div id=&quot;html_157aa86e42d08a36fe09c92955533d7a&quot; style=&quot;width: 100.0%; height: 100.0%;&quot;&gt;53&lt;/div&gt;`)[0];\n            popup_340d15e7507b2aa4383f45bd40fde063.setContent(html_157aa86e42d08a36fe09c92955533d7a);\n        \n\n        marker_dce28118b1a50b5115ef75ba5d274da3.bindPopup(popup_340d15e7507b2aa4383f45bd40fde063)\n        ;\n\n        \n    \n    \n            var marker_d1f593a335cfd773a6b6d1a38ef1a5b1 = L.marker(\n                [28.56319718, -80.57682003],\n                {}\n            ).addTo(marker_cluster_c6a6a7a80e7c028561e7b0e944869269);\n        \n    \n            var icon_367bcca5dad1d2adfa2b7a31002721e2 = L.AwesomeMarkers.icon(\n                {&quot;extraClasses&quot;: &quot;fa-rotate-0&quot;, &quot;icon&quot;: &quot;info-sign&quot;, &quot;iconColor&quot;: &quot;white&quot;, &quot;markerColor&quot;: &quot;green&quot;, &quot;prefix&quot;: &quot;glyphicon&quot;}\n            );\n            marker_d1f593a335cfd773a6b6d1a38ef1a5b1.setIcon(icon_367bcca5dad1d2adfa2b7a31002721e2);\n        \n    \n        var popup_f126e931dc3103f50a2224bc593e5228 = L.popup({&quot;maxWidth&quot;: &quot;100%&quot;});\n\n        \n            var html_7ceb532bee80468784e4583eac54c057 = $(`&lt;div id=&quot;html_7ceb532bee80468784e4583eac54c057&quot; style=&quot;width: 100.0%; height: 100.0%;&quot;&gt;54&lt;/div&gt;`)[0];\n            popup_f126e931dc3103f50a2224bc593e5228.setContent(html_7ceb532bee80468784e4583eac54c057);\n        \n\n        marker_d1f593a335cfd773a6b6d1a38ef1a5b1.bindPopup(popup_f126e931dc3103f50a2224bc593e5228)\n        ;\n\n        \n    \n    \n            var marker_54e130ea27feee430d379b5d0dbde7bb = L.marker(\n                [28.56319718, -80.57682003],\n                {}\n            ).addTo(marker_cluster_c6a6a7a80e7c028561e7b0e944869269);\n        \n    \n            var icon_f2cd9af1dbd2e1a0af9d5224c10ddac1 = L.AwesomeMarkers.icon(\n                {&quot;extraClasses&quot;: &quot;fa-rotate-0&quot;, &quot;icon&quot;: &quot;info-sign&quot;, &quot;iconColor&quot;: &quot;white&quot;, &quot;markerColor&quot;: &quot;red&quot;, &quot;prefix&quot;: &quot;glyphicon&quot;}\n            );\n            marker_54e130ea27feee430d379b5d0dbde7bb.setIcon(icon_f2cd9af1dbd2e1a0af9d5224c10ddac1);\n        \n    \n        var popup_8f645418a98d97111ac4cc1ad792d002 = L.popup({&quot;maxWidth&quot;: &quot;100%&quot;});\n\n        \n            var html_d503969b40099a59efe8703181650ca3 = $(`&lt;div id=&quot;html_d503969b40099a59efe8703181650ca3&quot; style=&quot;width: 100.0%; height: 100.0%;&quot;&gt;55&lt;/div&gt;`)[0];\n            popup_8f645418a98d97111ac4cc1ad792d002.setContent(html_d503969b40099a59efe8703181650ca3);\n        \n\n        marker_54e130ea27feee430d379b5d0dbde7bb.bindPopup(popup_8f645418a98d97111ac4cc1ad792d002)\n        ;\n\n        \n    \n    \n            var mouse_position_b261bc9c6451da44ce55e25d92216312 = new L.Control.MousePosition(\n                {&quot;emptyString&quot;: &quot;NaN&quot;, &quot;lngFirst&quot;: false, &quot;numDigits&quot;: 20, &quot;position&quot;: &quot;topright&quot;, &quot;prefix&quot;: &quot;Lat:&quot;, &quot;separator&quot;: &quot; Long: &quot;}\n            );\n            mouse_position_b261bc9c6451da44ce55e25d92216312.options[&quot;latFormatter&quot;] =\n                function(num) {return L.Util.formatNum(num, 5);};;\n            mouse_position_b261bc9c6451da44ce55e25d92216312.options[&quot;lngFormatter&quot;] =\n                function(num) {return L.Util.formatNum(num, 5);};;\n            map_268b67e61ef56bb219cc3630fa5275e8.addControl(mouse_position_b261bc9c6451da44ce55e25d92216312);\n        \n&lt;/script&gt;\" style=\"position:absolute;width:100%;height:100%;left:0;top:0;border:none !important;\" allowfullscreen webkitallowfullscreen mozallowfullscreen></iframe></div></div>"
     },
     "metadata": {}
    }
   ]
  },
  {
   "cell_type": "markdown",
   "source": "Now zoom in to a launch site and explore its proximity to see if you can easily find any railway, highway, coastline, etc. Move your mouse to these points and mark down their coordinates (shown on the top-left) in order to the distance to the launch site.\n",
   "metadata": {
    "cell_id": "00055-f1e1f6cb-5bff-4888-835b-8192ee06bb34",
    "deepnote_cell_type": "markdown",
    "deepnote_cell_height": 97.1875
   }
  },
  {
   "cell_type": "markdown",
   "source": "You can calculate the distance between two points on the map based on their `Lat` and `Long` values using the following method:\n",
   "metadata": {
    "cell_id": "00056-94db233c-75b2-4fd3-a6ad-b52b51abbbe9",
    "deepnote_cell_type": "markdown",
    "deepnote_cell_height": 74.796875
   }
  },
  {
   "cell_type": "code",
   "metadata": {
    "cell_id": "00057-d6f5cc9b-c262-41d3-8b73-0cd05d671bc5",
    "deepnote_to_be_reexecuted": false,
    "source_hash": "77493d3c",
    "execution_start": 1651531068094,
    "execution_millis": 4,
    "deepnote_cell_type": "code",
    "deepnote_cell_height": 405
   },
   "source": "from math import sin, cos, sqrt, atan2, radians\n\ndef calculate_distance(lat1, lon1, lat2, lon2):\n    # approximate radius of earth in km\n    R = 6373.0\n\n    lat1 = radians(lat1)\n    lon1 = radians(lon1)\n    lat2 = radians(lat2)\n    lon2 = radians(lon2)\n\n    dlon = lon2 - lon1\n    dlat = lat2 - lat1\n\n    a = sin(dlat / 2)**2 + cos(lat1) * cos(lat2) * sin(dlon / 2)**2\n    c = 2 * atan2(sqrt(a), sqrt(1 - a))\n\n    distance = R * c\n    return distance",
   "execution_count": 20,
   "outputs": []
  },
  {
   "cell_type": "markdown",
   "source": "*TODO:* Mark down a point on the closest coastline using MousePosition and calculate the distance between the coastline point and the launch site.\n",
   "metadata": {
    "cell_id": "00058-a51f65ac-d0eb-4f0e-b8b9-6218f6331e1b",
    "deepnote_cell_type": "markdown",
    "deepnote_cell_height": 74.796875
   }
  },
  {
   "cell_type": "code",
   "metadata": {
    "cell_id": "00059-7af37f4c-42e6-4c76-a3be-44eed3accede",
    "deepnote_to_be_reexecuted": false,
    "source_hash": "f9b665aa",
    "execution_start": 1651531068099,
    "execution_millis": 46,
    "deepnote_cell_type": "code",
    "deepnote_cell_height": 262.1875,
    "deepnote_output_heights": [
     21.1875
    ]
   },
   "source": "# find coordinate of the closet coastline\nlaunch_site_lat=spacex_df.loc[49,'Lat']\nlaunch_site_lon=spacex_df.loc[49,'Long']\ncoastline_lat= 28.56367  \ncoastline_lon= -80.57163\n\n\ndistance_coastline = calculate_distance(launch_site_lat, launch_site_lon, coastline_lat, coastline_lon)\ndistance_coastline",
   "execution_count": 21,
   "outputs": [
    {
     "output_type": "execute_result",
     "execution_count": 21,
     "data": {
      "text/plain": "0.5097439631188213"
     },
     "metadata": {}
    }
   ]
  },
  {
   "cell_type": "markdown",
   "source": "*TODO:* After obtained its coordinate, create a `folium.Marker` to show the distance\n",
   "metadata": {
    "cell_id": "00060-b18a2e97-ad03-4930-9dd0-f6a553dc9488",
    "deepnote_cell_type": "markdown",
    "deepnote_cell_height": 52.390625
   }
  },
  {
   "cell_type": "code",
   "metadata": {
    "cell_id": "00061-878e9be7-e33f-49bd-85e1-e612c9c367d9",
    "deepnote_to_be_reexecuted": false,
    "source_hash": "3e69e72d",
    "execution_start": 1651531113652,
    "execution_millis": 3,
    "deepnote_cell_type": "code",
    "deepnote_cell_height": 261
   },
   "source": "# Create and add a folium.Marker on your selected closest coastline point on the map\n# Display the distance between coastline point and launch site using the icon property \n# for example\ndistance_marker = folium.Marker(\n    [coastline_lat,coastline_lon],\n    icon=DivIcon(\n        icon_size=(20,20),\n        icon_anchor=(0,0),\n        html='<div style=\"font-size: 12; color:#d35400;\"><b>%s</b></div>' % \"{:10.2f} KM\".format(distance_coastline),\n        )\n    )",
   "execution_count": 23,
   "outputs": []
  },
  {
   "cell_type": "markdown",
   "source": "*TODO:* Draw a `PolyLine` between a launch site to the selected coastline point\n",
   "metadata": {
    "cell_id": "00062-292c9c7d-2773-4ae1-8f2f-76cbcb2f6ac5",
    "deepnote_cell_type": "markdown",
    "deepnote_cell_height": 52.390625
   }
  },
  {
   "cell_type": "code",
   "metadata": {
    "cell_id": "00063-f0a9594b-b681-408e-8fbd-2588da59e44c",
    "deepnote_to_be_reexecuted": false,
    "source_hash": "9b0eacdf",
    "execution_start": 1651531128253,
    "execution_millis": 6,
    "deepnote_cell_type": "code",
    "deepnote_cell_height": 574.1875,
    "deepnote_output_heights": [
     441.1875
    ]
   },
   "source": "# Create a `folium.PolyLine` object using the coastline coordinates and launch site coordinate\nlines=folium.PolyLine(locations=[[launch_site_lat,launch_site_lon],[coastline_lat,coastline_lon]], weight=1)\nsite_map.add_child(lines)",
   "execution_count": 25,
   "outputs": [
    {
     "output_type": "execute_result",
     "execution_count": 25,
     "data": {
      "text/plain": "<folium.folium.Map at 0x7f7710be50d0>",
      "text/html": "<div style=\"width:100%;\"><div style=\"position:relative;width:100%;height:0;padding-bottom:60%;\"><span style=\"color:#565656\">Make this Notebook Trusted to load map: File -> Trust Notebook</span><iframe srcdoc=\"&lt;!DOCTYPE html&gt;\n&lt;head&gt;    \n    &lt;meta http-equiv=&quot;content-type&quot; content=&quot;text/html; charset=UTF-8&quot; /&gt;\n    \n        &lt;script&gt;\n            L_NO_TOUCH = false;\n            L_DISABLE_3D = false;\n        &lt;/script&gt;\n    \n    &lt;style&gt;html, body {width: 100%;height: 100%;margin: 0;padding: 0;}&lt;/style&gt;\n    &lt;style&gt;#map {position:absolute;top:0;bottom:0;right:0;left:0;}&lt;/style&gt;\n    &lt;script src=&quot;https://cdn.jsdelivr.net/npm/leaflet@1.6.0/dist/leaflet.js&quot;&gt;&lt;/script&gt;\n    &lt;script src=&quot;https://code.jquery.com/jquery-1.12.4.min.js&quot;&gt;&lt;/script&gt;\n    &lt;script src=&quot;https://maxcdn.bootstrapcdn.com/bootstrap/3.2.0/js/bootstrap.min.js&quot;&gt;&lt;/script&gt;\n    &lt;script src=&quot;https://cdnjs.cloudflare.com/ajax/libs/Leaflet.awesome-markers/2.0.2/leaflet.awesome-markers.js&quot;&gt;&lt;/script&gt;\n    &lt;link rel=&quot;stylesheet&quot; href=&quot;https://cdn.jsdelivr.net/npm/leaflet@1.6.0/dist/leaflet.css&quot;/&gt;\n    &lt;link rel=&quot;stylesheet&quot; href=&quot;https://maxcdn.bootstrapcdn.com/bootstrap/3.2.0/css/bootstrap.min.css&quot;/&gt;\n    &lt;link rel=&quot;stylesheet&quot; href=&quot;https://maxcdn.bootstrapcdn.com/bootstrap/3.2.0/css/bootstrap-theme.min.css&quot;/&gt;\n    &lt;link rel=&quot;stylesheet&quot; href=&quot;https://maxcdn.bootstrapcdn.com/font-awesome/4.6.3/css/font-awesome.min.css&quot;/&gt;\n    &lt;link rel=&quot;stylesheet&quot; href=&quot;https://cdnjs.cloudflare.com/ajax/libs/Leaflet.awesome-markers/2.0.2/leaflet.awesome-markers.css&quot;/&gt;\n    &lt;link rel=&quot;stylesheet&quot; href=&quot;https://cdn.jsdelivr.net/gh/python-visualization/folium/folium/templates/leaflet.awesome.rotate.min.css&quot;/&gt;\n    \n            &lt;meta name=&quot;viewport&quot; content=&quot;width=device-width,\n                initial-scale=1.0, maximum-scale=1.0, user-scalable=no&quot; /&gt;\n            &lt;style&gt;\n                #map_268b67e61ef56bb219cc3630fa5275e8 {\n                    position: relative;\n                    width: 100.0%;\n                    height: 100.0%;\n                    left: 0.0%;\n                    top: 0.0%;\n                }\n            &lt;/style&gt;\n        \n    &lt;script src=&quot;https://cdnjs.cloudflare.com/ajax/libs/leaflet.markercluster/1.1.0/leaflet.markercluster.js&quot;&gt;&lt;/script&gt;\n    &lt;link rel=&quot;stylesheet&quot; href=&quot;https://cdnjs.cloudflare.com/ajax/libs/leaflet.markercluster/1.1.0/MarkerCluster.css&quot;/&gt;\n    &lt;link rel=&quot;stylesheet&quot; href=&quot;https://cdnjs.cloudflare.com/ajax/libs/leaflet.markercluster/1.1.0/MarkerCluster.Default.css&quot;/&gt;\n    &lt;script src=&quot;https://cdn.jsdelivr.net/gh/ardhi/Leaflet.MousePosition/src/L.Control.MousePosition.min.js&quot;&gt;&lt;/script&gt;\n    &lt;link rel=&quot;stylesheet&quot; href=&quot;https://cdn.jsdelivr.net/gh/ardhi/Leaflet.MousePosition/src/L.Control.MousePosition.min.css&quot;/&gt;\n&lt;/head&gt;\n&lt;body&gt;    \n    \n            &lt;div class=&quot;folium-map&quot; id=&quot;map_268b67e61ef56bb219cc3630fa5275e8&quot; &gt;&lt;/div&gt;\n        \n&lt;/body&gt;\n&lt;script&gt;    \n    \n            var map_268b67e61ef56bb219cc3630fa5275e8 = L.map(\n                &quot;map_268b67e61ef56bb219cc3630fa5275e8&quot;,\n                {\n                    center: [29.559684888503615, -95.0830971930759],\n                    crs: L.CRS.EPSG3857,\n                    zoom: 5,\n                    zoomControl: true,\n                    preferCanvas: false,\n                }\n            );\n\n            \n\n        \n    \n            var tile_layer_a59fde23c5e7ac15442604a4e587fba1 = L.tileLayer(\n                &quot;https://{s}.tile.openstreetmap.org/{z}/{x}/{y}.png&quot;,\n                {&quot;attribution&quot;: &quot;Data by \\u0026copy; \\u003ca href=\\&quot;http://openstreetmap.org\\&quot;\\u003eOpenStreetMap\\u003c/a\\u003e, under \\u003ca href=\\&quot;http://www.openstreetmap.org/copyright\\&quot;\\u003eODbL\\u003c/a\\u003e.&quot;, &quot;detectRetina&quot;: false, &quot;maxNativeZoom&quot;: 18, &quot;maxZoom&quot;: 18, &quot;minZoom&quot;: 0, &quot;noWrap&quot;: false, &quot;opacity&quot;: 1, &quot;subdomains&quot;: &quot;abc&quot;, &quot;tms&quot;: false}\n            ).addTo(map_268b67e61ef56bb219cc3630fa5275e8);\n        \n    \n            var circle_7e350abc0248e4d63860fcdee5229933 = L.circle(\n                [28.56230197, -80.57735648],\n                {&quot;bubblingMouseEvents&quot;: true, &quot;color&quot;: &quot;#d35400&quot;, &quot;dashArray&quot;: null, &quot;dashOffset&quot;: null, &quot;fill&quot;: true, &quot;fillColor&quot;: &quot;#d35400&quot;, &quot;fillOpacity&quot;: 0.2, &quot;fillRule&quot;: &quot;evenodd&quot;, &quot;lineCap&quot;: &quot;round&quot;, &quot;lineJoin&quot;: &quot;round&quot;, &quot;opacity&quot;: 1.0, &quot;radius&quot;: 1000, &quot;stroke&quot;: true, &quot;weight&quot;: 3}\n            ).addTo(map_268b67e61ef56bb219cc3630fa5275e8);\n        \n    \n        var popup_a4696e19199f1fd06500f6c64ae23186 = L.popup({&quot;maxWidth&quot;: &quot;100%&quot;});\n\n        \n            var html_ec4e65d7c471166e23c29bb3ed8ebd4b = $(`&lt;div id=&quot;html_ec4e65d7c471166e23c29bb3ed8ebd4b&quot; style=&quot;width: 100.0%; height: 100.0%;&quot;&gt;CCAFS LC-40&lt;/div&gt;`)[0];\n            popup_a4696e19199f1fd06500f6c64ae23186.setContent(html_ec4e65d7c471166e23c29bb3ed8ebd4b);\n        \n\n        circle_7e350abc0248e4d63860fcdee5229933.bindPopup(popup_a4696e19199f1fd06500f6c64ae23186)\n        ;\n\n        \n    \n    \n            var circle_5f0e8648efdd3f30b2abf21711fffde6 = L.circle(\n                [28.56319718, -80.57682003],\n                {&quot;bubblingMouseEvents&quot;: true, &quot;color&quot;: &quot;#d35400&quot;, &quot;dashArray&quot;: null, &quot;dashOffset&quot;: null, &quot;fill&quot;: true, &quot;fillColor&quot;: &quot;#d35400&quot;, &quot;fillOpacity&quot;: 0.2, &quot;fillRule&quot;: &quot;evenodd&quot;, &quot;lineCap&quot;: &quot;round&quot;, &quot;lineJoin&quot;: &quot;round&quot;, &quot;opacity&quot;: 1.0, &quot;radius&quot;: 1000, &quot;stroke&quot;: true, &quot;weight&quot;: 3}\n            ).addTo(map_268b67e61ef56bb219cc3630fa5275e8);\n        \n    \n        var popup_f6daea7c0108c07eb74a2af2e9a06b49 = L.popup({&quot;maxWidth&quot;: &quot;100%&quot;});\n\n        \n            var html_1bb4be7c10ab0a65e593a56e1dc246b7 = $(`&lt;div id=&quot;html_1bb4be7c10ab0a65e593a56e1dc246b7&quot; style=&quot;width: 100.0%; height: 100.0%;&quot;&gt;CCAFS SLC-40&lt;/div&gt;`)[0];\n            popup_f6daea7c0108c07eb74a2af2e9a06b49.setContent(html_1bb4be7c10ab0a65e593a56e1dc246b7);\n        \n\n        circle_5f0e8648efdd3f30b2abf21711fffde6.bindPopup(popup_f6daea7c0108c07eb74a2af2e9a06b49)\n        ;\n\n        \n    \n    \n            var circle_0f92b99d20e1d2edb5d83c41fcc2caaa = L.circle(\n                [28.57325457, -80.64689529],\n                {&quot;bubblingMouseEvents&quot;: true, &quot;color&quot;: &quot;#d35400&quot;, &quot;dashArray&quot;: null, &quot;dashOffset&quot;: null, &quot;fill&quot;: true, &quot;fillColor&quot;: &quot;#d35400&quot;, &quot;fillOpacity&quot;: 0.2, &quot;fillRule&quot;: &quot;evenodd&quot;, &quot;lineCap&quot;: &quot;round&quot;, &quot;lineJoin&quot;: &quot;round&quot;, &quot;opacity&quot;: 1.0, &quot;radius&quot;: 1000, &quot;stroke&quot;: true, &quot;weight&quot;: 3}\n            ).addTo(map_268b67e61ef56bb219cc3630fa5275e8);\n        \n    \n        var popup_fc1e45ca5f7d571f8903fc01f4ba97dd = L.popup({&quot;maxWidth&quot;: &quot;100%&quot;});\n\n        \n            var html_5e28f9680f3a80780eaf8ed3b07c087a = $(`&lt;div id=&quot;html_5e28f9680f3a80780eaf8ed3b07c087a&quot; style=&quot;width: 100.0%; height: 100.0%;&quot;&gt;KSC LC-39A&lt;/div&gt;`)[0];\n            popup_fc1e45ca5f7d571f8903fc01f4ba97dd.setContent(html_5e28f9680f3a80780eaf8ed3b07c087a);\n        \n\n        circle_0f92b99d20e1d2edb5d83c41fcc2caaa.bindPopup(popup_fc1e45ca5f7d571f8903fc01f4ba97dd)\n        ;\n\n        \n    \n    \n            var circle_4654fe6585cd272558989ce1274b7b04 = L.circle(\n                [34.63283416, -120.6107455],\n                {&quot;bubblingMouseEvents&quot;: true, &quot;color&quot;: &quot;#d35400&quot;, &quot;dashArray&quot;: null, &quot;dashOffset&quot;: null, &quot;fill&quot;: true, &quot;fillColor&quot;: &quot;#d35400&quot;, &quot;fillOpacity&quot;: 0.2, &quot;fillRule&quot;: &quot;evenodd&quot;, &quot;lineCap&quot;: &quot;round&quot;, &quot;lineJoin&quot;: &quot;round&quot;, &quot;opacity&quot;: 1.0, &quot;radius&quot;: 1000, &quot;stroke&quot;: true, &quot;weight&quot;: 3}\n            ).addTo(map_268b67e61ef56bb219cc3630fa5275e8);\n        \n    \n        var popup_31d4028a767a6c9dbf386e7f2887fa19 = L.popup({&quot;maxWidth&quot;: &quot;100%&quot;});\n\n        \n            var html_c30aa68b00ed035d0767c8351c131f85 = $(`&lt;div id=&quot;html_c30aa68b00ed035d0767c8351c131f85&quot; style=&quot;width: 100.0%; height: 100.0%;&quot;&gt;VAFB SLC-4E&lt;/div&gt;`)[0];\n            popup_31d4028a767a6c9dbf386e7f2887fa19.setContent(html_c30aa68b00ed035d0767c8351c131f85);\n        \n\n        circle_4654fe6585cd272558989ce1274b7b04.bindPopup(popup_31d4028a767a6c9dbf386e7f2887fa19)\n        ;\n\n        \n    \n    \n            var marker_5bd35dfa2de95b34d12ab6de0e4eb0b8 = L.marker(\n                [28.56230197, -80.57735648],\n                {}\n            ).addTo(map_268b67e61ef56bb219cc3630fa5275e8);\n        \n    \n            var div_icon_251b62da8230f8c4109fefb1c0b27fd6 = L.divIcon({&quot;className&quot;: &quot;empty&quot;, &quot;html&quot;: &quot;\\u003cdiv style=\\&quot;font-size: 12; color:#d35400;\\&quot;\\u003e\\u003cb\\u003eCCAFS LC-40\\u003c/b\\u003e\\u003c/div\\u003e&quot;, &quot;iconAnchor&quot;: [0, 0], &quot;iconSize&quot;: [20, 20]});\n            marker_5bd35dfa2de95b34d12ab6de0e4eb0b8.setIcon(div_icon_251b62da8230f8c4109fefb1c0b27fd6);\n        \n    \n            var marker_8f6c13dc92518708e0f9d2a32a4a637e = L.marker(\n                [28.56319718, -80.57682003],\n                {}\n            ).addTo(map_268b67e61ef56bb219cc3630fa5275e8);\n        \n    \n            var div_icon_c32a9035aa49be79c4552eef746314d9 = L.divIcon({&quot;className&quot;: &quot;empty&quot;, &quot;html&quot;: &quot;\\u003cdiv style=\\&quot;font-size: 12; color:#d35400;\\&quot;\\u003e\\u003cb\\u003eCCAFS SLC-40\\u003c/b\\u003e\\u003c/div\\u003e&quot;, &quot;iconAnchor&quot;: [0, 0], &quot;iconSize&quot;: [20, 20]});\n            marker_8f6c13dc92518708e0f9d2a32a4a637e.setIcon(div_icon_c32a9035aa49be79c4552eef746314d9);\n        \n    \n            var marker_531a33a2177c1631b14c3ecfd9d87482 = L.marker(\n                [28.57325457, -80.64689529],\n                {}\n            ).addTo(map_268b67e61ef56bb219cc3630fa5275e8);\n        \n    \n            var div_icon_d05bab279b9b55f7965ad856e21d36d6 = L.divIcon({&quot;className&quot;: &quot;empty&quot;, &quot;html&quot;: &quot;\\u003cdiv style=\\&quot;font-size: 12; color:#d35400;\\&quot;\\u003e\\u003cb\\u003eKSC LC-39A\\u003c/b\\u003e\\u003c/div\\u003e&quot;, &quot;iconAnchor&quot;: [0, 0], &quot;iconSize&quot;: [20, 20]});\n            marker_531a33a2177c1631b14c3ecfd9d87482.setIcon(div_icon_d05bab279b9b55f7965ad856e21d36d6);\n        \n    \n            var marker_7e1e2c335ef43344e4b9b2abb408e05c = L.marker(\n                [34.63283416, -120.6107455],\n                {}\n            ).addTo(map_268b67e61ef56bb219cc3630fa5275e8);\n        \n    \n            var div_icon_4d5fa2fbdec5f1c9fab1851dc1f1df07 = L.divIcon({&quot;className&quot;: &quot;empty&quot;, &quot;html&quot;: &quot;\\u003cdiv style=\\&quot;font-size: 12; color:#d35400;\\&quot;\\u003e\\u003cb\\u003eVAFB SLC-4E\\u003c/b\\u003e\\u003c/div\\u003e&quot;, &quot;iconAnchor&quot;: [0, 0], &quot;iconSize&quot;: [20, 20]});\n            marker_7e1e2c335ef43344e4b9b2abb408e05c.setIcon(div_icon_4d5fa2fbdec5f1c9fab1851dc1f1df07);\n        \n    \n            var marker_cluster_c6a6a7a80e7c028561e7b0e944869269 = L.markerClusterGroup(\n                {}\n            );\n            map_268b67e61ef56bb219cc3630fa5275e8.addLayer(marker_cluster_c6a6a7a80e7c028561e7b0e944869269);\n        \n    \n            var marker_c0e088ce57004ebd121ef03a4e41f601 = L.marker(\n                [28.56230197, -80.57735648],\n                {}\n            ).addTo(marker_cluster_c6a6a7a80e7c028561e7b0e944869269);\n        \n    \n            var icon_cc9b88aa2572ec60c7f99272955313bc = L.AwesomeMarkers.icon(\n                {&quot;extraClasses&quot;: &quot;fa-rotate-0&quot;, &quot;icon&quot;: &quot;info-sign&quot;, &quot;iconColor&quot;: &quot;white&quot;, &quot;markerColor&quot;: &quot;red&quot;, &quot;prefix&quot;: &quot;glyphicon&quot;}\n            );\n            marker_c0e088ce57004ebd121ef03a4e41f601.setIcon(icon_cc9b88aa2572ec60c7f99272955313bc);\n        \n    \n        var popup_a4cc957fc6be2473aaef191cdeeb0e46 = L.popup({&quot;maxWidth&quot;: &quot;100%&quot;});\n\n        \n            var html_062f37b92eb18b31a9e9aa55ef56e947 = $(`&lt;div id=&quot;html_062f37b92eb18b31a9e9aa55ef56e947&quot; style=&quot;width: 100.0%; height: 100.0%;&quot;&gt;0&lt;/div&gt;`)[0];\n            popup_a4cc957fc6be2473aaef191cdeeb0e46.setContent(html_062f37b92eb18b31a9e9aa55ef56e947);\n        \n\n        marker_c0e088ce57004ebd121ef03a4e41f601.bindPopup(popup_a4cc957fc6be2473aaef191cdeeb0e46)\n        ;\n\n        \n    \n    \n            var marker_f517e1d14cb8fc5671a95a1c2a7329c9 = L.marker(\n                [28.56230197, -80.57735648],\n                {}\n            ).addTo(marker_cluster_c6a6a7a80e7c028561e7b0e944869269);\n        \n    \n            var icon_7310367ea6432cd8dfdfadfd268007cf = L.AwesomeMarkers.icon(\n                {&quot;extraClasses&quot;: &quot;fa-rotate-0&quot;, &quot;icon&quot;: &quot;info-sign&quot;, &quot;iconColor&quot;: &quot;white&quot;, &quot;markerColor&quot;: &quot;red&quot;, &quot;prefix&quot;: &quot;glyphicon&quot;}\n            );\n            marker_f517e1d14cb8fc5671a95a1c2a7329c9.setIcon(icon_7310367ea6432cd8dfdfadfd268007cf);\n        \n    \n        var popup_d650d07cd549cd864dd68cdeb29bd1a2 = L.popup({&quot;maxWidth&quot;: &quot;100%&quot;});\n\n        \n            var html_7a83bcce90bcaf2516f2c525452b8c74 = $(`&lt;div id=&quot;html_7a83bcce90bcaf2516f2c525452b8c74&quot; style=&quot;width: 100.0%; height: 100.0%;&quot;&gt;1&lt;/div&gt;`)[0];\n            popup_d650d07cd549cd864dd68cdeb29bd1a2.setContent(html_7a83bcce90bcaf2516f2c525452b8c74);\n        \n\n        marker_f517e1d14cb8fc5671a95a1c2a7329c9.bindPopup(popup_d650d07cd549cd864dd68cdeb29bd1a2)\n        ;\n\n        \n    \n    \n            var marker_637471d5a047504a826e0efb9288b564 = L.marker(\n                [28.56230197, -80.57735648],\n                {}\n            ).addTo(marker_cluster_c6a6a7a80e7c028561e7b0e944869269);\n        \n    \n            var icon_ffa0a558284057613f25e1b16c185418 = L.AwesomeMarkers.icon(\n                {&quot;extraClasses&quot;: &quot;fa-rotate-0&quot;, &quot;icon&quot;: &quot;info-sign&quot;, &quot;iconColor&quot;: &quot;white&quot;, &quot;markerColor&quot;: &quot;red&quot;, &quot;prefix&quot;: &quot;glyphicon&quot;}\n            );\n            marker_637471d5a047504a826e0efb9288b564.setIcon(icon_ffa0a558284057613f25e1b16c185418);\n        \n    \n        var popup_e4898a5ff527c105a3a836d0291dd993 = L.popup({&quot;maxWidth&quot;: &quot;100%&quot;});\n\n        \n            var html_8cf77eaa6d1d77b0a366c086fd7519af = $(`&lt;div id=&quot;html_8cf77eaa6d1d77b0a366c086fd7519af&quot; style=&quot;width: 100.0%; height: 100.0%;&quot;&gt;2&lt;/div&gt;`)[0];\n            popup_e4898a5ff527c105a3a836d0291dd993.setContent(html_8cf77eaa6d1d77b0a366c086fd7519af);\n        \n\n        marker_637471d5a047504a826e0efb9288b564.bindPopup(popup_e4898a5ff527c105a3a836d0291dd993)\n        ;\n\n        \n    \n    \n            var marker_30e2447f239f15382ecda8a3433b7011 = L.marker(\n                [28.56230197, -80.57735648],\n                {}\n            ).addTo(marker_cluster_c6a6a7a80e7c028561e7b0e944869269);\n        \n    \n            var icon_2b1b7441f07621dc97af553260c3d339 = L.AwesomeMarkers.icon(\n                {&quot;extraClasses&quot;: &quot;fa-rotate-0&quot;, &quot;icon&quot;: &quot;info-sign&quot;, &quot;iconColor&quot;: &quot;white&quot;, &quot;markerColor&quot;: &quot;red&quot;, &quot;prefix&quot;: &quot;glyphicon&quot;}\n            );\n            marker_30e2447f239f15382ecda8a3433b7011.setIcon(icon_2b1b7441f07621dc97af553260c3d339);\n        \n    \n        var popup_13175dffb82a757beee8ddd56d9e7b8c = L.popup({&quot;maxWidth&quot;: &quot;100%&quot;});\n\n        \n            var html_a46027a84c0f1e1d4e86f6febe8917b4 = $(`&lt;div id=&quot;html_a46027a84c0f1e1d4e86f6febe8917b4&quot; style=&quot;width: 100.0%; height: 100.0%;&quot;&gt;3&lt;/div&gt;`)[0];\n            popup_13175dffb82a757beee8ddd56d9e7b8c.setContent(html_a46027a84c0f1e1d4e86f6febe8917b4);\n        \n\n        marker_30e2447f239f15382ecda8a3433b7011.bindPopup(popup_13175dffb82a757beee8ddd56d9e7b8c)\n        ;\n\n        \n    \n    \n            var marker_1943c6c58f38278fcce0d2ebc57bc619 = L.marker(\n                [28.56230197, -80.57735648],\n                {}\n            ).addTo(marker_cluster_c6a6a7a80e7c028561e7b0e944869269);\n        \n    \n            var icon_4039a3ab222229a96aa03746a008c2c1 = L.AwesomeMarkers.icon(\n                {&quot;extraClasses&quot;: &quot;fa-rotate-0&quot;, &quot;icon&quot;: &quot;info-sign&quot;, &quot;iconColor&quot;: &quot;white&quot;, &quot;markerColor&quot;: &quot;red&quot;, &quot;prefix&quot;: &quot;glyphicon&quot;}\n            );\n            marker_1943c6c58f38278fcce0d2ebc57bc619.setIcon(icon_4039a3ab222229a96aa03746a008c2c1);\n        \n    \n        var popup_8db22b85096d771b73c1ede0beb710c2 = L.popup({&quot;maxWidth&quot;: &quot;100%&quot;});\n\n        \n            var html_04714d51557e7b1a51ffb6266511ac8d = $(`&lt;div id=&quot;html_04714d51557e7b1a51ffb6266511ac8d&quot; style=&quot;width: 100.0%; height: 100.0%;&quot;&gt;4&lt;/div&gt;`)[0];\n            popup_8db22b85096d771b73c1ede0beb710c2.setContent(html_04714d51557e7b1a51ffb6266511ac8d);\n        \n\n        marker_1943c6c58f38278fcce0d2ebc57bc619.bindPopup(popup_8db22b85096d771b73c1ede0beb710c2)\n        ;\n\n        \n    \n    \n            var marker_cc9523c5380181b8828086d926991663 = L.marker(\n                [28.56230197, -80.57735648],\n                {}\n            ).addTo(marker_cluster_c6a6a7a80e7c028561e7b0e944869269);\n        \n    \n            var icon_b051b81900f4143f00f7ce969e65ac7c = L.AwesomeMarkers.icon(\n                {&quot;extraClasses&quot;: &quot;fa-rotate-0&quot;, &quot;icon&quot;: &quot;info-sign&quot;, &quot;iconColor&quot;: &quot;white&quot;, &quot;markerColor&quot;: &quot;red&quot;, &quot;prefix&quot;: &quot;glyphicon&quot;}\n            );\n            marker_cc9523c5380181b8828086d926991663.setIcon(icon_b051b81900f4143f00f7ce969e65ac7c);\n        \n    \n        var popup_86625d49e4782cc24ec649089f76cac5 = L.popup({&quot;maxWidth&quot;: &quot;100%&quot;});\n\n        \n            var html_5a86601856f9baa799e5ed9d6f994f2e = $(`&lt;div id=&quot;html_5a86601856f9baa799e5ed9d6f994f2e&quot; style=&quot;width: 100.0%; height: 100.0%;&quot;&gt;5&lt;/div&gt;`)[0];\n            popup_86625d49e4782cc24ec649089f76cac5.setContent(html_5a86601856f9baa799e5ed9d6f994f2e);\n        \n\n        marker_cc9523c5380181b8828086d926991663.bindPopup(popup_86625d49e4782cc24ec649089f76cac5)\n        ;\n\n        \n    \n    \n            var marker_cd353380b2033c47d516ff979266bb59 = L.marker(\n                [28.56230197, -80.57735648],\n                {}\n            ).addTo(marker_cluster_c6a6a7a80e7c028561e7b0e944869269);\n        \n    \n            var icon_9b7c742ad0adebe698dc8608ad609aa6 = L.AwesomeMarkers.icon(\n                {&quot;extraClasses&quot;: &quot;fa-rotate-0&quot;, &quot;icon&quot;: &quot;info-sign&quot;, &quot;iconColor&quot;: &quot;white&quot;, &quot;markerColor&quot;: &quot;red&quot;, &quot;prefix&quot;: &quot;glyphicon&quot;}\n            );\n            marker_cd353380b2033c47d516ff979266bb59.setIcon(icon_9b7c742ad0adebe698dc8608ad609aa6);\n        \n    \n        var popup_35688a0058a376ec6342f584b7118eff = L.popup({&quot;maxWidth&quot;: &quot;100%&quot;});\n\n        \n            var html_06966c0118c8986bb8b945375b44d65b = $(`&lt;div id=&quot;html_06966c0118c8986bb8b945375b44d65b&quot; style=&quot;width: 100.0%; height: 100.0%;&quot;&gt;6&lt;/div&gt;`)[0];\n            popup_35688a0058a376ec6342f584b7118eff.setContent(html_06966c0118c8986bb8b945375b44d65b);\n        \n\n        marker_cd353380b2033c47d516ff979266bb59.bindPopup(popup_35688a0058a376ec6342f584b7118eff)\n        ;\n\n        \n    \n    \n            var marker_843bfc9ddc43cc030455e401b5b75c57 = L.marker(\n                [28.56230197, -80.57735648],\n                {}\n            ).addTo(marker_cluster_c6a6a7a80e7c028561e7b0e944869269);\n        \n    \n            var icon_0ea4bb41cc4d6b07ea2feb389967f1be = L.AwesomeMarkers.icon(\n                {&quot;extraClasses&quot;: &quot;fa-rotate-0&quot;, &quot;icon&quot;: &quot;info-sign&quot;, &quot;iconColor&quot;: &quot;white&quot;, &quot;markerColor&quot;: &quot;red&quot;, &quot;prefix&quot;: &quot;glyphicon&quot;}\n            );\n            marker_843bfc9ddc43cc030455e401b5b75c57.setIcon(icon_0ea4bb41cc4d6b07ea2feb389967f1be);\n        \n    \n        var popup_438bd1bb05ea5002821919c8a9892c6a = L.popup({&quot;maxWidth&quot;: &quot;100%&quot;});\n\n        \n            var html_9a203c321186b74519afadc2a03bc6cb = $(`&lt;div id=&quot;html_9a203c321186b74519afadc2a03bc6cb&quot; style=&quot;width: 100.0%; height: 100.0%;&quot;&gt;7&lt;/div&gt;`)[0];\n            popup_438bd1bb05ea5002821919c8a9892c6a.setContent(html_9a203c321186b74519afadc2a03bc6cb);\n        \n\n        marker_843bfc9ddc43cc030455e401b5b75c57.bindPopup(popup_438bd1bb05ea5002821919c8a9892c6a)\n        ;\n\n        \n    \n    \n            var marker_1774165950f33c38fed0dc0c39ef9395 = L.marker(\n                [28.56230197, -80.57735648],\n                {}\n            ).addTo(marker_cluster_c6a6a7a80e7c028561e7b0e944869269);\n        \n    \n            var icon_decb53ee3ec0ddf684088d54049d3984 = L.AwesomeMarkers.icon(\n                {&quot;extraClasses&quot;: &quot;fa-rotate-0&quot;, &quot;icon&quot;: &quot;info-sign&quot;, &quot;iconColor&quot;: &quot;white&quot;, &quot;markerColor&quot;: &quot;red&quot;, &quot;prefix&quot;: &quot;glyphicon&quot;}\n            );\n            marker_1774165950f33c38fed0dc0c39ef9395.setIcon(icon_decb53ee3ec0ddf684088d54049d3984);\n        \n    \n        var popup_42cc65c61f4dc36d356dffe10cd8f732 = L.popup({&quot;maxWidth&quot;: &quot;100%&quot;});\n\n        \n            var html_63f10908ee6e7876799d8af0bc11e81c = $(`&lt;div id=&quot;html_63f10908ee6e7876799d8af0bc11e81c&quot; style=&quot;width: 100.0%; height: 100.0%;&quot;&gt;8&lt;/div&gt;`)[0];\n            popup_42cc65c61f4dc36d356dffe10cd8f732.setContent(html_63f10908ee6e7876799d8af0bc11e81c);\n        \n\n        marker_1774165950f33c38fed0dc0c39ef9395.bindPopup(popup_42cc65c61f4dc36d356dffe10cd8f732)\n        ;\n\n        \n    \n    \n            var marker_3856769a61168fa13f099e525c5ba4d2 = L.marker(\n                [28.56230197, -80.57735648],\n                {}\n            ).addTo(marker_cluster_c6a6a7a80e7c028561e7b0e944869269);\n        \n    \n            var icon_e89effae2615a64b47c5f7965b2deacc = L.AwesomeMarkers.icon(\n                {&quot;extraClasses&quot;: &quot;fa-rotate-0&quot;, &quot;icon&quot;: &quot;info-sign&quot;, &quot;iconColor&quot;: &quot;white&quot;, &quot;markerColor&quot;: &quot;red&quot;, &quot;prefix&quot;: &quot;glyphicon&quot;}\n            );\n            marker_3856769a61168fa13f099e525c5ba4d2.setIcon(icon_e89effae2615a64b47c5f7965b2deacc);\n        \n    \n        var popup_2ed56a6bdf83f6c3222eb6ebbba9b83d = L.popup({&quot;maxWidth&quot;: &quot;100%&quot;});\n\n        \n            var html_2f6cf44cdfa24beeff427cda0bcb731b = $(`&lt;div id=&quot;html_2f6cf44cdfa24beeff427cda0bcb731b&quot; style=&quot;width: 100.0%; height: 100.0%;&quot;&gt;9&lt;/div&gt;`)[0];\n            popup_2ed56a6bdf83f6c3222eb6ebbba9b83d.setContent(html_2f6cf44cdfa24beeff427cda0bcb731b);\n        \n\n        marker_3856769a61168fa13f099e525c5ba4d2.bindPopup(popup_2ed56a6bdf83f6c3222eb6ebbba9b83d)\n        ;\n\n        \n    \n    \n            var marker_5f6fb736f81ac42f0e2de63aa85ab402 = L.marker(\n                [28.56230197, -80.57735648],\n                {}\n            ).addTo(marker_cluster_c6a6a7a80e7c028561e7b0e944869269);\n        \n    \n            var icon_0a6a25ffdb876e365b40b8d0267b5e5b = L.AwesomeMarkers.icon(\n                {&quot;extraClasses&quot;: &quot;fa-rotate-0&quot;, &quot;icon&quot;: &quot;info-sign&quot;, &quot;iconColor&quot;: &quot;white&quot;, &quot;markerColor&quot;: &quot;red&quot;, &quot;prefix&quot;: &quot;glyphicon&quot;}\n            );\n            marker_5f6fb736f81ac42f0e2de63aa85ab402.setIcon(icon_0a6a25ffdb876e365b40b8d0267b5e5b);\n        \n    \n        var popup_07f56d6da8a9d86f47923029e1eb7d87 = L.popup({&quot;maxWidth&quot;: &quot;100%&quot;});\n\n        \n            var html_1844cdce3006568e4d5109f9c45282be = $(`&lt;div id=&quot;html_1844cdce3006568e4d5109f9c45282be&quot; style=&quot;width: 100.0%; height: 100.0%;&quot;&gt;10&lt;/div&gt;`)[0];\n            popup_07f56d6da8a9d86f47923029e1eb7d87.setContent(html_1844cdce3006568e4d5109f9c45282be);\n        \n\n        marker_5f6fb736f81ac42f0e2de63aa85ab402.bindPopup(popup_07f56d6da8a9d86f47923029e1eb7d87)\n        ;\n\n        \n    \n    \n            var marker_207653870e1919e47aa3e54a688d3e1e = L.marker(\n                [28.56230197, -80.57735648],\n                {}\n            ).addTo(marker_cluster_c6a6a7a80e7c028561e7b0e944869269);\n        \n    \n            var icon_66419e808492914ab8abfeaabe2a0296 = L.AwesomeMarkers.icon(\n                {&quot;extraClasses&quot;: &quot;fa-rotate-0&quot;, &quot;icon&quot;: &quot;info-sign&quot;, &quot;iconColor&quot;: &quot;white&quot;, &quot;markerColor&quot;: &quot;red&quot;, &quot;prefix&quot;: &quot;glyphicon&quot;}\n            );\n            marker_207653870e1919e47aa3e54a688d3e1e.setIcon(icon_66419e808492914ab8abfeaabe2a0296);\n        \n    \n        var popup_a5a69928e02a9d77955a4f31af0c7cdf = L.popup({&quot;maxWidth&quot;: &quot;100%&quot;});\n\n        \n            var html_044d8f68bdf384a8ef8d7493f6a7bed3 = $(`&lt;div id=&quot;html_044d8f68bdf384a8ef8d7493f6a7bed3&quot; style=&quot;width: 100.0%; height: 100.0%;&quot;&gt;11&lt;/div&gt;`)[0];\n            popup_a5a69928e02a9d77955a4f31af0c7cdf.setContent(html_044d8f68bdf384a8ef8d7493f6a7bed3);\n        \n\n        marker_207653870e1919e47aa3e54a688d3e1e.bindPopup(popup_a5a69928e02a9d77955a4f31af0c7cdf)\n        ;\n\n        \n    \n    \n            var marker_c317c522875b443f023d5126018ad091 = L.marker(\n                [28.56230197, -80.57735648],\n                {}\n            ).addTo(marker_cluster_c6a6a7a80e7c028561e7b0e944869269);\n        \n    \n            var icon_1eaa783c709cf1e36a46955c0a7c7cf2 = L.AwesomeMarkers.icon(\n                {&quot;extraClasses&quot;: &quot;fa-rotate-0&quot;, &quot;icon&quot;: &quot;info-sign&quot;, &quot;iconColor&quot;: &quot;white&quot;, &quot;markerColor&quot;: &quot;red&quot;, &quot;prefix&quot;: &quot;glyphicon&quot;}\n            );\n            marker_c317c522875b443f023d5126018ad091.setIcon(icon_1eaa783c709cf1e36a46955c0a7c7cf2);\n        \n    \n        var popup_8e940fcb8f5bbe80a0c7437af40b68da = L.popup({&quot;maxWidth&quot;: &quot;100%&quot;});\n\n        \n            var html_6fcf385688451027c6ccc33895b76ae8 = $(`&lt;div id=&quot;html_6fcf385688451027c6ccc33895b76ae8&quot; style=&quot;width: 100.0%; height: 100.0%;&quot;&gt;12&lt;/div&gt;`)[0];\n            popup_8e940fcb8f5bbe80a0c7437af40b68da.setContent(html_6fcf385688451027c6ccc33895b76ae8);\n        \n\n        marker_c317c522875b443f023d5126018ad091.bindPopup(popup_8e940fcb8f5bbe80a0c7437af40b68da)\n        ;\n\n        \n    \n    \n            var marker_a4c5aaf488659e77ac7f6e73e5acdea1 = L.marker(\n                [28.56230197, -80.57735648],\n                {}\n            ).addTo(marker_cluster_c6a6a7a80e7c028561e7b0e944869269);\n        \n    \n            var icon_4ead75717a7d978b9dbb5723864e4028 = L.AwesomeMarkers.icon(\n                {&quot;extraClasses&quot;: &quot;fa-rotate-0&quot;, &quot;icon&quot;: &quot;info-sign&quot;, &quot;iconColor&quot;: &quot;white&quot;, &quot;markerColor&quot;: &quot;red&quot;, &quot;prefix&quot;: &quot;glyphicon&quot;}\n            );\n            marker_a4c5aaf488659e77ac7f6e73e5acdea1.setIcon(icon_4ead75717a7d978b9dbb5723864e4028);\n        \n    \n        var popup_3d992860b24c2a1828ac64692dc1a24a = L.popup({&quot;maxWidth&quot;: &quot;100%&quot;});\n\n        \n            var html_5efc88373d356365cb7917437ee1c9bc = $(`&lt;div id=&quot;html_5efc88373d356365cb7917437ee1c9bc&quot; style=&quot;width: 100.0%; height: 100.0%;&quot;&gt;13&lt;/div&gt;`)[0];\n            popup_3d992860b24c2a1828ac64692dc1a24a.setContent(html_5efc88373d356365cb7917437ee1c9bc);\n        \n\n        marker_a4c5aaf488659e77ac7f6e73e5acdea1.bindPopup(popup_3d992860b24c2a1828ac64692dc1a24a)\n        ;\n\n        \n    \n    \n            var marker_3dfbc3f2fa2e08668039367b089e2ef9 = L.marker(\n                [28.56230197, -80.57735648],\n                {}\n            ).addTo(marker_cluster_c6a6a7a80e7c028561e7b0e944869269);\n        \n    \n            var icon_97fefe6d6312f627b1e01e30f62e6e21 = L.AwesomeMarkers.icon(\n                {&quot;extraClasses&quot;: &quot;fa-rotate-0&quot;, &quot;icon&quot;: &quot;info-sign&quot;, &quot;iconColor&quot;: &quot;white&quot;, &quot;markerColor&quot;: &quot;red&quot;, &quot;prefix&quot;: &quot;glyphicon&quot;}\n            );\n            marker_3dfbc3f2fa2e08668039367b089e2ef9.setIcon(icon_97fefe6d6312f627b1e01e30f62e6e21);\n        \n    \n        var popup_2bf8d4f176c11d3188dd03dd6fd1adba = L.popup({&quot;maxWidth&quot;: &quot;100%&quot;});\n\n        \n            var html_adbd5d45e28010116b10d228d40f8e5f = $(`&lt;div id=&quot;html_adbd5d45e28010116b10d228d40f8e5f&quot; style=&quot;width: 100.0%; height: 100.0%;&quot;&gt;14&lt;/div&gt;`)[0];\n            popup_2bf8d4f176c11d3188dd03dd6fd1adba.setContent(html_adbd5d45e28010116b10d228d40f8e5f);\n        \n\n        marker_3dfbc3f2fa2e08668039367b089e2ef9.bindPopup(popup_2bf8d4f176c11d3188dd03dd6fd1adba)\n        ;\n\n        \n    \n    \n            var marker_3d3f98a6ca1f4d7845d2612d2b17e990 = L.marker(\n                [28.56230197, -80.57735648],\n                {}\n            ).addTo(marker_cluster_c6a6a7a80e7c028561e7b0e944869269);\n        \n    \n            var icon_3bbd82d99fe4c1265c324dc439796530 = L.AwesomeMarkers.icon(\n                {&quot;extraClasses&quot;: &quot;fa-rotate-0&quot;, &quot;icon&quot;: &quot;info-sign&quot;, &quot;iconColor&quot;: &quot;white&quot;, &quot;markerColor&quot;: &quot;red&quot;, &quot;prefix&quot;: &quot;glyphicon&quot;}\n            );\n            marker_3d3f98a6ca1f4d7845d2612d2b17e990.setIcon(icon_3bbd82d99fe4c1265c324dc439796530);\n        \n    \n        var popup_e13f1fe12e8120e4c7348e536a7509ea = L.popup({&quot;maxWidth&quot;: &quot;100%&quot;});\n\n        \n            var html_287d6e4b1e4c0992f6cc38eb752c5f73 = $(`&lt;div id=&quot;html_287d6e4b1e4c0992f6cc38eb752c5f73&quot; style=&quot;width: 100.0%; height: 100.0%;&quot;&gt;15&lt;/div&gt;`)[0];\n            popup_e13f1fe12e8120e4c7348e536a7509ea.setContent(html_287d6e4b1e4c0992f6cc38eb752c5f73);\n        \n\n        marker_3d3f98a6ca1f4d7845d2612d2b17e990.bindPopup(popup_e13f1fe12e8120e4c7348e536a7509ea)\n        ;\n\n        \n    \n    \n            var marker_07ba8da77b2ba746dd1f304f02d9eeec = L.marker(\n                [28.56230197, -80.57735648],\n                {}\n            ).addTo(marker_cluster_c6a6a7a80e7c028561e7b0e944869269);\n        \n    \n            var icon_60903085ec50adee47ea4362f0602c47 = L.AwesomeMarkers.icon(\n                {&quot;extraClasses&quot;: &quot;fa-rotate-0&quot;, &quot;icon&quot;: &quot;info-sign&quot;, &quot;iconColor&quot;: &quot;white&quot;, &quot;markerColor&quot;: &quot;red&quot;, &quot;prefix&quot;: &quot;glyphicon&quot;}\n            );\n            marker_07ba8da77b2ba746dd1f304f02d9eeec.setIcon(icon_60903085ec50adee47ea4362f0602c47);\n        \n    \n        var popup_f62b96cd55b8fc38bade6a1556aa5ad6 = L.popup({&quot;maxWidth&quot;: &quot;100%&quot;});\n\n        \n            var html_415260bb4b41afe82c576f0fe6e313c2 = $(`&lt;div id=&quot;html_415260bb4b41afe82c576f0fe6e313c2&quot; style=&quot;width: 100.0%; height: 100.0%;&quot;&gt;16&lt;/div&gt;`)[0];\n            popup_f62b96cd55b8fc38bade6a1556aa5ad6.setContent(html_415260bb4b41afe82c576f0fe6e313c2);\n        \n\n        marker_07ba8da77b2ba746dd1f304f02d9eeec.bindPopup(popup_f62b96cd55b8fc38bade6a1556aa5ad6)\n        ;\n\n        \n    \n    \n            var marker_769587fc576c33306ba2ceb8d99b43e6 = L.marker(\n                [28.56230197, -80.57735648],\n                {}\n            ).addTo(marker_cluster_c6a6a7a80e7c028561e7b0e944869269);\n        \n    \n            var icon_5f402534fb356f58ec01b2f352a85663 = L.AwesomeMarkers.icon(\n                {&quot;extraClasses&quot;: &quot;fa-rotate-0&quot;, &quot;icon&quot;: &quot;info-sign&quot;, &quot;iconColor&quot;: &quot;white&quot;, &quot;markerColor&quot;: &quot;green&quot;, &quot;prefix&quot;: &quot;glyphicon&quot;}\n            );\n            marker_769587fc576c33306ba2ceb8d99b43e6.setIcon(icon_5f402534fb356f58ec01b2f352a85663);\n        \n    \n        var popup_c1924d5299b2d6dd39e2788998213878 = L.popup({&quot;maxWidth&quot;: &quot;100%&quot;});\n\n        \n            var html_df88a1062e17bd20ed3940eba91dbeef = $(`&lt;div id=&quot;html_df88a1062e17bd20ed3940eba91dbeef&quot; style=&quot;width: 100.0%; height: 100.0%;&quot;&gt;17&lt;/div&gt;`)[0];\n            popup_c1924d5299b2d6dd39e2788998213878.setContent(html_df88a1062e17bd20ed3940eba91dbeef);\n        \n\n        marker_769587fc576c33306ba2ceb8d99b43e6.bindPopup(popup_c1924d5299b2d6dd39e2788998213878)\n        ;\n\n        \n    \n    \n            var marker_8bc0900c4f7b7e65ca206ad68c73e680 = L.marker(\n                [28.56230197, -80.57735648],\n                {}\n            ).addTo(marker_cluster_c6a6a7a80e7c028561e7b0e944869269);\n        \n    \n            var icon_c9d1a4bcb2fa092f1b985ebb44f4f994 = L.AwesomeMarkers.icon(\n                {&quot;extraClasses&quot;: &quot;fa-rotate-0&quot;, &quot;icon&quot;: &quot;info-sign&quot;, &quot;iconColor&quot;: &quot;white&quot;, &quot;markerColor&quot;: &quot;green&quot;, &quot;prefix&quot;: &quot;glyphicon&quot;}\n            );\n            marker_8bc0900c4f7b7e65ca206ad68c73e680.setIcon(icon_c9d1a4bcb2fa092f1b985ebb44f4f994);\n        \n    \n        var popup_a462bcf19710d84853d25258cf9e4212 = L.popup({&quot;maxWidth&quot;: &quot;100%&quot;});\n\n        \n            var html_b931f0c99850e2aa740d54433e72f161 = $(`&lt;div id=&quot;html_b931f0c99850e2aa740d54433e72f161&quot; style=&quot;width: 100.0%; height: 100.0%;&quot;&gt;18&lt;/div&gt;`)[0];\n            popup_a462bcf19710d84853d25258cf9e4212.setContent(html_b931f0c99850e2aa740d54433e72f161);\n        \n\n        marker_8bc0900c4f7b7e65ca206ad68c73e680.bindPopup(popup_a462bcf19710d84853d25258cf9e4212)\n        ;\n\n        \n    \n    \n            var marker_d250030311a8e7f1af00b2328ceab378 = L.marker(\n                [28.56230197, -80.57735648],\n                {}\n            ).addTo(marker_cluster_c6a6a7a80e7c028561e7b0e944869269);\n        \n    \n            var icon_fd82d83b09e511c993bf4152a9c33ab2 = L.AwesomeMarkers.icon(\n                {&quot;extraClasses&quot;: &quot;fa-rotate-0&quot;, &quot;icon&quot;: &quot;info-sign&quot;, &quot;iconColor&quot;: &quot;white&quot;, &quot;markerColor&quot;: &quot;red&quot;, &quot;prefix&quot;: &quot;glyphicon&quot;}\n            );\n            marker_d250030311a8e7f1af00b2328ceab378.setIcon(icon_fd82d83b09e511c993bf4152a9c33ab2);\n        \n    \n        var popup_a1ad1b497eebc387f11cda7c6714d1cc = L.popup({&quot;maxWidth&quot;: &quot;100%&quot;});\n\n        \n            var html_143fbda9833c0b63b8e47898750f24fc = $(`&lt;div id=&quot;html_143fbda9833c0b63b8e47898750f24fc&quot; style=&quot;width: 100.0%; height: 100.0%;&quot;&gt;19&lt;/div&gt;`)[0];\n            popup_a1ad1b497eebc387f11cda7c6714d1cc.setContent(html_143fbda9833c0b63b8e47898750f24fc);\n        \n\n        marker_d250030311a8e7f1af00b2328ceab378.bindPopup(popup_a1ad1b497eebc387f11cda7c6714d1cc)\n        ;\n\n        \n    \n    \n            var marker_0203ead16cfe67289686bab1fd7aa5e6 = L.marker(\n                [28.56230197, -80.57735648],\n                {}\n            ).addTo(marker_cluster_c6a6a7a80e7c028561e7b0e944869269);\n        \n    \n            var icon_c8fa57630d41213129b0be3d4c521079 = L.AwesomeMarkers.icon(\n                {&quot;extraClasses&quot;: &quot;fa-rotate-0&quot;, &quot;icon&quot;: &quot;info-sign&quot;, &quot;iconColor&quot;: &quot;white&quot;, &quot;markerColor&quot;: &quot;green&quot;, &quot;prefix&quot;: &quot;glyphicon&quot;}\n            );\n            marker_0203ead16cfe67289686bab1fd7aa5e6.setIcon(icon_c8fa57630d41213129b0be3d4c521079);\n        \n    \n        var popup_3687f5ebf5e9bf0760e27afa4a59344f = L.popup({&quot;maxWidth&quot;: &quot;100%&quot;});\n\n        \n            var html_e7b3022909dec52a947eb03f8c12dc45 = $(`&lt;div id=&quot;html_e7b3022909dec52a947eb03f8c12dc45&quot; style=&quot;width: 100.0%; height: 100.0%;&quot;&gt;20&lt;/div&gt;`)[0];\n            popup_3687f5ebf5e9bf0760e27afa4a59344f.setContent(html_e7b3022909dec52a947eb03f8c12dc45);\n        \n\n        marker_0203ead16cfe67289686bab1fd7aa5e6.bindPopup(popup_3687f5ebf5e9bf0760e27afa4a59344f)\n        ;\n\n        \n    \n    \n            var marker_d5ca8684f1409792a9400202a09fa037 = L.marker(\n                [28.56230197, -80.57735648],\n                {}\n            ).addTo(marker_cluster_c6a6a7a80e7c028561e7b0e944869269);\n        \n    \n            var icon_0bca6d25668b85ea2cd7ce19a0d85960 = L.AwesomeMarkers.icon(\n                {&quot;extraClasses&quot;: &quot;fa-rotate-0&quot;, &quot;icon&quot;: &quot;info-sign&quot;, &quot;iconColor&quot;: &quot;white&quot;, &quot;markerColor&quot;: &quot;green&quot;, &quot;prefix&quot;: &quot;glyphicon&quot;}\n            );\n            marker_d5ca8684f1409792a9400202a09fa037.setIcon(icon_0bca6d25668b85ea2cd7ce19a0d85960);\n        \n    \n        var popup_7c4c9ee00d45f4688e30e45c738cdca0 = L.popup({&quot;maxWidth&quot;: &quot;100%&quot;});\n\n        \n            var html_e6284350a87707fcb68e71f02a9ede28 = $(`&lt;div id=&quot;html_e6284350a87707fcb68e71f02a9ede28&quot; style=&quot;width: 100.0%; height: 100.0%;&quot;&gt;21&lt;/div&gt;`)[0];\n            popup_7c4c9ee00d45f4688e30e45c738cdca0.setContent(html_e6284350a87707fcb68e71f02a9ede28);\n        \n\n        marker_d5ca8684f1409792a9400202a09fa037.bindPopup(popup_7c4c9ee00d45f4688e30e45c738cdca0)\n        ;\n\n        \n    \n    \n            var marker_f1d9e7c373558fd2b8d0db34ff0d7cd9 = L.marker(\n                [28.56230197, -80.57735648],\n                {}\n            ).addTo(marker_cluster_c6a6a7a80e7c028561e7b0e944869269);\n        \n    \n            var icon_9b2f21a8f6f127588fbbd733736e702f = L.AwesomeMarkers.icon(\n                {&quot;extraClasses&quot;: &quot;fa-rotate-0&quot;, &quot;icon&quot;: &quot;info-sign&quot;, &quot;iconColor&quot;: &quot;white&quot;, &quot;markerColor&quot;: &quot;green&quot;, &quot;prefix&quot;: &quot;glyphicon&quot;}\n            );\n            marker_f1d9e7c373558fd2b8d0db34ff0d7cd9.setIcon(icon_9b2f21a8f6f127588fbbd733736e702f);\n        \n    \n        var popup_ceee1bd8e2f4036d5678f5ffa460aa72 = L.popup({&quot;maxWidth&quot;: &quot;100%&quot;});\n\n        \n            var html_4f7c996b338efb27081983a7c7c42619 = $(`&lt;div id=&quot;html_4f7c996b338efb27081983a7c7c42619&quot; style=&quot;width: 100.0%; height: 100.0%;&quot;&gt;22&lt;/div&gt;`)[0];\n            popup_ceee1bd8e2f4036d5678f5ffa460aa72.setContent(html_4f7c996b338efb27081983a7c7c42619);\n        \n\n        marker_f1d9e7c373558fd2b8d0db34ff0d7cd9.bindPopup(popup_ceee1bd8e2f4036d5678f5ffa460aa72)\n        ;\n\n        \n    \n    \n            var marker_0c1d8f5479bdb77cef6764a6f2c5498c = L.marker(\n                [28.56230197, -80.57735648],\n                {}\n            ).addTo(marker_cluster_c6a6a7a80e7c028561e7b0e944869269);\n        \n    \n            var icon_656e6ba8af0f69dc52e7ffb7847cdb95 = L.AwesomeMarkers.icon(\n                {&quot;extraClasses&quot;: &quot;fa-rotate-0&quot;, &quot;icon&quot;: &quot;info-sign&quot;, &quot;iconColor&quot;: &quot;white&quot;, &quot;markerColor&quot;: &quot;red&quot;, &quot;prefix&quot;: &quot;glyphicon&quot;}\n            );\n            marker_0c1d8f5479bdb77cef6764a6f2c5498c.setIcon(icon_656e6ba8af0f69dc52e7ffb7847cdb95);\n        \n    \n        var popup_dd5a08a1e1c05b37bea31a6421468f0a = L.popup({&quot;maxWidth&quot;: &quot;100%&quot;});\n\n        \n            var html_8a7a69cbde5b863cc1e39be4eca4ecd5 = $(`&lt;div id=&quot;html_8a7a69cbde5b863cc1e39be4eca4ecd5&quot; style=&quot;width: 100.0%; height: 100.0%;&quot;&gt;23&lt;/div&gt;`)[0];\n            popup_dd5a08a1e1c05b37bea31a6421468f0a.setContent(html_8a7a69cbde5b863cc1e39be4eca4ecd5);\n        \n\n        marker_0c1d8f5479bdb77cef6764a6f2c5498c.bindPopup(popup_dd5a08a1e1c05b37bea31a6421468f0a)\n        ;\n\n        \n    \n    \n            var marker_6f340803b8384fef5d0e7a387374f19d = L.marker(\n                [28.56230197, -80.57735648],\n                {}\n            ).addTo(marker_cluster_c6a6a7a80e7c028561e7b0e944869269);\n        \n    \n            var icon_217f3472c9bd05b1faabe796b97ceb59 = L.AwesomeMarkers.icon(\n                {&quot;extraClasses&quot;: &quot;fa-rotate-0&quot;, &quot;icon&quot;: &quot;info-sign&quot;, &quot;iconColor&quot;: &quot;white&quot;, &quot;markerColor&quot;: &quot;green&quot;, &quot;prefix&quot;: &quot;glyphicon&quot;}\n            );\n            marker_6f340803b8384fef5d0e7a387374f19d.setIcon(icon_217f3472c9bd05b1faabe796b97ceb59);\n        \n    \n        var popup_96a3919d16f36ed0606cfb55a29dc609 = L.popup({&quot;maxWidth&quot;: &quot;100%&quot;});\n\n        \n            var html_840fd67cc51a479eb3de9306175dfbc7 = $(`&lt;div id=&quot;html_840fd67cc51a479eb3de9306175dfbc7&quot; style=&quot;width: 100.0%; height: 100.0%;&quot;&gt;24&lt;/div&gt;`)[0];\n            popup_96a3919d16f36ed0606cfb55a29dc609.setContent(html_840fd67cc51a479eb3de9306175dfbc7);\n        \n\n        marker_6f340803b8384fef5d0e7a387374f19d.bindPopup(popup_96a3919d16f36ed0606cfb55a29dc609)\n        ;\n\n        \n    \n    \n            var marker_80e7c3e9be1877a5f47e5ef5943bec1e = L.marker(\n                [28.56230197, -80.57735648],\n                {}\n            ).addTo(marker_cluster_c6a6a7a80e7c028561e7b0e944869269);\n        \n    \n            var icon_0f5b29dae42dd041e04497912fc0a456 = L.AwesomeMarkers.icon(\n                {&quot;extraClasses&quot;: &quot;fa-rotate-0&quot;, &quot;icon&quot;: &quot;info-sign&quot;, &quot;iconColor&quot;: &quot;white&quot;, &quot;markerColor&quot;: &quot;green&quot;, &quot;prefix&quot;: &quot;glyphicon&quot;}\n            );\n            marker_80e7c3e9be1877a5f47e5ef5943bec1e.setIcon(icon_0f5b29dae42dd041e04497912fc0a456);\n        \n    \n        var popup_2ff0003c2d3c82a50c52d1acb7877bbc = L.popup({&quot;maxWidth&quot;: &quot;100%&quot;});\n\n        \n            var html_052b1dc713e9adf2e05908edd730b189 = $(`&lt;div id=&quot;html_052b1dc713e9adf2e05908edd730b189&quot; style=&quot;width: 100.0%; height: 100.0%;&quot;&gt;25&lt;/div&gt;`)[0];\n            popup_2ff0003c2d3c82a50c52d1acb7877bbc.setContent(html_052b1dc713e9adf2e05908edd730b189);\n        \n\n        marker_80e7c3e9be1877a5f47e5ef5943bec1e.bindPopup(popup_2ff0003c2d3c82a50c52d1acb7877bbc)\n        ;\n\n        \n    \n    \n            var marker_e13d390a8235ee49c3fbf20d2d9cb2d4 = L.marker(\n                [34.63283416, -120.6107455],\n                {}\n            ).addTo(marker_cluster_c6a6a7a80e7c028561e7b0e944869269);\n        \n    \n            var icon_f3f8ae7b0c45de32921c03b729dcddf3 = L.AwesomeMarkers.icon(\n                {&quot;extraClasses&quot;: &quot;fa-rotate-0&quot;, &quot;icon&quot;: &quot;info-sign&quot;, &quot;iconColor&quot;: &quot;white&quot;, &quot;markerColor&quot;: &quot;red&quot;, &quot;prefix&quot;: &quot;glyphicon&quot;}\n            );\n            marker_e13d390a8235ee49c3fbf20d2d9cb2d4.setIcon(icon_f3f8ae7b0c45de32921c03b729dcddf3);\n        \n    \n        var popup_aabb0457c57f37a422690a32e813a0b6 = L.popup({&quot;maxWidth&quot;: &quot;100%&quot;});\n\n        \n            var html_ae8fa571dd19c513c71db0449c6f7e02 = $(`&lt;div id=&quot;html_ae8fa571dd19c513c71db0449c6f7e02&quot; style=&quot;width: 100.0%; height: 100.0%;&quot;&gt;26&lt;/div&gt;`)[0];\n            popup_aabb0457c57f37a422690a32e813a0b6.setContent(html_ae8fa571dd19c513c71db0449c6f7e02);\n        \n\n        marker_e13d390a8235ee49c3fbf20d2d9cb2d4.bindPopup(popup_aabb0457c57f37a422690a32e813a0b6)\n        ;\n\n        \n    \n    \n            var marker_ef0f9928d87c05faca4b261fb53a0a71 = L.marker(\n                [34.63283416, -120.6107455],\n                {}\n            ).addTo(marker_cluster_c6a6a7a80e7c028561e7b0e944869269);\n        \n    \n            var icon_2c256e1e36f239643ff948ff81b86732 = L.AwesomeMarkers.icon(\n                {&quot;extraClasses&quot;: &quot;fa-rotate-0&quot;, &quot;icon&quot;: &quot;info-sign&quot;, &quot;iconColor&quot;: &quot;white&quot;, &quot;markerColor&quot;: &quot;red&quot;, &quot;prefix&quot;: &quot;glyphicon&quot;}\n            );\n            marker_ef0f9928d87c05faca4b261fb53a0a71.setIcon(icon_2c256e1e36f239643ff948ff81b86732);\n        \n    \n        var popup_b77728c6a9b6edc69eac0051723c9138 = L.popup({&quot;maxWidth&quot;: &quot;100%&quot;});\n\n        \n            var html_3a599a73ddde4dd9c2b688c5f035b3bd = $(`&lt;div id=&quot;html_3a599a73ddde4dd9c2b688c5f035b3bd&quot; style=&quot;width: 100.0%; height: 100.0%;&quot;&gt;27&lt;/div&gt;`)[0];\n            popup_b77728c6a9b6edc69eac0051723c9138.setContent(html_3a599a73ddde4dd9c2b688c5f035b3bd);\n        \n\n        marker_ef0f9928d87c05faca4b261fb53a0a71.bindPopup(popup_b77728c6a9b6edc69eac0051723c9138)\n        ;\n\n        \n    \n    \n            var marker_1794f5ee937fe6855f0312c5c900b364 = L.marker(\n                [34.63283416, -120.6107455],\n                {}\n            ).addTo(marker_cluster_c6a6a7a80e7c028561e7b0e944869269);\n        \n    \n            var icon_cafebf953e8f38e241f4de90c9c36b29 = L.AwesomeMarkers.icon(\n                {&quot;extraClasses&quot;: &quot;fa-rotate-0&quot;, &quot;icon&quot;: &quot;info-sign&quot;, &quot;iconColor&quot;: &quot;white&quot;, &quot;markerColor&quot;: &quot;green&quot;, &quot;prefix&quot;: &quot;glyphicon&quot;}\n            );\n            marker_1794f5ee937fe6855f0312c5c900b364.setIcon(icon_cafebf953e8f38e241f4de90c9c36b29);\n        \n    \n        var popup_b504a2cf90f4dd6c55d69a1523b241cc = L.popup({&quot;maxWidth&quot;: &quot;100%&quot;});\n\n        \n            var html_cc32b134c2165be6314a9921c18cbd14 = $(`&lt;div id=&quot;html_cc32b134c2165be6314a9921c18cbd14&quot; style=&quot;width: 100.0%; height: 100.0%;&quot;&gt;28&lt;/div&gt;`)[0];\n            popup_b504a2cf90f4dd6c55d69a1523b241cc.setContent(html_cc32b134c2165be6314a9921c18cbd14);\n        \n\n        marker_1794f5ee937fe6855f0312c5c900b364.bindPopup(popup_b504a2cf90f4dd6c55d69a1523b241cc)\n        ;\n\n        \n    \n    \n            var marker_94716aa606355ece5cbecafa97d2b5c7 = L.marker(\n                [34.63283416, -120.6107455],\n                {}\n            ).addTo(marker_cluster_c6a6a7a80e7c028561e7b0e944869269);\n        \n    \n            var icon_e98cc2c537f6fea9773d81efbe9d8349 = L.AwesomeMarkers.icon(\n                {&quot;extraClasses&quot;: &quot;fa-rotate-0&quot;, &quot;icon&quot;: &quot;info-sign&quot;, &quot;iconColor&quot;: &quot;white&quot;, &quot;markerColor&quot;: &quot;green&quot;, &quot;prefix&quot;: &quot;glyphicon&quot;}\n            );\n            marker_94716aa606355ece5cbecafa97d2b5c7.setIcon(icon_e98cc2c537f6fea9773d81efbe9d8349);\n        \n    \n        var popup_2416f06651d1ec19a4cf0f7c583ff9f6 = L.popup({&quot;maxWidth&quot;: &quot;100%&quot;});\n\n        \n            var html_3c8752e8a8291c7f87c8b8a34158f44b = $(`&lt;div id=&quot;html_3c8752e8a8291c7f87c8b8a34158f44b&quot; style=&quot;width: 100.0%; height: 100.0%;&quot;&gt;29&lt;/div&gt;`)[0];\n            popup_2416f06651d1ec19a4cf0f7c583ff9f6.setContent(html_3c8752e8a8291c7f87c8b8a34158f44b);\n        \n\n        marker_94716aa606355ece5cbecafa97d2b5c7.bindPopup(popup_2416f06651d1ec19a4cf0f7c583ff9f6)\n        ;\n\n        \n    \n    \n            var marker_e3630892ad330f0791d162672350e827 = L.marker(\n                [34.63283416, -120.6107455],\n                {}\n            ).addTo(marker_cluster_c6a6a7a80e7c028561e7b0e944869269);\n        \n    \n            var icon_f99967cbd35ea0cce57def401b9ae1fc = L.AwesomeMarkers.icon(\n                {&quot;extraClasses&quot;: &quot;fa-rotate-0&quot;, &quot;icon&quot;: &quot;info-sign&quot;, &quot;iconColor&quot;: &quot;white&quot;, &quot;markerColor&quot;: &quot;green&quot;, &quot;prefix&quot;: &quot;glyphicon&quot;}\n            );\n            marker_e3630892ad330f0791d162672350e827.setIcon(icon_f99967cbd35ea0cce57def401b9ae1fc);\n        \n    \n        var popup_f8a77d83caf3cd741737521202c7fc87 = L.popup({&quot;maxWidth&quot;: &quot;100%&quot;});\n\n        \n            var html_14953f28fd7b77a615993f7c0e38eebf = $(`&lt;div id=&quot;html_14953f28fd7b77a615993f7c0e38eebf&quot; style=&quot;width: 100.0%; height: 100.0%;&quot;&gt;30&lt;/div&gt;`)[0];\n            popup_f8a77d83caf3cd741737521202c7fc87.setContent(html_14953f28fd7b77a615993f7c0e38eebf);\n        \n\n        marker_e3630892ad330f0791d162672350e827.bindPopup(popup_f8a77d83caf3cd741737521202c7fc87)\n        ;\n\n        \n    \n    \n            var marker_f7dd209a8b6a850b0e9f109d2c6fdbab = L.marker(\n                [34.63283416, -120.6107455],\n                {}\n            ).addTo(marker_cluster_c6a6a7a80e7c028561e7b0e944869269);\n        \n    \n            var icon_22f23aef9adad8484bcc256cb3784f71 = L.AwesomeMarkers.icon(\n                {&quot;extraClasses&quot;: &quot;fa-rotate-0&quot;, &quot;icon&quot;: &quot;info-sign&quot;, &quot;iconColor&quot;: &quot;white&quot;, &quot;markerColor&quot;: &quot;green&quot;, &quot;prefix&quot;: &quot;glyphicon&quot;}\n            );\n            marker_f7dd209a8b6a850b0e9f109d2c6fdbab.setIcon(icon_22f23aef9adad8484bcc256cb3784f71);\n        \n    \n        var popup_d399264e6290958fcd6941e69027fbb7 = L.popup({&quot;maxWidth&quot;: &quot;100%&quot;});\n\n        \n            var html_2d055bc93b3c4ba664a6c929368a7b6c = $(`&lt;div id=&quot;html_2d055bc93b3c4ba664a6c929368a7b6c&quot; style=&quot;width: 100.0%; height: 100.0%;&quot;&gt;31&lt;/div&gt;`)[0];\n            popup_d399264e6290958fcd6941e69027fbb7.setContent(html_2d055bc93b3c4ba664a6c929368a7b6c);\n        \n\n        marker_f7dd209a8b6a850b0e9f109d2c6fdbab.bindPopup(popup_d399264e6290958fcd6941e69027fbb7)\n        ;\n\n        \n    \n    \n            var marker_9fc49a037cbbfff52095ba284dca603c = L.marker(\n                [34.63283416, -120.6107455],\n                {}\n            ).addTo(marker_cluster_c6a6a7a80e7c028561e7b0e944869269);\n        \n    \n            var icon_69675250a4ba7f8ecab95a7b0824ba38 = L.AwesomeMarkers.icon(\n                {&quot;extraClasses&quot;: &quot;fa-rotate-0&quot;, &quot;icon&quot;: &quot;info-sign&quot;, &quot;iconColor&quot;: &quot;white&quot;, &quot;markerColor&quot;: &quot;red&quot;, &quot;prefix&quot;: &quot;glyphicon&quot;}\n            );\n            marker_9fc49a037cbbfff52095ba284dca603c.setIcon(icon_69675250a4ba7f8ecab95a7b0824ba38);\n        \n    \n        var popup_8aaeaa0b76e78a92c768f1f757cf0aaa = L.popup({&quot;maxWidth&quot;: &quot;100%&quot;});\n\n        \n            var html_0a8d9d6d89d8a30ba26f7e6f9240d70c = $(`&lt;div id=&quot;html_0a8d9d6d89d8a30ba26f7e6f9240d70c&quot; style=&quot;width: 100.0%; height: 100.0%;&quot;&gt;32&lt;/div&gt;`)[0];\n            popup_8aaeaa0b76e78a92c768f1f757cf0aaa.setContent(html_0a8d9d6d89d8a30ba26f7e6f9240d70c);\n        \n\n        marker_9fc49a037cbbfff52095ba284dca603c.bindPopup(popup_8aaeaa0b76e78a92c768f1f757cf0aaa)\n        ;\n\n        \n    \n    \n            var marker_c3972efab81529c480d384ab84cb1b33 = L.marker(\n                [34.63283416, -120.6107455],\n                {}\n            ).addTo(marker_cluster_c6a6a7a80e7c028561e7b0e944869269);\n        \n    \n            var icon_d8acb89a8ee2715e997af0b0bde65bce = L.AwesomeMarkers.icon(\n                {&quot;extraClasses&quot;: &quot;fa-rotate-0&quot;, &quot;icon&quot;: &quot;info-sign&quot;, &quot;iconColor&quot;: &quot;white&quot;, &quot;markerColor&quot;: &quot;red&quot;, &quot;prefix&quot;: &quot;glyphicon&quot;}\n            );\n            marker_c3972efab81529c480d384ab84cb1b33.setIcon(icon_d8acb89a8ee2715e997af0b0bde65bce);\n        \n    \n        var popup_044e2c2b0401a75a80708143434b8c2d = L.popup({&quot;maxWidth&quot;: &quot;100%&quot;});\n\n        \n            var html_229374a433533dd38ec65150f485e9f3 = $(`&lt;div id=&quot;html_229374a433533dd38ec65150f485e9f3&quot; style=&quot;width: 100.0%; height: 100.0%;&quot;&gt;33&lt;/div&gt;`)[0];\n            popup_044e2c2b0401a75a80708143434b8c2d.setContent(html_229374a433533dd38ec65150f485e9f3);\n        \n\n        marker_c3972efab81529c480d384ab84cb1b33.bindPopup(popup_044e2c2b0401a75a80708143434b8c2d)\n        ;\n\n        \n    \n    \n            var marker_6ab83e066b8f122bf78e0481e88d72a3 = L.marker(\n                [34.63283416, -120.6107455],\n                {}\n            ).addTo(marker_cluster_c6a6a7a80e7c028561e7b0e944869269);\n        \n    \n            var icon_296059a428e0422cb14b22f192e3166a = L.AwesomeMarkers.icon(\n                {&quot;extraClasses&quot;: &quot;fa-rotate-0&quot;, &quot;icon&quot;: &quot;info-sign&quot;, &quot;iconColor&quot;: &quot;white&quot;, &quot;markerColor&quot;: &quot;red&quot;, &quot;prefix&quot;: &quot;glyphicon&quot;}\n            );\n            marker_6ab83e066b8f122bf78e0481e88d72a3.setIcon(icon_296059a428e0422cb14b22f192e3166a);\n        \n    \n        var popup_340105f133156ec01c863dcf8716e537 = L.popup({&quot;maxWidth&quot;: &quot;100%&quot;});\n\n        \n            var html_d5f1f852b91760db38109f314c772e33 = $(`&lt;div id=&quot;html_d5f1f852b91760db38109f314c772e33&quot; style=&quot;width: 100.0%; height: 100.0%;&quot;&gt;34&lt;/div&gt;`)[0];\n            popup_340105f133156ec01c863dcf8716e537.setContent(html_d5f1f852b91760db38109f314c772e33);\n        \n\n        marker_6ab83e066b8f122bf78e0481e88d72a3.bindPopup(popup_340105f133156ec01c863dcf8716e537)\n        ;\n\n        \n    \n    \n            var marker_12d173ca483424985474e954c7d651cf = L.marker(\n                [34.63283416, -120.6107455],\n                {}\n            ).addTo(marker_cluster_c6a6a7a80e7c028561e7b0e944869269);\n        \n    \n            var icon_74dc065e661215caa1adf9d408c05c77 = L.AwesomeMarkers.icon(\n                {&quot;extraClasses&quot;: &quot;fa-rotate-0&quot;, &quot;icon&quot;: &quot;info-sign&quot;, &quot;iconColor&quot;: &quot;white&quot;, &quot;markerColor&quot;: &quot;red&quot;, &quot;prefix&quot;: &quot;glyphicon&quot;}\n            );\n            marker_12d173ca483424985474e954c7d651cf.setIcon(icon_74dc065e661215caa1adf9d408c05c77);\n        \n    \n        var popup_6ed58c71d03a018e6f98126adbd683d9 = L.popup({&quot;maxWidth&quot;: &quot;100%&quot;});\n\n        \n            var html_d1c3f395a981b2727e0ef59e40c8f261 = $(`&lt;div id=&quot;html_d1c3f395a981b2727e0ef59e40c8f261&quot; style=&quot;width: 100.0%; height: 100.0%;&quot;&gt;35&lt;/div&gt;`)[0];\n            popup_6ed58c71d03a018e6f98126adbd683d9.setContent(html_d1c3f395a981b2727e0ef59e40c8f261);\n        \n\n        marker_12d173ca483424985474e954c7d651cf.bindPopup(popup_6ed58c71d03a018e6f98126adbd683d9)\n        ;\n\n        \n    \n    \n            var marker_d5482e4c0924e92074727494e007c13f = L.marker(\n                [28.57325457, -80.64689529],\n                {}\n            ).addTo(marker_cluster_c6a6a7a80e7c028561e7b0e944869269);\n        \n    \n            var icon_ab8f29e9a37b926d76d40aa2c0661bd3 = L.AwesomeMarkers.icon(\n                {&quot;extraClasses&quot;: &quot;fa-rotate-0&quot;, &quot;icon&quot;: &quot;info-sign&quot;, &quot;iconColor&quot;: &quot;white&quot;, &quot;markerColor&quot;: &quot;green&quot;, &quot;prefix&quot;: &quot;glyphicon&quot;}\n            );\n            marker_d5482e4c0924e92074727494e007c13f.setIcon(icon_ab8f29e9a37b926d76d40aa2c0661bd3);\n        \n    \n        var popup_b07d66a690b8eeab1ff1eac4b710db7e = L.popup({&quot;maxWidth&quot;: &quot;100%&quot;});\n\n        \n            var html_b7bd6ce14c4e032fccc23e871c88f5ae = $(`&lt;div id=&quot;html_b7bd6ce14c4e032fccc23e871c88f5ae&quot; style=&quot;width: 100.0%; height: 100.0%;&quot;&gt;36&lt;/div&gt;`)[0];\n            popup_b07d66a690b8eeab1ff1eac4b710db7e.setContent(html_b7bd6ce14c4e032fccc23e871c88f5ae);\n        \n\n        marker_d5482e4c0924e92074727494e007c13f.bindPopup(popup_b07d66a690b8eeab1ff1eac4b710db7e)\n        ;\n\n        \n    \n    \n            var marker_32a0b98152c0dc5c4aab55e617039d8c = L.marker(\n                [28.57325457, -80.64689529],\n                {}\n            ).addTo(marker_cluster_c6a6a7a80e7c028561e7b0e944869269);\n        \n    \n            var icon_7439d0a965ae8ba742725698c36b743d = L.AwesomeMarkers.icon(\n                {&quot;extraClasses&quot;: &quot;fa-rotate-0&quot;, &quot;icon&quot;: &quot;info-sign&quot;, &quot;iconColor&quot;: &quot;white&quot;, &quot;markerColor&quot;: &quot;red&quot;, &quot;prefix&quot;: &quot;glyphicon&quot;}\n            );\n            marker_32a0b98152c0dc5c4aab55e617039d8c.setIcon(icon_7439d0a965ae8ba742725698c36b743d);\n        \n    \n        var popup_80b76d9f305ba249c73e5897dd272bc7 = L.popup({&quot;maxWidth&quot;: &quot;100%&quot;});\n\n        \n            var html_308f03cb04ef06db2a9c58e074279b2e = $(`&lt;div id=&quot;html_308f03cb04ef06db2a9c58e074279b2e&quot; style=&quot;width: 100.0%; height: 100.0%;&quot;&gt;37&lt;/div&gt;`)[0];\n            popup_80b76d9f305ba249c73e5897dd272bc7.setContent(html_308f03cb04ef06db2a9c58e074279b2e);\n        \n\n        marker_32a0b98152c0dc5c4aab55e617039d8c.bindPopup(popup_80b76d9f305ba249c73e5897dd272bc7)\n        ;\n\n        \n    \n    \n            var marker_6696abf87f7ad1ea497d469b3d39bad9 = L.marker(\n                [28.57325457, -80.64689529],\n                {}\n            ).addTo(marker_cluster_c6a6a7a80e7c028561e7b0e944869269);\n        \n    \n            var icon_babca3251f39aee8bd1d499abbd23235 = L.AwesomeMarkers.icon(\n                {&quot;extraClasses&quot;: &quot;fa-rotate-0&quot;, &quot;icon&quot;: &quot;info-sign&quot;, &quot;iconColor&quot;: &quot;white&quot;, &quot;markerColor&quot;: &quot;green&quot;, &quot;prefix&quot;: &quot;glyphicon&quot;}\n            );\n            marker_6696abf87f7ad1ea497d469b3d39bad9.setIcon(icon_babca3251f39aee8bd1d499abbd23235);\n        \n    \n        var popup_191c4695ae0734ba309ce9f84f810388 = L.popup({&quot;maxWidth&quot;: &quot;100%&quot;});\n\n        \n            var html_8e25d592f275a712b65cd6de1685052f = $(`&lt;div id=&quot;html_8e25d592f275a712b65cd6de1685052f&quot; style=&quot;width: 100.0%; height: 100.0%;&quot;&gt;38&lt;/div&gt;`)[0];\n            popup_191c4695ae0734ba309ce9f84f810388.setContent(html_8e25d592f275a712b65cd6de1685052f);\n        \n\n        marker_6696abf87f7ad1ea497d469b3d39bad9.bindPopup(popup_191c4695ae0734ba309ce9f84f810388)\n        ;\n\n        \n    \n    \n            var marker_ea1742450581869ed519995114f2116e = L.marker(\n                [28.57325457, -80.64689529],\n                {}\n            ).addTo(marker_cluster_c6a6a7a80e7c028561e7b0e944869269);\n        \n    \n            var icon_d15c8fdb9d679502c64369b340218449 = L.AwesomeMarkers.icon(\n                {&quot;extraClasses&quot;: &quot;fa-rotate-0&quot;, &quot;icon&quot;: &quot;info-sign&quot;, &quot;iconColor&quot;: &quot;white&quot;, &quot;markerColor&quot;: &quot;green&quot;, &quot;prefix&quot;: &quot;glyphicon&quot;}\n            );\n            marker_ea1742450581869ed519995114f2116e.setIcon(icon_d15c8fdb9d679502c64369b340218449);\n        \n    \n        var popup_c4742036ba2539f4c4fb7ffaad05203c = L.popup({&quot;maxWidth&quot;: &quot;100%&quot;});\n\n        \n            var html_1f937fe94548d6ec54dfca892f755e14 = $(`&lt;div id=&quot;html_1f937fe94548d6ec54dfca892f755e14&quot; style=&quot;width: 100.0%; height: 100.0%;&quot;&gt;39&lt;/div&gt;`)[0];\n            popup_c4742036ba2539f4c4fb7ffaad05203c.setContent(html_1f937fe94548d6ec54dfca892f755e14);\n        \n\n        marker_ea1742450581869ed519995114f2116e.bindPopup(popup_c4742036ba2539f4c4fb7ffaad05203c)\n        ;\n\n        \n    \n    \n            var marker_d5f525631a3af0ccffaccb905e123a87 = L.marker(\n                [28.57325457, -80.64689529],\n                {}\n            ).addTo(marker_cluster_c6a6a7a80e7c028561e7b0e944869269);\n        \n    \n            var icon_cbb1de1cfc031d8a3f5b02a3d1fc6fa0 = L.AwesomeMarkers.icon(\n                {&quot;extraClasses&quot;: &quot;fa-rotate-0&quot;, &quot;icon&quot;: &quot;info-sign&quot;, &quot;iconColor&quot;: &quot;white&quot;, &quot;markerColor&quot;: &quot;red&quot;, &quot;prefix&quot;: &quot;glyphicon&quot;}\n            );\n            marker_d5f525631a3af0ccffaccb905e123a87.setIcon(icon_cbb1de1cfc031d8a3f5b02a3d1fc6fa0);\n        \n    \n        var popup_856957855ba2383b1f0ff1a6600c25fa = L.popup({&quot;maxWidth&quot;: &quot;100%&quot;});\n\n        \n            var html_379a94edf5620a74b67d916714cbfe20 = $(`&lt;div id=&quot;html_379a94edf5620a74b67d916714cbfe20&quot; style=&quot;width: 100.0%; height: 100.0%;&quot;&gt;40&lt;/div&gt;`)[0];\n            popup_856957855ba2383b1f0ff1a6600c25fa.setContent(html_379a94edf5620a74b67d916714cbfe20);\n        \n\n        marker_d5f525631a3af0ccffaccb905e123a87.bindPopup(popup_856957855ba2383b1f0ff1a6600c25fa)\n        ;\n\n        \n    \n    \n            var marker_42f529e0bd0bb6fe1feb883ab2753da9 = L.marker(\n                [28.57325457, -80.64689529],\n                {}\n            ).addTo(marker_cluster_c6a6a7a80e7c028561e7b0e944869269);\n        \n    \n            var icon_31389e576a6b323be18943d6022668a5 = L.AwesomeMarkers.icon(\n                {&quot;extraClasses&quot;: &quot;fa-rotate-0&quot;, &quot;icon&quot;: &quot;info-sign&quot;, &quot;iconColor&quot;: &quot;white&quot;, &quot;markerColor&quot;: &quot;green&quot;, &quot;prefix&quot;: &quot;glyphicon&quot;}\n            );\n            marker_42f529e0bd0bb6fe1feb883ab2753da9.setIcon(icon_31389e576a6b323be18943d6022668a5);\n        \n    \n        var popup_ba75022d7799ec821c003d402895b742 = L.popup({&quot;maxWidth&quot;: &quot;100%&quot;});\n\n        \n            var html_c170f91a4cf96564e4aa76839f27f198 = $(`&lt;div id=&quot;html_c170f91a4cf96564e4aa76839f27f198&quot; style=&quot;width: 100.0%; height: 100.0%;&quot;&gt;41&lt;/div&gt;`)[0];\n            popup_ba75022d7799ec821c003d402895b742.setContent(html_c170f91a4cf96564e4aa76839f27f198);\n        \n\n        marker_42f529e0bd0bb6fe1feb883ab2753da9.bindPopup(popup_ba75022d7799ec821c003d402895b742)\n        ;\n\n        \n    \n    \n            var marker_b3f2d56d70cf4d5ac64e77b1ea9cb817 = L.marker(\n                [28.57325457, -80.64689529],\n                {}\n            ).addTo(marker_cluster_c6a6a7a80e7c028561e7b0e944869269);\n        \n    \n            var icon_7fe9d633438ea8c7d7c443c1879c97be = L.AwesomeMarkers.icon(\n                {&quot;extraClasses&quot;: &quot;fa-rotate-0&quot;, &quot;icon&quot;: &quot;info-sign&quot;, &quot;iconColor&quot;: &quot;white&quot;, &quot;markerColor&quot;: &quot;green&quot;, &quot;prefix&quot;: &quot;glyphicon&quot;}\n            );\n            marker_b3f2d56d70cf4d5ac64e77b1ea9cb817.setIcon(icon_7fe9d633438ea8c7d7c443c1879c97be);\n        \n    \n        var popup_19279af80d2340ed7047cc110847bb37 = L.popup({&quot;maxWidth&quot;: &quot;100%&quot;});\n\n        \n            var html_779b96ced903de2e6cbc470e14a3a44c = $(`&lt;div id=&quot;html_779b96ced903de2e6cbc470e14a3a44c&quot; style=&quot;width: 100.0%; height: 100.0%;&quot;&gt;42&lt;/div&gt;`)[0];\n            popup_19279af80d2340ed7047cc110847bb37.setContent(html_779b96ced903de2e6cbc470e14a3a44c);\n        \n\n        marker_b3f2d56d70cf4d5ac64e77b1ea9cb817.bindPopup(popup_19279af80d2340ed7047cc110847bb37)\n        ;\n\n        \n    \n    \n            var marker_fddad02b89356bb96f72f96677f3e7bc = L.marker(\n                [28.57325457, -80.64689529],\n                {}\n            ).addTo(marker_cluster_c6a6a7a80e7c028561e7b0e944869269);\n        \n    \n            var icon_8f90a73877c9975f27847c6386f4d8e2 = L.AwesomeMarkers.icon(\n                {&quot;extraClasses&quot;: &quot;fa-rotate-0&quot;, &quot;icon&quot;: &quot;info-sign&quot;, &quot;iconColor&quot;: &quot;white&quot;, &quot;markerColor&quot;: &quot;red&quot;, &quot;prefix&quot;: &quot;glyphicon&quot;}\n            );\n            marker_fddad02b89356bb96f72f96677f3e7bc.setIcon(icon_8f90a73877c9975f27847c6386f4d8e2);\n        \n    \n        var popup_287cfc9226db19dcdd24f16d05957553 = L.popup({&quot;maxWidth&quot;: &quot;100%&quot;});\n\n        \n            var html_cd3f19c682ef7cfb4ad9d391381f575f = $(`&lt;div id=&quot;html_cd3f19c682ef7cfb4ad9d391381f575f&quot; style=&quot;width: 100.0%; height: 100.0%;&quot;&gt;43&lt;/div&gt;`)[0];\n            popup_287cfc9226db19dcdd24f16d05957553.setContent(html_cd3f19c682ef7cfb4ad9d391381f575f);\n        \n\n        marker_fddad02b89356bb96f72f96677f3e7bc.bindPopup(popup_287cfc9226db19dcdd24f16d05957553)\n        ;\n\n        \n    \n    \n            var marker_78422b9295f0a35c639fa46a82c07e82 = L.marker(\n                [28.57325457, -80.64689529],\n                {}\n            ).addTo(marker_cluster_c6a6a7a80e7c028561e7b0e944869269);\n        \n    \n            var icon_a21a27b6a01c8ef14b77e7e6f6318900 = L.AwesomeMarkers.icon(\n                {&quot;extraClasses&quot;: &quot;fa-rotate-0&quot;, &quot;icon&quot;: &quot;info-sign&quot;, &quot;iconColor&quot;: &quot;white&quot;, &quot;markerColor&quot;: &quot;green&quot;, &quot;prefix&quot;: &quot;glyphicon&quot;}\n            );\n            marker_78422b9295f0a35c639fa46a82c07e82.setIcon(icon_a21a27b6a01c8ef14b77e7e6f6318900);\n        \n    \n        var popup_8f6fa483be381d25976653c132098f23 = L.popup({&quot;maxWidth&quot;: &quot;100%&quot;});\n\n        \n            var html_e37443a156ebb60a38103bb2f7f24c72 = $(`&lt;div id=&quot;html_e37443a156ebb60a38103bb2f7f24c72&quot; style=&quot;width: 100.0%; height: 100.0%;&quot;&gt;44&lt;/div&gt;`)[0];\n            popup_8f6fa483be381d25976653c132098f23.setContent(html_e37443a156ebb60a38103bb2f7f24c72);\n        \n\n        marker_78422b9295f0a35c639fa46a82c07e82.bindPopup(popup_8f6fa483be381d25976653c132098f23)\n        ;\n\n        \n    \n    \n            var marker_be93986078e7d6d4d0f893f4e11895d4 = L.marker(\n                [28.57325457, -80.64689529],\n                {}\n            ).addTo(marker_cluster_c6a6a7a80e7c028561e7b0e944869269);\n        \n    \n            var icon_6e3eb9909cd79e403920cd38bd997dba = L.AwesomeMarkers.icon(\n                {&quot;extraClasses&quot;: &quot;fa-rotate-0&quot;, &quot;icon&quot;: &quot;info-sign&quot;, &quot;iconColor&quot;: &quot;white&quot;, &quot;markerColor&quot;: &quot;green&quot;, &quot;prefix&quot;: &quot;glyphicon&quot;}\n            );\n            marker_be93986078e7d6d4d0f893f4e11895d4.setIcon(icon_6e3eb9909cd79e403920cd38bd997dba);\n        \n    \n        var popup_0b9f988f7211ff0bbdcf84c7ab20ed9a = L.popup({&quot;maxWidth&quot;: &quot;100%&quot;});\n\n        \n            var html_af3746dfd8c1cd7420016725782c67bc = $(`&lt;div id=&quot;html_af3746dfd8c1cd7420016725782c67bc&quot; style=&quot;width: 100.0%; height: 100.0%;&quot;&gt;45&lt;/div&gt;`)[0];\n            popup_0b9f988f7211ff0bbdcf84c7ab20ed9a.setContent(html_af3746dfd8c1cd7420016725782c67bc);\n        \n\n        marker_be93986078e7d6d4d0f893f4e11895d4.bindPopup(popup_0b9f988f7211ff0bbdcf84c7ab20ed9a)\n        ;\n\n        \n    \n    \n            var marker_ca548d04f30a86127e0f49c35b3b5637 = L.marker(\n                [28.57325457, -80.64689529],\n                {}\n            ).addTo(marker_cluster_c6a6a7a80e7c028561e7b0e944869269);\n        \n    \n            var icon_81c3c2089bad38771851b26d7c07bb82 = L.AwesomeMarkers.icon(\n                {&quot;extraClasses&quot;: &quot;fa-rotate-0&quot;, &quot;icon&quot;: &quot;info-sign&quot;, &quot;iconColor&quot;: &quot;white&quot;, &quot;markerColor&quot;: &quot;green&quot;, &quot;prefix&quot;: &quot;glyphicon&quot;}\n            );\n            marker_ca548d04f30a86127e0f49c35b3b5637.setIcon(icon_81c3c2089bad38771851b26d7c07bb82);\n        \n    \n        var popup_d1668c2bc1e128d9d6aa71af55ea86cf = L.popup({&quot;maxWidth&quot;: &quot;100%&quot;});\n\n        \n            var html_879119ab29b9e74388418924c8b1dcc4 = $(`&lt;div id=&quot;html_879119ab29b9e74388418924c8b1dcc4&quot; style=&quot;width: 100.0%; height: 100.0%;&quot;&gt;46&lt;/div&gt;`)[0];\n            popup_d1668c2bc1e128d9d6aa71af55ea86cf.setContent(html_879119ab29b9e74388418924c8b1dcc4);\n        \n\n        marker_ca548d04f30a86127e0f49c35b3b5637.bindPopup(popup_d1668c2bc1e128d9d6aa71af55ea86cf)\n        ;\n\n        \n    \n    \n            var marker_377f52d63d1523991aaa08bd9594e746 = L.marker(\n                [28.57325457, -80.64689529],\n                {}\n            ).addTo(marker_cluster_c6a6a7a80e7c028561e7b0e944869269);\n        \n    \n            var icon_7a51078d6ce26ec82c7f0ce4c5d2c867 = L.AwesomeMarkers.icon(\n                {&quot;extraClasses&quot;: &quot;fa-rotate-0&quot;, &quot;icon&quot;: &quot;info-sign&quot;, &quot;iconColor&quot;: &quot;white&quot;, &quot;markerColor&quot;: &quot;green&quot;, &quot;prefix&quot;: &quot;glyphicon&quot;}\n            );\n            marker_377f52d63d1523991aaa08bd9594e746.setIcon(icon_7a51078d6ce26ec82c7f0ce4c5d2c867);\n        \n    \n        var popup_9679206c03c77fda894ea406952cbafc = L.popup({&quot;maxWidth&quot;: &quot;100%&quot;});\n\n        \n            var html_04ae94c186d28c3afcead6bb7f2adff0 = $(`&lt;div id=&quot;html_04ae94c186d28c3afcead6bb7f2adff0&quot; style=&quot;width: 100.0%; height: 100.0%;&quot;&gt;47&lt;/div&gt;`)[0];\n            popup_9679206c03c77fda894ea406952cbafc.setContent(html_04ae94c186d28c3afcead6bb7f2adff0);\n        \n\n        marker_377f52d63d1523991aaa08bd9594e746.bindPopup(popup_9679206c03c77fda894ea406952cbafc)\n        ;\n\n        \n    \n    \n            var marker_dbb789ae2ccfbdf3ff17cf60b105e50a = L.marker(\n                [28.57325457, -80.64689529],\n                {}\n            ).addTo(marker_cluster_c6a6a7a80e7c028561e7b0e944869269);\n        \n    \n            var icon_b46d16f62f44a5d52d96c27b7e3912f8 = L.AwesomeMarkers.icon(\n                {&quot;extraClasses&quot;: &quot;fa-rotate-0&quot;, &quot;icon&quot;: &quot;info-sign&quot;, &quot;iconColor&quot;: &quot;white&quot;, &quot;markerColor&quot;: &quot;green&quot;, &quot;prefix&quot;: &quot;glyphicon&quot;}\n            );\n            marker_dbb789ae2ccfbdf3ff17cf60b105e50a.setIcon(icon_b46d16f62f44a5d52d96c27b7e3912f8);\n        \n    \n        var popup_e46da3f4d79cc22bd87fb652b51367a9 = L.popup({&quot;maxWidth&quot;: &quot;100%&quot;});\n\n        \n            var html_2959f224e9f7ec9d52786f58ba2aea40 = $(`&lt;div id=&quot;html_2959f224e9f7ec9d52786f58ba2aea40&quot; style=&quot;width: 100.0%; height: 100.0%;&quot;&gt;48&lt;/div&gt;`)[0];\n            popup_e46da3f4d79cc22bd87fb652b51367a9.setContent(html_2959f224e9f7ec9d52786f58ba2aea40);\n        \n\n        marker_dbb789ae2ccfbdf3ff17cf60b105e50a.bindPopup(popup_e46da3f4d79cc22bd87fb652b51367a9)\n        ;\n\n        \n    \n    \n            var marker_23131eac6fd61eeec8438ff58c043837 = L.marker(\n                [28.56319718, -80.57682003],\n                {}\n            ).addTo(marker_cluster_c6a6a7a80e7c028561e7b0e944869269);\n        \n    \n            var icon_2e9c1d6ae095953018fc1076b12ed755 = L.AwesomeMarkers.icon(\n                {&quot;extraClasses&quot;: &quot;fa-rotate-0&quot;, &quot;icon&quot;: &quot;info-sign&quot;, &quot;iconColor&quot;: &quot;white&quot;, &quot;markerColor&quot;: &quot;green&quot;, &quot;prefix&quot;: &quot;glyphicon&quot;}\n            );\n            marker_23131eac6fd61eeec8438ff58c043837.setIcon(icon_2e9c1d6ae095953018fc1076b12ed755);\n        \n    \n        var popup_27c1f241e8411ca1bb1efe2e92cdcdd1 = L.popup({&quot;maxWidth&quot;: &quot;100%&quot;});\n\n        \n            var html_889c886853b673f576467141cab9bc43 = $(`&lt;div id=&quot;html_889c886853b673f576467141cab9bc43&quot; style=&quot;width: 100.0%; height: 100.0%;&quot;&gt;49&lt;/div&gt;`)[0];\n            popup_27c1f241e8411ca1bb1efe2e92cdcdd1.setContent(html_889c886853b673f576467141cab9bc43);\n        \n\n        marker_23131eac6fd61eeec8438ff58c043837.bindPopup(popup_27c1f241e8411ca1bb1efe2e92cdcdd1)\n        ;\n\n        \n    \n    \n            var marker_7c4bd9b28c31751a83c1bc0d0680966f = L.marker(\n                [28.56319718, -80.57682003],\n                {}\n            ).addTo(marker_cluster_c6a6a7a80e7c028561e7b0e944869269);\n        \n    \n            var icon_2911223fc22731f68a81611dc67b2269 = L.AwesomeMarkers.icon(\n                {&quot;extraClasses&quot;: &quot;fa-rotate-0&quot;, &quot;icon&quot;: &quot;info-sign&quot;, &quot;iconColor&quot;: &quot;white&quot;, &quot;markerColor&quot;: &quot;green&quot;, &quot;prefix&quot;: &quot;glyphicon&quot;}\n            );\n            marker_7c4bd9b28c31751a83c1bc0d0680966f.setIcon(icon_2911223fc22731f68a81611dc67b2269);\n        \n    \n        var popup_36f80e5bafd2441591e0f3f9bb3c46a8 = L.popup({&quot;maxWidth&quot;: &quot;100%&quot;});\n\n        \n            var html_d50d3f1a40898ff2b26a2664b0d60466 = $(`&lt;div id=&quot;html_d50d3f1a40898ff2b26a2664b0d60466&quot; style=&quot;width: 100.0%; height: 100.0%;&quot;&gt;50&lt;/div&gt;`)[0];\n            popup_36f80e5bafd2441591e0f3f9bb3c46a8.setContent(html_d50d3f1a40898ff2b26a2664b0d60466);\n        \n\n        marker_7c4bd9b28c31751a83c1bc0d0680966f.bindPopup(popup_36f80e5bafd2441591e0f3f9bb3c46a8)\n        ;\n\n        \n    \n    \n            var marker_1a1f7d41cc98f2d60d2bb95a076f3d9b = L.marker(\n                [28.56319718, -80.57682003],\n                {}\n            ).addTo(marker_cluster_c6a6a7a80e7c028561e7b0e944869269);\n        \n    \n            var icon_0ad9a9ad99254726e756191cb88696cd = L.AwesomeMarkers.icon(\n                {&quot;extraClasses&quot;: &quot;fa-rotate-0&quot;, &quot;icon&quot;: &quot;info-sign&quot;, &quot;iconColor&quot;: &quot;white&quot;, &quot;markerColor&quot;: &quot;red&quot;, &quot;prefix&quot;: &quot;glyphicon&quot;}\n            );\n            marker_1a1f7d41cc98f2d60d2bb95a076f3d9b.setIcon(icon_0ad9a9ad99254726e756191cb88696cd);\n        \n    \n        var popup_4366d5abb14401e74841e0379ba81ca0 = L.popup({&quot;maxWidth&quot;: &quot;100%&quot;});\n\n        \n            var html_d3a8385a9a35572ee5e8a846ac77985b = $(`&lt;div id=&quot;html_d3a8385a9a35572ee5e8a846ac77985b&quot; style=&quot;width: 100.0%; height: 100.0%;&quot;&gt;51&lt;/div&gt;`)[0];\n            popup_4366d5abb14401e74841e0379ba81ca0.setContent(html_d3a8385a9a35572ee5e8a846ac77985b);\n        \n\n        marker_1a1f7d41cc98f2d60d2bb95a076f3d9b.bindPopup(popup_4366d5abb14401e74841e0379ba81ca0)\n        ;\n\n        \n    \n    \n            var marker_ae04f230b2dbfd67ad50a8e53938fa8f = L.marker(\n                [28.56319718, -80.57682003],\n                {}\n            ).addTo(marker_cluster_c6a6a7a80e7c028561e7b0e944869269);\n        \n    \n            var icon_fbad658acec14406d396807f853e95a2 = L.AwesomeMarkers.icon(\n                {&quot;extraClasses&quot;: &quot;fa-rotate-0&quot;, &quot;icon&quot;: &quot;info-sign&quot;, &quot;iconColor&quot;: &quot;white&quot;, &quot;markerColor&quot;: &quot;red&quot;, &quot;prefix&quot;: &quot;glyphicon&quot;}\n            );\n            marker_ae04f230b2dbfd67ad50a8e53938fa8f.setIcon(icon_fbad658acec14406d396807f853e95a2);\n        \n    \n        var popup_9b7cff809979355e5bb25d6eb8927f6f = L.popup({&quot;maxWidth&quot;: &quot;100%&quot;});\n\n        \n            var html_ff4da46ad035cd09aac2c8d29ed2da3e = $(`&lt;div id=&quot;html_ff4da46ad035cd09aac2c8d29ed2da3e&quot; style=&quot;width: 100.0%; height: 100.0%;&quot;&gt;52&lt;/div&gt;`)[0];\n            popup_9b7cff809979355e5bb25d6eb8927f6f.setContent(html_ff4da46ad035cd09aac2c8d29ed2da3e);\n        \n\n        marker_ae04f230b2dbfd67ad50a8e53938fa8f.bindPopup(popup_9b7cff809979355e5bb25d6eb8927f6f)\n        ;\n\n        \n    \n    \n            var marker_dce28118b1a50b5115ef75ba5d274da3 = L.marker(\n                [28.56319718, -80.57682003],\n                {}\n            ).addTo(marker_cluster_c6a6a7a80e7c028561e7b0e944869269);\n        \n    \n            var icon_644cd0da5c19355a0f3f8e35bae90312 = L.AwesomeMarkers.icon(\n                {&quot;extraClasses&quot;: &quot;fa-rotate-0&quot;, &quot;icon&quot;: &quot;info-sign&quot;, &quot;iconColor&quot;: &quot;white&quot;, &quot;markerColor&quot;: &quot;red&quot;, &quot;prefix&quot;: &quot;glyphicon&quot;}\n            );\n            marker_dce28118b1a50b5115ef75ba5d274da3.setIcon(icon_644cd0da5c19355a0f3f8e35bae90312);\n        \n    \n        var popup_340d15e7507b2aa4383f45bd40fde063 = L.popup({&quot;maxWidth&quot;: &quot;100%&quot;});\n\n        \n            var html_157aa86e42d08a36fe09c92955533d7a = $(`&lt;div id=&quot;html_157aa86e42d08a36fe09c92955533d7a&quot; style=&quot;width: 100.0%; height: 100.0%;&quot;&gt;53&lt;/div&gt;`)[0];\n            popup_340d15e7507b2aa4383f45bd40fde063.setContent(html_157aa86e42d08a36fe09c92955533d7a);\n        \n\n        marker_dce28118b1a50b5115ef75ba5d274da3.bindPopup(popup_340d15e7507b2aa4383f45bd40fde063)\n        ;\n\n        \n    \n    \n            var marker_d1f593a335cfd773a6b6d1a38ef1a5b1 = L.marker(\n                [28.56319718, -80.57682003],\n                {}\n            ).addTo(marker_cluster_c6a6a7a80e7c028561e7b0e944869269);\n        \n    \n            var icon_367bcca5dad1d2adfa2b7a31002721e2 = L.AwesomeMarkers.icon(\n                {&quot;extraClasses&quot;: &quot;fa-rotate-0&quot;, &quot;icon&quot;: &quot;info-sign&quot;, &quot;iconColor&quot;: &quot;white&quot;, &quot;markerColor&quot;: &quot;green&quot;, &quot;prefix&quot;: &quot;glyphicon&quot;}\n            );\n            marker_d1f593a335cfd773a6b6d1a38ef1a5b1.setIcon(icon_367bcca5dad1d2adfa2b7a31002721e2);\n        \n    \n        var popup_f126e931dc3103f50a2224bc593e5228 = L.popup({&quot;maxWidth&quot;: &quot;100%&quot;});\n\n        \n            var html_7ceb532bee80468784e4583eac54c057 = $(`&lt;div id=&quot;html_7ceb532bee80468784e4583eac54c057&quot; style=&quot;width: 100.0%; height: 100.0%;&quot;&gt;54&lt;/div&gt;`)[0];\n            popup_f126e931dc3103f50a2224bc593e5228.setContent(html_7ceb532bee80468784e4583eac54c057);\n        \n\n        marker_d1f593a335cfd773a6b6d1a38ef1a5b1.bindPopup(popup_f126e931dc3103f50a2224bc593e5228)\n        ;\n\n        \n    \n    \n            var marker_54e130ea27feee430d379b5d0dbde7bb = L.marker(\n                [28.56319718, -80.57682003],\n                {}\n            ).addTo(marker_cluster_c6a6a7a80e7c028561e7b0e944869269);\n        \n    \n            var icon_f2cd9af1dbd2e1a0af9d5224c10ddac1 = L.AwesomeMarkers.icon(\n                {&quot;extraClasses&quot;: &quot;fa-rotate-0&quot;, &quot;icon&quot;: &quot;info-sign&quot;, &quot;iconColor&quot;: &quot;white&quot;, &quot;markerColor&quot;: &quot;red&quot;, &quot;prefix&quot;: &quot;glyphicon&quot;}\n            );\n            marker_54e130ea27feee430d379b5d0dbde7bb.setIcon(icon_f2cd9af1dbd2e1a0af9d5224c10ddac1);\n        \n    \n        var popup_8f645418a98d97111ac4cc1ad792d002 = L.popup({&quot;maxWidth&quot;: &quot;100%&quot;});\n\n        \n            var html_d503969b40099a59efe8703181650ca3 = $(`&lt;div id=&quot;html_d503969b40099a59efe8703181650ca3&quot; style=&quot;width: 100.0%; height: 100.0%;&quot;&gt;55&lt;/div&gt;`)[0];\n            popup_8f645418a98d97111ac4cc1ad792d002.setContent(html_d503969b40099a59efe8703181650ca3);\n        \n\n        marker_54e130ea27feee430d379b5d0dbde7bb.bindPopup(popup_8f645418a98d97111ac4cc1ad792d002)\n        ;\n\n        \n    \n    \n            var mouse_position_b261bc9c6451da44ce55e25d92216312 = new L.Control.MousePosition(\n                {&quot;emptyString&quot;: &quot;NaN&quot;, &quot;lngFirst&quot;: false, &quot;numDigits&quot;: 20, &quot;position&quot;: &quot;topright&quot;, &quot;prefix&quot;: &quot;Lat:&quot;, &quot;separator&quot;: &quot; Long: &quot;}\n            );\n            mouse_position_b261bc9c6451da44ce55e25d92216312.options[&quot;latFormatter&quot;] =\n                function(num) {return L.Util.formatNum(num, 5);};;\n            mouse_position_b261bc9c6451da44ce55e25d92216312.options[&quot;lngFormatter&quot;] =\n                function(num) {return L.Util.formatNum(num, 5);};;\n            map_268b67e61ef56bb219cc3630fa5275e8.addControl(mouse_position_b261bc9c6451da44ce55e25d92216312);\n        \n    \n            var poly_line_f71fb54a8b5b48121f96d6c26720b418 = L.polyline(\n                [[28.56319718, -80.57682003], [28.56367, -80.57163]],\n                {&quot;bubblingMouseEvents&quot;: true, &quot;color&quot;: &quot;#3388ff&quot;, &quot;dashArray&quot;: null, &quot;dashOffset&quot;: null, &quot;fill&quot;: false, &quot;fillColor&quot;: &quot;#3388ff&quot;, &quot;fillOpacity&quot;: 0.2, &quot;fillRule&quot;: &quot;evenodd&quot;, &quot;lineCap&quot;: &quot;round&quot;, &quot;lineJoin&quot;: &quot;round&quot;, &quot;noClip&quot;: false, &quot;opacity&quot;: 1.0, &quot;smoothFactor&quot;: 1.0, &quot;stroke&quot;: true, &quot;weight&quot;: 1}\n            ).addTo(map_268b67e61ef56bb219cc3630fa5275e8);\n        \n&lt;/script&gt;\" style=\"position:absolute;width:100%;height:100%;left:0;top:0;border:none !important;\" allowfullscreen webkitallowfullscreen mozallowfullscreen></iframe></div></div>"
     },
     "metadata": {}
    }
   ]
  },
  {
   "cell_type": "markdown",
   "source": "Your updated map with distance line should look like the following screenshot:\n",
   "metadata": {
    "cell_id": "00064-63a80120-5279-4f0a-8c25-11374bb759e4",
    "deepnote_cell_type": "markdown",
    "deepnote_cell_height": 52.390625
   }
  },
  {
   "cell_type": "markdown",
   "source": "<center>\n    <img src=\"https://cf-courses-data.s3.us.cloud-object-storage.appdomain.cloud/IBM-DS0321EN-SkillsNetwork/labs/module_3/images/launch_site_marker_distance.png\" />\n</center>\n",
   "metadata": {
    "cell_id": "00065-e5d48298-9870-4a21-b5be-4ce9fd690dad",
    "deepnote_cell_type": "markdown",
    "deepnote_cell_height": 410.4375
   }
  },
  {
   "cell_type": "markdown",
   "source": "*TODO:* Similarly, you can draw a line betwee a launch site to its closest city, railway, highway, etc. You need to use `MousePosition` to find the their coordinates on the map first\n",
   "metadata": {
    "cell_id": "00066-2dd053f3-9cc9-4714-a066-f04d0f31e636",
    "deepnote_cell_type": "markdown",
    "deepnote_cell_height": 74.796875
   }
  },
  {
   "cell_type": "markdown",
   "source": "A railway map symbol may look like this:\n",
   "metadata": {
    "cell_id": "00067-5c09f612-829c-4494-9b5c-41331920f991",
    "deepnote_cell_type": "markdown",
    "deepnote_cell_height": 52.390625
   }
  },
  {
   "cell_type": "markdown",
   "source": "<center>\n    <img src=\"https://cf-courses-data.s3.us.cloud-object-storage.appdomain.cloud/IBM-DS0321EN-SkillsNetwork/labs/module_3/images/railway.png\" />\n</center>\n",
   "metadata": {
    "cell_id": "00068-19e57881-eb6f-44c6-8066-4980ba7f0511",
    "deepnote_cell_type": "markdown",
    "deepnote_cell_height": 180
   }
  },
  {
   "cell_type": "markdown",
   "source": "A highway map symbol may look like this:\n",
   "metadata": {
    "cell_id": "00069-66fad88f-c5dc-41d8-b7cb-b77705f2a8ec",
    "deepnote_cell_type": "markdown",
    "deepnote_cell_height": 52.390625
   }
  },
  {
   "cell_type": "markdown",
   "source": "<center>\n    <img src=\"https://cf-courses-data.s3.us.cloud-object-storage.appdomain.cloud/IBM-DS0321EN-SkillsNetwork/labs/module_3/images/highway.png\" />\n</center>\n",
   "metadata": {
    "cell_id": "00070-cf187dbb-a524-472d-a48e-5db3bf7d3e58",
    "deepnote_cell_type": "markdown",
    "deepnote_cell_height": 274
   }
  },
  {
   "cell_type": "markdown",
   "source": "A city map symbol may look like this:\n",
   "metadata": {
    "cell_id": "00071-2a608d1b-f6cc-4f61-984b-67bcfcfbfc45",
    "deepnote_cell_type": "markdown",
    "deepnote_cell_height": 52.390625
   }
  },
  {
   "cell_type": "markdown",
   "source": "<center>\n    <img src=\"https://cf-courses-data.s3.us.cloud-object-storage.appdomain.cloud/IBM-DS0321EN-SkillsNetwork/labs/module_3/images/city.png\" />\n</center>\n",
   "metadata": {
    "cell_id": "00072-7f549d8c-6aba-4830-aca6-d92b2c29b264",
    "deepnote_cell_type": "markdown",
    "deepnote_cell_height": 142
   }
  },
  {
   "cell_type": "markdown",
   "source": "# Next Steps:\n\nNow you have discovered many interesting insights related to the launch sites' location using folium, in a very interactive way. Next, you will need to build a dashboard using Ploty Dash on detailed launch records.\n",
   "metadata": {
    "cell_id": "00077-4d75dbf6-da48-4913-aaac-c68741f35836",
    "owner_user_id": "426e2894-84b4-4ddc-9822-54c090a83c57",
    "deepnote_cell_type": "markdown",
    "deepnote_cell_height": 142.796875
   }
  },
  {
   "cell_type": "markdown",
   "source": "## Authors\n",
   "metadata": {
    "cell_id": "00078-6581b450-163a-4bca-899b-ec4b2aef92e6",
    "deepnote_cell_type": "markdown",
    "deepnote_cell_height": 70
   }
  },
  {
   "cell_type": "markdown",
   "source": "[Yan Luo](https://www.linkedin.com/in/yan-luo-96288783/?utm_medium=Exinfluencer&utm_source=Exinfluencer&utm_content=000026UJ&utm_term=10006555&utm_id=NA-SkillsNetwork-Channel-SkillsNetworkCoursesIBMDS0321ENSkillsNetwork26802033-2021-01-01)\n",
   "metadata": {
    "cell_id": "00079-7c5c7c0d-8c83-4e00-9cc2-f8d10c36a622",
    "deepnote_cell_type": "markdown",
    "deepnote_cell_height": 52.390625
   }
  },
  {
   "cell_type": "markdown",
   "source": "### Other Contributors\n",
   "metadata": {
    "cell_id": "00080-e7c9068d-f094-4c8b-9414-74ce556b7d6b",
    "deepnote_cell_type": "markdown",
    "deepnote_cell_height": 62
   }
  },
  {
   "cell_type": "markdown",
   "source": "Joseph Santarcangelo\n",
   "metadata": {
    "cell_id": "00081-0616fb61-e411-4ea9-b87b-7dbcb846d341",
    "deepnote_cell_type": "markdown",
    "deepnote_cell_height": 52.390625
   }
  },
  {
   "cell_type": "markdown",
   "source": "## Change Log\n",
   "metadata": {
    "cell_id": "00082-8db3d778-e026-4c13-8995-f2ee11026c1c",
    "deepnote_cell_type": "markdown",
    "deepnote_cell_height": 70
   }
  },
  {
   "cell_type": "markdown",
   "source": "| Date (YYYY-MM-DD) | Version | Changed By | Change Description          |\n| ----------------- | ------- | ---------- | --------------------------- |\n| 2021-05-26        | 1.0     | Yan        | Created the initial version |\n",
   "metadata": {
    "cell_id": "00083-6f43ff07-85ee-4a3b-9789-d9a0bb8b2095",
    "deepnote_cell_type": "markdown",
    "deepnote_cell_height": 78.796875
   }
  },
  {
   "cell_type": "markdown",
   "source": "Copyright © 2021 IBM Corporation. All rights reserved.\n",
   "metadata": {
    "cell_id": "00084-ae0ec92f-9fc2-437b-ab8b-705b5c29e423",
    "deepnote_cell_type": "markdown",
    "deepnote_cell_height": 52.390625
   }
  },
  {
   "cell_type": "markdown",
   "source": "<a style='text-decoration:none;line-height:16px;display:flex;color:#5B5B62;padding:10px;justify-content:end;' href='https://deepnote.com?utm_source=created-in-deepnote-cell&projectId=3a4713cb-6d10-4278-845e-373ee7506be9' target=\"_blank\">\n<img alt='Created in deepnote.com' style='display:inline;max-height:16px;margin:0px;margin-right:7.5px;' src='data:image/svg+xml;base64,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' > </img>\nCreated in <span style='font-weight:600;margin-left:4px;'>Deepnote</span></a>",
   "metadata": {
    "tags": [],
    "created_in_deepnote_cell": true,
    "deepnote_cell_type": "markdown"
   }
  }
 ],
 "nbformat": 4,
 "nbformat_minor": 4,
 "metadata": {
  "kernelspec": {
   "display_name": "Python 3",
   "language": "python",
   "name": "python3"
  },
  "language_info": {
   "codemirror_mode": {
    "name": "ipython",
    "version": 3
   },
   "file_extension": ".py",
   "mimetype": "text/x-python",
   "name": "python",
   "nbconvert_exporter": "python",
   "pygments_lexer": "ipython3",
   "version": "3.8.8"
  },
  "papermill": {
   "duration": 142.196942,
   "end_time": "2020-09-19T06:29:13.341578",
   "environment_variables": {},
   "exception": null,
   "input_path": "__notebook__.ipynb",
   "output_path": "__notebook__.ipynb",
   "parameters": {},
   "start_time": "2020-09-19T06:26:51.144636",
   "version": "2.1.0"
  },
  "deepnote_notebook_id": "42aa3bb2-299e-4f7d-abf6-fb23773f9426",
  "deepnote": {},
  "deepnote_execution_queue": []
 }
}